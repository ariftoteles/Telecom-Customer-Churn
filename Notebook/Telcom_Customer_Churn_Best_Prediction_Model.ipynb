{
  "nbformat": 4,
  "nbformat_minor": 0,
  "metadata": {
    "kernelspec": {
      "display_name": "Python 3",
      "language": "python",
      "name": "python3"
    },
    "language_info": {
      "codemirror_mode": {
        "name": "ipython",
        "version": 3
      },
      "file_extension": ".py",
      "mimetype": "text/x-python",
      "name": "python",
      "nbconvert_exporter": "python",
      "pygments_lexer": "ipython3",
      "version": "3.7.4"
    },
    "colab": {
      "name": "Telcom Customer Churn - Best Prediction Model.ipynb",
      "provenance": [],
      "collapsed_sections": [],
      "include_colab_link": true
    }
  },
  "cells": [
    {
      "cell_type": "markdown",
      "metadata": {
        "id": "view-in-github",
        "colab_type": "text"
      },
      "source": [
        "<a href=\"https://colab.research.google.com/github/ariftoteles/Telecom-Customer-Churn/blob/master/Notebook/Telcom_Customer_Churn_Best_Prediction_Model.ipynb\" target=\"_parent\"><img src=\"https://colab.research.google.com/assets/colab-badge.svg\" alt=\"Open In Colab\"/></a>"
      ]
    },
    {
      "cell_type": "markdown",
      "metadata": {
        "id": "hNWWwoctR8eQ",
        "colab_type": "text"
      },
      "source": [
        "# Machine Learning Model\n",
        "\n",
        "- Pada Notebook ini akan dibangun Supervised Machine Learning menggunakan metode Logisitic Regression, XGBoost Classifier, Random Forest, dan K-Nearest Neighbors.\n",
        "- Class label pada dataset tidak seimbang, label Not Churn : 5163, label Chrun : 1869. \n",
        "- Saya akan melakukan 4 percobaan:\n",
        "    1. Training model menggunakan dataset Imbalance\n",
        "    2. Training model menggunakan dataset balance (Under Sample)\n",
        "    3. Training model menggunakan dataset balance (Random Over Sample)\n",
        "    4. Training model menggunakan dataset balance Synthetic Minority Oversampling Technique(SMOTE)\n",
        "- Dalam evaluasi model ini saya menggunakan data test imbalance, karena model ini dibangun untuk memprediksi kemungkinan customer untuk churning (memprediksi class label : 1), saya akan menggunakan __AUC__ , __F1 Score(1)__ dan __Recall(1) / Sensitivity__ sebagai acuan utama mengukur peforma model.\n",
        "- Feature Monthly Charges dan Total Charges tidak akan digunakan sebagai variable prediktor dengan pertimbangan sebagai berikut :\n",
        "    - 2 Feature tersebut merupakan feature dependent, hal ini sudah dibuktikan pada notebook EDA sebelumnya\n",
        "    - 2 feature ini akan menyulitkan user untuk melakukan input nilai pada model interface\n",
        "\n",
        "- Sebelum saya benar benar membuang feature tersebut, saya akan melihat perbandingan model yang menggunakan 2 feature tersebut dan yang tidak menggunakan 2 feature tersebut."
      ]
    },
    {
      "cell_type": "markdown",
      "metadata": {
        "id": "rIzLBEeuR8eV",
        "colab_type": "text"
      },
      "source": [
        "## Load Library and Dataset"
      ]
    },
    {
      "cell_type": "code",
      "metadata": {
        "id": "8nQF4x40R8eX",
        "colab_type": "code",
        "colab": {}
      },
      "source": [
        "import numpy as np\n",
        "import pandas as pd\n",
        "import matplotlib.pyplot as plt\n",
        "\n",
        "from sklearn.model_selection import train_test_split\n",
        "from sklearn.model_selection import KFold\n",
        "from xgboost import XGBClassifier\n",
        "from sklearn.linear_model import LogisticRegression\n",
        "from sklearn.ensemble import RandomForestClassifier\n",
        "from sklearn.neighbors import KNeighborsClassifier\n",
        "from sklearn.metrics import precision_score, recall_score,f1_score\n",
        "from sklearn.metrics import plot_roc_curve\n",
        "from sklearn.metrics import plot_confusion_matrix\n",
        "from sklearn.metrics import classification_report\n",
        "from sklearn.metrics import roc_curve, roc_auc_score\n",
        "from sklearn.model_selection import cross_val_score, GridSearchCV\n",
        "from imblearn.under_sampling import NearMiss\n",
        "from imblearn.over_sampling import RandomOverSampler\n",
        "from imblearn.over_sampling import SMOTE\n",
        "from imblearn.pipeline import Pipeline, make_pipeline\n",
        "\n",
        "import warnings\n",
        "warnings.filterwarnings(\"ignore\")"
      ],
      "execution_count": 18,
      "outputs": []
    },
    {
      "cell_type": "code",
      "metadata": {
        "scrolled": false,
        "id": "ZFj2t7v-R8eg",
        "colab_type": "code",
        "colab": {
          "base_uri": "https://localhost:8080/",
          "height": 372
        },
        "outputId": "38736304-00ba-4d2c-dd33-6bcc0a22ec33"
      },
      "source": [
        "pd.set_option(\"display.max_columns\", 22)\n",
        "telcom = pd.read_csv('/content/telcom_clean1.csv')\n",
        "telcom.head()"
      ],
      "execution_count": 19,
      "outputs": [
        {
          "output_type": "execute_result",
          "data": {
            "text/html": [
              "<div>\n",
              "<style scoped>\n",
              "    .dataframe tbody tr th:only-of-type {\n",
              "        vertical-align: middle;\n",
              "    }\n",
              "\n",
              "    .dataframe tbody tr th {\n",
              "        vertical-align: top;\n",
              "    }\n",
              "\n",
              "    .dataframe thead th {\n",
              "        text-align: right;\n",
              "    }\n",
              "</style>\n",
              "<table border=\"1\" class=\"dataframe\">\n",
              "  <thead>\n",
              "    <tr style=\"text-align: right;\">\n",
              "      <th></th>\n",
              "      <th>customerID</th>\n",
              "      <th>SeniorCitizen</th>\n",
              "      <th>Partner</th>\n",
              "      <th>Dependents</th>\n",
              "      <th>PhoneService</th>\n",
              "      <th>PaperlessBilling</th>\n",
              "      <th>Churn</th>\n",
              "      <th>gender_Female</th>\n",
              "      <th>gender_Male</th>\n",
              "      <th>MultipleLines_No</th>\n",
              "      <th>MultipleLines_No phone service</th>\n",
              "      <th>...</th>\n",
              "      <th>TechSupport_No internet service</th>\n",
              "      <th>TechSupport_Yes</th>\n",
              "      <th>StreamingTV_No</th>\n",
              "      <th>StreamingTV_No internet service</th>\n",
              "      <th>StreamingTV_Yes</th>\n",
              "      <th>StreamingMovies_No</th>\n",
              "      <th>StreamingMovies_No internet service</th>\n",
              "      <th>StreamingMovies_Yes</th>\n",
              "      <th>tenure</th>\n",
              "      <th>MonthlyCharges</th>\n",
              "      <th>TotalCharges</th>\n",
              "    </tr>\n",
              "  </thead>\n",
              "  <tbody>\n",
              "    <tr>\n",
              "      <th>0</th>\n",
              "      <td>7590-VHVEG</td>\n",
              "      <td>0</td>\n",
              "      <td>1</td>\n",
              "      <td>0</td>\n",
              "      <td>0</td>\n",
              "      <td>1</td>\n",
              "      <td>0</td>\n",
              "      <td>1</td>\n",
              "      <td>0</td>\n",
              "      <td>0</td>\n",
              "      <td>1</td>\n",
              "      <td>...</td>\n",
              "      <td>0</td>\n",
              "      <td>0</td>\n",
              "      <td>1</td>\n",
              "      <td>0</td>\n",
              "      <td>0</td>\n",
              "      <td>1</td>\n",
              "      <td>0</td>\n",
              "      <td>0</td>\n",
              "      <td>-1.280248</td>\n",
              "      <td>-1.161694</td>\n",
              "      <td>-0.994194</td>\n",
              "    </tr>\n",
              "    <tr>\n",
              "      <th>1</th>\n",
              "      <td>5575-GNVDE</td>\n",
              "      <td>0</td>\n",
              "      <td>0</td>\n",
              "      <td>0</td>\n",
              "      <td>1</td>\n",
              "      <td>0</td>\n",
              "      <td>0</td>\n",
              "      <td>0</td>\n",
              "      <td>1</td>\n",
              "      <td>1</td>\n",
              "      <td>0</td>\n",
              "      <td>...</td>\n",
              "      <td>0</td>\n",
              "      <td>0</td>\n",
              "      <td>1</td>\n",
              "      <td>0</td>\n",
              "      <td>0</td>\n",
              "      <td>1</td>\n",
              "      <td>0</td>\n",
              "      <td>0</td>\n",
              "      <td>0.064303</td>\n",
              "      <td>-0.260878</td>\n",
              "      <td>-0.173740</td>\n",
              "    </tr>\n",
              "    <tr>\n",
              "      <th>2</th>\n",
              "      <td>3668-QPYBK</td>\n",
              "      <td>0</td>\n",
              "      <td>0</td>\n",
              "      <td>0</td>\n",
              "      <td>1</td>\n",
              "      <td>1</td>\n",
              "      <td>1</td>\n",
              "      <td>0</td>\n",
              "      <td>1</td>\n",
              "      <td>1</td>\n",
              "      <td>0</td>\n",
              "      <td>...</td>\n",
              "      <td>0</td>\n",
              "      <td>0</td>\n",
              "      <td>1</td>\n",
              "      <td>0</td>\n",
              "      <td>0</td>\n",
              "      <td>1</td>\n",
              "      <td>0</td>\n",
              "      <td>0</td>\n",
              "      <td>-1.239504</td>\n",
              "      <td>-0.363923</td>\n",
              "      <td>-0.959649</td>\n",
              "    </tr>\n",
              "    <tr>\n",
              "      <th>3</th>\n",
              "      <td>7795-CFOCW</td>\n",
              "      <td>0</td>\n",
              "      <td>0</td>\n",
              "      <td>0</td>\n",
              "      <td>0</td>\n",
              "      <td>0</td>\n",
              "      <td>0</td>\n",
              "      <td>0</td>\n",
              "      <td>1</td>\n",
              "      <td>0</td>\n",
              "      <td>1</td>\n",
              "      <td>...</td>\n",
              "      <td>0</td>\n",
              "      <td>1</td>\n",
              "      <td>1</td>\n",
              "      <td>0</td>\n",
              "      <td>0</td>\n",
              "      <td>1</td>\n",
              "      <td>0</td>\n",
              "      <td>0</td>\n",
              "      <td>0.512486</td>\n",
              "      <td>-0.747850</td>\n",
              "      <td>-0.195248</td>\n",
              "    </tr>\n",
              "    <tr>\n",
              "      <th>4</th>\n",
              "      <td>9237-HQITU</td>\n",
              "      <td>0</td>\n",
              "      <td>0</td>\n",
              "      <td>0</td>\n",
              "      <td>1</td>\n",
              "      <td>1</td>\n",
              "      <td>1</td>\n",
              "      <td>1</td>\n",
              "      <td>0</td>\n",
              "      <td>1</td>\n",
              "      <td>0</td>\n",
              "      <td>...</td>\n",
              "      <td>0</td>\n",
              "      <td>0</td>\n",
              "      <td>1</td>\n",
              "      <td>0</td>\n",
              "      <td>0</td>\n",
              "      <td>1</td>\n",
              "      <td>0</td>\n",
              "      <td>0</td>\n",
              "      <td>-1.239504</td>\n",
              "      <td>0.196178</td>\n",
              "      <td>-0.940457</td>\n",
              "    </tr>\n",
              "  </tbody>\n",
              "</table>\n",
              "<p>5 rows × 43 columns</p>\n",
              "</div>"
            ],
            "text/plain": [
              "   customerID  SeniorCitizen  Partner  Dependents  PhoneService  \\\n",
              "0  7590-VHVEG              0        1           0             0   \n",
              "1  5575-GNVDE              0        0           0             1   \n",
              "2  3668-QPYBK              0        0           0             1   \n",
              "3  7795-CFOCW              0        0           0             0   \n",
              "4  9237-HQITU              0        0           0             1   \n",
              "\n",
              "   PaperlessBilling  Churn  gender_Female  gender_Male  MultipleLines_No  \\\n",
              "0                 1      0              1            0                 0   \n",
              "1                 0      0              0            1                 1   \n",
              "2                 1      1              0            1                 1   \n",
              "3                 0      0              0            1                 0   \n",
              "4                 1      1              1            0                 1   \n",
              "\n",
              "   MultipleLines_No phone service  ...  TechSupport_No internet service  \\\n",
              "0                               1  ...                                0   \n",
              "1                               0  ...                                0   \n",
              "2                               0  ...                                0   \n",
              "3                               1  ...                                0   \n",
              "4                               0  ...                                0   \n",
              "\n",
              "   TechSupport_Yes  StreamingTV_No  StreamingTV_No internet service  \\\n",
              "0                0               1                                0   \n",
              "1                0               1                                0   \n",
              "2                0               1                                0   \n",
              "3                1               1                                0   \n",
              "4                0               1                                0   \n",
              "\n",
              "   StreamingTV_Yes  StreamingMovies_No  StreamingMovies_No internet service  \\\n",
              "0                0                   1                                    0   \n",
              "1                0                   1                                    0   \n",
              "2                0                   1                                    0   \n",
              "3                0                   1                                    0   \n",
              "4                0                   1                                    0   \n",
              "\n",
              "   StreamingMovies_Yes    tenure  MonthlyCharges  TotalCharges  \n",
              "0                    0 -1.280248       -1.161694     -0.994194  \n",
              "1                    0  0.064303       -0.260878     -0.173740  \n",
              "2                    0 -1.239504       -0.363923     -0.959649  \n",
              "3                    0  0.512486       -0.747850     -0.195248  \n",
              "4                    0 -1.239504        0.196178     -0.940457  \n",
              "\n",
              "[5 rows x 43 columns]"
            ]
          },
          "metadata": {
            "tags": []
          },
          "execution_count": 19
        }
      ]
    },
    {
      "cell_type": "code",
      "metadata": {
        "id": "R0tMfQLUR8eo",
        "colab_type": "code",
        "colab": {
          "base_uri": "https://localhost:8080/",
          "height": 867
        },
        "outputId": "a8b026ea-c9e0-44ee-e137-ab4f0ae3724c"
      },
      "source": [
        "telcom.info()"
      ],
      "execution_count": 20,
      "outputs": [
        {
          "output_type": "stream",
          "text": [
            "<class 'pandas.core.frame.DataFrame'>\n",
            "RangeIndex: 7032 entries, 0 to 7031\n",
            "Data columns (total 43 columns):\n",
            " #   Column                                   Non-Null Count  Dtype  \n",
            "---  ------                                   --------------  -----  \n",
            " 0   customerID                               7032 non-null   object \n",
            " 1   SeniorCitizen                            7032 non-null   int64  \n",
            " 2   Partner                                  7032 non-null   int64  \n",
            " 3   Dependents                               7032 non-null   int64  \n",
            " 4   PhoneService                             7032 non-null   int64  \n",
            " 5   PaperlessBilling                         7032 non-null   int64  \n",
            " 6   Churn                                    7032 non-null   int64  \n",
            " 7   gender_Female                            7032 non-null   int64  \n",
            " 8   gender_Male                              7032 non-null   int64  \n",
            " 9   MultipleLines_No                         7032 non-null   int64  \n",
            " 10  MultipleLines_No phone service           7032 non-null   int64  \n",
            " 11  MultipleLines_Yes                        7032 non-null   int64  \n",
            " 12  InternetService_DSL                      7032 non-null   int64  \n",
            " 13  InternetService_Fiber optic              7032 non-null   int64  \n",
            " 14  InternetService_No                       7032 non-null   int64  \n",
            " 15  Contract_Month-to-month                  7032 non-null   int64  \n",
            " 16  Contract_One year                        7032 non-null   int64  \n",
            " 17  Contract_Two year                        7032 non-null   int64  \n",
            " 18  PaymentMethod_Bank transfer (automatic)  7032 non-null   int64  \n",
            " 19  PaymentMethod_Credit card (automatic)    7032 non-null   int64  \n",
            " 20  PaymentMethod_Electronic check           7032 non-null   int64  \n",
            " 21  PaymentMethod_Mailed check               7032 non-null   int64  \n",
            " 22  OnlineSecurity_No                        7032 non-null   int64  \n",
            " 23  OnlineSecurity_No internet service       7032 non-null   int64  \n",
            " 24  OnlineSecurity_Yes                       7032 non-null   int64  \n",
            " 25  OnlineBackup_No                          7032 non-null   int64  \n",
            " 26  OnlineBackup_No internet service         7032 non-null   int64  \n",
            " 27  OnlineBackup_Yes                         7032 non-null   int64  \n",
            " 28  DeviceProtection_No                      7032 non-null   int64  \n",
            " 29  DeviceProtection_No internet service     7032 non-null   int64  \n",
            " 30  DeviceProtection_Yes                     7032 non-null   int64  \n",
            " 31  TechSupport_No                           7032 non-null   int64  \n",
            " 32  TechSupport_No internet service          7032 non-null   int64  \n",
            " 33  TechSupport_Yes                          7032 non-null   int64  \n",
            " 34  StreamingTV_No                           7032 non-null   int64  \n",
            " 35  StreamingTV_No internet service          7032 non-null   int64  \n",
            " 36  StreamingTV_Yes                          7032 non-null   int64  \n",
            " 37  StreamingMovies_No                       7032 non-null   int64  \n",
            " 38  StreamingMovies_No internet service      7032 non-null   int64  \n",
            " 39  StreamingMovies_Yes                      7032 non-null   int64  \n",
            " 40  tenure                                   7032 non-null   float64\n",
            " 41  MonthlyCharges                           7032 non-null   float64\n",
            " 42  TotalCharges                             7032 non-null   float64\n",
            "dtypes: float64(3), int64(39), object(1)\n",
            "memory usage: 2.3+ MB\n"
          ],
          "name": "stdout"
        }
      ]
    },
    {
      "cell_type": "markdown",
      "metadata": {
        "id": "rzEjEUNyR8ew",
        "colab_type": "text"
      },
      "source": [
        "# 1. Percobaan 1 (Imbalance Dataset)"
      ]
    },
    {
      "cell_type": "markdown",
      "metadata": {
        "id": "bsxLTvqJR8ey",
        "colab_type": "text"
      },
      "source": [
        "- Training Model menggunakan Imbalance dataset\n",
        "- Menggunakan semua feature sebagai variable prediktor kecuali Customer ID\n",
        "\n",
        "### Spliting Data"
      ]
    },
    {
      "cell_type": "code",
      "metadata": {
        "scrolled": false,
        "id": "t02_BbwUR8ez",
        "colab_type": "code",
        "colab": {
          "base_uri": "https://localhost:8080/",
          "height": 323
        },
        "outputId": "0972da2b-02d3-4b32-f0e6-4db797879e5d"
      },
      "source": [
        "## train test split\n",
        "pd.set_option(\"display.max_columns\", 33)\n",
        "#splitting train and test data \n",
        "feature    = telcom.drop(columns=['customerID','Churn'])\n",
        "target = telcom['Churn']\n",
        "train_X,test_X,train_Y,test_Y = train_test_split(feature,target,test_size = .25,random_state=123)\n",
        "feature.columns"
      ],
      "execution_count": 21,
      "outputs": [
        {
          "output_type": "execute_result",
          "data": {
            "text/plain": [
              "Index(['SeniorCitizen', 'Partner', 'Dependents', 'PhoneService',\n",
              "       'PaperlessBilling', 'gender_Female', 'gender_Male', 'MultipleLines_No',\n",
              "       'MultipleLines_No phone service', 'MultipleLines_Yes',\n",
              "       'InternetService_DSL', 'InternetService_Fiber optic',\n",
              "       'InternetService_No', 'Contract_Month-to-month', 'Contract_One year',\n",
              "       'Contract_Two year', 'PaymentMethod_Bank transfer (automatic)',\n",
              "       'PaymentMethod_Credit card (automatic)',\n",
              "       'PaymentMethod_Electronic check', 'PaymentMethod_Mailed check',\n",
              "       'OnlineSecurity_No', 'OnlineSecurity_No internet service',\n",
              "       'OnlineSecurity_Yes', 'OnlineBackup_No',\n",
              "       'OnlineBackup_No internet service', 'OnlineBackup_Yes',\n",
              "       'DeviceProtection_No', 'DeviceProtection_No internet service',\n",
              "       'DeviceProtection_Yes', 'TechSupport_No',\n",
              "       'TechSupport_No internet service', 'TechSupport_Yes', 'StreamingTV_No',\n",
              "       'StreamingTV_No internet service', 'StreamingTV_Yes',\n",
              "       'StreamingMovies_No', 'StreamingMovies_No internet service',\n",
              "       'StreamingMovies_Yes', 'tenure', 'MonthlyCharges', 'TotalCharges'],\n",
              "      dtype='object')"
            ]
          },
          "metadata": {
            "tags": []
          },
          "execution_count": 21
        }
      ]
    },
    {
      "cell_type": "code",
      "metadata": {
        "id": "i-rSuJYER8e7",
        "colab_type": "code",
        "colab": {}
      },
      "source": [
        "train_X = np.array(train_X)\n",
        "train_Y = np.array(train_Y)\n",
        "test_X = np.array(test_X)\n",
        "test_Y = np.array(test_Y)"
      ],
      "execution_count": 33,
      "outputs": []
    },
    {
      "cell_type": "markdown",
      "metadata": {
        "id": "nsPW8wfRR8fC",
        "colab_type": "text"
      },
      "source": [
        "### Deklarasi Model"
      ]
    },
    {
      "cell_type": "markdown",
      "metadata": {
        "id": "rptOtO_ER8fE",
        "colab_type": "text"
      },
      "source": [
        "Pada deklarasi model ini, saya akan langsung melakukan Hyperparameter Tuning menggunakan ```GridSearchCV``` , karena menggunakan class imbalance, pada hyperparameter saya menggunakan scoring __F1 Score__"
      ]
    },
    {
      "cell_type": "markdown",
      "metadata": {
        "id": "ctqNWiPIR8fF",
        "colab_type": "text"
      },
      "source": [
        "__Parameter Tuning Logistic Regression__"
      ]
    },
    {
      "cell_type": "code",
      "metadata": {
        "scrolled": false,
        "id": "xlJeaneZR8fH",
        "colab_type": "code",
        "colab": {
          "base_uri": "https://localhost:8080/",
          "height": 459
        },
        "outputId": "8463e58e-b31f-4f1e-ad57-7b7c790b0da2"
      },
      "source": [
        "# param_lr = {\n",
        "#     'solver':['newton-cg','lbfgs','liblinear','sag','saga'], ##algoritma Logistic regression\n",
        "#     'penalty':['none','l1','l2','elasticnet','none'], # regularisasi\n",
        "#       'C': [0.001, 0.01, 0.1, 1, 10, 100, 1000] #strong of regularisasi\n",
        "# }\n",
        "param_lr = {\n",
        "    'solver':['saga'], ##algoritma Logistic regression\n",
        "    'penalty':['none'], # regularisasi\n",
        "    'C': [0.001] #strong of regularisasi\n",
        "}\n",
        "kf = KFold(n_splits=5, random_state=111, shuffle=False)\n",
        "\n",
        "lr_pipeline = make_pipeline(LogisticRegression())\n",
        "new_params = {'logisticregression__' + key: param_lr[key] for key in param_lr}\n",
        "lr_tune = GridSearchCV(lr_pipeline, param_grid=new_params, cv=kf, scoring='f1',\n",
        "                        return_train_score=True)\n",
        "lr_tune.fit(train_X, train_Y)"
      ],
      "execution_count": 23,
      "outputs": [
        {
          "output_type": "execute_result",
          "data": {
            "text/plain": [
              "GridSearchCV(cv=KFold(n_splits=5, random_state=111, shuffle=False),\n",
              "             error_score=nan,\n",
              "             estimator=Pipeline(memory=None,\n",
              "                                steps=[('logisticregression',\n",
              "                                        LogisticRegression(C=1.0,\n",
              "                                                           class_weight=None,\n",
              "                                                           dual=False,\n",
              "                                                           fit_intercept=True,\n",
              "                                                           intercept_scaling=1,\n",
              "                                                           l1_ratio=None,\n",
              "                                                           max_iter=100,\n",
              "                                                           multi_class='auto',\n",
              "                                                           n_jobs=None,\n",
              "                                                           penalty='l2',\n",
              "                                                           random_state=None,\n",
              "                                                           solver='lbfgs',\n",
              "                                                           tol=0.0001,\n",
              "                                                           verbose=0,\n",
              "                                                           warm_start=False))],\n",
              "                                verbose=False),\n",
              "             iid='deprecated', n_jobs=None,\n",
              "             param_grid={'logisticregression__C': [0.001],\n",
              "                         'logisticregression__penalty': ['none'],\n",
              "                         'logisticregression__solver': ['saga']},\n",
              "             pre_dispatch='2*n_jobs', refit=True, return_train_score=True,\n",
              "             scoring='f1', verbose=0)"
            ]
          },
          "metadata": {
            "tags": []
          },
          "execution_count": 23
        }
      ]
    },
    {
      "cell_type": "code",
      "metadata": {
        "id": "m8OKh7dOR8fQ",
        "colab_type": "code",
        "colab": {}
      },
      "source": [
        "# lr_tune.best_params_\n",
        "\n",
        "# {'logisticregression__C': 0.001,\n",
        "#  'logisticregression__penalty': 'none',\n",
        "#  'logisticregression__solver': 'saga'}"
      ],
      "execution_count": 8,
      "outputs": []
    },
    {
      "cell_type": "markdown",
      "metadata": {
        "id": "8mUPlHcAR8fY",
        "colab_type": "text"
      },
      "source": [
        "__Parameter Tuning XGBoost__"
      ]
    },
    {
      "cell_type": "code",
      "metadata": {
        "id": "3p2kdoyDR8fZ",
        "colab_type": "code",
        "colab": {
          "base_uri": "https://localhost:8080/",
          "height": 85
        },
        "outputId": "f33b3be8-5833-4f0d-a59c-2fa5e8f9fc14"
      },
      "source": [
        "# param =  {\"learning_rate\"    : [int(x)/100 for x in np.linspace(1, 10, 10)] ,\n",
        "#           \"min_child_weight\" : [int(x) for x in np.linspace(1, 10, 10)],\n",
        "#           \"gamma\"            : [int(x)/10 for x in np.linspace(1, 10, 10)],\n",
        "#           \"max_depth\"        : [int(x) for x in np.linspace(1, 10, 10)] ,\n",
        "#           \"colsample_bytree\" : [int(x)/10 for x in np.linspace(1, 10, 10)] }\n",
        "\n",
        "param =  {\"learning_rate\"    : [0.05] ,\n",
        "          \"min_child_weight\" : [7],\n",
        "          \"gamma\"            : [0.2],\n",
        "          \"max_depth\"        : [5] ,\n",
        "          \"colsample_bytree\" : [0.7] }\n",
        "\n",
        "xgb = XGBClassifier()\n",
        "xgb_tune = RandomizedSearchCV(xgb, param,cv=5 , n_iter=10, random_state=20,verbose=1)\n",
        "xgb_tune.fit(train_X, train_Y)\n",
        "print(xgb_tune.best_params_)"
      ],
      "execution_count": 32,
      "outputs": [
        {
          "output_type": "stream",
          "text": [
            "Fitting 5 folds for each of 1 candidates, totalling 5 fits\n"
          ],
          "name": "stdout"
        },
        {
          "output_type": "stream",
          "text": [
            "[Parallel(n_jobs=1)]: Using backend SequentialBackend with 1 concurrent workers.\n",
            "[Parallel(n_jobs=1)]: Done   5 out of   5 | elapsed:    1.4s finished\n"
          ],
          "name": "stderr"
        },
        {
          "output_type": "stream",
          "text": [
            "{'min_child_weight': 5, 'max_depth': 3, 'learning_rate': 0.2, 'gamma': 0.2, 'colsample_bytree': 0.3}\n"
          ],
          "name": "stdout"
        }
      ]
    },
    {
      "cell_type": "code",
      "metadata": {
        "id": "048WwfvdWeaY",
        "colab_type": "code",
        "colab": {}
      },
      "source": [
        "# {'min_child_weight': 5, 'max_depth': 3, 'learning_rate': 0.2, 'gamma': 0.2, 'colsample_bytree': 0.3}"
      ],
      "execution_count": 26,
      "outputs": []
    },
    {
      "cell_type": "markdown",
      "metadata": {
        "id": "b_fJG46QR8fn",
        "colab_type": "text"
      },
      "source": [
        "__Parameter Tuning Random Forest__"
      ]
    },
    {
      "cell_type": "code",
      "metadata": {
        "id": "EmIRULjYR8fq",
        "colab_type": "code",
        "colab": {
          "base_uri": "https://localhost:8080/",
          "height": 476
        },
        "outputId": "7328aaac-5314-4c5e-9924-7e74edee33dd"
      },
      "source": [
        "# param= {\n",
        "#     'n_estimators': [10,50,100], ## jumlah tree\n",
        "#     'criterion':['gini','entropy'], ## algoritma tree\n",
        "#     'max_depth': [int(x) for x in np.linspace(10, 100, 10)],\n",
        "# }\n",
        "\n",
        "param= {\n",
        "    'n_estimators': [50], ## jumlah tree\n",
        "    'criterion':['entropy'], ## algoritma tree\n",
        "    'max_depth': [10],\n",
        "}\n",
        "kf = KFold(n_splits=5, random_state=111, shuffle=False)\n",
        "\n",
        "rf_pipeline = make_pipeline(RandomForestClassifier())\n",
        "new_params = {'randomforestclassifier__' + key: param[key] for key in param}\n",
        "rf_tune = GridSearchCV(rf_pipeline, param_grid=new_params, cv=kf, scoring='f1',\n",
        "                        return_train_score=True)\n",
        "rf_tune.fit(train_X, train_Y)"
      ],
      "execution_count": 28,
      "outputs": [
        {
          "output_type": "execute_result",
          "data": {
            "text/plain": [
              "GridSearchCV(cv=KFold(n_splits=5, random_state=111, shuffle=False),\n",
              "             error_score=nan,\n",
              "             estimator=Pipeline(memory=None,\n",
              "                                steps=[('randomforestclassifier',\n",
              "                                        RandomForestClassifier(bootstrap=True,\n",
              "                                                               ccp_alpha=0.0,\n",
              "                                                               class_weight=None,\n",
              "                                                               criterion='gini',\n",
              "                                                               max_depth=None,\n",
              "                                                               max_features='auto',\n",
              "                                                               max_leaf_nodes=None,\n",
              "                                                               max_samples=None,\n",
              "                                                               min_impurity_decrease=0.0,\n",
              "                                                               min_impurity_split=N...\n",
              "                                                               n_estimators=100,\n",
              "                                                               n_jobs=None,\n",
              "                                                               oob_score=False,\n",
              "                                                               random_state=None,\n",
              "                                                               verbose=0,\n",
              "                                                               warm_start=False))],\n",
              "                                verbose=False),\n",
              "             iid='deprecated', n_jobs=None,\n",
              "             param_grid={'randomforestclassifier__criterion': ['entropy'],\n",
              "                         'randomforestclassifier__max_depth': [10],\n",
              "                         'randomforestclassifier__n_estimators': [50]},\n",
              "             pre_dispatch='2*n_jobs', refit=True, return_train_score=True,\n",
              "             scoring='f1', verbose=0)"
            ]
          },
          "metadata": {
            "tags": []
          },
          "execution_count": 28
        }
      ]
    },
    {
      "cell_type": "code",
      "metadata": {
        "id": "IOqsHKcyR8fx",
        "colab_type": "code",
        "colab": {},
        "outputId": "53346492-3b1d-4c0b-ad7a-43acb966ddf7"
      },
      "source": [
        "# rf_tune.best_params_\n",
        "\n",
        "# {'randomforestclassifier__criterion': 'entropy',\n",
        "#  'randomforestclassifier__max_depth': 10,\n",
        "#  'randomforestclassifier__n_estimators': 50}"
      ],
      "execution_count": null,
      "outputs": [
        {
          "output_type": "execute_result",
          "data": {
            "text/plain": [
              "{'randomforestclassifier__criterion': 'entropy',\n",
              " 'randomforestclassifier__max_depth': 10,\n",
              " 'randomforestclassifier__n_estimators': 50}"
            ]
          },
          "metadata": {
            "tags": []
          },
          "execution_count": 77
        }
      ]
    },
    {
      "cell_type": "markdown",
      "metadata": {
        "id": "O2DbUF3cR8f4",
        "colab_type": "text"
      },
      "source": [
        "__Parameter Tuning KNN__"
      ]
    },
    {
      "cell_type": "code",
      "metadata": {
        "id": "_6zpResMR8f5",
        "colab_type": "code",
        "colab": {
          "base_uri": "https://localhost:8080/",
          "height": 306
        },
        "outputId": "789aec1d-70b1-450c-ba81-f97ec81ac1f4"
      },
      "source": [
        "# param = {\n",
        "#         'n_neighbors' : list(range(50,100)), ## jumlah n neighbors\n",
        "#         'algorithm':['auto', 'ball_tree', 'kd_tree', 'brute'], # struktur data\n",
        "# }\n",
        "\n",
        "param = {\n",
        "        'n_neighbors' : [63], ## jumlah n neighbors\n",
        "        'algorithm':['auto'], # struktur data\n",
        "}\n",
        "kf = KFold(n_splits=5, random_state=111, shuffle=False)\n",
        "\n",
        "knn_pipeline = make_pipeline(KNeighborsClassifier())\n",
        "new_params = {'kneighborsclassifier__' + key: param[key] for key in param}\n",
        "knn_tune = GridSearchCV(knn_pipeline, param_grid=new_params, cv=kf, scoring='f1',\n",
        "                        return_train_score=True)\n",
        "knn_tune.fit(train_X, train_Y)"
      ],
      "execution_count": 29,
      "outputs": [
        {
          "output_type": "execute_result",
          "data": {
            "text/plain": [
              "GridSearchCV(cv=KFold(n_splits=5, random_state=111, shuffle=False),\n",
              "             error_score=nan,\n",
              "             estimator=Pipeline(memory=None,\n",
              "                                steps=[('kneighborsclassifier',\n",
              "                                        KNeighborsClassifier(algorithm='auto',\n",
              "                                                             leaf_size=30,\n",
              "                                                             metric='minkowski',\n",
              "                                                             metric_params=None,\n",
              "                                                             n_jobs=None,\n",
              "                                                             n_neighbors=5, p=2,\n",
              "                                                             weights='uniform'))],\n",
              "                                verbose=False),\n",
              "             iid='deprecated', n_jobs=None,\n",
              "             param_grid={'kneighborsclassifier__algorithm': ['auto'],\n",
              "                         'kneighborsclassifier__n_neighbors': [63]},\n",
              "             pre_dispatch='2*n_jobs', refit=True, return_train_score=True,\n",
              "             scoring='f1', verbose=0)"
            ]
          },
          "metadata": {
            "tags": []
          },
          "execution_count": 29
        }
      ]
    },
    {
      "cell_type": "code",
      "metadata": {
        "id": "pGAIGOIHR8gA",
        "colab_type": "code",
        "colab": {}
      },
      "source": [
        "# knn_tune.best_params_\n",
        "\n",
        "# {'kneighborsclassifier__algorithm': 'auto',\n",
        "#  'kneighborsclassifier__n_neighbors': 63}"
      ],
      "execution_count": 13,
      "outputs": []
    },
    {
      "cell_type": "markdown",
      "metadata": {
        "id": "vtgbGGVYR8gH",
        "colab_type": "text"
      },
      "source": [
        "### Evaluation"
      ]
    },
    {
      "cell_type": "markdown",
      "metadata": {
        "id": "UEoqvGatR8gJ",
        "colab_type": "text"
      },
      "source": [
        "__1. Confusion Matrix__\n",
        "\n",
        "Pada tahap ini saya akan melihat hasil klasifikasi dalam bentuk Confusion matrix, Berikut ini merupakan tabel klasifikasi churning customer\n",
        "\n",
        "-|pred \"No Churn\"|pred \"Churn\"\n",
        "---|---|---\n",
        "__aktual \"No Churn\"__|__TN__|__FP__\n",
        "__aktual \"Churn\"__|__FN__|__TP__"
      ]
    },
    {
      "cell_type": "markdown",
      "metadata": {
        "id": "gHJ7GcmSR8gK",
        "colab_type": "text"
      },
      "source": [
        "- True Negative (TN) adalah jumlah pelanggan dengan nilai aktual non churn, dan diprediksi non churn.\n",
        "- False Positive (FP) adalah jumlah pelanggan dengan nilai aktual non churn, tapi diprediksi churn.\n",
        "- True Positive (TP) adalah jumlah pelanggan dengan nilai aktual churn, dan diprediksi churn.\n",
        "- False Negative (FN) adalah jumlah pelanggan dengan nilai aktual churn, tapi diprediksi non churn.\n",
        "\n",
        "__Noted__ : Pada model ini, No Churn dilabeli dengan angka 0, sedangkan Churn dilabeli dengan angka 1"
      ]
    },
    {
      "cell_type": "code",
      "metadata": {
        "scrolled": false,
        "id": "oRgs2EZnR8gL",
        "colab_type": "code",
        "colab": {
          "base_uri": "https://localhost:8080/",
          "height": 1000
        },
        "outputId": "68bdb3bd-5f86-413c-9756-fb2447131d0d"
      },
      "source": [
        "def confusion_matrix(lr_tune,xgb_tune,rf_tune,knn_tune,test_X,test_Y):\n",
        "  plot_confusion_matrix(lr_tune,test_X,test_Y,values_format='0.0f')\n",
        "  plot_confusion_matrix(xgb_tune,test_X,test_Y,values_format='0.0f')\n",
        "  plot_confusion_matrix(rf_tune,test_X,test_Y,values_format='0.0f')\n",
        "  plot_confusion_matrix(knn_tune,test_X,test_Y,values_format='0.0f')\n",
        "\n",
        "confusion_matrix(lr_tune,xgb_tune,rf_tune,knn_tune,test_X,test_Y)"
      ],
      "execution_count": 34,
      "outputs": [
        {
          "output_type": "display_data",
          "data": {
            "image/png": "[encoded data removed]",
            "text/plain": [
              "<Figure size 432x288 with 2 Axes>"
            ]
          },
          "metadata": {
            "tags": [],
            "needs_background": "light"
          }
        },
        {
          "output_type": "display_data",
          "data": {
            "image/png": "[encoded data removed]",
            "text/plain": [
              "<Figure size 432x288 with 2 Axes>"
            ]
          },
          "metadata": {
            "tags": [],
            "needs_background": "light"
          }
        },
        {
          "output_type": "display_data",
          "data": {
            "image/png": "[encoded data removed]",
            "text/plain": [
              "<Figure size 432x288 with 2 Axes>"
            ]
          },
          "metadata": {
            "tags": [],
            "needs_background": "light"
          }
        },
        {
          "output_type": "display_data",
          "data": {
            "image/png": "[encoded data removed]",
            "text/plain": [
              "<Figure size 432x288 with 2 Axes>"
            ]
          },
          "metadata": {
            "tags": [],
            "needs_background": "light"
          }
        }
      ]
    },
    {
      "cell_type": "markdown",
      "metadata": {
        "id": "TLDwHyXKR8gS",
        "colab_type": "text"
      },
      "source": [
        "__Evaluation Metrics__"
      ]
    },
    {
      "cell_type": "code",
      "metadata": {
        "scrolled": false,
        "id": "cBtsTKE7R8gU",
        "colab_type": "code",
        "colab": {
          "base_uri": "https://localhost:8080/",
          "height": 1000
        },
        "outputId": "20149963-762d-436b-f562-e9b3c5d62644"
      },
      "source": [
        "def eva_matrix(lr_tune,xgb_tune,rf_tune,knn_tune,train_X,train_Y,test_X,test_Y):\n",
        "    ## Report\n",
        "    print('Logistic Regression Train\\n',classification_report(train_Y,lr_tune.predict(train_X)))\n",
        "    print('\\n\\nLogistic Regression Test\\n',classification_report(test_Y,lr_tune.predict(test_X)))\n",
        "    print('========================================================================')\n",
        "    print('\\nXGB Train\\n',classification_report(train_Y,xgb_tune.predict(train_X)))\n",
        "    print('\\nXGB Test\\n',classification_report(test_Y,xgb_tune.predict(test_X)))\n",
        "    print('========================================================================')\n",
        "    print('\\nRandom Forest Train\\n',classification_report(train_Y,rf_tune.predict(train_X)))\n",
        "    print('\\nRandom Forest Test\\n',classification_report(test_Y,rf_tune.predict(test_X)))\n",
        "    print('========================================================================')\n",
        "    print('\\nKNN Train\\n',classification_report(train_Y,knn_tune.predict(train_X)))\n",
        "    print('\\nKNN Test\\n',classification_report(test_Y,knn_tune.predict(test_X)))\n",
        "\n",
        "    ## ROC_AUC\n",
        "    display = plot_roc_curve(lr_tune,train_X,train_Y, name='Logistic Regression')\n",
        "    plot_roc_curve(xgb_tune,train_X,train_Y,ax=display.ax_, name='XGB Classifier')\n",
        "    plot_roc_curve(rf_tune,train_X,train_Y,ax=display.ax_, name='Random Forest')\n",
        "    plot_roc_curve(knn_tune,train_X,train_Y,ax=display.ax_, name='KNN')\n",
        "    plt.title('ROC Curve Train')\n",
        "\n",
        "    disp = plot_roc_curve(lr_tune,test_X,test_Y, name='Logistic Regression')\n",
        "    plot_roc_curve(xgb_tune,test_X,test_Y,ax=disp.ax_, name = 'XGB Classifier')\n",
        "    plot_roc_curve(rf_tune,test_X,test_Y,ax=disp.ax_, name='Random Forest')\n",
        "    plot_roc_curve(knn_tune,test_X,test_Y,ax=disp.ax_, name='KNN')\n",
        "    plt.title('ROC Curve Test')\n",
        "\n",
        "eva_matrix(lr_tune,xgb_tune,rf_tune,knn_tune,train_X,train_Y,test_X,test_Y)"
      ],
      "execution_count": 36,
      "outputs": [
        {
          "output_type": "stream",
          "text": [
            "Logistic Regression Train\n",
            "               precision    recall  f1-score   support\n",
            "\n",
            "           0       0.85      0.90      0.87      3929\n",
            "           1       0.64      0.53      0.58      1345\n",
            "\n",
            "    accuracy                           0.80      5274\n",
            "   macro avg       0.74      0.71      0.73      5274\n",
            "weighted avg       0.80      0.80      0.80      5274\n",
            "\n",
            "\n",
            "\n",
            "Logistic Regression Test\n",
            "               precision    recall  f1-score   support\n",
            "\n",
            "           0       0.82      0.92      0.87      1234\n",
            "           1       0.74      0.54      0.63       524\n",
            "\n",
            "    accuracy                           0.81      1758\n",
            "   macro avg       0.78      0.73      0.75      1758\n",
            "weighted avg       0.80      0.81      0.80      1758\n",
            "\n",
            "========================================================================\n",
            "\n",
            "XGB Train\n",
            "               precision    recall  f1-score   support\n",
            "\n",
            "           0       0.86      0.92      0.89      3929\n",
            "           1       0.72      0.56      0.63      1345\n",
            "\n",
            "    accuracy                           0.83      5274\n",
            "   macro avg       0.79      0.74      0.76      5274\n",
            "weighted avg       0.82      0.83      0.82      5274\n",
            "\n",
            "\n",
            "XGB Test\n",
            "               precision    recall  f1-score   support\n",
            "\n",
            "           0       0.81      0.92      0.86      1234\n",
            "           1       0.73      0.50      0.60       524\n",
            "\n",
            "    accuracy                           0.80      1758\n",
            "   macro avg       0.77      0.71      0.73      1758\n",
            "weighted avg       0.79      0.80      0.79      1758\n",
            "\n",
            "========================================================================\n",
            "\n",
            "Random Forest Train\n",
            "               precision    recall  f1-score   support\n",
            "\n",
            "           0       0.89      0.95      0.92      3929\n",
            "           1       0.80      0.65      0.72      1345\n",
            "\n",
            "    accuracy                           0.87      5274\n",
            "   macro avg       0.84      0.80      0.82      5274\n",
            "weighted avg       0.87      0.87      0.86      5274\n",
            "\n",
            "\n",
            "Random Forest Test\n",
            "               precision    recall  f1-score   support\n",
            "\n",
            "           0       0.81      0.92      0.86      1234\n",
            "           1       0.73      0.48      0.58       524\n",
            "\n",
            "    accuracy                           0.79      1758\n",
            "   macro avg       0.77      0.70      0.72      1758\n",
            "weighted avg       0.78      0.79      0.78      1758\n",
            "\n",
            "========================================================================\n",
            "\n",
            "KNN Train\n",
            "               precision    recall  f1-score   support\n",
            "\n",
            "           0       0.86      0.89      0.87      3929\n",
            "           1       0.63      0.57      0.60      1345\n",
            "\n",
            "    accuracy                           0.81      5274\n",
            "   macro avg       0.75      0.73      0.73      5274\n",
            "weighted avg       0.80      0.81      0.80      5274\n",
            "\n",
            "\n",
            "KNN Test\n",
            "               precision    recall  f1-score   support\n",
            "\n",
            "           0       0.82      0.89      0.86      1234\n",
            "           1       0.68      0.55      0.61       524\n",
            "\n",
            "    accuracy                           0.79      1758\n",
            "   macro avg       0.75      0.72      0.73      1758\n",
            "weighted avg       0.78      0.79      0.78      1758\n",
            "\n"
          ],
          "name": "stdout"
        },
        {
          "output_type": "display_data",
          "data": {
            "image/png": "[encoded data removed]",
            "text/plain": [
              "<Figure size 432x288 with 1 Axes>"
            ]
          },
          "metadata": {
            "tags": [],
            "needs_background": "light"
          }
        },
        {
          "output_type": "display_data",
          "data": {
            "image/png": "[encoded data removed]",
            "text/plain": [
              "<Figure size 432x288 with 1 Axes>"
            ]
          },
          "metadata": {
            "tags": [],
            "needs_background": "light"
          }
        }
      ]
    },
    {
      "cell_type": "markdown",
      "metadata": {
        "id": "XsLwVImTR8gc",
        "colab_type": "text"
      },
      "source": [
        ">Dari data report di atas, __Logistic Regression__ merupakan model terbaik dengan Sensitivity, F1 Score, dan AUC tertingi"
      ]
    },
    {
      "cell_type": "code",
      "metadata": {
        "id": "fOXtSb5bR8gd",
        "colab_type": "code",
        "colab": {
          "base_uri": "https://localhost:8080/",
          "height": 173
        },
        "outputId": "93ccd895-aa03-40c6-e13a-6c63796f4530"
      },
      "source": [
        "def df_report(lr_tune,xgb_tune,rf_tune,knn_tune,test_X,test_Y):\n",
        "    ## ROC-AUC\n",
        "    a = roc_auc_score(test_Y, lr_tune.predict_proba(test_X)[:,1])\n",
        "    b = roc_auc_score(test_Y, xgb_tune.predict_proba(test_X)[:,1])\n",
        "    c = roc_auc_score(test_Y, rf_tune.predict_proba(test_X)[:,1])\n",
        "    d = roc_auc_score(test_Y, knn_tune.predict_proba(test_X)[:,1])\n",
        "\n",
        "\n",
        "    ## Accuracy\n",
        "    e = classification_report(test_Y,lr_tune.predict(test_X),output_dict=True)['accuracy']\n",
        "    f = classification_report(test_Y,xgb_tune.predict(test_X),output_dict=True)['accuracy']\n",
        "    g = classification_report(test_Y,rf_tune.predict(test_X),output_dict=True)['accuracy']\n",
        "    h = classification_report(test_Y,knn_tune.predict(test_X),output_dict=True)['accuracy']\n",
        "\n",
        "\n",
        "    ## Precision,Recall,F1\n",
        "    i = classification_report(test_Y,lr_tune.predict(test_X),output_dict=True)['1']\n",
        "    j = classification_report(test_Y,xgb_tune.predict(test_X),output_dict=True)['1']\n",
        "    k = classification_report(test_Y,rf_tune.predict(test_X),output_dict=True)['1']\n",
        "    l = classification_report(test_Y,knn_tune.predict(test_X),output_dict=True)['1']\n",
        "\n",
        "\n",
        "    auc = pd.DataFrame({'Model':['Logistic Regression','XGB Classifier','Random Forest','KNN'],\n",
        "                          'AUC':[a,b,c,d,],\n",
        "                          'Accuracy':[e,f,g,h]})\n",
        "    precision = pd.DataFrame([i,j,k,l])\n",
        "    precision.drop(columns='support',inplace=True)\n",
        "    df = pd.concat([auc,precision],axis=1)\n",
        "    return df\n",
        "\n",
        "report0 = df_report(lr_tune,xgb_tune,rf_tune,knn_tune,test_X,test_Y)\n",
        "report0"
      ],
      "execution_count": 37,
      "outputs": [
        {
          "output_type": "execute_result",
          "data": {
            "text/html": [
              "<div>\n",
              "<style scoped>\n",
              "    .dataframe tbody tr th:only-of-type {\n",
              "        vertical-align: middle;\n",
              "    }\n",
              "\n",
              "    .dataframe tbody tr th {\n",
              "        vertical-align: top;\n",
              "    }\n",
              "\n",
              "    .dataframe thead th {\n",
              "        text-align: right;\n",
              "    }\n",
              "</style>\n",
              "<table border=\"1\" class=\"dataframe\">\n",
              "  <thead>\n",
              "    <tr style=\"text-align: right;\">\n",
              "      <th></th>\n",
              "      <th>Model</th>\n",
              "      <th>AUC</th>\n",
              "      <th>Accuracy</th>\n",
              "      <th>precision</th>\n",
              "      <th>recall</th>\n",
              "      <th>f1-score</th>\n",
              "    </tr>\n",
              "  </thead>\n",
              "  <tbody>\n",
              "    <tr>\n",
              "      <th>0</th>\n",
              "      <td>Logistic Regression</td>\n",
              "      <td>0.858942</td>\n",
              "      <td>0.807167</td>\n",
              "      <td>0.742782</td>\n",
              "      <td>0.540076</td>\n",
              "      <td>0.625414</td>\n",
              "    </tr>\n",
              "    <tr>\n",
              "      <th>1</th>\n",
              "      <td>XGB Classifier</td>\n",
              "      <td>0.860288</td>\n",
              "      <td>0.797497</td>\n",
              "      <td>0.733333</td>\n",
              "      <td>0.503817</td>\n",
              "      <td>0.597285</td>\n",
              "    </tr>\n",
              "    <tr>\n",
              "      <th>2</th>\n",
              "      <td>Random Forest</td>\n",
              "      <td>0.848631</td>\n",
              "      <td>0.792378</td>\n",
              "      <td>0.727794</td>\n",
              "      <td>0.484733</td>\n",
              "      <td>0.581901</td>\n",
              "    </tr>\n",
              "    <tr>\n",
              "      <th>3</th>\n",
              "      <td>KNN</td>\n",
              "      <td>0.841902</td>\n",
              "      <td>0.788965</td>\n",
              "      <td>0.680000</td>\n",
              "      <td>0.551527</td>\n",
              "      <td>0.609062</td>\n",
              "    </tr>\n",
              "  </tbody>\n",
              "</table>\n",
              "</div>"
            ],
            "text/plain": [
              "                 Model       AUC  Accuracy  precision    recall  f1-score\n",
              "0  Logistic Regression  0.858942  0.807167   0.742782  0.540076  0.625414\n",
              "1       XGB Classifier  0.860288  0.797497   0.733333  0.503817  0.597285\n",
              "2        Random Forest  0.848631  0.792378   0.727794  0.484733  0.581901\n",
              "3                  KNN  0.841902  0.788965   0.680000  0.551527  0.609062"
            ]
          },
          "metadata": {
            "tags": []
          },
          "execution_count": 37
        }
      ]
    },
    {
      "cell_type": "code",
      "metadata": {
        "id": "BGzDWqdYR8gl",
        "colab_type": "code",
        "colab": {
          "base_uri": "https://localhost:8080/",
          "height": 422
        },
        "outputId": "d7505046-6e8b-437e-bd42-6edc3ebb79e8"
      },
      "source": [
        "def plot_report(report):\n",
        "    plt.figure(figsize=(8,5))\n",
        "    plt.plot(report['Model'], report['AUC'],'g-o',label='AUC')\n",
        "    plt.plot(report['Model'], report['Accuracy'],'k-o',label='Accuracy')\n",
        "    plt.plot(report['Model'], report['precision'],'r-o',label='precision')\n",
        "    plt.plot(report['Model'], report['recall'],'y-o',label='recall')\n",
        "    plt.plot(report['Model'], report['f1-score'],'b-o',label='f1-score')\n",
        "    plt.xticks(rotation=90);plt.title('Classification Report')\n",
        "    plt.grid(True)\n",
        "    plt.legend()\n",
        "    plt.show()\n",
        "    \n",
        "plot_report(report0)"
      ],
      "execution_count": 38,
      "outputs": [
        {
          "output_type": "display_data",
          "data": {
            "image/png": "[encoded data removed]",
            "text/plain": [
              "<Figure size 576x360 with 1 Axes>"
            ]
          },
          "metadata": {
            "tags": [],
            "needs_background": "light"
          }
        }
      ]
    },
    {
      "cell_type": "markdown",
      "metadata": {
        "id": "PGjIeSTRR8gr",
        "colab_type": "text"
      },
      "source": [
        ">__Logistic Regression Tune__ merupakan model terbaik dengan __Recall__, __F1 Score__ dan __AUC__ tertinggi"
      ]
    },
    {
      "cell_type": "markdown",
      "metadata": {
        "id": "OpHcb2EUR8gs",
        "colab_type": "text"
      },
      "source": [
        "## Exclude Feature Monthly Charges dan Total Charges"
      ]
    },
    {
      "cell_type": "markdown",
      "metadata": {
        "id": "It_FQhScR8gt",
        "colab_type": "text"
      },
      "source": [
        "Pada tahap ini saya tidak akan menggunakan Monthly Charges dan Total Charges untuk memprediksi model. Kemudian saya akan membandingkan dengan model sebelumnya yang menggunakan feature MonthlyCharges dan Total Charges"
      ]
    },
    {
      "cell_type": "markdown",
      "metadata": {
        "id": "874nKktlR8gv",
        "colab_type": "text"
      },
      "source": [
        "### Spliting Data"
      ]
    },
    {
      "cell_type": "code",
      "metadata": {
        "scrolled": false,
        "id": "vkG80HJ1R8gw",
        "colab_type": "code",
        "colab": {}
      },
      "source": [
        "train_X1 = train_X[:,:-2]\n",
        "test_X1 = test_X[:,:-2]\n",
        "train_Y1 = train_Y\n",
        "test_Y1 = test_Y"
      ],
      "execution_count": 39,
      "outputs": []
    },
    {
      "cell_type": "markdown",
      "metadata": {
        "id": "9_n13KGER8g2",
        "colab_type": "text"
      },
      "source": [
        "### Hyper Parameter Tuning"
      ]
    },
    {
      "cell_type": "markdown",
      "metadata": {
        "id": "fCG3vfu6R8g3",
        "colab_type": "text"
      },
      "source": [
        "__Logistic Regression__"
      ]
    },
    {
      "cell_type": "code",
      "metadata": {
        "scrolled": false,
        "id": "nKe3U9PjR8g4",
        "colab_type": "code",
        "colab": {
          "base_uri": "https://localhost:8080/",
          "height": 459
        },
        "outputId": "265a1a34-ec3e-4bb9-c542-b7164c1fce94"
      },
      "source": [
        "# param_lr = {\n",
        "#     'solver':['newton-cg','lbfgs','liblinear','sag','saga'], ##algoritma Logistic regression\n",
        "#     'penalty':['none','l1','l2','elasticnet','none'], # regularisasi\n",
        "#       'C': [0.001, 0.01, 0.1, 1, 10, 100, 1000] #strong of regularisasi\n",
        "# }\n",
        "\n",
        "param_lr = {\n",
        "    'solver':['saga'], ##algoritma Logistic regression\n",
        "    'penalty':['l1'], # regularisasi\n",
        "    'C': [1] #strong of regularisasi\n",
        "}\n",
        "kf = KFold(n_splits=5, random_state=111, shuffle=False)\n",
        "\n",
        "lr_pipeline = make_pipeline(LogisticRegression())\n",
        "new_params = {'logisticregression__' + key: param_lr[key] for key in param_lr}\n",
        "lr1_tune = GridSearchCV(lr_pipeline, param_grid=new_params, cv=kf, scoring='f1',\n",
        "                        return_train_score=True)\n",
        "lr1_tune.fit(train_X1, train_Y1)"
      ],
      "execution_count": 40,
      "outputs": [
        {
          "output_type": "execute_result",
          "data": {
            "text/plain": [
              "GridSearchCV(cv=KFold(n_splits=5, random_state=111, shuffle=False),\n",
              "             error_score=nan,\n",
              "             estimator=Pipeline(memory=None,\n",
              "                                steps=[('logisticregression',\n",
              "                                        LogisticRegression(C=1.0,\n",
              "                                                           class_weight=None,\n",
              "                                                           dual=False,\n",
              "                                                           fit_intercept=True,\n",
              "                                                           intercept_scaling=1,\n",
              "                                                           l1_ratio=None,\n",
              "                                                           max_iter=100,\n",
              "                                                           multi_class='auto',\n",
              "                                                           n_jobs=None,\n",
              "                                                           penalty='l2',\n",
              "                                                           random_state=None,\n",
              "                                                           solver='lbfgs',\n",
              "                                                           tol=0.0001,\n",
              "                                                           verbose=0,\n",
              "                                                           warm_start=False))],\n",
              "                                verbose=False),\n",
              "             iid='deprecated', n_jobs=None,\n",
              "             param_grid={'logisticregression__C': [1],\n",
              "                         'logisticregression__penalty': ['l1'],\n",
              "                         'logisticregression__solver': ['saga']},\n",
              "             pre_dispatch='2*n_jobs', refit=True, return_train_score=True,\n",
              "             scoring='f1', verbose=0)"
            ]
          },
          "metadata": {
            "tags": []
          },
          "execution_count": 40
        }
      ]
    },
    {
      "cell_type": "code",
      "metadata": {
        "scrolled": true,
        "id": "GvgPZrtxR8hE",
        "colab_type": "code",
        "colab": {}
      },
      "source": [
        "# lr1_tune.best_params_\n",
        "\n",
        "# {'logisticregression__C': 1,\n",
        "#  'logisticregression__penalty': 'l1',\n",
        "#  'logisticregression__solver': 'saga'}"
      ],
      "execution_count": 41,
      "outputs": []
    },
    {
      "cell_type": "markdown",
      "metadata": {
        "id": "Xr6cucfRR8hL",
        "colab_type": "text"
      },
      "source": [
        "__Parameter Tuning XGB Classifier__"
      ]
    },
    {
      "cell_type": "code",
      "metadata": {
        "id": "EgsMTiaiR8hM",
        "colab_type": "code",
        "colab": {
          "base_uri": "https://localhost:8080/",
          "height": 510
        },
        "outputId": "993c0895-205b-4fff-bf06-1e69d03eb307"
      },
      "source": [
        "# param =  {\"learning_rate\"    : [int(x)/100 for x in np.linspace(1, 10, 10)] ,\n",
        "#           \"min_child_weight\" : [int(x) for x in np.linspace(1, 10, 10)],\n",
        "#           \"gamma\"            : [int(x)/10 for x in np.linspace(1, 10, 10)],\n",
        "#           \"max_depth\"        : [int(x) for x in np.linspace(1, 10, 10)] ,\n",
        "#           \"colsample_bytree\" : [int(x)/10 for x in np.linspace(1, 10, 10)] }\n",
        "\n",
        "param =  {\"learning_rate\"    : [0.05] ,\n",
        "          \"min_child_weight\" : [7],\n",
        "          \"gamma\"            : [0.2],\n",
        "          \"max_depth\"        : [5] ,\n",
        "          \"colsample_bytree\" : [0.7] }\n",
        "\n",
        "kf = KFold(n_splits=5, random_state=111, shuffle=False)\n",
        "\n",
        "xgb_pipeline = make_pipeline(XGBClassifier())\n",
        "new_params = {'xgbclassifier__' + key: param[key] for key in param}\n",
        "xgb1_tune = GridSearchCV(xgb_pipeline, param_grid=new_params, cv=kf, scoring='f1',\n",
        "                        return_train_score=True)\n",
        "xgb1_tune.fit(train_X1, train_Y1)"
      ],
      "execution_count": 42,
      "outputs": [
        {
          "output_type": "execute_result",
          "data": {
            "text/plain": [
              "GridSearchCV(cv=KFold(n_splits=5, random_state=111, shuffle=False),\n",
              "             error_score=nan,\n",
              "             estimator=Pipeline(memory=None,\n",
              "                                steps=[('xgbclassifier',\n",
              "                                        XGBClassifier(base_score=0.5,\n",
              "                                                      booster='gbtree',\n",
              "                                                      colsample_bylevel=1,\n",
              "                                                      colsample_bynode=1,\n",
              "                                                      colsample_bytree=1,\n",
              "                                                      gamma=0,\n",
              "                                                      learning_rate=0.1,\n",
              "                                                      max_delta_step=0,\n",
              "                                                      max_depth=3,\n",
              "                                                      min_child_weight=1,\n",
              "                                                      missing=None,\n",
              "                                                      n_estimators=100,\n",
              "                                                      n_jobs...\n",
              "                                                      seed=None, silent=None,\n",
              "                                                      subsample=1,\n",
              "                                                      verbosity=1))],\n",
              "                                verbose=False),\n",
              "             iid='deprecated', n_jobs=None,\n",
              "             param_grid={'xgbclassifier__colsample_bytree': [0.7],\n",
              "                         'xgbclassifier__gamma': [0.2],\n",
              "                         'xgbclassifier__learning_rate': [0.05],\n",
              "                         'xgbclassifier__max_depth': [5],\n",
              "                         'xgbclassifier__min_child_weight': [7]},\n",
              "             pre_dispatch='2*n_jobs', refit=True, return_train_score=True,\n",
              "             scoring='f1', verbose=0)"
            ]
          },
          "metadata": {
            "tags": []
          },
          "execution_count": 42
        }
      ]
    },
    {
      "cell_type": "code",
      "metadata": {
        "id": "8aSsOcDWR8hW",
        "colab_type": "code",
        "colab": {}
      },
      "source": [
        "# xgb_tune.best_params_\n",
        "\n",
        "# {'colsample_bytree': 0.3,\n",
        "#  'gamma': 0.2,\n",
        "#  'learning_rate': 0.2,\n",
        "#  'max_depth': 3,\n",
        "#  'min_child_weight': 5}"
      ],
      "execution_count": 44,
      "outputs": []
    },
    {
      "cell_type": "markdown",
      "metadata": {
        "id": "FZMSb56IR8hd",
        "colab_type": "text"
      },
      "source": [
        "__Random Forest__"
      ]
    },
    {
      "cell_type": "code",
      "metadata": {
        "id": "eL3_m1WyR8he",
        "colab_type": "code",
        "colab": {
          "base_uri": "https://localhost:8080/",
          "height": 476
        },
        "outputId": "f0c2c54a-1360-4e30-fefb-287e0cb76fdb"
      },
      "source": [
        "# param= {\n",
        "#     'n_estimators': [10,50,100], ## jumlah tree\n",
        "#     'criterion':['gini','entropy'], ## algoritma tree\n",
        "#     'max_depth': [int(x) for x in np.linspace(10, 100, 10)],\n",
        "# }\n",
        "\n",
        "param= {\n",
        "    'n_estimators': [50], ## jumlah tree\n",
        "    'criterion':['entropy'], ## algoritma tree\n",
        "    'max_depth': [10],\n",
        "}\n",
        "kf = KFold(n_splits=5, random_state=111, shuffle=False)\n",
        "\n",
        "rf_pipeline = make_pipeline(RandomForestClassifier())\n",
        "new_params = {'randomforestclassifier__' + key: param[key] for key in param}\n",
        "rf1_tune = GridSearchCV(rf_pipeline, param_grid=new_params, cv=kf, scoring='f1',\n",
        "                        return_train_score=True)\n",
        "rf1_tune.fit(train_X1, train_Y1)"
      ],
      "execution_count": 45,
      "outputs": [
        {
          "output_type": "execute_result",
          "data": {
            "text/plain": [
              "GridSearchCV(cv=KFold(n_splits=5, random_state=111, shuffle=False),\n",
              "             error_score=nan,\n",
              "             estimator=Pipeline(memory=None,\n",
              "                                steps=[('randomforestclassifier',\n",
              "                                        RandomForestClassifier(bootstrap=True,\n",
              "                                                               ccp_alpha=0.0,\n",
              "                                                               class_weight=None,\n",
              "                                                               criterion='gini',\n",
              "                                                               max_depth=None,\n",
              "                                                               max_features='auto',\n",
              "                                                               max_leaf_nodes=None,\n",
              "                                                               max_samples=None,\n",
              "                                                               min_impurity_decrease=0.0,\n",
              "                                                               min_impurity_split=N...\n",
              "                                                               n_estimators=100,\n",
              "                                                               n_jobs=None,\n",
              "                                                               oob_score=False,\n",
              "                                                               random_state=None,\n",
              "                                                               verbose=0,\n",
              "                                                               warm_start=False))],\n",
              "                                verbose=False),\n",
              "             iid='deprecated', n_jobs=None,\n",
              "             param_grid={'randomforestclassifier__criterion': ['entropy'],\n",
              "                         'randomforestclassifier__max_depth': [10],\n",
              "                         'randomforestclassifier__n_estimators': [50]},\n",
              "             pre_dispatch='2*n_jobs', refit=True, return_train_score=True,\n",
              "             scoring='f1', verbose=0)"
            ]
          },
          "metadata": {
            "tags": []
          },
          "execution_count": 45
        }
      ]
    },
    {
      "cell_type": "code",
      "metadata": {
        "id": "PSfaGxCTR8hk",
        "colab_type": "code",
        "colab": {}
      },
      "source": [
        "# rf1_tune.best_params_\n",
        "\n",
        "# {'randomforestclassifier__criterion': 'entropy',\n",
        "#  'randomforestclassifier__max_depth': 10,\n",
        "#  'randomforestclassifier__n_estimators': 50}"
      ],
      "execution_count": 46,
      "outputs": []
    },
    {
      "cell_type": "markdown",
      "metadata": {
        "id": "FcL8xi1pR8hr",
        "colab_type": "text"
      },
      "source": [
        "__KNN__"
      ]
    },
    {
      "cell_type": "code",
      "metadata": {
        "id": "EvNU2sybR8ht",
        "colab_type": "code",
        "colab": {
          "base_uri": "https://localhost:8080/",
          "height": 306
        },
        "outputId": "17d5798a-b800-410e-9a88-6045ae095552"
      },
      "source": [
        "# param = {\n",
        "#         'n_neighbors' : list(range(50,100)), ## jumlah n neighbors\n",
        "#         'algorithm':['auto', 'ball_tree', 'kd_tree', 'brute'], # struktur data\n",
        "# }\n",
        "param = {\n",
        "        'n_neighbors' : [83], ## jumlah n neighbors\n",
        "        'algorithm':['brute'], # struktur data\n",
        "}\n",
        "kf = KFold(n_splits=5, random_state=111, shuffle=False)\n",
        "\n",
        "knn_pipeline = make_pipeline(KNeighborsClassifier())\n",
        "new_params = {'kneighborsclassifier__' + key: param[key] for key in param}\n",
        "knn1_tune = GridSearchCV(knn_pipeline, param_grid=new_params, cv=kf, scoring='f1',\n",
        "                        return_train_score=True)\n",
        "knn1_tune.fit(train_X1, train_Y1)"
      ],
      "execution_count": 47,
      "outputs": [
        {
          "output_type": "execute_result",
          "data": {
            "text/plain": [
              "GridSearchCV(cv=KFold(n_splits=5, random_state=111, shuffle=False),\n",
              "             error_score=nan,\n",
              "             estimator=Pipeline(memory=None,\n",
              "                                steps=[('kneighborsclassifier',\n",
              "                                        KNeighborsClassifier(algorithm='auto',\n",
              "                                                             leaf_size=30,\n",
              "                                                             metric='minkowski',\n",
              "                                                             metric_params=None,\n",
              "                                                             n_jobs=None,\n",
              "                                                             n_neighbors=5, p=2,\n",
              "                                                             weights='uniform'))],\n",
              "                                verbose=False),\n",
              "             iid='deprecated', n_jobs=None,\n",
              "             param_grid={'kneighborsclassifier__algorithm': ['brute'],\n",
              "                         'kneighborsclassifier__n_neighbors': [83]},\n",
              "             pre_dispatch='2*n_jobs', refit=True, return_train_score=True,\n",
              "             scoring='f1', verbose=0)"
            ]
          },
          "metadata": {
            "tags": []
          },
          "execution_count": 47
        }
      ]
    },
    {
      "cell_type": "code",
      "metadata": {
        "id": "zTGc8BGDR8h2",
        "colab_type": "code",
        "colab": {}
      },
      "source": [
        "# knn1_tune.best_params_\n",
        "\n",
        "# {'kneighborsclassifier__algorithm': 'brute',\n",
        "#  'kneighborsclassifier__n_neighbors': 83}"
      ],
      "execution_count": 48,
      "outputs": []
    },
    {
      "cell_type": "markdown",
      "metadata": {
        "id": "JRT7yPp3R8iF",
        "colab_type": "text"
      },
      "source": [
        "### Evaluation"
      ]
    },
    {
      "cell_type": "code",
      "metadata": {
        "scrolled": false,
        "id": "58-XOw9zR8iG",
        "colab_type": "code",
        "colab": {
          "base_uri": "https://localhost:8080/",
          "height": 1000
        },
        "outputId": "b2a2db9f-eaa5-465d-8c45-5d97bc8b54f1"
      },
      "source": [
        "eva_matrix(lr1_tune,xgb1_tune,rf1_tune,knn1_tune,train_X1,train_Y1,test_X1,test_Y1)"
      ],
      "execution_count": 49,
      "outputs": [
        {
          "output_type": "stream",
          "text": [
            "Logistic Regression Train\n",
            "               precision    recall  f1-score   support\n",
            "\n",
            "           0       0.85      0.90      0.87      3929\n",
            "           1       0.65      0.52      0.58      1345\n",
            "\n",
            "    accuracy                           0.80      5274\n",
            "   macro avg       0.75      0.71      0.72      5274\n",
            "weighted avg       0.79      0.80      0.80      5274\n",
            "\n",
            "\n",
            "\n",
            "Logistic Regression Test\n",
            "               precision    recall  f1-score   support\n",
            "\n",
            "           0       0.82      0.92      0.87      1234\n",
            "           1       0.74      0.54      0.62       524\n",
            "\n",
            "    accuracy                           0.81      1758\n",
            "   macro avg       0.78      0.73      0.75      1758\n",
            "weighted avg       0.80      0.81      0.80      1758\n",
            "\n",
            "========================================================================\n",
            "\n",
            "XGB Train\n",
            "               precision    recall  f1-score   support\n",
            "\n",
            "           0       0.85      0.92      0.88      3929\n",
            "           1       0.69      0.54      0.60      1345\n",
            "\n",
            "    accuracy                           0.82      5274\n",
            "   macro avg       0.77      0.73      0.74      5274\n",
            "weighted avg       0.81      0.82      0.81      5274\n",
            "\n",
            "\n",
            "XGB Test\n",
            "               precision    recall  f1-score   support\n",
            "\n",
            "           0       0.82      0.92      0.87      1234\n",
            "           1       0.74      0.51      0.60       524\n",
            "\n",
            "    accuracy                           0.80      1758\n",
            "   macro avg       0.78      0.72      0.73      1758\n",
            "weighted avg       0.79      0.80      0.79      1758\n",
            "\n",
            "========================================================================\n",
            "\n",
            "Random Forest Train\n",
            "               precision    recall  f1-score   support\n",
            "\n",
            "           0       0.89      0.94      0.91      3929\n",
            "           1       0.78      0.65      0.71      1345\n",
            "\n",
            "    accuracy                           0.86      5274\n",
            "   macro avg       0.83      0.79      0.81      5274\n",
            "weighted avg       0.86      0.86      0.86      5274\n",
            "\n",
            "\n",
            "Random Forest Test\n",
            "               precision    recall  f1-score   support\n",
            "\n",
            "           0       0.81      0.92      0.86      1234\n",
            "           1       0.72      0.51      0.59       524\n",
            "\n",
            "    accuracy                           0.79      1758\n",
            "   macro avg       0.77      0.71      0.73      1758\n",
            "weighted avg       0.79      0.79      0.78      1758\n",
            "\n",
            "========================================================================\n",
            "\n",
            "KNN Train\n",
            "               precision    recall  f1-score   support\n",
            "\n",
            "           0       0.86      0.88      0.87      3929\n",
            "           1       0.63      0.59      0.61      1345\n",
            "\n",
            "    accuracy                           0.81      5274\n",
            "   macro avg       0.75      0.73      0.74      5274\n",
            "weighted avg       0.80      0.81      0.80      5274\n",
            "\n",
            "\n",
            "KNN Test\n",
            "               precision    recall  f1-score   support\n",
            "\n",
            "           0       0.83      0.89      0.86      1234\n",
            "           1       0.68      0.57      0.62       524\n",
            "\n",
            "    accuracy                           0.79      1758\n",
            "   macro avg       0.76      0.73      0.74      1758\n",
            "weighted avg       0.79      0.79      0.79      1758\n",
            "\n"
          ],
          "name": "stdout"
        },
        {
          "output_type": "display_data",
          "data": {
            "image/png": "[encoded data removed]",
            "text/plain": [
              "<Figure size 432x288 with 1 Axes>"
            ]
          },
          "metadata": {
            "tags": [],
            "needs_background": "light"
          }
        },
        {
          "output_type": "display_data",
          "data": {
            "image/png": "[encoded data removed]",
            "text/plain": [
              "<Figure size 432x288 with 1 Axes>"
            ]
          },
          "metadata": {
            "tags": [],
            "needs_background": "light"
          }
        }
      ]
    },
    {
      "cell_type": "code",
      "metadata": {
        "id": "UXLuJR_9R8iN",
        "colab_type": "code",
        "colab": {
          "base_uri": "https://localhost:8080/",
          "height": 173
        },
        "outputId": "16bb35d8-2082-42b2-b670-406ea3b5b813"
      },
      "source": [
        "report1 = df_report(lr1_tune,xgb1_tune,rf1_tune,knn1_tune,test_X1,test_Y1)\n",
        "report1"
      ],
      "execution_count": 50,
      "outputs": [
        {
          "output_type": "execute_result",
          "data": {
            "text/html": [
              "<div>\n",
              "<style scoped>\n",
              "    .dataframe tbody tr th:only-of-type {\n",
              "        vertical-align: middle;\n",
              "    }\n",
              "\n",
              "    .dataframe tbody tr th {\n",
              "        vertical-align: top;\n",
              "    }\n",
              "\n",
              "    .dataframe thead th {\n",
              "        text-align: right;\n",
              "    }\n",
              "</style>\n",
              "<table border=\"1\" class=\"dataframe\">\n",
              "  <thead>\n",
              "    <tr style=\"text-align: right;\">\n",
              "      <th></th>\n",
              "      <th>Model</th>\n",
              "      <th>AUC</th>\n",
              "      <th>Accuracy</th>\n",
              "      <th>precision</th>\n",
              "      <th>recall</th>\n",
              "      <th>f1-score</th>\n",
              "    </tr>\n",
              "  </thead>\n",
              "  <tbody>\n",
              "    <tr>\n",
              "      <th>0</th>\n",
              "      <td>Logistic Regression</td>\n",
              "      <td>0.856870</td>\n",
              "      <td>0.806598</td>\n",
              "      <td>0.740838</td>\n",
              "      <td>0.540076</td>\n",
              "      <td>0.624724</td>\n",
              "    </tr>\n",
              "    <tr>\n",
              "      <th>1</th>\n",
              "      <td>XGB Classifier</td>\n",
              "      <td>0.861879</td>\n",
              "      <td>0.799772</td>\n",
              "      <td>0.738889</td>\n",
              "      <td>0.507634</td>\n",
              "      <td>0.601810</td>\n",
              "    </tr>\n",
              "    <tr>\n",
              "      <th>2</th>\n",
              "      <td>Random Forest</td>\n",
              "      <td>0.844901</td>\n",
              "      <td>0.793515</td>\n",
              "      <td>0.718157</td>\n",
              "      <td>0.505725</td>\n",
              "      <td>0.593505</td>\n",
              "    </tr>\n",
              "    <tr>\n",
              "      <th>3</th>\n",
              "      <td>KNN</td>\n",
              "      <td>0.844112</td>\n",
              "      <td>0.792947</td>\n",
              "      <td>0.683486</td>\n",
              "      <td>0.568702</td>\n",
              "      <td>0.620833</td>\n",
              "    </tr>\n",
              "  </tbody>\n",
              "</table>\n",
              "</div>"
            ],
            "text/plain": [
              "                 Model       AUC  Accuracy  precision    recall  f1-score\n",
              "0  Logistic Regression  0.856870  0.806598   0.740838  0.540076  0.624724\n",
              "1       XGB Classifier  0.861879  0.799772   0.738889  0.507634  0.601810\n",
              "2        Random Forest  0.844901  0.793515   0.718157  0.505725  0.593505\n",
              "3                  KNN  0.844112  0.792947   0.683486  0.568702  0.620833"
            ]
          },
          "metadata": {
            "tags": []
          },
          "execution_count": 50
        }
      ]
    },
    {
      "cell_type": "code",
      "metadata": {
        "id": "b5nCw7inR8iT",
        "colab_type": "code",
        "colab": {
          "base_uri": "https://localhost:8080/",
          "height": 422
        },
        "outputId": "4b540b66-1de0-4d92-9678-5190ba92d7f0"
      },
      "source": [
        "plot_report(report1)"
      ],
      "execution_count": 51,
      "outputs": [
        {
          "output_type": "display_data",
          "data": {
            "image/png": "[encoded data removed]",
            "text/plain": [
              "<Figure size 576x360 with 1 Axes>"
            ]
          },
          "metadata": {
            "tags": [],
            "needs_background": "light"
          }
        }
      ]
    },
    {
      "cell_type": "markdown",
      "metadata": {
        "id": "khqqp5LnR8iZ",
        "colab_type": "text"
      },
      "source": [
        ">__Logistic Regression__ memiliki AUC dan F1 Score, dan Recall tertinggi, untuk percobaan selanjutnya saya akan mencoba memaksimalkan Logistic Regression dengan melakukan train menggunakan dataset yang diseimbangkan terlebih dahulu"
      ]
    },
    {
      "cell_type": "markdown",
      "metadata": {
        "id": "8l2m6W7KR8ia",
        "colab_type": "text"
      },
      "source": [
        "### Perbandingan model dengan menghilangkan Feature Monthly Charges dan Total Charges"
      ]
    },
    {
      "cell_type": "markdown",
      "metadata": {
        "id": "wcZZBMmuR8ib",
        "colab_type": "text"
      },
      "source": [
        "Pada tahap ini saya ingin melihat apakah dengan membuang feature Monthly Charges dan Total Charges bisa mempengaruhi model atau tidak, saya menggunakan model terbaik sebagai perbandingan"
      ]
    },
    {
      "cell_type": "code",
      "metadata": {
        "scrolled": false,
        "id": "s7onCpvpR8ic",
        "colab_type": "code",
        "colab": {
          "base_uri": "https://localhost:8080/",
          "height": 636
        },
        "outputId": "27f47812-cc0d-4097-9ac3-07a7f524c36c"
      },
      "source": [
        "print('Logistic Regression 1\\n',classification_report(test_Y,lr_tune.predict(test_X)))\n",
        "print('Logistic Regression 2\\n',classification_report(test_Y1,lr1_tune.predict(test_X1)))\n",
        "\n",
        "## ROC_AUC\n",
        "disp = plot_roc_curve(lr_tune,test_X,test_Y)\n",
        "plot_roc_curve(lr1_tune,test_X1,test_Y1,ax=disp.ax_)"
      ],
      "execution_count": 52,
      "outputs": [
        {
          "output_type": "stream",
          "text": [
            "Logistic Regression 1\n",
            "               precision    recall  f1-score   support\n",
            "\n",
            "           0       0.82      0.92      0.87      1234\n",
            "           1       0.74      0.54      0.63       524\n",
            "\n",
            "    accuracy                           0.81      1758\n",
            "   macro avg       0.78      0.73      0.75      1758\n",
            "weighted avg       0.80      0.81      0.80      1758\n",
            "\n",
            "Logistic Regression 2\n",
            "               precision    recall  f1-score   support\n",
            "\n",
            "           0       0.82      0.92      0.87      1234\n",
            "           1       0.74      0.54      0.62       524\n",
            "\n",
            "    accuracy                           0.81      1758\n",
            "   macro avg       0.78      0.73      0.75      1758\n",
            "weighted avg       0.80      0.81      0.80      1758\n",
            "\n"
          ],
          "name": "stdout"
        },
        {
          "output_type": "execute_result",
          "data": {
            "text/plain": [
              "<sklearn.metrics._plot.roc_curve.RocCurveDisplay at 0x7fcef8036b38>"
            ]
          },
          "metadata": {
            "tags": []
          },
          "execution_count": 52
        },
        {
          "output_type": "display_data",
          "data": {
            "image/png": "[encoded data removed]",
            "text/plain": [
              "<Figure size 432x288 with 1 Axes>"
            ]
          },
          "metadata": {
            "tags": [],
            "needs_background": "light"
          }
        }
      ]
    },
    {
      "cell_type": "markdown",
      "metadata": {
        "id": "7BkkcB4YR8ii",
        "colab_type": "text"
      },
      "source": [
        ">Berdasarkan report klasifikasi dan grafik ROC-AUC diatas, dapat disimpulkan bahwa membuang feature Monthly Charges dan Total Charges tidak mempengaruhi model.\n",
        "\n",
        "<hr>"
      ]
    },
    {
      "cell_type": "markdown",
      "metadata": {
        "id": "KBLMJMdWR8in",
        "colab_type": "text"
      },
      "source": [
        "# 2. Percobaan 2 (Under Sampling)"
      ]
    },
    {
      "cell_type": "markdown",
      "metadata": {
        "id": "6DLMo5UsR8ip",
        "colab_type": "text"
      },
      "source": [
        "Dalam dataset ini __class 0__ : 5163, sedangkan __class 1__ : 1869, saya akan menggunakan ```NearMiss``` untuk menyeimbangkan class, teknik ini akan menghapus beberapa sample majority class yaitu __class 0__ sehingga jumlahnya sama dengan minority __class 1__ , ```NearMiss``` akan menghapus majority class yang memiliki jarak terdekat dari minority class.[source](https://machinelearningmastery.com/undersampling-algorithms-for-imbalanced-classification/)"
      ]
    },
    {
      "cell_type": "code",
      "metadata": {
        "id": "0YMkLjr_R8i0",
        "colab_type": "code",
        "colab": {}
      },
      "source": [
        "train_X2 = train_X1.copy()\n",
        "train_Y2 = train_Y1.copy()\n",
        "test_X2 = test_X1\n",
        "test_Y2 = test_Y1"
      ],
      "execution_count": null,
      "outputs": []
    },
    {
      "cell_type": "markdown",
      "metadata": {
        "id": "cwBbao8tR8i5",
        "colab_type": "text"
      },
      "source": [
        "__Parameter Tuning Logistic Regression__"
      ]
    },
    {
      "cell_type": "code",
      "metadata": {
        "id": "F5uDNRxxR8i6",
        "colab_type": "code",
        "colab": {},
        "outputId": "cb4ade4f-ccf1-4779-a3c2-029cf56c212e"
      },
      "source": [
        "# param_lr = {\n",
        "#     'solver':['newton-cg','lbfgs','liblinear','sag','saga'], ##algoritma Logistic regression\n",
        "#     'penalty':['none','l1','l2','elasticnet','none'], # regularisasi\n",
        "#       'C': [0.001, 0.01, 0.1, 1, 10, 100, 1000] #strong of regularisasi\n",
        "# }\n",
        "param_lr = {\n",
        "    'solver':['saga'], ##algoritma Logistic regression\n",
        "    'penalty':['l1'], # regularisasi\n",
        "      'C': [0.1] #strong of regularisasi\n",
        "}\n",
        "kf = KFold(n_splits=5, random_state=111, shuffle=False)\n",
        "lr_pipeline = make_pipeline(NearMiss(),LogisticRegression())\n",
        "new_params = {'logisticregression__' + key: param_lr[key] for key in param_lr}\n",
        "lr2_tune = GridSearchCV(lr_pipeline, param_grid=new_params, cv=kf, scoring='f1',\n",
        "                        return_train_score=True)\n",
        "lr2_tune.fit(train_X2, train_Y2)"
      ],
      "execution_count": null,
      "outputs": [
        {
          "output_type": "execute_result",
          "data": {
            "text/plain": [
              "GridSearchCV(cv=KFold(n_splits=5, random_state=111, shuffle=False),\n",
              "             error_score=nan,\n",
              "             estimator=Pipeline(memory=None,\n",
              "                                steps=[('nearmiss',\n",
              "                                        NearMiss(n_jobs=None, n_neighbors=3,\n",
              "                                                 n_neighbors_ver3=3,\n",
              "                                                 sampling_strategy='auto',\n",
              "                                                 version=1)),\n",
              "                                       ('logisticregression',\n",
              "                                        LogisticRegression(C=1.0,\n",
              "                                                           class_weight=None,\n",
              "                                                           dual=False,\n",
              "                                                           fit_intercept=True,\n",
              "                                                           intercept_scaling=1,\n",
              "                                                           l1_ratio=None...\n",
              "                                                           warm_start=False))],\n",
              "                                verbose=False),\n",
              "             iid='deprecated', n_jobs=None,\n",
              "             param_grid={'logisticregression__C': [0.001, 0.01, 0.1, 1, 10, 100,\n",
              "                                                   1000],\n",
              "                         'logisticregression__penalty': ['none', 'l1', 'l2',\n",
              "                                                         'elasticnet', 'none'],\n",
              "                         'logisticregression__solver': ['newton-cg', 'lbfgs',\n",
              "                                                        'liblinear', 'sag',\n",
              "                                                        'saga']},\n",
              "             pre_dispatch='2*n_jobs', refit=True, return_train_score=True,\n",
              "             scoring='f1', verbose=0)"
            ]
          },
          "metadata": {
            "tags": []
          },
          "execution_count": 51
        }
      ]
    },
    {
      "cell_type": "code",
      "metadata": {
        "scrolled": true,
        "id": "cLj_KoEZR8jA",
        "colab_type": "code",
        "colab": {},
        "outputId": "fce3abb5-b11f-4da5-b4bd-33376bc9c2a3"
      },
      "source": [
        "# lr2_tune.best_params_\n",
        "\n",
        "# {'logisticregression__C': 0.1,\n",
        "#  'logisticregression__penalty': 'l1',\n",
        "#  'logisticregression__solver': 'saga'}"
      ],
      "execution_count": null,
      "outputs": [
        {
          "output_type": "execute_result",
          "data": {
            "text/plain": [
              "{'logisticregression__C': 0.1,\n",
              " 'logisticregression__penalty': 'l1',\n",
              " 'logisticregression__solver': 'saga'}"
            ]
          },
          "metadata": {
            "tags": []
          },
          "execution_count": 52
        }
      ]
    },
    {
      "cell_type": "markdown",
      "metadata": {
        "id": "BotkkmTkR8jK",
        "colab_type": "text"
      },
      "source": [
        "# 3. Percobaan 3 (Random Over Sampling)"
      ]
    },
    {
      "cell_type": "markdown",
      "metadata": {
        "id": "zP8LHnIlR8jL",
        "colab_type": "text"
      },
      "source": [
        "Pada percobaan ke 3 ini saya akan menggunakan ```RandomOverSampler``` untuk menyeimbangkan class, teknik ini akan menduplikasi minority class (__class 1__) secara random sehingga total __class 1__ akan sama dengan majority class  (__class 0__)"
      ]
    },
    {
      "cell_type": "code",
      "metadata": {
        "id": "PgzbaFUYdPOn",
        "colab_type": "code",
        "colab": {}
      },
      "source": [
        "train_X3 = train_X1\n",
        "train_Y3 = train_Y1\n",
        "test_X3 = test_X1\n",
        "test_Y3 = test_Y1"
      ],
      "execution_count": 53,
      "outputs": []
    },
    {
      "cell_type": "markdown",
      "metadata": {
        "id": "-AnpKTVdR8jm",
        "colab_type": "text"
      },
      "source": [
        "__Parameter Tuning Logistic Regression__"
      ]
    },
    {
      "cell_type": "code",
      "metadata": {
        "id": "f2f2zu7BR8jn",
        "colab_type": "code",
        "colab": {},
        "outputId": "7da9b2e3-5d38-484c-c069-7738d728a8cb"
      },
      "source": [
        "# param_lr = {\n",
        "#     'solver':['newton-cg','lbfgs','liblinear','sag','saga'], ##algoritma Logistic regression\n",
        "#     'penalty':['none','l1','l2','elasticnet','none'], # regularisasi\n",
        "#       'C': [0.001, 0.01, 0.1, 1, 10, 100, 1000] #strong of regularisasi\n",
        "# }\n",
        "\n",
        "param_lr = {\n",
        "    'solver':['newton-cg'], ##algoritma Logistic regression\n",
        "    'penalty':['none'], # regularisasi\n",
        "      'C': [0.001] #strong of regularisasi\n",
        "}\n",
        "kf = KFold(n_splits=5, random_state=111, shuffle=False)\n",
        "lr_pipeline = make_pipeline(RandomOverSampler(),LogisticRegression())\n",
        "new_params = {'logisticregression__' + key: param_lr[key] for key in param_lr}\n",
        "lr3_tune = GridSearchCV(lr_pipeline, param_grid=new_params, cv=kf, scoring='f1',\n",
        "                        return_train_score=True)\n",
        "lr3_tune.fit(train_X3, train_Y3)"
      ],
      "execution_count": null,
      "outputs": [
        {
          "output_type": "execute_result",
          "data": {
            "text/plain": [
              "GridSearchCV(cv=KFold(n_splits=5, random_state=111, shuffle=False),\n",
              "             error_score=nan,\n",
              "             estimator=Pipeline(memory=None,\n",
              "                                steps=[('randomoversampler',\n",
              "                                        RandomOverSampler(random_state=None,\n",
              "                                                          sampling_strategy='auto')),\n",
              "                                       ('logisticregression',\n",
              "                                        LogisticRegression(C=1.0,\n",
              "                                                           class_weight=None,\n",
              "                                                           dual=False,\n",
              "                                                           fit_intercept=True,\n",
              "                                                           intercept_scaling=1,\n",
              "                                                           l1_ratio=None,\n",
              "                                                           max_iter=100,\n",
              "                                                           multi...\n",
              "                                                           warm_start=False))],\n",
              "                                verbose=False),\n",
              "             iid='deprecated', n_jobs=None,\n",
              "             param_grid={'logisticregression__C': [0.001, 0.01, 0.1, 1, 10, 100,\n",
              "                                                   1000],\n",
              "                         'logisticregression__penalty': ['none', 'l1', 'l2',\n",
              "                                                         'elasticnet', 'none'],\n",
              "                         'logisticregression__solver': ['newton-cg', 'lbfgs',\n",
              "                                                        'liblinear', 'sag',\n",
              "                                                        'saga']},\n",
              "             pre_dispatch='2*n_jobs', refit=True, return_train_score=True,\n",
              "             scoring='f1', verbose=0)"
            ]
          },
          "metadata": {
            "tags": []
          },
          "execution_count": 68
        }
      ]
    },
    {
      "cell_type": "code",
      "metadata": {
        "scrolled": true,
        "id": "X2zUxZruR8jt",
        "colab_type": "code",
        "colab": {},
        "outputId": "48a44680-2666-474d-d6b7-fabc5f496c36"
      },
      "source": [
        "# lr3_tune.best_params_\n",
        "\n",
        "# {'logisticregression__C': 0.001,\n",
        "#  'logisticregression__penalty': 'none',\n",
        "#  'logisticregression__solver': 'newton-cg'}"
      ],
      "execution_count": null,
      "outputs": [
        {
          "output_type": "execute_result",
          "data": {
            "text/plain": [
              "{'logisticregression__C': 0.001,\n",
              " 'logisticregression__penalty': 'none',\n",
              " 'logisticregression__solver': 'newton-cg'}"
            ]
          },
          "metadata": {
            "tags": []
          },
          "execution_count": 69
        }
      ]
    },
    {
      "cell_type": "markdown",
      "metadata": {
        "id": "5fqw83tCR8j0",
        "colab_type": "text"
      },
      "source": [
        "# 4. Percobaan 4 (SMOTE)"
      ]
    },
    {
      "cell_type": "markdown",
      "metadata": {
        "id": "nieA1Wu9R8j3",
        "colab_type": "text"
      },
      "source": [
        "Pada percobaan ke 4 ini saya akan menggunakan ```SMOTE``` _Synthetic Minority Oversampling Technique_ untuk menyeimbangkan class sehingga minority class akan memiliki jumlah yang sama dengan majority class, berbeda dengan Random Over Sample, SMOTE membuat instance data baru berdasarkan jarak euclidian terdekat, teknik ini mengadopsi algoritma K-Nearest Neighbors.[source](http://etd.repository.ugm.ac.id/home/detail_pencarian/157692)"
      ]
    },
    {
      "cell_type": "code",
      "metadata": {
        "id": "uBX0mWsPR8j-",
        "colab_type": "code",
        "colab": {}
      },
      "source": [
        "train_X4 = train_X1\n",
        "train_Y4 = train_Y1\n",
        "test_X4 = test_X1\n",
        "test_Y4 = test_Y1"
      ],
      "execution_count": 54,
      "outputs": []
    },
    {
      "cell_type": "markdown",
      "metadata": {
        "id": "OQTiY1WkR8kE",
        "colab_type": "text"
      },
      "source": [
        "__Parameter Tuning Logistic Regression__"
      ]
    },
    {
      "cell_type": "code",
      "metadata": {
        "id": "TFhY1YChR8kF",
        "colab_type": "code",
        "colab": {},
        "outputId": "96143e93-7489-44f4-9e59-a2ed9286b470"
      },
      "source": [
        "# param_lr = {\n",
        "#     'solver':['newton-cg','lbfgs','liblinear','sag','saga'], ##algoritma Logistic regression\n",
        "#     'penalty':['none','l1','l2','elasticnet','none'], # regularisasi\n",
        "#       'C': [0.001, 0.01, 0.1, 1, 10, 100, 1000] #strong of regularisasi\n",
        "# }\n",
        "\n",
        "param_lr = {\n",
        "    'solver':['saga'], ##algoritma Logistic regression\n",
        "    'penalty':['none'], # regularisasi\n",
        "      'C': [0.1] #strong of regularisasi\n",
        "}\n",
        "kf = KFold(n_splits=5, random_state=111, shuffle=False)\n",
        "lr_pipeline = make_pipeline(SMOTE(),LogisticRegression())\n",
        "new_params = {'logisticregression__' + key: param_lr[key] for key in param_lr}\n",
        "lr4_tune = GridSearchCV(lr_pipeline, param_grid=new_params, cv=kf, scoring='f1',\n",
        "                        return_train_score=True)\n",
        "lr4_tune.fit(train_X4, train_Y4)"
      ],
      "execution_count": null,
      "outputs": [
        {
          "output_type": "execute_result",
          "data": {
            "text/plain": [
              "GridSearchCV(cv=KFold(n_splits=5, random_state=111, shuffle=False),\n",
              "             error_score=nan,\n",
              "             estimator=Pipeline(memory=None,\n",
              "                                steps=[('smote',\n",
              "                                        SMOTE(k_neighbors=5, n_jobs=None,\n",
              "                                              random_state=None,\n",
              "                                              sampling_strategy='auto')),\n",
              "                                       ('logisticregression',\n",
              "                                        LogisticRegression(C=1.0,\n",
              "                                                           class_weight=None,\n",
              "                                                           dual=False,\n",
              "                                                           fit_intercept=True,\n",
              "                                                           intercept_scaling=1,\n",
              "                                                           l1_ratio=None,\n",
              "                                                           max_iter=100,\n",
              "                                                           mul...\n",
              "                                                           warm_start=False))],\n",
              "                                verbose=False),\n",
              "             iid='deprecated', n_jobs=None,\n",
              "             param_grid={'logisticregression__C': [0.001, 0.01, 0.1, 1, 10, 100,\n",
              "                                                   1000],\n",
              "                         'logisticregression__penalty': ['none', 'l1', 'l2',\n",
              "                                                         'elasticnet', 'none'],\n",
              "                         'logisticregression__solver': ['newton-cg', 'lbfgs',\n",
              "                                                        'liblinear', 'sag',\n",
              "                                                        'saga']},\n",
              "             pre_dispatch='2*n_jobs', refit=True, return_train_score=True,\n",
              "             scoring='f1', verbose=0)"
            ]
          },
          "metadata": {
            "tags": []
          },
          "execution_count": 72
        }
      ]
    },
    {
      "cell_type": "code",
      "metadata": {
        "scrolled": true,
        "id": "osWFmi-PR8kK",
        "colab_type": "code",
        "colab": {},
        "outputId": "94a97735-7b3a-4652-9b05-7ffd5616dd56"
      },
      "source": [
        "# lr4_tune.best_params_\n",
        "\n",
        "# {'logisticregression__C': 0.1,\n",
        "#  'logisticregression__penalty': 'none',\n",
        "#  'logisticregression__solver': 'saga'}"
      ],
      "execution_count": null,
      "outputs": [
        {
          "output_type": "execute_result",
          "data": {
            "text/plain": [
              "{'logisticregression__C': 0.1,\n",
              " 'logisticregression__penalty': 'none',\n",
              " 'logisticregression__solver': 'saga'}"
            ]
          },
          "metadata": {
            "tags": []
          },
          "execution_count": 73
        }
      ]
    },
    {
      "cell_type": "markdown",
      "metadata": {
        "id": "mMtPGGq5R8kQ",
        "colab_type": "text"
      },
      "source": [
        "# Best Model"
      ]
    },
    {
      "cell_type": "markdown",
      "metadata": {
        "id": "Vzc4bUdTR8kR",
        "colab_type": "text"
      },
      "source": [
        "Memilih model terbaik dari 4 percobaan di atas"
      ]
    },
    {
      "cell_type": "code",
      "metadata": {
        "id": "ce-IfQ56R8kU",
        "colab_type": "code",
        "colab": {},
        "outputId": "1319b4c3-6b17-42dc-f5fe-c19d9036b178"
      },
      "source": [
        "## ROC-AUC\n",
        "a = roc_auc_score(test_Y1, lr1_tune.predict_proba(test_X1)[:,1])\n",
        "b = roc_auc_score(test_Y2, lr2_tune.predict_proba(test_X2)[:,1])\n",
        "c = roc_auc_score(test_Y3, lr3_tune.predict_proba(test_X3)[:,1])\n",
        "d = roc_auc_score(test_Y4, lr4_tune.predict_proba(test_X4)[:,1])\n",
        "\n",
        "## Accuracy\n",
        "\n",
        "e = classification_report(test_Y1,lr1_tune.predict(test_X1),output_dict=True)['accuracy']\n",
        "f = classification_report(test_Y2,lr2_tune.predict(test_X2),output_dict=True)['accuracy']\n",
        "g = classification_report(test_Y3,lr3_tune.predict(test_X3),output_dict=True)['accuracy']\n",
        "h = classification_report(test_Y4,lr4_tune.predict(test_X4),output_dict=True)['accuracy']\n",
        "\n",
        "## Precision,Recall,F1\n",
        "\n",
        "i = classification_report(test_Y1,lr1_tune.predict(test_X1),output_dict=True)['1']\n",
        "j = classification_report(test_Y2,lr2_tune.predict(test_X2),output_dict=True)['1']\n",
        "k = classification_report(test_Y3,lr3_tune.predict(test_X3),output_dict=True)['1']\n",
        "l = classification_report(test_Y4,lr4_tune.predict(test_X4),output_dict=True)['1']\n",
        "\n",
        "model = pd.DataFrame({'Model':['Logistic Regression1','Logistic Regression2','Logistic Regression3','Logistic Regression4'],\n",
        "                      'AUC':[a,b,c,d],\n",
        "                      'Accuracy':[e,f,g,h]})\n",
        "report = pd.DataFrame([i,j,k,l])\n",
        "report.drop(columns='support',inplace=True)\n",
        "report5 = pd.concat([model,report],axis=1)\n",
        "report5"
      ],
      "execution_count": null,
      "outputs": [
        {
          "output_type": "execute_result",
          "data": {
            "text/html": [
              "<div>\n",
              "<style scoped>\n",
              "    .dataframe tbody tr th:only-of-type {\n",
              "        vertical-align: middle;\n",
              "    }\n",
              "\n",
              "    .dataframe tbody tr th {\n",
              "        vertical-align: top;\n",
              "    }\n",
              "\n",
              "    .dataframe thead th {\n",
              "        text-align: right;\n",
              "    }\n",
              "</style>\n",
              "<table border=\"1\" class=\"dataframe\">\n",
              "  <thead>\n",
              "    <tr style=\"text-align: right;\">\n",
              "      <th></th>\n",
              "      <th>Model</th>\n",
              "      <th>AUC</th>\n",
              "      <th>Accuracy</th>\n",
              "      <th>precision</th>\n",
              "      <th>recall</th>\n",
              "      <th>f1-score</th>\n",
              "    </tr>\n",
              "  </thead>\n",
              "  <tbody>\n",
              "    <tr>\n",
              "      <td>0</td>\n",
              "      <td>Logistic Regression1</td>\n",
              "      <td>0.856869</td>\n",
              "      <td>0.806598</td>\n",
              "      <td>0.740838</td>\n",
              "      <td>0.540076</td>\n",
              "      <td>0.624724</td>\n",
              "    </tr>\n",
              "    <tr>\n",
              "      <td>1</td>\n",
              "      <td>Logistic Regression2</td>\n",
              "      <td>0.805660</td>\n",
              "      <td>0.699659</td>\n",
              "      <td>0.497669</td>\n",
              "      <td>0.814885</td>\n",
              "      <td>0.617945</td>\n",
              "    </tr>\n",
              "    <tr>\n",
              "      <td>2</td>\n",
              "      <td>Logistic Regression3</td>\n",
              "      <td>0.855687</td>\n",
              "      <td>0.759386</td>\n",
              "      <td>0.570629</td>\n",
              "      <td>0.778626</td>\n",
              "      <td>0.658596</td>\n",
              "    </tr>\n",
              "    <tr>\n",
              "      <td>3</td>\n",
              "      <td>Logistic Regression4</td>\n",
              "      <td>0.856140</td>\n",
              "      <td>0.765643</td>\n",
              "      <td>0.580229</td>\n",
              "      <td>0.772901</td>\n",
              "      <td>0.662848</td>\n",
              "    </tr>\n",
              "  </tbody>\n",
              "</table>\n",
              "</div>"
            ],
            "text/plain": [
              "                  Model       AUC  Accuracy  precision    recall  f1-score\n",
              "0  Logistic Regression1  0.856869  0.806598   0.740838  0.540076  0.624724\n",
              "1  Logistic Regression2  0.805660  0.699659   0.497669  0.814885  0.617945\n",
              "2  Logistic Regression3  0.855687  0.759386   0.570629  0.778626  0.658596\n",
              "3  Logistic Regression4  0.856140  0.765643   0.580229  0.772901  0.662848"
            ]
          },
          "metadata": {
            "tags": []
          },
          "execution_count": 74
        }
      ]
    },
    {
      "cell_type": "code",
      "metadata": {
        "id": "RAUzwlMsR8ka",
        "colab_type": "code",
        "colab": {},
        "outputId": "61bce7c7-7925-4f1e-a862-9502ac646f78"
      },
      "source": [
        "plt.figure(figsize=(8,5))\n",
        "plt.plot(report5['Model'], report5['AUC'],'g-o',label='AUC')\n",
        "plt.plot(report5['Model'], report5['Accuracy'],'k-o',label='Accuracy')\n",
        "plt.plot(report5['Model'], report5['precision'],'r-o',label='precision')\n",
        "plt.plot(report5['Model'], report5['recall'],'y-o',label='recall')\n",
        "plt.plot(report5['Model'], report5['f1-score'],'b-o',label='f1-score')\n",
        "plt.xticks(rotation=90);plt.title('Classification Report')\n",
        "plt.grid(True)\n",
        "plt.legend()\n",
        "plt.show()"
      ],
      "execution_count": null,
      "outputs": [
        {
          "output_type": "display_data",
          "data": {
            "image/png": "[encoded data removed]",
            "text/plain": [
              "<Figure size 576x360 with 1 Axes>"
            ]
          },
          "metadata": {
            "tags": [],
            "needs_background": "light"
          }
        }
      ]
    },
    {
      "cell_type": "code",
      "metadata": {
        "id": "pA7xCpmRR8kj",
        "colab_type": "code",
        "colab": {},
        "outputId": "aec88e1b-cebb-4f0a-f196-22a340b683d0"
      },
      "source": [
        "plot_confusion_matrix(lr3_tune,test_X3,test_Y3,values_format='0.0f')\n",
        "plot_confusion_matrix(lr4_tune,test_X4,test_Y4,values_format='0.0f')"
      ],
      "execution_count": null,
      "outputs": [
        {
          "output_type": "execute_result",
          "data": {
            "text/plain": [
              "<sklearn.metrics._plot.confusion_matrix.ConfusionMatrixDisplay at 0xcb6dad0>"
            ]
          },
          "metadata": {
            "tags": []
          },
          "execution_count": 80
        },
        {
          "output_type": "display_data",
          "data": {
            "image/png": "[encoded data removed]",
            "text/plain": [
              "<Figure size 432x288 with 2 Axes>"
            ]
          },
          "metadata": {
            "tags": [],
            "needs_background": "light"
          }
        },
        {
          "output_type": "display_data",
          "data": {
            "image/png": "[encoded data removed]",
            "text/plain": [
              "<Figure size 432x288 with 2 Axes>"
            ]
          },
          "metadata": {
            "tags": [],
            "needs_background": "light"
          }
        }
      ]
    },
    {
      "cell_type": "markdown",
      "metadata": {
        "id": "IinCdZe7R8ko",
        "colab_type": "text"
      },
      "source": [
        ">__Saya memilih model Logistic Regression 3, yaitu model yang kita train dengan data balance Random Over Sample sebagai model terbaik__"
      ]
    },
    {
      "cell_type": "markdown",
      "metadata": {
        "id": "vwvyjOE1R8ko",
        "colab_type": "text"
      },
      "source": [
        "## Cek for OverFitting/UnderFitting"
      ]
    },
    {
      "cell_type": "code",
      "metadata": {
        "id": "oaFkrgfNR8kq",
        "colab_type": "code",
        "colab": {},
        "outputId": "acaf4252-82fc-4684-cbea-1d48dfc62518"
      },
      "source": [
        "print('Logistic Regression Training\\n',classification_report(train_Y3,lr3_tune.predict(train_X3)))\n",
        "print('Logistic Regression Testing\\n',classification_report(test_Y3,lr3_tune.predict(test_X3)))"
      ],
      "execution_count": null,
      "outputs": [
        {
          "output_type": "stream",
          "text": [
            "Logistic Regression Training\n",
            "               precision    recall  f1-score   support\n",
            "\n",
            "           0       0.91      0.73      0.81      3929\n",
            "           1       0.50      0.80      0.62      1345\n",
            "\n",
            "    accuracy                           0.75      5274\n",
            "   macro avg       0.71      0.77      0.72      5274\n",
            "weighted avg       0.81      0.75      0.76      5274\n",
            "\n",
            "Logistic Regression Testing\n",
            "               precision    recall  f1-score   support\n",
            "\n",
            "           0       0.89      0.75      0.81      1234\n",
            "           1       0.57      0.78      0.66       524\n",
            "\n",
            "    accuracy                           0.76      1758\n",
            "   macro avg       0.73      0.76      0.74      1758\n",
            "weighted avg       0.79      0.76      0.77      1758\n",
            "\n"
          ],
          "name": "stdout"
        }
      ]
    },
    {
      "cell_type": "markdown",
      "metadata": {
        "id": "2zf8VReOR8k-",
        "colab_type": "text"
      },
      "source": [
        "- Model Logistic Regression tidak over fitting"
      ]
    },
    {
      "cell_type": "markdown",
      "metadata": {
        "id": "QoDdDXI0R8k_",
        "colab_type": "text"
      },
      "source": [
        "# Save Model"
      ]
    },
    {
      "cell_type": "code",
      "metadata": {
        "id": "34MQpHvMR8lA",
        "colab_type": "code",
        "colab": {}
      },
      "source": [
        "import joblib"
      ],
      "execution_count": null,
      "outputs": []
    },
    {
      "cell_type": "code",
      "metadata": {
        "id": "3bQSZLmfR8lG",
        "colab_type": "code",
        "colab": {},
        "outputId": "3c0af3bb-45ee-4ae6-f054-242d363f84a7"
      },
      "source": [
        "# joblib.dump(lr4_tune,'lr_best_model')"
      ],
      "execution_count": null,
      "outputs": [
        {
          "output_type": "execute_result",
          "data": {
            "text/plain": [
              "['lr_best_model']"
            ]
          },
          "metadata": {
            "tags": []
          },
          "execution_count": 89
        }
      ]
    },
    {
      "cell_type": "code",
      "metadata": {
        "id": "2k0yxrTHR8lL",
        "colab_type": "code",
        "colab": {}
      },
      "source": [
        ""
      ],
      "execution_count": null,
      "outputs": []
    }
  ]
}