{
 "cells": [
  {
   "cell_type": "markdown",
   "metadata": {},
   "source": [
    "# Machine Learning Model\n",
    "\n",
    "- Pada Notebook ini akan dibangun Supervised Machine Learning menggunakan metode Logisitic Regression, Random Forest, dan K-Nearest Neighbors.\n",
    "- Class label pada dataset tidak seimbang, label Not Churn : 5163, label Chrun : 1869. \n",
    "- Model 1 akan menggunakan dataset asli tanpa menyeimbangkan class terlebih dahulu, model 2 akan menggunakan dataset yang diseimbangkan terlebih dahulu dengan metode Under Sampling, model 3 akan menggunakan dataset yang diseimbangkan dengan metode Over Sampling.\n",
    "- Feature Monthly Charges dan Total Charges tidak akan digunakan sebagai variable prediktor dengan pertimbangan sebagai berikut :\n",
    "    - 2 Feature tersebut merupakan feature dependent, hal ini sudah dibuktikan pada notebook EDA sebelumnya\n",
    "    - Dalam membuat model Machine Learning, tidak ada keharusan untuk membuang feature yang dependent, namun dalam membuat model interface yang bisa digunakan oleh user, 2 feature ini akan menyulitkan user untuk melakukan input nilainya karena user tidak benar-benar tahu nilainya. Untuk mendapatkan nilai Monthly Charges dan Total Charges setiap perusahaan pasti sudah memiliki formula/perhitungan untuk menentukan harga, jika demikian kita bisa menggunakan feature ini sebagai prediktor, tapi pada kasus ini kita tidak memiliki formula tersebut.\n",
    "\n",
    "- Sebelum saya benar benar membuang feature tersebut, saya akan melihat perbandingan model yang menggunakan 2 feature tersebut dan yang tidak menggunakan 2 feature tersebut."
   ]
  },
  {
   "cell_type": "markdown",
   "metadata": {},
   "source": [
    "## Load Package and Dataset"
   ]
  },
  {
   "cell_type": "code",
   "execution_count": 3,
   "metadata": {},
   "outputs": [],
   "source": [
    "import numpy as np\n",
    "import pandas as pd\n",
    "import matplotlib.pyplot as plt\n",
    "import seaborn as sns\n",
    "\n",
    "from sklearn.preprocessing import LabelEncoder\n",
    "from sklearn.preprocessing import StandardScaler\n",
    "from sklearn.model_selection import train_test_split\n",
    "from sklearn.linear_model import LogisticRegression\n",
    "from sklearn.tree import DecisionTreeClassifier\n",
    "from sklearn.ensemble import RandomForestClassifier\n",
    "from sklearn.neighbors import KNeighborsClassifier\n",
    "from sklearn.metrics import precision_score, recall_score,f1_score\n",
    "from sklearn.metrics import plot_roc_curve\n",
    "from sklearn.metrics import plot_confusion_matrix\n",
    "from sklearn.metrics import classification_report\n",
    "from sklearn.metrics import roc_curve, roc_auc_score\n",
    "from sklearn.model_selection import cross_val_score,RandomizedSearchCV, GridSearchCV\n",
    "from imblearn.under_sampling import NearMiss\n",
    "from imblearn.over_sampling import RandomOverSampler\n",
    "\n",
    "import warnings\n",
    "warnings.filterwarnings(\"ignore\")"
   ]
  },
  {
   "cell_type": "code",
   "execution_count": 4,
   "metadata": {
    "scrolled": false
   },
   "outputs": [
    {
     "data": {
      "text/html": [
       "<div>\n",
       "<style scoped>\n",
       "    .dataframe tbody tr th:only-of-type {\n",
       "        vertical-align: middle;\n",
       "    }\n",
       "\n",
       "    .dataframe tbody tr th {\n",
       "        vertical-align: top;\n",
       "    }\n",
       "\n",
       "    .dataframe thead th {\n",
       "        text-align: right;\n",
       "    }\n",
       "</style>\n",
       "<table border=\"1\" class=\"dataframe\">\n",
       "  <thead>\n",
       "    <tr style=\"text-align: right;\">\n",
       "      <th></th>\n",
       "      <th>customerID</th>\n",
       "      <th>SeniorCitizen</th>\n",
       "      <th>Partner</th>\n",
       "      <th>Dependents</th>\n",
       "      <th>PhoneService</th>\n",
       "      <th>PaperlessBilling</th>\n",
       "      <th>Churn</th>\n",
       "      <th>gender_Female</th>\n",
       "      <th>gender_Male</th>\n",
       "      <th>MultipleLines_No</th>\n",
       "      <th>MultipleLines_No phone service</th>\n",
       "      <th>...</th>\n",
       "      <th>TechSupport_No internet service</th>\n",
       "      <th>TechSupport_Yes</th>\n",
       "      <th>StreamingTV_No</th>\n",
       "      <th>StreamingTV_No internet service</th>\n",
       "      <th>StreamingTV_Yes</th>\n",
       "      <th>StreamingMovies_No</th>\n",
       "      <th>StreamingMovies_No internet service</th>\n",
       "      <th>StreamingMovies_Yes</th>\n",
       "      <th>tenure</th>\n",
       "      <th>MonthlyCharges</th>\n",
       "      <th>TotalCharges</th>\n",
       "    </tr>\n",
       "  </thead>\n",
       "  <tbody>\n",
       "    <tr>\n",
       "      <td>0</td>\n",
       "      <td>7590-VHVEG</td>\n",
       "      <td>0</td>\n",
       "      <td>1</td>\n",
       "      <td>0</td>\n",
       "      <td>0</td>\n",
       "      <td>1</td>\n",
       "      <td>0</td>\n",
       "      <td>1</td>\n",
       "      <td>0</td>\n",
       "      <td>0</td>\n",
       "      <td>1</td>\n",
       "      <td>...</td>\n",
       "      <td>0</td>\n",
       "      <td>0</td>\n",
       "      <td>1</td>\n",
       "      <td>0</td>\n",
       "      <td>0</td>\n",
       "      <td>1</td>\n",
       "      <td>0</td>\n",
       "      <td>0</td>\n",
       "      <td>-1.280248</td>\n",
       "      <td>-1.161694</td>\n",
       "      <td>-0.994194</td>\n",
       "    </tr>\n",
       "    <tr>\n",
       "      <td>1</td>\n",
       "      <td>5575-GNVDE</td>\n",
       "      <td>0</td>\n",
       "      <td>0</td>\n",
       "      <td>0</td>\n",
       "      <td>1</td>\n",
       "      <td>0</td>\n",
       "      <td>0</td>\n",
       "      <td>0</td>\n",
       "      <td>1</td>\n",
       "      <td>1</td>\n",
       "      <td>0</td>\n",
       "      <td>...</td>\n",
       "      <td>0</td>\n",
       "      <td>0</td>\n",
       "      <td>1</td>\n",
       "      <td>0</td>\n",
       "      <td>0</td>\n",
       "      <td>1</td>\n",
       "      <td>0</td>\n",
       "      <td>0</td>\n",
       "      <td>0.064303</td>\n",
       "      <td>-0.260878</td>\n",
       "      <td>-0.173740</td>\n",
       "    </tr>\n",
       "    <tr>\n",
       "      <td>2</td>\n",
       "      <td>3668-QPYBK</td>\n",
       "      <td>0</td>\n",
       "      <td>0</td>\n",
       "      <td>0</td>\n",
       "      <td>1</td>\n",
       "      <td>1</td>\n",
       "      <td>1</td>\n",
       "      <td>0</td>\n",
       "      <td>1</td>\n",
       "      <td>1</td>\n",
       "      <td>0</td>\n",
       "      <td>...</td>\n",
       "      <td>0</td>\n",
       "      <td>0</td>\n",
       "      <td>1</td>\n",
       "      <td>0</td>\n",
       "      <td>0</td>\n",
       "      <td>1</td>\n",
       "      <td>0</td>\n",
       "      <td>0</td>\n",
       "      <td>-1.239504</td>\n",
       "      <td>-0.363923</td>\n",
       "      <td>-0.959649</td>\n",
       "    </tr>\n",
       "    <tr>\n",
       "      <td>3</td>\n",
       "      <td>7795-CFOCW</td>\n",
       "      <td>0</td>\n",
       "      <td>0</td>\n",
       "      <td>0</td>\n",
       "      <td>0</td>\n",
       "      <td>0</td>\n",
       "      <td>0</td>\n",
       "      <td>0</td>\n",
       "      <td>1</td>\n",
       "      <td>0</td>\n",
       "      <td>1</td>\n",
       "      <td>...</td>\n",
       "      <td>0</td>\n",
       "      <td>1</td>\n",
       "      <td>1</td>\n",
       "      <td>0</td>\n",
       "      <td>0</td>\n",
       "      <td>1</td>\n",
       "      <td>0</td>\n",
       "      <td>0</td>\n",
       "      <td>0.512486</td>\n",
       "      <td>-0.747850</td>\n",
       "      <td>-0.195248</td>\n",
       "    </tr>\n",
       "    <tr>\n",
       "      <td>4</td>\n",
       "      <td>9237-HQITU</td>\n",
       "      <td>0</td>\n",
       "      <td>0</td>\n",
       "      <td>0</td>\n",
       "      <td>1</td>\n",
       "      <td>1</td>\n",
       "      <td>1</td>\n",
       "      <td>1</td>\n",
       "      <td>0</td>\n",
       "      <td>1</td>\n",
       "      <td>0</td>\n",
       "      <td>...</td>\n",
       "      <td>0</td>\n",
       "      <td>0</td>\n",
       "      <td>1</td>\n",
       "      <td>0</td>\n",
       "      <td>0</td>\n",
       "      <td>1</td>\n",
       "      <td>0</td>\n",
       "      <td>0</td>\n",
       "      <td>-1.239504</td>\n",
       "      <td>0.196178</td>\n",
       "      <td>-0.940457</td>\n",
       "    </tr>\n",
       "  </tbody>\n",
       "</table>\n",
       "<p>5 rows × 43 columns</p>\n",
       "</div>"
      ],
      "text/plain": [
       "   customerID  SeniorCitizen  Partner  Dependents  PhoneService  \\\n",
       "0  7590-VHVEG              0        1           0             0   \n",
       "1  5575-GNVDE              0        0           0             1   \n",
       "2  3668-QPYBK              0        0           0             1   \n",
       "3  7795-CFOCW              0        0           0             0   \n",
       "4  9237-HQITU              0        0           0             1   \n",
       "\n",
       "   PaperlessBilling  Churn  gender_Female  gender_Male  MultipleLines_No  \\\n",
       "0                 1      0              1            0                 0   \n",
       "1                 0      0              0            1                 1   \n",
       "2                 1      1              0            1                 1   \n",
       "3                 0      0              0            1                 0   \n",
       "4                 1      1              1            0                 1   \n",
       "\n",
       "   MultipleLines_No phone service  ...  TechSupport_No internet service  \\\n",
       "0                               1  ...                                0   \n",
       "1                               0  ...                                0   \n",
       "2                               0  ...                                0   \n",
       "3                               1  ...                                0   \n",
       "4                               0  ...                                0   \n",
       "\n",
       "   TechSupport_Yes  StreamingTV_No  StreamingTV_No internet service  \\\n",
       "0                0               1                                0   \n",
       "1                0               1                                0   \n",
       "2                0               1                                0   \n",
       "3                1               1                                0   \n",
       "4                0               1                                0   \n",
       "\n",
       "   StreamingTV_Yes  StreamingMovies_No  StreamingMovies_No internet service  \\\n",
       "0                0                   1                                    0   \n",
       "1                0                   1                                    0   \n",
       "2                0                   1                                    0   \n",
       "3                0                   1                                    0   \n",
       "4                0                   1                                    0   \n",
       "\n",
       "   StreamingMovies_Yes    tenure  MonthlyCharges  TotalCharges  \n",
       "0                    0 -1.280248       -1.161694     -0.994194  \n",
       "1                    0  0.064303       -0.260878     -0.173740  \n",
       "2                    0 -1.239504       -0.363923     -0.959649  \n",
       "3                    0  0.512486       -0.747850     -0.195248  \n",
       "4                    0 -1.239504        0.196178     -0.940457  \n",
       "\n",
       "[5 rows x 43 columns]"
      ]
     },
     "execution_count": 4,
     "metadata": {},
     "output_type": "execute_result"
    }
   ],
   "source": [
    "pd.set_option(\"display.max_columns\", 22)\n",
    "telcom = pd.read_csv('telcom_clean1.csv')\n",
    "telcom.head()"
   ]
  },
  {
   "cell_type": "code",
   "execution_count": 5,
   "metadata": {},
   "outputs": [
    {
     "name": "stdout",
     "output_type": "stream",
     "text": [
      "<class 'pandas.core.frame.DataFrame'>\n",
      "RangeIndex: 7032 entries, 0 to 7031\n",
      "Data columns (total 43 columns):\n",
      "customerID                                 7032 non-null object\n",
      "SeniorCitizen                              7032 non-null int64\n",
      "Partner                                    7032 non-null int64\n",
      "Dependents                                 7032 non-null int64\n",
      "PhoneService                               7032 non-null int64\n",
      "PaperlessBilling                           7032 non-null int64\n",
      "Churn                                      7032 non-null int64\n",
      "gender_Female                              7032 non-null int64\n",
      "gender_Male                                7032 non-null int64\n",
      "MultipleLines_No                           7032 non-null int64\n",
      "MultipleLines_No phone service             7032 non-null int64\n",
      "MultipleLines_Yes                          7032 non-null int64\n",
      "InternetService_DSL                        7032 non-null int64\n",
      "InternetService_Fiber optic                7032 non-null int64\n",
      "InternetService_No                         7032 non-null int64\n",
      "Contract_Month-to-month                    7032 non-null int64\n",
      "Contract_One year                          7032 non-null int64\n",
      "Contract_Two year                          7032 non-null int64\n",
      "PaymentMethod_Bank transfer (automatic)    7032 non-null int64\n",
      "PaymentMethod_Credit card (automatic)      7032 non-null int64\n",
      "PaymentMethod_Electronic check             7032 non-null int64\n",
      "PaymentMethod_Mailed check                 7032 non-null int64\n",
      "OnlineSecurity_No                          7032 non-null int64\n",
      "OnlineSecurity_No internet service         7032 non-null int64\n",
      "OnlineSecurity_Yes                         7032 non-null int64\n",
      "OnlineBackup_No                            7032 non-null int64\n",
      "OnlineBackup_No internet service           7032 non-null int64\n",
      "OnlineBackup_Yes                           7032 non-null int64\n",
      "DeviceProtection_No                        7032 non-null int64\n",
      "DeviceProtection_No internet service       7032 non-null int64\n",
      "DeviceProtection_Yes                       7032 non-null int64\n",
      "TechSupport_No                             7032 non-null int64\n",
      "TechSupport_No internet service            7032 non-null int64\n",
      "TechSupport_Yes                            7032 non-null int64\n",
      "StreamingTV_No                             7032 non-null int64\n",
      "StreamingTV_No internet service            7032 non-null int64\n",
      "StreamingTV_Yes                            7032 non-null int64\n",
      "StreamingMovies_No                         7032 non-null int64\n",
      "StreamingMovies_No internet service        7032 non-null int64\n",
      "StreamingMovies_Yes                        7032 non-null int64\n",
      "tenure                                     7032 non-null float64\n",
      "MonthlyCharges                             7032 non-null float64\n",
      "TotalCharges                               7032 non-null float64\n",
      "dtypes: float64(3), int64(39), object(1)\n",
      "memory usage: 2.3+ MB\n"
     ]
    }
   ],
   "source": [
    "telcom.info()"
   ]
  },
  {
   "cell_type": "markdown",
   "metadata": {},
   "source": [
    "# 1. Model 1 (Imbalance Dataset)"
   ]
  },
  {
   "cell_type": "markdown",
   "metadata": {},
   "source": [
    "- Pada Model ini saya akan menggunakan semua feature sebagai variable prediktor\n",
    "- Untuk melakukan prediksi, saya akan menggunakan model klasifikasi Logistic Regression, Random Forest, dan K-Nearest Neighbors.\n",
    "\n",
    "### Spliting Data"
   ]
  },
  {
   "cell_type": "markdown",
   "metadata": {},
   "source": [
    "Spliting dataset dengan proporsi data train : 75% dan data test : 25%"
   ]
  },
  {
   "cell_type": "code",
   "execution_count": 6,
   "metadata": {
    "scrolled": false
   },
   "outputs": [
    {
     "data": {
      "text/plain": [
       "Index(['SeniorCitizen', 'Partner', 'Dependents', 'PhoneService',\n",
       "       'PaperlessBilling', 'gender_Female', 'gender_Male', 'MultipleLines_No',\n",
       "       'MultipleLines_No phone service', 'MultipleLines_Yes',\n",
       "       'InternetService_DSL', 'InternetService_Fiber optic',\n",
       "       'InternetService_No', 'Contract_Month-to-month', 'Contract_One year',\n",
       "       'Contract_Two year', 'PaymentMethod_Bank transfer (automatic)',\n",
       "       'PaymentMethod_Credit card (automatic)',\n",
       "       'PaymentMethod_Electronic check', 'PaymentMethod_Mailed check',\n",
       "       'OnlineSecurity_No', 'OnlineSecurity_No internet service',\n",
       "       'OnlineSecurity_Yes', 'OnlineBackup_No',\n",
       "       'OnlineBackup_No internet service', 'OnlineBackup_Yes',\n",
       "       'DeviceProtection_No', 'DeviceProtection_No internet service',\n",
       "       'DeviceProtection_Yes', 'TechSupport_No',\n",
       "       'TechSupport_No internet service', 'TechSupport_Yes', 'StreamingTV_No',\n",
       "       'StreamingTV_No internet service', 'StreamingTV_Yes',\n",
       "       'StreamingMovies_No', 'StreamingMovies_No internet service',\n",
       "       'StreamingMovies_Yes', 'tenure', 'MonthlyCharges', 'TotalCharges'],\n",
       "      dtype='object')"
      ]
     },
     "execution_count": 6,
     "metadata": {},
     "output_type": "execute_result"
    }
   ],
   "source": [
    "## train test split\n",
    "pd.set_option(\"display.max_columns\", 33)\n",
    "#splitting train and test data \n",
    "feature    = telcom.drop(columns=['customerID','Churn'])\n",
    "target = telcom['Churn']\n",
    "train_X,test_X,train_Y,test_Y = train_test_split(feature,target,test_size = .25,random_state=123)\n",
    "feature.columns"
   ]
  },
  {
   "cell_type": "markdown",
   "metadata": {},
   "source": [
    "### Deklarasi Model\n",
    "\n",
    "Deklarasi model menggunakan parameter default"
   ]
  },
  {
   "cell_type": "code",
   "execution_count": 7,
   "metadata": {},
   "outputs": [
    {
     "data": {
      "text/plain": [
       "KNeighborsClassifier(algorithm='auto', leaf_size=30, metric='minkowski',\n",
       "                     metric_params=None, n_jobs=None, n_neighbors=5, p=2,\n",
       "                     weights='uniform')"
      ]
     },
     "execution_count": 7,
     "metadata": {},
     "output_type": "execute_result"
    }
   ],
   "source": [
    "### Logistic Regression\n",
    "lr = LogisticRegression()\n",
    "lr.fit(train_X,train_Y)\n",
    "\n",
    "### Random Forest\n",
    "rf = RandomForestClassifier()\n",
    "rf.fit(train_X,train_Y)\n",
    "\n",
    "### KNN\n",
    "knn = KNeighborsClassifier()\n",
    "knn.fit(train_X,train_Y)"
   ]
  },
  {
   "cell_type": "markdown",
   "metadata": {},
   "source": [
    "### Evaluation"
   ]
  },
  {
   "cell_type": "markdown",
   "metadata": {},
   "source": [
    "__1. Confusion Matrix__\n",
    "\n",
    "Pada tahap ini saya akan melihat hasil klasifikasi dalam bentuk Confusion matrix, Confusion matrix adalah tabel yang terdiri dari data aktual dan data prediksi, tabel ini digunakan dengan tujuan untuk\n",
    "mengukur kinerja suatu model klasifikasi. Berikut ini merupakan tabel klasifikasi churning customer\n",
    "\n",
    "-|pred \"No Churn\"|pred \"Churn\"\n",
    "---|---|---\n",
    "__aktual \"No Churn\"__|__TN__|__FP__\n",
    "__aktual \"Churn\"__|__FN__|__TP__"
   ]
  },
  {
   "cell_type": "markdown",
   "metadata": {},
   "source": [
    "- True Negative (TN) adalah jumlah pelanggan dengan nilai aktual non churn, dan diprediksi non churn.\n",
    "- False Positive (FP) adalah jumlah pelanggan dengan nilai aktual non churn, tapi diprediksi churn.\n",
    "- True Positive (TP) adalah jumlah pelanggan dengan nilai aktual churn, dan diprediksi churn.\n",
    "- False Negative (FN) adalah jumlah pelanggan dengan nilai aktual churn, tapi diprediksi non churn.\n",
    "\n",
    "__Noted__ : Pada model ini, No Churn dilabeli dengan angka 0, sedangkan Churn dilabeli dengan angka 1"
   ]
  },
  {
   "cell_type": "code",
   "execution_count": 8,
   "metadata": {
    "scrolled": false
   },
   "outputs": [
    {
     "data": {
      "text/plain": [
       "<sklearn.metrics._plot.confusion_matrix.ConfusionMatrixDisplay at 0x1673afc5548>"
      ]
     },
     "execution_count": 8,
     "metadata": {},
     "output_type": "execute_result"
    },
    {
     "data": {
      "image/png": "[encoded data removed]",
      "text/plain": [
       "<Figure size 432x288 with 2 Axes>"
      ]
     },
     "metadata": {
      "needs_background": "light"
     },
     "output_type": "display_data"
    },
    {
     "data": {
      "image/png": "[encoded data removed]",
      "text/plain": [
       "<Figure size 432x288 with 2 Axes>"
      ]
     },
     "metadata": {
      "needs_background": "light"
     },
     "output_type": "display_data"
    },
    {
     "data": {
      "image/png": "[encoded data removed]",
      "text/plain": [
       "<Figure size 432x288 with 2 Axes>"
      ]
     },
     "metadata": {
      "needs_background": "light"
     },
     "output_type": "display_data"
    }
   ],
   "source": [
    "plot_confusion_matrix(lr,test_X,test_Y,values_format='0.0f')\n",
    "plot_confusion_matrix(rf,test_X,test_Y,values_format='0.0f')\n",
    "plot_confusion_matrix(knn,test_X,test_Y,values_format='0.0f')"
   ]
  },
  {
   "cell_type": "markdown",
   "metadata": {},
   "source": [
    "__2. Evaluation Matrix__\n",
    "\n",
    "Untuk melakukan evaluasi bisa dilakukan dengan menghitung Precision, Recall, F1 Score, dan Accuracy\n",
    "\n",
    "- _Precision_ dihitung untuk mengevaluasi seberapa baik ketepatan model dapat memprediksi suatu kelas.\n",
    "Precision didapatkan dengan menghitung perbandingan antara jumlah data untuk satu kelas tertentu\n",
    "yang diprediksi dengan benar dibagi jumlah total prediksi kelas tersebut.\n",
    "$$\\displaystyle Precision(1) = \\frac {TP}{TP + FP}$$\n",
    "$$\\displaystyle Precision(0) = \\frac {TN}{TN + FN}$$\n",
    "\n",
    "- _Recall_ dihitung untuk mengevaluasi seberapa besar coverage suatu model dalam memprediksi suatu\n",
    "kelas tertentu. Recall didapatkan dengan menghitung perbandingan antara jumlah data untuk satu kelas\n",
    "tertentu yang diprediksi dengan benar dibagi jumlah total nilai aktual kelas tersebut. Recall positif disebut Sensitivity, untuk Recall Negatif disebut Specify.\n",
    "    - _Sensitivity_ merupakan frekuensi relatif dari memprediksi suatu kejadian yang terjadi ketika kejadian tersebut memang terjadi\n",
    "    - _Specify_ merupakan frekuensi relatif dari memprediksi suatu kejadian yang tidak terjadi ketika kejadian tersebut memang tidak terjadi\n",
    "$$\\displaystyle Recall(1)/Sensitivity = \\frac {TP}{TP + FN}$$\n",
    "$$\\displaystyle Recall(0)/Specify = \\frac {TN}{TN + FP}$$\n",
    "\n",
    "- _F1 Score_ adalah perhitungan kombinasi antara _recall_ dan _precision_ , bisa dikatakan harmonic / rata-rata tertimbang antara _recall_ dan _precision_\n",
    "$$\\displaystyle F1 Score(1) = 2 \\cdot \\frac {Recall(1) \\cdot Precision(1)}{Recall(1) + Precision(1)}$$\n",
    "\n",
    "$$\\displaystyle F1 Score(0) = 2 \\cdot \\frac {Recall(0) \\cdot Precision(0)}{Recall(0) + Precision(0)}$$\n",
    "\n",
    "- _Accuracy_ merupakan ukuran seberapa akurat model memprediksi data, dihitung berdasarkan total prediksi benar dibagi total semua prediksi\n",
    "$$\\displaystyle Accuracy = \\frac {TP + TN}{TP + TN + FP + FN}$$"
   ]
  },
  {
   "cell_type": "code",
   "execution_count": 9,
   "metadata": {},
   "outputs": [
    {
     "name": "stdout",
     "output_type": "stream",
     "text": [
      "Logistic Regressin\n",
      "               precision    recall  f1-score   support\n",
      "\n",
      "           0       0.82      0.92      0.87      1234\n",
      "           1       0.74      0.54      0.62       524\n",
      "\n",
      "    accuracy                           0.81      1758\n",
      "   macro avg       0.78      0.73      0.75      1758\n",
      "weighted avg       0.80      0.81      0.80      1758\n",
      "\n",
      "\n",
      "\n",
      "Random Forest\n",
      "               precision    recall  f1-score   support\n",
      "\n",
      "           0       0.80      0.91      0.85      1234\n",
      "           1       0.68      0.45      0.54       524\n",
      "\n",
      "    accuracy                           0.77      1758\n",
      "   macro avg       0.74      0.68      0.70      1758\n",
      "weighted avg       0.76      0.77      0.76      1758\n",
      "\n",
      "\n",
      "\n",
      "KNN\n",
      "               precision    recall  f1-score   support\n",
      "\n",
      "           0       0.80      0.86      0.83      1234\n",
      "           1       0.60      0.50      0.55       524\n",
      "\n",
      "    accuracy                           0.75      1758\n",
      "   macro avg       0.70      0.68      0.69      1758\n",
      "weighted avg       0.74      0.75      0.74      1758\n",
      "\n"
     ]
    }
   ],
   "source": [
    "print('Logistic Regressin\\n',classification_report(test_Y,lr.predict(test_X)))\n",
    "print('\\n\\nRandom Forest\\n',classification_report(test_Y,rf.predict(test_X)))\n",
    "print('\\n\\nKNN\\n',classification_report(test_Y,knn.predict(test_X)))"
   ]
  },
  {
   "cell_type": "markdown",
   "metadata": {},
   "source": [
    "__3. ROC and AUC__\n",
    "\n",
    "- __ROC (Receiver Operating Characteristics)__ kurva tentang true positive rate (TPR) vs false positive rate (FPR) sebagai fungsi threshold dari sebuah model untuk mengklasifikasikan kelas positif. \n",
    "\n",
    "$$\\displaystyle TPR = \\frac {TP}{TP+FN}$$\n",
    "\n",
    "$$\\displaystyle FPR = \\frac {FP}{TN+FP}$$\n",
    "\n",
    "- __AUC (Area Under the Curve)__ Matric untuk mengkalkulasi perfoma secara keseluruhan dari model klasifikasi berdasarkan area di bawah kurva ROC, luas maksimal AUC adalah 1, semakin tinggi AUC artinya model semakin baik"
   ]
  },
  {
   "cell_type": "code",
   "execution_count": 10,
   "metadata": {},
   "outputs": [
    {
     "data": {
      "text/plain": [
       "<sklearn.metrics._plot.roc_curve.RocCurveDisplay at 0x1673b118448>"
      ]
     },
     "execution_count": 10,
     "metadata": {},
     "output_type": "execute_result"
    },
    {
     "data": {
      "image/png": "[encoded data removed]",
      "text/plain": [
       "<Figure size 432x288 with 1 Axes>"
      ]
     },
     "metadata": {
      "needs_background": "light"
     },
     "output_type": "display_data"
    }
   ],
   "source": [
    "display = plot_roc_curve(lr,test_X,test_Y)\n",
    "plot_roc_curve(rf,test_X,test_Y,ax=display.ax_)\n",
    "plot_roc_curve(knn,test_X,test_Y,ax=display.ax_)"
   ]
  },
  {
   "cell_type": "markdown",
   "metadata": {},
   "source": [
    "__Noted__ : Dalam evaluasi model ini saya menggunakan data test imbalance, karena model ini dibangun untuk memeprediksi kemungkinan customer untuk churning (class label : 1), selain menggunakan __AUC__ , saya menggunakan __F1 Score__ untuk class label : 1  dan __Recall(1) / Sensitivity__ sebagai acuan utama mengukur peforma model.\n",
    "\n",
    "Dari data report di atas, __Logistic Regression__ merupakan model terbaik dengan Sensitivity, F1 Score, dan AUC tertingi"
   ]
  },
  {
   "cell_type": "markdown",
   "metadata": {},
   "source": [
    "### Hyperparameter Tuning "
   ]
  },
  {
   "cell_type": "markdown",
   "metadata": {},
   "source": [
    "Hyperparameter Tuning bertujuan untuk menentukan parameter terbaik dari setiap model sehingga peforma model bisa ditingkatkan, saya akan menggunakan ```GridSearchCV``` untuk melakukan parameter tuning. GridSearchCV memungkinkan untuk mengkombinasikan setiap parameter yang telah kita deklarasikan.\n",
    "\n",
    "Pada proses hyper parameter ini saya mengunakan ```CrossValidation``` dengan 5 fold/lipatan. Karena menggunakan class imbalance, pada hyperparameter saya menggunakan scoring __F1__"
   ]
  },
  {
   "cell_type": "markdown",
   "metadata": {},
   "source": [
    "__Parameter Tuning Logistic Regression__"
   ]
  },
  {
   "cell_type": "code",
   "execution_count": 11,
   "metadata": {},
   "outputs": [],
   "source": [
    "def tuning(model,parameter,n_cv):\n",
    "    random = GridSearchCV(model, parameter, cv = n_cv,scoring='f1')\n",
    "    random.fit(train_X,train_Y)\n",
    "    best_param = random.best_params_\n",
    "    \n",
    "    return best_param"
   ]
  },
  {
   "cell_type": "code",
   "execution_count": 12,
   "metadata": {
    "scrolled": true
   },
   "outputs": [],
   "source": [
    "# lr_tune = LogisticRegression()\n",
    "# weights = np.linspace(0.05, 0.95, 20)\n",
    "# param_lr = {\n",
    "#     'solver':['newton-cg','lbfgs','liblinear','sag','saga'], ##algoritma Logistic regression\n",
    "#     'penalty':['none','l1','l2','elasticnet'], # regularisasi\n",
    "#     'class_weight': [{0: x, 1: 1.0-x} for x in weights]  # bobot masing2 class      \n",
    "# }\n",
    "\n",
    "# param_best = tuning(lr_tune,param_lr,5)\n",
    "# param_best\n",
    "\n",
    "# {'class_weight': {0: 0.33421052631578946, 1: 0.6657894736842105},\n",
    "#  'penalty': 'l1',\n",
    "#  'solver': 'saga'}"
   ]
  },
  {
   "cell_type": "code",
   "execution_count": 13,
   "metadata": {
    "scrolled": false
   },
   "outputs": [
    {
     "data": {
      "text/plain": [
       "LogisticRegression(C=1.0,\n",
       "                   class_weight={0: 0.33421052631578946, 1: 0.6657894736842105},\n",
       "                   dual=False, fit_intercept=True, intercept_scaling=1,\n",
       "                   l1_ratio=None, max_iter=100, multi_class='auto', n_jobs=None,\n",
       "                   penalty='l1', random_state=None, solver='saga', tol=0.0001,\n",
       "                   verbose=0, warm_start=False)"
      ]
     },
     "execution_count": 13,
     "metadata": {},
     "output_type": "execute_result"
    }
   ],
   "source": [
    "lr_tune = LogisticRegression(penalty='l1',solver='saga',class_weight= {0: 0.33421052631578946, 1: 0.6657894736842105})\n",
    "lr_tune.fit(train_X,train_Y)"
   ]
  },
  {
   "cell_type": "markdown",
   "metadata": {},
   "source": [
    "__Parameter Tuning Random Forest__"
   ]
  },
  {
   "cell_type": "code",
   "execution_count": 14,
   "metadata": {},
   "outputs": [],
   "source": [
    "# rf_tune = RandomForestClassifier()\n",
    "# weights = np.linspace(0.05, 0.95, 20)\n",
    "# param_rf= {\n",
    "#     'n_estimators': [10,50,100], ## jumlah tree\n",
    "#     'criterion':['gini','entropy'], ## algoritma tree\n",
    "#     'bootstrap':[False,True], ## baging or bootstraping\n",
    "#     'class_weight': [{0: x, 1: 1.0-x} for x in weights] \n",
    "# }\n",
    "\n",
    "# param_best = tuning(rf_tune,param_rf,5)\n",
    "# param_best"
   ]
  },
  {
   "cell_type": "code",
   "execution_count": 15,
   "metadata": {
    "scrolled": true
   },
   "outputs": [
    {
     "data": {
      "text/plain": [
       "RandomForestClassifier(bootstrap=True, ccp_alpha=0.0, class_weight=None,\n",
       "                       criterion='entropy', max_depth=None, max_features='auto',\n",
       "                       max_leaf_nodes=None, max_samples=None,\n",
       "                       min_impurity_decrease=0.0, min_impurity_split=None,\n",
       "                       min_samples_leaf=1, min_samples_split=2,\n",
       "                       min_weight_fraction_leaf=0.0, n_estimators=100,\n",
       "                       n_jobs=None, oob_score=False, random_state=None,\n",
       "                       verbose=0, warm_start=False)"
      ]
     },
     "execution_count": 15,
     "metadata": {},
     "output_type": "execute_result"
    }
   ],
   "source": [
    "rf_tune = RandomForestClassifier(n_estimators = 100,criterion='entropy',bootstrap=True)\n",
    "rf_tune.fit(train_X,train_Y)"
   ]
  },
  {
   "cell_type": "markdown",
   "metadata": {},
   "source": [
    "__Parameter Tuning KNN__"
   ]
  },
  {
   "cell_type": "code",
   "execution_count": 16,
   "metadata": {},
   "outputs": [],
   "source": [
    "# knn_tune = KNeighborsClassifier()\n",
    "\n",
    "# param_knn = {\n",
    "#         'n_neighbors' : list(range(50,100)), ## jumlah n neighbors\n",
    "#         'weights':['uniform','distance'], ## one man one vote , lebih dekat lebih berbobot\n",
    "#         'algorithm':['auto', 'ball_tree', 'kd_tree', 'brute'], # struktur data\n",
    "# }\n",
    "\n",
    "# param_best = tuning(knn_tune,param_knn,5)\n",
    "# param_best\n",
    "\n",
    "# {'algorithm':'auto','n_neighbors':64,'weights' : 'uniform'}"
   ]
  },
  {
   "cell_type": "code",
   "execution_count": 17,
   "metadata": {},
   "outputs": [
    {
     "data": {
      "text/plain": [
       "KNeighborsClassifier(algorithm='auto', leaf_size=30, metric='minkowski',\n",
       "                     metric_params=None, n_jobs=None, n_neighbors=64, p=2,\n",
       "                     weights='uniform')"
      ]
     },
     "execution_count": 17,
     "metadata": {},
     "output_type": "execute_result"
    }
   ],
   "source": [
    "knn_tune = KNeighborsClassifier(algorithm='auto',n_neighbors=64,weights='uniform')\n",
    "knn_tune.fit(train_X,train_Y)"
   ]
  },
  {
   "cell_type": "markdown",
   "metadata": {},
   "source": [
    "### Final Evaluation"
   ]
  },
  {
   "cell_type": "code",
   "execution_count": 18,
   "metadata": {
    "scrolled": false
   },
   "outputs": [
    {
     "name": "stdout",
     "output_type": "stream",
     "text": [
      "Logistic Regression Default\n",
      "               precision    recall  f1-score   support\n",
      "\n",
      "           0       0.82      0.92      0.87      1234\n",
      "           1       0.74      0.54      0.62       524\n",
      "\n",
      "    accuracy                           0.81      1758\n",
      "   macro avg       0.78      0.73      0.75      1758\n",
      "weighted avg       0.80      0.81      0.80      1758\n",
      "\n",
      "\n",
      "\n",
      "Logistic Regression Tuning\n",
      "               precision    recall  f1-score   support\n",
      "\n",
      "           0       0.87      0.81      0.84      1234\n",
      "           1       0.62      0.71      0.66       524\n",
      "\n",
      "    accuracy                           0.78      1758\n",
      "   macro avg       0.74      0.76      0.75      1758\n",
      "weighted avg       0.79      0.78      0.79      1758\n",
      "\n",
      "========================================================================\n",
      "\n",
      "Random Forest Default\n",
      "               precision    recall  f1-score   support\n",
      "\n",
      "           0       0.80      0.91      0.85      1234\n",
      "           1       0.68      0.45      0.54       524\n",
      "\n",
      "    accuracy                           0.77      1758\n",
      "   macro avg       0.74      0.68      0.70      1758\n",
      "weighted avg       0.76      0.77      0.76      1758\n",
      "\n",
      "\n",
      "Random Forest Tuning\n",
      "               precision    recall  f1-score   support\n",
      "\n",
      "           0       0.80      0.91      0.85      1234\n",
      "           1       0.69      0.46      0.55       524\n",
      "\n",
      "    accuracy                           0.78      1758\n",
      "   macro avg       0.74      0.68      0.70      1758\n",
      "weighted avg       0.76      0.78      0.76      1758\n",
      "\n",
      "========================================================================\n",
      "\n",
      "KNN Default\n",
      "               precision    recall  f1-score   support\n",
      "\n",
      "           0       0.80      0.86      0.83      1234\n",
      "           1       0.60      0.50      0.55       524\n",
      "\n",
      "    accuracy                           0.75      1758\n",
      "   macro avg       0.70      0.68      0.69      1758\n",
      "weighted avg       0.74      0.75      0.74      1758\n",
      "\n",
      "\n",
      "KNN Tuning\n",
      "               precision    recall  f1-score   support\n",
      "\n",
      "           0       0.82      0.89      0.86      1234\n",
      "           1       0.68      0.54      0.61       524\n",
      "\n",
      "    accuracy                           0.79      1758\n",
      "   macro avg       0.75      0.72      0.73      1758\n",
      "weighted avg       0.78      0.79      0.78      1758\n",
      "\n"
     ]
    },
    {
     "data": {
      "image/png": "[encoded data removed]",
      "text/plain": [
       "<Figure size 432x288 with 1 Axes>"
      ]
     },
     "metadata": {
      "needs_background": "light"
     },
     "output_type": "display_data"
    },
    {
     "data": {
      "image/png": "[encoded data removed]",
      "text/plain": [
       "<Figure size 432x288 with 1 Axes>"
      ]
     },
     "metadata": {
      "needs_background": "light"
     },
     "output_type": "display_data"
    }
   ],
   "source": [
    "def eva_matrix(lr,lr_tune,rf,rf_tune,knn,knn_tune,test_X,test_Y):\n",
    "    ## Report\n",
    "    print('Logistic Regression Default\\n',classification_report(test_Y,lr.predict(test_X)))\n",
    "    print('\\n\\nLogistic Regression Tuning\\n',classification_report(test_Y,lr_tune.predict(test_X)))\n",
    "    print('========================================================================')\n",
    "    print('\\nRandom Forest Default\\n',classification_report(test_Y,rf.predict(test_X)))\n",
    "    print('\\nRandom Forest Tuning\\n',classification_report(test_Y,rf_tune.predict(test_X)))\n",
    "    print('========================================================================')\n",
    "    print('\\nKNN Default\\n',classification_report(test_Y,knn.predict(test_X)))\n",
    "    print('\\nKNN Tuning\\n',classification_report(test_Y,knn_tune.predict(test_X)))\n",
    "\n",
    "    ## ROC_AUC\n",
    "    display = plot_roc_curve(lr,test_X,test_Y)\n",
    "    plot_roc_curve(rf,test_X,test_Y,ax=display.ax_)\n",
    "    plot_roc_curve(knn,test_X,test_Y,ax=display.ax_)\n",
    "    plt.title('ROC Curve Without Tuning')\n",
    "\n",
    "    disp = plot_roc_curve(lr_tune,test_X,test_Y)\n",
    "    plot_roc_curve(rf_tune,test_X,test_Y,ax=disp.ax_)\n",
    "    plot_roc_curve(knn_tune,test_X,test_Y,ax=disp.ax_)\n",
    "    plt.title('ROC Curve After Tuning')\n",
    "\n",
    "eva_matrix(lr,lr_tune,rf,rf_tune,knn,knn_tune,test_X,test_Y)"
   ]
  },
  {
   "cell_type": "code",
   "execution_count": 19,
   "metadata": {},
   "outputs": [
    {
     "data": {
      "text/html": [
       "<div>\n",
       "<style scoped>\n",
       "    .dataframe tbody tr th:only-of-type {\n",
       "        vertical-align: middle;\n",
       "    }\n",
       "\n",
       "    .dataframe tbody tr th {\n",
       "        vertical-align: top;\n",
       "    }\n",
       "\n",
       "    .dataframe thead th {\n",
       "        text-align: right;\n",
       "    }\n",
       "</style>\n",
       "<table border=\"1\" class=\"dataframe\">\n",
       "  <thead>\n",
       "    <tr style=\"text-align: right;\">\n",
       "      <th></th>\n",
       "      <th>Model</th>\n",
       "      <th>AUC</th>\n",
       "      <th>Accuracy</th>\n",
       "      <th>precision</th>\n",
       "      <th>recall</th>\n",
       "      <th>f1-score</th>\n",
       "    </tr>\n",
       "  </thead>\n",
       "  <tbody>\n",
       "    <tr>\n",
       "      <td>0</td>\n",
       "      <td>Logistic Regression</td>\n",
       "      <td>0.858847</td>\n",
       "      <td>0.807167</td>\n",
       "      <td>0.744063</td>\n",
       "      <td>0.538168</td>\n",
       "      <td>0.624585</td>\n",
       "    </tr>\n",
       "    <tr>\n",
       "      <td>1</td>\n",
       "      <td>Logistic Regression Tune</td>\n",
       "      <td>0.858654</td>\n",
       "      <td>0.782139</td>\n",
       "      <td>0.616529</td>\n",
       "      <td>0.711832</td>\n",
       "      <td>0.660762</td>\n",
       "    </tr>\n",
       "    <tr>\n",
       "      <td>2</td>\n",
       "      <td>Random Forest</td>\n",
       "      <td>0.823850</td>\n",
       "      <td>0.773038</td>\n",
       "      <td>0.680115</td>\n",
       "      <td>0.450382</td>\n",
       "      <td>0.541906</td>\n",
       "    </tr>\n",
       "    <tr>\n",
       "      <td>3</td>\n",
       "      <td>Random Forest Tune</td>\n",
       "      <td>0.820910</td>\n",
       "      <td>0.775882</td>\n",
       "      <td>0.686782</td>\n",
       "      <td>0.456107</td>\n",
       "      <td>0.548165</td>\n",
       "    </tr>\n",
       "    <tr>\n",
       "      <td>4</td>\n",
       "      <td>KNN</td>\n",
       "      <td>0.771484</td>\n",
       "      <td>0.750284</td>\n",
       "      <td>0.596372</td>\n",
       "      <td>0.501908</td>\n",
       "      <td>0.545078</td>\n",
       "    </tr>\n",
       "    <tr>\n",
       "      <td>5</td>\n",
       "      <td>KNN Tune</td>\n",
       "      <td>0.842080</td>\n",
       "      <td>0.788965</td>\n",
       "      <td>0.683453</td>\n",
       "      <td>0.543893</td>\n",
       "      <td>0.605739</td>\n",
       "    </tr>\n",
       "  </tbody>\n",
       "</table>\n",
       "</div>"
      ],
      "text/plain": [
       "                      Model       AUC  Accuracy  precision    recall  f1-score\n",
       "0       Logistic Regression  0.858847  0.807167   0.744063  0.538168  0.624585\n",
       "1  Logistic Regression Tune  0.858654  0.782139   0.616529  0.711832  0.660762\n",
       "2             Random Forest  0.823850  0.773038   0.680115  0.450382  0.541906\n",
       "3        Random Forest Tune  0.820910  0.775882   0.686782  0.456107  0.548165\n",
       "4                       KNN  0.771484  0.750284   0.596372  0.501908  0.545078\n",
       "5                  KNN Tune  0.842080  0.788965   0.683453  0.543893  0.605739"
      ]
     },
     "execution_count": 19,
     "metadata": {},
     "output_type": "execute_result"
    }
   ],
   "source": [
    "def df_report(lr,lr_tune,rf,rf_tune,knn,knn_tune,test_X,test_Y):\n",
    "    ## ROC-AUC\n",
    "    a = roc_auc_score(test_Y, lr.predict_proba(test_X)[:,1])\n",
    "    b = roc_auc_score(test_Y, lr_tune.predict_proba(test_X)[:,1])\n",
    "    c = roc_auc_score(test_Y, rf.predict_proba(test_X)[:,1])\n",
    "    d = roc_auc_score(test_Y, rf_tune.predict_proba(test_X)[:,1])\n",
    "    e = roc_auc_score(test_Y, knn.predict_proba(test_X)[:,1])\n",
    "    f = roc_auc_score(test_Y, knn_tune.predict_proba(test_X)[:,1])\n",
    "\n",
    "    ## Accuracy\n",
    "    g = classification_report(test_Y,lr.predict(test_X),output_dict=True)['accuracy']\n",
    "    h = classification_report(test_Y,lr_tune.predict(test_X),output_dict=True)['accuracy']\n",
    "    i = classification_report(test_Y,rf.predict(test_X),output_dict=True)['accuracy']\n",
    "    j = classification_report(test_Y,rf_tune.predict(test_X),output_dict=True)['accuracy']\n",
    "    k = classification_report(test_Y,knn.predict(test_X),output_dict=True)['accuracy']\n",
    "    l = classification_report(test_Y,knn_tune.predict(test_X),output_dict=True)['accuracy']\n",
    "\n",
    "    ## Precision,Recall,F1\n",
    "    m = classification_report(test_Y,lr.predict(test_X),output_dict=True)['1']\n",
    "    n = classification_report(test_Y,lr_tune.predict(test_X),output_dict=True)['1']\n",
    "    o = classification_report(test_Y,rf.predict(test_X),output_dict=True)['1']\n",
    "    p = classification_report(test_Y,rf_tune.predict(test_X),output_dict=True)['1']\n",
    "    q = classification_report(test_Y,knn.predict(test_X),output_dict=True)['1']\n",
    "    r = classification_report(test_Y,knn_tune.predict(test_X),output_dict=True)['1']\n",
    "\n",
    "    auc = pd.DataFrame({'Model':['Logistic Regression','Logistic Regression Tune','Random Forest','Random Forest Tune',\n",
    "                               'KNN','KNN Tune'],\n",
    "                          'AUC':[a,b,c,d,e,f],\n",
    "                          'Accuracy':[g,h,i,j,k,l]})\n",
    "    precision = pd.DataFrame([m,n,o,p,q,r])\n",
    "    precision.drop(columns='support',inplace=True)\n",
    "    df = pd.concat([auc,precision],axis=1)\n",
    "    return df\n",
    "\n",
    "report0 = df_report(lr,lr_tune,rf,rf_tune,knn,knn_tune,test_X,test_Y)\n",
    "report0"
   ]
  },
  {
   "cell_type": "code",
   "execution_count": 20,
   "metadata": {},
   "outputs": [
    {
     "data": {
      "image/png": "[encoded data removed]",
      "text/plain": [
       "<Figure size 576x360 with 1 Axes>"
      ]
     },
     "metadata": {
      "needs_background": "light"
     },
     "output_type": "display_data"
    }
   ],
   "source": [
    "def plot_report(report):\n",
    "    plt.figure(figsize=(8,5))\n",
    "    plt.plot(report['Model'], report['AUC'],'g-o',label='AUC')\n",
    "    plt.plot(report['Model'], report['Accuracy'],'k-o',label='Accuracy')\n",
    "    plt.plot(report['Model'], report['precision'],'r-o',label='precision')\n",
    "    plt.plot(report['Model'], report['recall'],'y-o',label='recall')\n",
    "    plt.plot(report['Model'], report['f1-score'],'b-o',label='f1-score')\n",
    "    plt.xticks(rotation=90);plt.title('Classification Report')\n",
    "    plt.grid(True)\n",
    "    plt.legend()\n",
    "    plt.show()\n",
    "    \n",
    "plot_report(report0)"
   ]
  },
  {
   "cell_type": "markdown",
   "metadata": {},
   "source": [
    "- Seteleh dilakukan hyperparameter tuning, semua model mengalami peningkatan peforma, __Logistic Regression Tune__ merupakan model terbaik dengan __F1 Score__ dan __AUC__ tertinggi"
   ]
  },
  {
   "cell_type": "markdown",
   "metadata": {},
   "source": [
    "## Exclude Feature Monthly Charges dan Total Charges"
   ]
  },
  {
   "cell_type": "markdown",
   "metadata": {},
   "source": [
    "Pada Model ini saya tidak akan menggunakan Monthly Charges dan Total Charges untuk memprediksi model. Kemudian saya akan membandingkan dengan model sebelumnya yang menggunakan feature MonthlyCharges dan Total Charges"
   ]
  },
  {
   "cell_type": "markdown",
   "metadata": {},
   "source": [
    "### Spliting Data"
   ]
  },
  {
   "cell_type": "code",
   "execution_count": 21,
   "metadata": {
    "scrolled": false
   },
   "outputs": [],
   "source": [
    "#splitting train and test data \n",
    "train_X1 = train_X.drop(columns=['MonthlyCharges','TotalCharges'])\n",
    "test_X1 = test_X.drop(columns=['MonthlyCharges','TotalCharges'])\n",
    "train_Y1 = train_Y.copy()\n",
    "test_Y1 = test_Y.copy()"
   ]
  },
  {
   "cell_type": "markdown",
   "metadata": {},
   "source": [
    "### Deklarasi Model\n",
    "\n",
    "Deklarasi model menggunakan parameter default"
   ]
  },
  {
   "cell_type": "code",
   "execution_count": 22,
   "metadata": {},
   "outputs": [
    {
     "data": {
      "text/plain": [
       "KNeighborsClassifier(algorithm='auto', leaf_size=30, metric='minkowski',\n",
       "                     metric_params=None, n_jobs=None, n_neighbors=5, p=2,\n",
       "                     weights='uniform')"
      ]
     },
     "execution_count": 22,
     "metadata": {},
     "output_type": "execute_result"
    }
   ],
   "source": [
    "### Logistic Regression\n",
    "lr1 = LogisticRegression()\n",
    "lr1.fit(train_X1,train_Y1)\n",
    "\n",
    "rf1 = RandomForestClassifier()\n",
    "rf1.fit(train_X1,train_Y1)\n",
    "\n",
    "knn1 = KNeighborsClassifier()\n",
    "knn1.fit(train_X1,train_Y1)"
   ]
  },
  {
   "cell_type": "markdown",
   "metadata": {},
   "source": [
    "### Hyper Parameter Tuning"
   ]
  },
  {
   "cell_type": "markdown",
   "metadata": {},
   "source": [
    "__Logistic Regression__"
   ]
  },
  {
   "cell_type": "code",
   "execution_count": 23,
   "metadata": {},
   "outputs": [],
   "source": [
    "def tuning(model,parameter,n_cv):\n",
    "    random = GridSearchCV(model, parameter, cv = n_cv,scoring='f1')\n",
    "    random.fit(train_X1,train_Y1)\n",
    "    best_param = random.best_params_\n",
    "    \n",
    "    return best_param"
   ]
  },
  {
   "cell_type": "code",
   "execution_count": 24,
   "metadata": {
    "scrolled": true
   },
   "outputs": [],
   "source": [
    "# lr1_tune = LogisticRegression()\n",
    "# weights = np.linspace(0.05, 0.95, 20)\n",
    "# param_lr = {\n",
    "#     'solver':['newton-cg','lbfgs','liblinear','sag','saga'], ##algoritma Logistic regression\n",
    "#     'penalty':['none','l1','l2','elasticnet','none'], # regularisasi\n",
    "#     'class_weight': [{0: x, 1: 1.0-x} for x in weights]        \n",
    "# }\n",
    "\n",
    "# param_best = tuning(lr1_tune,param_lr,5)\n",
    "# param_best\n",
    "\n",
    "# {'class_weight': {0: 0.33421052631578946, 1: 0.6657894736842105},\n",
    "#  'penalty': 'l1',\n",
    "#  'solver': 'saga'}"
   ]
  },
  {
   "cell_type": "code",
   "execution_count": 25,
   "metadata": {
    "scrolled": false
   },
   "outputs": [
    {
     "data": {
      "text/plain": [
       "LogisticRegression(C=1.0,\n",
       "                   class_weight={0: 0.33421052631578946, 1: 0.6657894736842105},\n",
       "                   dual=False, fit_intercept=True, intercept_scaling=1,\n",
       "                   l1_ratio=None, max_iter=100, multi_class='auto', n_jobs=None,\n",
       "                   penalty='l1', random_state=None, solver='saga', tol=0.0001,\n",
       "                   verbose=0, warm_start=False)"
      ]
     },
     "execution_count": 25,
     "metadata": {},
     "output_type": "execute_result"
    }
   ],
   "source": [
    "lr1_tune = LogisticRegression(solver='saga',penalty='l1',class_weight={0: 0.33421052631578946, 1: 0.6657894736842105})\n",
    "lr1_tune.fit(train_X1,train_Y1)"
   ]
  },
  {
   "cell_type": "markdown",
   "metadata": {},
   "source": [
    "__Random Forest__"
   ]
  },
  {
   "cell_type": "code",
   "execution_count": 26,
   "metadata": {},
   "outputs": [],
   "source": [
    "# rf1_tune = RandomForestClassifier()\n",
    "# weights = np.linspace(0.05, 0.95, 20)\n",
    "# param_rf= {\n",
    "#     'n_estimators': [10,50,100], ## jumlah tree\n",
    "#     'criterion':['gini','entropy'], ## algoritma tree\n",
    "#     'bootstrap':[False,True], ## baging or bootstraping\n",
    "#     'class_weight': [{0: x, 1: 1.0-x} for x in weights] \n",
    "# }\n",
    "\n",
    "# param_best = tuning(rf1_tune,param_rf,5)\n",
    "# param_best\n",
    "\n",
    "# {'bootstrap': False,\n",
    "#  'class_weight': {0: 0.09736842105263158, 1: 0.9026315789473685},\n",
    "#  'criterion': 'entropy',\n",
    "#  'n_estimators': 10}"
   ]
  },
  {
   "cell_type": "code",
   "execution_count": 27,
   "metadata": {
    "scrolled": true
   },
   "outputs": [
    {
     "data": {
      "text/plain": [
       "RandomForestClassifier(bootstrap=False, ccp_alpha=0.0,\n",
       "                       class_weight={0: 0.09736842105263158,\n",
       "                                     1: 0.9026315789473685},\n",
       "                       criterion='entropy', max_depth=None, max_features='auto',\n",
       "                       max_leaf_nodes=None, max_samples=None,\n",
       "                       min_impurity_decrease=0.0, min_impurity_split=None,\n",
       "                       min_samples_leaf=1, min_samples_split=2,\n",
       "                       min_weight_fraction_leaf=0.0, n_estimators=10,\n",
       "                       n_jobs=None, oob_score=False, random_state=None,\n",
       "                       verbose=0, warm_start=False)"
      ]
     },
     "execution_count": 27,
     "metadata": {},
     "output_type": "execute_result"
    }
   ],
   "source": [
    "rf1_tune = RandomForestClassifier(n_estimators = 10,criterion='entropy',bootstrap=False,\n",
    "                                 class_weight={0: 0.09736842105263158, 1: 0.9026315789473685})\n",
    "rf1_tune.fit(train_X1,train_Y1)"
   ]
  },
  {
   "cell_type": "markdown",
   "metadata": {},
   "source": [
    "__KNN__"
   ]
  },
  {
   "cell_type": "code",
   "execution_count": 28,
   "metadata": {},
   "outputs": [],
   "source": [
    "# knn1_tune = KNeighborsClassifier()\n",
    "# param_best = tuning(knn1_tune,param_knn,5)\n",
    "# param_best\n",
    "\n",
    "# {'algorithm': 'auto', 'n_neighbors': 79, 'weights': 'uniform'}"
   ]
  },
  {
   "cell_type": "code",
   "execution_count": 29,
   "metadata": {},
   "outputs": [
    {
     "data": {
      "text/plain": [
       "KNeighborsClassifier(algorithm='auto', leaf_size=30, metric='minkowski',\n",
       "                     metric_params=None, n_jobs=None, n_neighbors=50, p=2,\n",
       "                     weights='distance')"
      ]
     },
     "execution_count": 29,
     "metadata": {},
     "output_type": "execute_result"
    }
   ],
   "source": [
    "knn1_tune = KNeighborsClassifier(weights='distance',n_neighbors=50,algorithm='auto')\n",
    "knn1_tune.fit(train_X1,train_Y1)"
   ]
  },
  {
   "cell_type": "markdown",
   "metadata": {},
   "source": [
    "### Evaluation"
   ]
  },
  {
   "cell_type": "code",
   "execution_count": 30,
   "metadata": {
    "scrolled": false
   },
   "outputs": [
    {
     "name": "stdout",
     "output_type": "stream",
     "text": [
      "Logistic Regression Default\n",
      "               precision    recall  f1-score   support\n",
      "\n",
      "           0       0.83      0.92      0.87      1234\n",
      "           1       0.74      0.54      0.63       524\n",
      "\n",
      "    accuracy                           0.81      1758\n",
      "   macro avg       0.78      0.73      0.75      1758\n",
      "weighted avg       0.80      0.81      0.80      1758\n",
      "\n",
      "\n",
      "\n",
      "Logistic Regression Tuning\n",
      "               precision    recall  f1-score   support\n",
      "\n",
      "           0       0.86      0.82      0.84      1234\n",
      "           1       0.62      0.70      0.66       524\n",
      "\n",
      "    accuracy                           0.78      1758\n",
      "   macro avg       0.74      0.76      0.75      1758\n",
      "weighted avg       0.79      0.78      0.79      1758\n",
      "\n",
      "========================================================================\n",
      "\n",
      "Random Forest Default\n",
      "               precision    recall  f1-score   support\n",
      "\n",
      "           0       0.79      0.90      0.84      1234\n",
      "           1       0.65      0.44      0.52       524\n",
      "\n",
      "    accuracy                           0.76      1758\n",
      "   macro avg       0.72      0.67      0.68      1758\n",
      "weighted avg       0.75      0.76      0.75      1758\n",
      "\n",
      "\n",
      "Random Forest Tuning\n",
      "               precision    recall  f1-score   support\n",
      "\n",
      "           0       0.78      0.87      0.83      1234\n",
      "           1       0.59      0.44      0.50       524\n",
      "\n",
      "    accuracy                           0.74      1758\n",
      "   macro avg       0.69      0.65      0.66      1758\n",
      "weighted avg       0.73      0.74      0.73      1758\n",
      "\n",
      "========================================================================\n",
      "\n",
      "KNN Default\n",
      "               precision    recall  f1-score   support\n",
      "\n",
      "           0       0.79      0.86      0.82      1234\n",
      "           1       0.59      0.48      0.53       524\n",
      "\n",
      "    accuracy                           0.74      1758\n",
      "   macro avg       0.69      0.67      0.68      1758\n",
      "weighted avg       0.73      0.74      0.74      1758\n",
      "\n",
      "\n",
      "KNN Tuning\n",
      "               precision    recall  f1-score   support\n",
      "\n",
      "           0       0.81      0.88      0.84      1234\n",
      "           1       0.65      0.52      0.58       524\n",
      "\n",
      "    accuracy                           0.77      1758\n",
      "   macro avg       0.73      0.70      0.71      1758\n",
      "weighted avg       0.76      0.77      0.76      1758\n",
      "\n"
     ]
    },
    {
     "data": {
      "image/png": "[encoded data removed]",
      "text/plain": [
       "<Figure size 432x288 with 1 Axes>"
      ]
     },
     "metadata": {
      "needs_background": "light"
     },
     "output_type": "display_data"
    },
    {
     "data": {
      "image/png": "[encoded data removed]",
      "text/plain": [
       "<Figure size 432x288 with 1 Axes>"
      ]
     },
     "metadata": {
      "needs_background": "light"
     },
     "output_type": "display_data"
    }
   ],
   "source": [
    "eva_matrix(lr1,lr1_tune,rf1,rf1_tune,knn1,knn1_tune,test_X1,test_Y1)"
   ]
  },
  {
   "cell_type": "code",
   "execution_count": 31,
   "metadata": {},
   "outputs": [
    {
     "data": {
      "text/html": [
       "<div>\n",
       "<style scoped>\n",
       "    .dataframe tbody tr th:only-of-type {\n",
       "        vertical-align: middle;\n",
       "    }\n",
       "\n",
       "    .dataframe tbody tr th {\n",
       "        vertical-align: top;\n",
       "    }\n",
       "\n",
       "    .dataframe thead th {\n",
       "        text-align: right;\n",
       "    }\n",
       "</style>\n",
       "<table border=\"1\" class=\"dataframe\">\n",
       "  <thead>\n",
       "    <tr style=\"text-align: right;\">\n",
       "      <th></th>\n",
       "      <th>Model</th>\n",
       "      <th>AUC</th>\n",
       "      <th>Accuracy</th>\n",
       "      <th>precision</th>\n",
       "      <th>recall</th>\n",
       "      <th>f1-score</th>\n",
       "    </tr>\n",
       "  </thead>\n",
       "  <tbody>\n",
       "    <tr>\n",
       "      <td>0</td>\n",
       "      <td>Logistic Regression</td>\n",
       "      <td>0.856781</td>\n",
       "      <td>0.807736</td>\n",
       "      <td>0.742188</td>\n",
       "      <td>0.543893</td>\n",
       "      <td>0.627753</td>\n",
       "    </tr>\n",
       "    <tr>\n",
       "      <td>1</td>\n",
       "      <td>Logistic Regression Tune</td>\n",
       "      <td>0.857001</td>\n",
       "      <td>0.782708</td>\n",
       "      <td>0.620748</td>\n",
       "      <td>0.696565</td>\n",
       "      <td>0.656475</td>\n",
       "    </tr>\n",
       "    <tr>\n",
       "      <td>2</td>\n",
       "      <td>Random Forest</td>\n",
       "      <td>0.801777</td>\n",
       "      <td>0.761092</td>\n",
       "      <td>0.646067</td>\n",
       "      <td>0.438931</td>\n",
       "      <td>0.522727</td>\n",
       "    </tr>\n",
       "    <tr>\n",
       "      <td>3</td>\n",
       "      <td>Random Forest Tune</td>\n",
       "      <td>0.747269</td>\n",
       "      <td>0.742321</td>\n",
       "      <td>0.591731</td>\n",
       "      <td>0.437023</td>\n",
       "      <td>0.502744</td>\n",
       "    </tr>\n",
       "    <tr>\n",
       "      <td>4</td>\n",
       "      <td>KNN</td>\n",
       "      <td>0.762049</td>\n",
       "      <td>0.744596</td>\n",
       "      <td>0.587822</td>\n",
       "      <td>0.479008</td>\n",
       "      <td>0.527865</td>\n",
       "    </tr>\n",
       "    <tr>\n",
       "      <td>5</td>\n",
       "      <td>KNN Tune</td>\n",
       "      <td>0.802554</td>\n",
       "      <td>0.772469</td>\n",
       "      <td>0.647619</td>\n",
       "      <td>0.519084</td>\n",
       "      <td>0.576271</td>\n",
       "    </tr>\n",
       "  </tbody>\n",
       "</table>\n",
       "</div>"
      ],
      "text/plain": [
       "                      Model       AUC  Accuracy  precision    recall  f1-score\n",
       "0       Logistic Regression  0.856781  0.807736   0.742188  0.543893  0.627753\n",
       "1  Logistic Regression Tune  0.857001  0.782708   0.620748  0.696565  0.656475\n",
       "2             Random Forest  0.801777  0.761092   0.646067  0.438931  0.522727\n",
       "3        Random Forest Tune  0.747269  0.742321   0.591731  0.437023  0.502744\n",
       "4                       KNN  0.762049  0.744596   0.587822  0.479008  0.527865\n",
       "5                  KNN Tune  0.802554  0.772469   0.647619  0.519084  0.576271"
      ]
     },
     "execution_count": 31,
     "metadata": {},
     "output_type": "execute_result"
    }
   ],
   "source": [
    "report1 = df_report(lr1,lr1_tune,rf1,rf1_tune,knn1,knn1_tune,test_X1,test_Y1)\n",
    "report1"
   ]
  },
  {
   "cell_type": "code",
   "execution_count": 32,
   "metadata": {},
   "outputs": [
    {
     "data": {
      "image/png": "[encoded data removed]",
      "text/plain": [
       "<Figure size 576x360 with 1 Axes>"
      ]
     },
     "metadata": {
      "needs_background": "light"
     },
     "output_type": "display_data"
    }
   ],
   "source": [
    "plot_report(report1)"
   ]
  },
  {
   "cell_type": "markdown",
   "metadata": {},
   "source": [
    "- Berdasarkan grafik di atas, Hyper parameter tuning mampu menaikan __Recall__ dan __F1 Score__ , ini sesuai dengan yang diharapkan karena kita ingin menurunkan False Negatif. Sehingga lebih baik untuk mengklasifikasi label 1 (Churn)\n",
    "- Model __Logistic Regression Tune__ merupakan model terbaik dengan Recall, F1 Score, dan AUC tertinggi."
   ]
  },
  {
   "cell_type": "markdown",
   "metadata": {},
   "source": [
    "### Perbandingan model dengan Feature Monthly Charges dan Total Charges"
   ]
  },
  {
   "cell_type": "markdown",
   "metadata": {},
   "source": [
    "Pada tahap ini saya ingin melihat apakah dengan membuang feature Monthly Charges dan Total Charges bisa mempengaruhi model atau tidak, saya menggunakan model terbaik sebagai perbandingan"
   ]
  },
  {
   "cell_type": "code",
   "execution_count": 33,
   "metadata": {
    "scrolled": false
   },
   "outputs": [
    {
     "name": "stdout",
     "output_type": "stream",
     "text": [
      "Logistic Regression 1\n",
      "               precision    recall  f1-score   support\n",
      "\n",
      "           0       0.87      0.81      0.84      1234\n",
      "           1       0.62      0.71      0.66       524\n",
      "\n",
      "    accuracy                           0.78      1758\n",
      "   macro avg       0.74      0.76      0.75      1758\n",
      "weighted avg       0.79      0.78      0.79      1758\n",
      "\n",
      "Logistic Regression 2\n",
      "               precision    recall  f1-score   support\n",
      "\n",
      "           0       0.86      0.82      0.84      1234\n",
      "           1       0.62      0.70      0.66       524\n",
      "\n",
      "    accuracy                           0.78      1758\n",
      "   macro avg       0.74      0.76      0.75      1758\n",
      "weighted avg       0.79      0.78      0.79      1758\n",
      "\n"
     ]
    },
    {
     "data": {
      "text/plain": [
       "<sklearn.metrics._plot.roc_curve.RocCurveDisplay at 0x1673d4e1e08>"
      ]
     },
     "execution_count": 33,
     "metadata": {},
     "output_type": "execute_result"
    },
    {
     "data": {
      "image/png": "[encoded data removed]",
      "text/plain": [
       "<Figure size 432x288 with 1 Axes>"
      ]
     },
     "metadata": {
      "needs_background": "light"
     },
     "output_type": "display_data"
    }
   ],
   "source": [
    "print('Logistic Regression 1\\n',classification_report(test_Y,lr_tune.predict(test_X)))\n",
    "print('Logistic Regression 2\\n',classification_report(test_Y1,lr1_tune.predict(test_X1)))\n",
    "\n",
    "## ROC_AUC\n",
    "disp = plot_roc_curve(lr_tune,test_X,test_Y)\n",
    "plot_roc_curve(lr1_tune,test_X1,test_Y1,ax=disp.ax_)"
   ]
  },
  {
   "cell_type": "markdown",
   "metadata": {},
   "source": [
    "Berdasarkan report klassikasi dan grafik ROC-AUC diatas, dapat disimpulkan bahwa membuang feature Monthly Charges dan Total Charges tidak mempngaruhi model."
   ]
  },
  {
   "cell_type": "markdown",
   "metadata": {},
   "source": [
    "# 2. Model 2 (Under Sampling)"
   ]
  },
  {
   "cell_type": "markdown",
   "metadata": {},
   "source": [
    "Dalam dataset ini __class 0__ : 5163, sedangkan __class 1__ : 1869, saya akan menggunakan ```NearMiss``` untuk menyeimbangkan class, teknik ini akan menghapus beberapa sample majority class yaitu __class 0__ sehingga jumlahnya sama dengan minority __class 1__ , ```NearMiss``` akan menghapus majority class yang memiliki jarak terdekat dari minority class.[source](https://machinelearningmastery.com/undersampling-algorithms-for-imbalanced-classification/)"
   ]
  },
  {
   "cell_type": "markdown",
   "metadata": {},
   "source": [
    "### Balancing Dataset "
   ]
  },
  {
   "cell_type": "code",
   "execution_count": 34,
   "metadata": {},
   "outputs": [
    {
     "data": {
      "text/plain": [
       "0    5163\n",
       "1    1869\n",
       "Name: Churn, dtype: int64"
      ]
     },
     "execution_count": 34,
     "metadata": {},
     "output_type": "execute_result"
    }
   ],
   "source": [
    "telcom['Churn'].value_counts()"
   ]
  },
  {
   "cell_type": "code",
   "execution_count": 35,
   "metadata": {},
   "outputs": [],
   "source": [
    "X = telcom.drop(columns=['customerID','Churn','MonthlyCharges','TotalCharges'])\n",
    "Y = telcom['Churn']"
   ]
  },
  {
   "cell_type": "code",
   "execution_count": 36,
   "metadata": {
    "scrolled": true
   },
   "outputs": [
    {
     "data": {
      "text/plain": [
       "1    1869\n",
       "0    1869\n",
       "Name: Churn, dtype: int64"
      ]
     },
     "execution_count": 36,
     "metadata": {},
     "output_type": "execute_result"
    }
   ],
   "source": [
    "nm =  NearMiss()\n",
    "X_res,Y_res=nm.fit_sample(X,Y)\n",
    "telco = pd.concat([X_res,Y_res],axis=1)\n",
    "telco['Churn'].value_counts()"
   ]
  },
  {
   "cell_type": "markdown",
   "metadata": {},
   "source": [
    "### Spliting Data"
   ]
  },
  {
   "cell_type": "code",
   "execution_count": 37,
   "metadata": {
    "scrolled": false
   },
   "outputs": [],
   "source": [
    "#splitting train and test data \n",
    "feature    = telco.drop(columns=['Churn'])\n",
    "target = telco['Churn']\n",
    "train_X2,test_X2,train_Y2,test_Y2 = train_test_split(feature,target,test_size = .25,random_state=123)"
   ]
  },
  {
   "cell_type": "markdown",
   "metadata": {},
   "source": [
    "### Deklarasi Model\n",
    "\n",
    "Deklarasi model menggunakan parameter default"
   ]
  },
  {
   "cell_type": "code",
   "execution_count": 38,
   "metadata": {},
   "outputs": [
    {
     "data": {
      "text/plain": [
       "KNeighborsClassifier(algorithm='auto', leaf_size=30, metric='minkowski',\n",
       "                     metric_params=None, n_jobs=None, n_neighbors=5, p=2,\n",
       "                     weights='uniform')"
      ]
     },
     "execution_count": 38,
     "metadata": {},
     "output_type": "execute_result"
    }
   ],
   "source": [
    "### Logistic Regression\n",
    "lr2 = LogisticRegression()\n",
    "lr2.fit(train_X2,train_Y2)\n",
    "### Random Forest\n",
    "rf2 = RandomForestClassifier()\n",
    "rf2.fit(train_X2,train_Y2)\n",
    "### KNN\n",
    "knn2 = KNeighborsClassifier()\n",
    "knn2.fit(train_X2,train_Y2)"
   ]
  },
  {
   "cell_type": "markdown",
   "metadata": {},
   "source": [
    "### Hyperparameter Tuning\n",
    "\n",
    "Sedikit berbeda dengan sebelumnya, karena pada model ini saya menggunakan dataset balance, scoring yang digunakan adalah Accuracy"
   ]
  },
  {
   "cell_type": "code",
   "execution_count": 39,
   "metadata": {},
   "outputs": [],
   "source": [
    "def tuning(model,parameter,n_cv):\n",
    "    random = GridSearchCV(model, parameter, cv = n_cv, scoring='accuracy')\n",
    "    random.fit(train_X2,train_Y2)\n",
    "    best_param = random.best_params_\n",
    "    \n",
    "    return best_param"
   ]
  },
  {
   "cell_type": "markdown",
   "metadata": {},
   "source": [
    "__Parameter Tuning Logistic Regression__"
   ]
  },
  {
   "cell_type": "code",
   "execution_count": 40,
   "metadata": {
    "scrolled": true
   },
   "outputs": [],
   "source": [
    "# lr2_tune = LogisticRegression()\n",
    "# weights = np.linspace(0.05, 0.95, 20)\n",
    "# param_lr = {\n",
    "#     'solver':['newton-cg','lbfgs','liblinear','sag','saga'], ##algoritma Logistic regression\n",
    "#     'penalty':['none','l1','l2','elasticnet','none'], # regularisasi\n",
    "# }\n",
    "\n",
    "# param_best = tuning(lr2_tune,param_lr,5)\n",
    "# param_best"
   ]
  },
  {
   "cell_type": "code",
   "execution_count": 41,
   "metadata": {
    "scrolled": false
   },
   "outputs": [
    {
     "data": {
      "text/plain": [
       "LogisticRegression(C=1.0, class_weight=None, dual=False, fit_intercept=True,\n",
       "                   intercept_scaling=1, l1_ratio=None, max_iter=100,\n",
       "                   multi_class='auto', n_jobs=None, penalty='l1',\n",
       "                   random_state=None, solver='liblinear', tol=0.0001, verbose=0,\n",
       "                   warm_start=False)"
      ]
     },
     "execution_count": 41,
     "metadata": {},
     "output_type": "execute_result"
    }
   ],
   "source": [
    "lr2_tune = LogisticRegression(penalty='l1',solver='liblinear')\n",
    "lr2_tune.fit(train_X2,train_Y2)"
   ]
  },
  {
   "cell_type": "markdown",
   "metadata": {},
   "source": [
    "__Parameter Tuning Random Forest__"
   ]
  },
  {
   "cell_type": "code",
   "execution_count": 42,
   "metadata": {},
   "outputs": [],
   "source": [
    "# rf2_tune = RandomForestClassifier()\n",
    "# param_rf= {\n",
    "#     'n_estimators': [10,50,100], ## jumlah tree\n",
    "#     'criterion':['gini','entropy'], ## algoritma tree\n",
    "#     'bootstrap':[False,True], ## baging or bootstraping\n",
    "# }\n",
    "# param_best = tuning(rf2_tune,param_rf,5)\n",
    "# param_best\n",
    "\n",
    "# {'bootstrap': True, 'criterion': 'gini', 'n_estimators': 50}"
   ]
  },
  {
   "cell_type": "code",
   "execution_count": 43,
   "metadata": {
    "scrolled": true
   },
   "outputs": [
    {
     "data": {
      "text/plain": [
       "RandomForestClassifier(bootstrap=True, ccp_alpha=0.0, class_weight=None,\n",
       "                       criterion='gini', max_depth=None, max_features='auto',\n",
       "                       max_leaf_nodes=None, max_samples=None,\n",
       "                       min_impurity_decrease=0.0, min_impurity_split=None,\n",
       "                       min_samples_leaf=1, min_samples_split=2,\n",
       "                       min_weight_fraction_leaf=0.0, n_estimators=50,\n",
       "                       n_jobs=None, oob_score=False, random_state=None,\n",
       "                       verbose=0, warm_start=False)"
      ]
     },
     "execution_count": 43,
     "metadata": {},
     "output_type": "execute_result"
    }
   ],
   "source": [
    "rf2_tune = RandomForestClassifier(n_estimators = 50,bootstrap=True,criterion='gini')\n",
    "rf2_tune.fit(train_X2,train_Y2)"
   ]
  },
  {
   "cell_type": "markdown",
   "metadata": {},
   "source": [
    "__Parameter Tuning KNN__"
   ]
  },
  {
   "cell_type": "code",
   "execution_count": 44,
   "metadata": {},
   "outputs": [],
   "source": [
    "# knn2_tune = KNeighborsClassifier()\n",
    "# param_knn = {\n",
    "#         'n_neighbors' : list(range(50,100)), ## jumlah n neighbors\n",
    "#         'weights':['uniform','distance'], ## one man one vote , lebih dekat lebih berbobot\n",
    "#         'algorithm':['auto', 'ball_tree', 'kd_tree', 'brute'], # struktur data\n",
    "# }\n",
    "\n",
    "# param_best = tuning(knn2_tune,param_knn,5)\n",
    "# param_best\n",
    "\n",
    "# {'algorithm': 'auto', 'n_neighbors': 75, 'weights': 'uniform'}"
   ]
  },
  {
   "cell_type": "code",
   "execution_count": 45,
   "metadata": {},
   "outputs": [
    {
     "data": {
      "text/plain": [
       "KNeighborsClassifier(algorithm='auto', leaf_size=30, metric='minkowski',\n",
       "                     metric_params=None, n_jobs=None, n_neighbors=75, p=2,\n",
       "                     weights='uniform')"
      ]
     },
     "execution_count": 45,
     "metadata": {},
     "output_type": "execute_result"
    }
   ],
   "source": [
    "knn2_tune = KNeighborsClassifier(algorithm='auto',n_neighbors=75,weights='uniform')\n",
    "knn2_tune.fit(train_X2,train_Y2)"
   ]
  },
  {
   "cell_type": "markdown",
   "metadata": {},
   "source": [
    "### Evaluation"
   ]
  },
  {
   "cell_type": "code",
   "execution_count": 46,
   "metadata": {
    "scrolled": false
   },
   "outputs": [
    {
     "name": "stdout",
     "output_type": "stream",
     "text": [
      "Logistic Regression Default\n",
      "               precision    recall  f1-score   support\n",
      "\n",
      "           0       0.74      0.55      0.63       479\n",
      "           1       0.63      0.80      0.70       456\n",
      "\n",
      "    accuracy                           0.67       935\n",
      "   macro avg       0.68      0.67      0.67       935\n",
      "weighted avg       0.68      0.67      0.66       935\n",
      "\n",
      "\n",
      "\n",
      "Logistic Regression Tuning\n",
      "               precision    recall  f1-score   support\n",
      "\n",
      "           0       0.74      0.54      0.63       479\n",
      "           1       0.62      0.80      0.70       456\n",
      "\n",
      "    accuracy                           0.67       935\n",
      "   macro avg       0.68      0.67      0.66       935\n",
      "weighted avg       0.68      0.67      0.66       935\n",
      "\n",
      "========================================================================\n",
      "\n",
      "Random Forest Default\n",
      "               precision    recall  f1-score   support\n",
      "\n",
      "           0       0.66      0.59      0.63       479\n",
      "           1       0.61      0.68      0.64       456\n",
      "\n",
      "    accuracy                           0.64       935\n",
      "   macro avg       0.64      0.64      0.64       935\n",
      "weighted avg       0.64      0.64      0.63       935\n",
      "\n",
      "\n",
      "Random Forest Tuning\n",
      "               precision    recall  f1-score   support\n",
      "\n",
      "           0       0.66      0.60      0.63       479\n",
      "           1       0.61      0.67      0.64       456\n",
      "\n",
      "    accuracy                           0.63       935\n",
      "   macro avg       0.64      0.64      0.63       935\n",
      "weighted avg       0.64      0.63      0.63       935\n",
      "\n",
      "========================================================================\n",
      "\n",
      "KNN Default\n",
      "               precision    recall  f1-score   support\n",
      "\n",
      "           0       0.65      0.62      0.63       479\n",
      "           1       0.62      0.65      0.64       456\n",
      "\n",
      "    accuracy                           0.64       935\n",
      "   macro avg       0.64      0.64      0.64       935\n",
      "weighted avg       0.64      0.64      0.64       935\n",
      "\n",
      "\n",
      "KNN Tuning\n",
      "               precision    recall  f1-score   support\n",
      "\n",
      "           0       0.73      0.58      0.65       479\n",
      "           1       0.64      0.77      0.70       456\n",
      "\n",
      "    accuracy                           0.67       935\n",
      "   macro avg       0.68      0.68      0.67       935\n",
      "weighted avg       0.68      0.67      0.67       935\n",
      "\n"
     ]
    },
    {
     "data": {
      "image/png": "[encoded data removed]",
      "text/plain": [
       "<Figure size 432x288 with 1 Axes>"
      ]
     },
     "metadata": {
      "needs_background": "light"
     },
     "output_type": "display_data"
    },
    {
     "data": {
      "image/png": "[encoded data removed]",
      "text/plain": [
       "<Figure size 432x288 with 1 Axes>"
      ]
     },
     "metadata": {
      "needs_background": "light"
     },
     "output_type": "display_data"
    }
   ],
   "source": [
    "eva_matrix(lr2,lr2_tune,rf2,rf2_tune,knn2,knn2_tune,test_X2,test_Y2)"
   ]
  },
  {
   "cell_type": "code",
   "execution_count": 47,
   "metadata": {},
   "outputs": [
    {
     "data": {
      "text/html": [
       "<div>\n",
       "<style scoped>\n",
       "    .dataframe tbody tr th:only-of-type {\n",
       "        vertical-align: middle;\n",
       "    }\n",
       "\n",
       "    .dataframe tbody tr th {\n",
       "        vertical-align: top;\n",
       "    }\n",
       "\n",
       "    .dataframe thead th {\n",
       "        text-align: right;\n",
       "    }\n",
       "</style>\n",
       "<table border=\"1\" class=\"dataframe\">\n",
       "  <thead>\n",
       "    <tr style=\"text-align: right;\">\n",
       "      <th></th>\n",
       "      <th>Model</th>\n",
       "      <th>AUC</th>\n",
       "      <th>Accuracy</th>\n",
       "      <th>precision</th>\n",
       "      <th>recall</th>\n",
       "      <th>f1-score</th>\n",
       "    </tr>\n",
       "  </thead>\n",
       "  <tbody>\n",
       "    <tr>\n",
       "      <td>0</td>\n",
       "      <td>Logistic Regression</td>\n",
       "      <td>0.731669</td>\n",
       "      <td>0.669519</td>\n",
       "      <td>0.626506</td>\n",
       "      <td>0.798246</td>\n",
       "      <td>0.702025</td>\n",
       "    </tr>\n",
       "    <tr>\n",
       "      <td>1</td>\n",
       "      <td>Logistic Regression Tune</td>\n",
       "      <td>0.731206</td>\n",
       "      <td>0.667380</td>\n",
       "      <td>0.624357</td>\n",
       "      <td>0.798246</td>\n",
       "      <td>0.700674</td>\n",
       "    </tr>\n",
       "    <tr>\n",
       "      <td>2</td>\n",
       "      <td>Random Forest</td>\n",
       "      <td>0.710261</td>\n",
       "      <td>0.635294</td>\n",
       "      <td>0.614314</td>\n",
       "      <td>0.677632</td>\n",
       "      <td>0.644421</td>\n",
       "    </tr>\n",
       "    <tr>\n",
       "      <td>3</td>\n",
       "      <td>Random Forest Tune</td>\n",
       "      <td>0.712793</td>\n",
       "      <td>0.634225</td>\n",
       "      <td>0.614000</td>\n",
       "      <td>0.673246</td>\n",
       "      <td>0.642259</td>\n",
       "    </tr>\n",
       "    <tr>\n",
       "      <td>4</td>\n",
       "      <td>KNN</td>\n",
       "      <td>0.677098</td>\n",
       "      <td>0.635294</td>\n",
       "      <td>0.619543</td>\n",
       "      <td>0.653509</td>\n",
       "      <td>0.636073</td>\n",
       "    </tr>\n",
       "    <tr>\n",
       "      <td>5</td>\n",
       "      <td>KNN Tune</td>\n",
       "      <td>0.744920</td>\n",
       "      <td>0.674866</td>\n",
       "      <td>0.638182</td>\n",
       "      <td>0.769737</td>\n",
       "      <td>0.697813</td>\n",
       "    </tr>\n",
       "  </tbody>\n",
       "</table>\n",
       "</div>"
      ],
      "text/plain": [
       "                      Model       AUC  Accuracy  precision    recall  f1-score\n",
       "0       Logistic Regression  0.731669  0.669519   0.626506  0.798246  0.702025\n",
       "1  Logistic Regression Tune  0.731206  0.667380   0.624357  0.798246  0.700674\n",
       "2             Random Forest  0.710261  0.635294   0.614314  0.677632  0.644421\n",
       "3        Random Forest Tune  0.712793  0.634225   0.614000  0.673246  0.642259\n",
       "4                       KNN  0.677098  0.635294   0.619543  0.653509  0.636073\n",
       "5                  KNN Tune  0.744920  0.674866   0.638182  0.769737  0.697813"
      ]
     },
     "execution_count": 47,
     "metadata": {},
     "output_type": "execute_result"
    }
   ],
   "source": [
    "report2 = df_report(lr2,lr2_tune,rf2,rf2_tune,knn2,knn2_tune,test_X2,test_Y2)\n",
    "report2"
   ]
  },
  {
   "cell_type": "code",
   "execution_count": 48,
   "metadata": {},
   "outputs": [
    {
     "data": {
      "image/png": "[encoded data removed]",
      "text/plain": [
       "<Figure size 576x360 with 1 Axes>"
      ]
     },
     "metadata": {
      "needs_background": "light"
     },
     "output_type": "display_data"
    }
   ],
   "source": [
    "plot_report(report2)"
   ]
  },
  {
   "cell_type": "markdown",
   "metadata": {},
   "source": [
    "- Hyper parameter tuning tidak berpengaruh pada model Logistic Regression, model Random Forest justru peformanya lebih buruk setelah melakukan prameter tuning, untuk model KNN peforma lebih baik setelah parameter tuning.\n",
    "- Berdasarkan grafik di atas, model __KNN Tune__ merupakan model terbaik karena memiliki Accuracy dan AUC tertinggi."
   ]
  },
  {
   "cell_type": "markdown",
   "metadata": {},
   "source": [
    "# 3. Model 3 (Random Over Sampling)"
   ]
  },
  {
   "cell_type": "markdown",
   "metadata": {},
   "source": [
    "Pada Model 3 ini saya akan menggunakan ```RandomOverSampler``` untuk menyeimbangkan class, teknik ini akan menduplikasi minority class (__class 1__) sehingga total __class 1__ akan sama dengan majority class  (__class 0__)"
   ]
  },
  {
   "cell_type": "markdown",
   "metadata": {},
   "source": [
    "### Balancing Dataset "
   ]
  },
  {
   "cell_type": "code",
   "execution_count": 49,
   "metadata": {},
   "outputs": [
    {
     "data": {
      "text/plain": [
       "0    5163\n",
       "1    1869\n",
       "Name: Churn, dtype: int64"
      ]
     },
     "execution_count": 49,
     "metadata": {},
     "output_type": "execute_result"
    }
   ],
   "source": [
    "telcom['Churn'].value_counts()"
   ]
  },
  {
   "cell_type": "markdown",
   "metadata": {},
   "source": [
    "Berbeda dengan Under Sample, saya hanya akan melakukan Over Sample pada data train saja, sehingga data test yang dipakai tidak bias. Untuk itu saya akan melakukan spliting dataset terlebih dahulu, saya akan menggunakan data split pada model 1, sehingga bisa menggunakan data test yang sama"
   ]
  },
  {
   "cell_type": "code",
   "execution_count": 50,
   "metadata": {},
   "outputs": [
    {
     "name": "stdout",
     "output_type": "stream",
     "text": [
      "5274 1758\n",
      "0    3929\n",
      "1    1345\n",
      "Name: Churn, dtype: int64\n"
     ]
    }
   ],
   "source": [
    "trainX = train_X1.copy()\n",
    "trainY = train_Y1.copy()\n",
    "test_X3 = test_X1\n",
    "test_Y3 = test_Y1\n",
    "print(len(trainX),len(test_X3))\n",
    "print(trainY.value_counts())"
   ]
  },
  {
   "cell_type": "code",
   "execution_count": 51,
   "metadata": {
    "scrolled": true
   },
   "outputs": [
    {
     "name": "stdout",
     "output_type": "stream",
     "text": [
      "7858 7858\n"
     ]
    },
    {
     "data": {
      "text/plain": [
       "1    3929\n",
       "0    3929\n",
       "Name: Churn, dtype: int64"
      ]
     },
     "execution_count": 51,
     "metadata": {},
     "output_type": "execute_result"
    }
   ],
   "source": [
    "os =  RandomOverSampler(random_state=123)\n",
    "train_X3,train_Y3=os.fit_sample(trainX,trainY)\n",
    "print(len(train_X3),len(train_Y3))\n",
    "train_Y3.value_counts()"
   ]
  },
  {
   "cell_type": "markdown",
   "metadata": {},
   "source": [
    "### Deklarasi Model\n",
    "\n",
    "Deklarasi model menggunakan parameter default"
   ]
  },
  {
   "cell_type": "code",
   "execution_count": 52,
   "metadata": {
    "scrolled": false
   },
   "outputs": [
    {
     "data": {
      "text/plain": [
       "KNeighborsClassifier(algorithm='auto', leaf_size=30, metric='minkowski',\n",
       "                     metric_params=None, n_jobs=None, n_neighbors=5, p=2,\n",
       "                     weights='uniform')"
      ]
     },
     "execution_count": 52,
     "metadata": {},
     "output_type": "execute_result"
    }
   ],
   "source": [
    "### Logistic Regression\n",
    "lr3 = LogisticRegression()\n",
    "lr3.fit(train_X3,train_Y3)\n",
    "## Random Forest\n",
    "rf3 = RandomForestClassifier()\n",
    "rf3.fit(train_X3,train_Y3)\n",
    "## KNN\n",
    "knn3 = KNeighborsClassifier()\n",
    "knn3.fit(train_X3,train_Y3)"
   ]
  },
  {
   "cell_type": "markdown",
   "metadata": {},
   "source": [
    "### Hyperparameter Tuning"
   ]
  },
  {
   "cell_type": "markdown",
   "metadata": {},
   "source": [
    "__Parameter Tuning Logistic Regression__"
   ]
  },
  {
   "cell_type": "code",
   "execution_count": 53,
   "metadata": {},
   "outputs": [],
   "source": [
    "def tuning(model,parameter,n_cv):\n",
    "    random = GridSearchCV(model, parameter, cv = n_cv,scoring='accuracy')\n",
    "    random.fit(train_X3,train_Y3)\n",
    "    best_param = random.best_params_\n",
    "    \n",
    "    return best_param"
   ]
  },
  {
   "cell_type": "code",
   "execution_count": 54,
   "metadata": {
    "scrolled": true
   },
   "outputs": [],
   "source": [
    "# lr3_tune = LogisticRegression()\n",
    "# param_lr = {\n",
    "#     'solver':['newton-cg','lbfgs','liblinear','sag','saga'], ##algoritma Logistic regression\n",
    "#     'penalty':['none','l1','l2','elasticnet','none'], # regularisasi        \n",
    "# }\n",
    "\n",
    "# param_best = tuning(lr3_tune,param_lr,5)\n",
    "# param_best\n",
    "\n",
    "# {'penalty': 'l1', 'solver': 'saga'}"
   ]
  },
  {
   "cell_type": "code",
   "execution_count": 55,
   "metadata": {
    "scrolled": false
   },
   "outputs": [
    {
     "data": {
      "text/plain": [
       "LogisticRegression(C=1.0, class_weight=None, dual=False, fit_intercept=True,\n",
       "                   intercept_scaling=1, l1_ratio=None, max_iter=100,\n",
       "                   multi_class='auto', n_jobs=None, penalty='l1',\n",
       "                   random_state=None, solver='saga', tol=0.0001, verbose=0,\n",
       "                   warm_start=False)"
      ]
     },
     "execution_count": 55,
     "metadata": {},
     "output_type": "execute_result"
    }
   ],
   "source": [
    "lr3_tune = LogisticRegression(solver='saga',penalty='l1')\n",
    "lr3_tune.fit(train_X3,train_Y3)"
   ]
  },
  {
   "cell_type": "markdown",
   "metadata": {},
   "source": [
    "__Parameter Tuning Random Forest__"
   ]
  },
  {
   "cell_type": "code",
   "execution_count": 56,
   "metadata": {},
   "outputs": [],
   "source": [
    "# rf3_tune = RandomForestClassifier()\n",
    "# param_rf= {\n",
    "#     'n_estimators': [10,50,100], ## jumlah tree\n",
    "#     'criterion':['gini','entropy'], ## algoritma tree\n",
    "#     'bootstrap':[False,True], ## baging or bootstraping\n",
    "# }\n",
    "# param_best = tuning(rf3_tune,param_rf,5)\n",
    "# param_best"
   ]
  },
  {
   "cell_type": "code",
   "execution_count": 57,
   "metadata": {},
   "outputs": [
    {
     "data": {
      "text/plain": [
       "RandomForestClassifier(bootstrap=False, ccp_alpha=0.0, class_weight=None,\n",
       "                       criterion='gini', max_depth=None, max_features='auto',\n",
       "                       max_leaf_nodes=None, max_samples=None,\n",
       "                       min_impurity_decrease=0.0, min_impurity_split=None,\n",
       "                       min_samples_leaf=1, min_samples_split=2,\n",
       "                       min_weight_fraction_leaf=0.0, n_estimators=10,\n",
       "                       n_jobs=None, oob_score=False, random_state=None,\n",
       "                       verbose=0, warm_start=False)"
      ]
     },
     "execution_count": 57,
     "metadata": {},
     "output_type": "execute_result"
    }
   ],
   "source": [
    "rf3_tune = RandomForestClassifier(n_estimators = 10,criterion='gini',bootstrap=False)\n",
    "rf3_tune.fit(train_X3,train_Y3)"
   ]
  },
  {
   "cell_type": "markdown",
   "metadata": {},
   "source": [
    "__Parameter Tuning KNN__"
   ]
  },
  {
   "cell_type": "code",
   "execution_count": 58,
   "metadata": {},
   "outputs": [],
   "source": [
    "# knn3_tune = KNeighborsClassifier()\n",
    "# param_knn = {\n",
    "#         'n_neighbors' : list(range(50,100)), ## jumlah n neighbors\n",
    "#         'weights':['uniform','distance'], ## one man one vote , lebih dekat lebih berbobot\n",
    "#         'algorithm':['auto', 'ball_tree', 'kd_tree', 'brute'], # struktur data\n",
    "# }\n",
    "\n",
    "# param_best = tuning(knn3_tune,param_knn,5)\n",
    "# param_best"
   ]
  },
  {
   "cell_type": "code",
   "execution_count": 59,
   "metadata": {},
   "outputs": [
    {
     "data": {
      "text/plain": [
       "KNeighborsClassifier(algorithm='auto', leaf_size=30, metric='minkowski',\n",
       "                     metric_params=None, n_jobs=None, n_neighbors=50, p=2,\n",
       "                     weights='distance')"
      ]
     },
     "execution_count": 59,
     "metadata": {},
     "output_type": "execute_result"
    }
   ],
   "source": [
    "knn3_tune = KNeighborsClassifier(weights='distance',n_neighbors=50,algorithm='auto')\n",
    "knn3_tune.fit(train_X3,train_Y3)"
   ]
  },
  {
   "cell_type": "markdown",
   "metadata": {},
   "source": [
    "### Final Evaluation"
   ]
  },
  {
   "cell_type": "code",
   "execution_count": 60,
   "metadata": {
    "scrolled": false
   },
   "outputs": [
    {
     "name": "stdout",
     "output_type": "stream",
     "text": [
      "Logistic Regression Default\n",
      "               precision    recall  f1-score   support\n",
      "\n",
      "           0       0.89      0.74      0.81      1234\n",
      "           1       0.56      0.79      0.66       524\n",
      "\n",
      "    accuracy                           0.75      1758\n",
      "   macro avg       0.73      0.76      0.73      1758\n",
      "weighted avg       0.79      0.75      0.76      1758\n",
      "\n",
      "\n",
      "\n",
      "Logistic Regression Tuning\n",
      "               precision    recall  f1-score   support\n",
      "\n",
      "           0       0.89      0.74      0.81      1234\n",
      "           1       0.57      0.79      0.66       524\n",
      "\n",
      "    accuracy                           0.76      1758\n",
      "   macro avg       0.73      0.76      0.73      1758\n",
      "weighted avg       0.79      0.76      0.76      1758\n",
      "\n",
      "========================================================================\n",
      "\n",
      "Random Forest Default\n",
      "               precision    recall  f1-score   support\n",
      "\n",
      "           0       0.81      0.85      0.83      1234\n",
      "           1       0.60      0.53      0.56       524\n",
      "\n",
      "    accuracy                           0.75      1758\n",
      "   macro avg       0.70      0.69      0.70      1758\n",
      "weighted avg       0.75      0.75      0.75      1758\n",
      "\n",
      "\n",
      "Random Forest Tuning\n",
      "               precision    recall  f1-score   support\n",
      "\n",
      "           0       0.78      0.88      0.83      1234\n",
      "           1       0.60      0.42      0.49       524\n",
      "\n",
      "    accuracy                           0.74      1758\n",
      "   macro avg       0.69      0.65      0.66      1758\n",
      "weighted avg       0.73      0.74      0.73      1758\n",
      "\n",
      "========================================================================\n",
      "\n",
      "KNN Default\n",
      "               precision    recall  f1-score   support\n",
      "\n",
      "           0       0.84      0.67      0.75      1234\n",
      "           1       0.47      0.70      0.56       524\n",
      "\n",
      "    accuracy                           0.68      1758\n",
      "   macro avg       0.66      0.68      0.66      1758\n",
      "weighted avg       0.73      0.68      0.69      1758\n",
      "\n",
      "\n",
      "KNN Tuning\n",
      "               precision    recall  f1-score   support\n",
      "\n",
      "           0       0.88      0.68      0.77      1234\n",
      "           1       0.51      0.79      0.62       524\n",
      "\n",
      "    accuracy                           0.71      1758\n",
      "   macro avg       0.70      0.73      0.69      1758\n",
      "weighted avg       0.77      0.71      0.72      1758\n",
      "\n"
     ]
    },
    {
     "data": {
      "image/png": "[encoded data removed]",
      "text/plain": [
       "<Figure size 432x288 with 1 Axes>"
      ]
     },
     "metadata": {
      "needs_background": "light"
     },
     "output_type": "display_data"
    },
    {
     "data": {
      "image/png": "[encoded data removed]",
      "text/plain": [
       "<Figure size 432x288 with 1 Axes>"
      ]
     },
     "metadata": {
      "needs_background": "light"
     },
     "output_type": "display_data"
    }
   ],
   "source": [
    "eva_matrix(lr3,lr3_tune,rf3,rf3_tune,knn3,knn3_tune,test_X3,test_Y3)"
   ]
  },
  {
   "cell_type": "code",
   "execution_count": 61,
   "metadata": {},
   "outputs": [
    {
     "data": {
      "text/html": [
       "<div>\n",
       "<style scoped>\n",
       "    .dataframe tbody tr th:only-of-type {\n",
       "        vertical-align: middle;\n",
       "    }\n",
       "\n",
       "    .dataframe tbody tr th {\n",
       "        vertical-align: top;\n",
       "    }\n",
       "\n",
       "    .dataframe thead th {\n",
       "        text-align: right;\n",
       "    }\n",
       "</style>\n",
       "<table border=\"1\" class=\"dataframe\">\n",
       "  <thead>\n",
       "    <tr style=\"text-align: right;\">\n",
       "      <th></th>\n",
       "      <th>Model</th>\n",
       "      <th>AUC</th>\n",
       "      <th>Accuracy</th>\n",
       "      <th>precision</th>\n",
       "      <th>recall</th>\n",
       "      <th>f1-score</th>\n",
       "    </tr>\n",
       "  </thead>\n",
       "  <tbody>\n",
       "    <tr>\n",
       "      <td>0</td>\n",
       "      <td>Logistic Regression</td>\n",
       "      <td>0.855692</td>\n",
       "      <td>0.754835</td>\n",
       "      <td>0.563611</td>\n",
       "      <td>0.786260</td>\n",
       "      <td>0.656574</td>\n",
       "    </tr>\n",
       "    <tr>\n",
       "      <td>1</td>\n",
       "      <td>Logistic Regression Tune</td>\n",
       "      <td>0.855740</td>\n",
       "      <td>0.755973</td>\n",
       "      <td>0.565158</td>\n",
       "      <td>0.786260</td>\n",
       "      <td>0.657622</td>\n",
       "    </tr>\n",
       "    <tr>\n",
       "      <td>2</td>\n",
       "      <td>Random Forest</td>\n",
       "      <td>0.796506</td>\n",
       "      <td>0.754266</td>\n",
       "      <td>0.600000</td>\n",
       "      <td>0.526718</td>\n",
       "      <td>0.560976</td>\n",
       "    </tr>\n",
       "    <tr>\n",
       "      <td>3</td>\n",
       "      <td>Random Forest Tune</td>\n",
       "      <td>0.751863</td>\n",
       "      <td>0.743458</td>\n",
       "      <td>0.600000</td>\n",
       "      <td>0.417939</td>\n",
       "      <td>0.492688</td>\n",
       "    </tr>\n",
       "    <tr>\n",
       "      <td>4</td>\n",
       "      <td>KNN</td>\n",
       "      <td>0.740889</td>\n",
       "      <td>0.679181</td>\n",
       "      <td>0.474026</td>\n",
       "      <td>0.696565</td>\n",
       "      <td>0.564142</td>\n",
       "    </tr>\n",
       "    <tr>\n",
       "      <td>5</td>\n",
       "      <td>KNN Tune</td>\n",
       "      <td>0.796167</td>\n",
       "      <td>0.709329</td>\n",
       "      <td>0.507975</td>\n",
       "      <td>0.790076</td>\n",
       "      <td>0.618372</td>\n",
       "    </tr>\n",
       "  </tbody>\n",
       "</table>\n",
       "</div>"
      ],
      "text/plain": [
       "                      Model       AUC  Accuracy  precision    recall  f1-score\n",
       "0       Logistic Regression  0.855692  0.754835   0.563611  0.786260  0.656574\n",
       "1  Logistic Regression Tune  0.855740  0.755973   0.565158  0.786260  0.657622\n",
       "2             Random Forest  0.796506  0.754266   0.600000  0.526718  0.560976\n",
       "3        Random Forest Tune  0.751863  0.743458   0.600000  0.417939  0.492688\n",
       "4                       KNN  0.740889  0.679181   0.474026  0.696565  0.564142\n",
       "5                  KNN Tune  0.796167  0.709329   0.507975  0.790076  0.618372"
      ]
     },
     "execution_count": 61,
     "metadata": {},
     "output_type": "execute_result"
    }
   ],
   "source": [
    "report3 = df_report(lr3,lr3_tune,rf3,rf3_tune,knn3,knn3_tune,test_X3,test_Y3)\n",
    "report3"
   ]
  },
  {
   "cell_type": "code",
   "execution_count": 62,
   "metadata": {},
   "outputs": [
    {
     "data": {
      "image/png": "[encoded data removed]",
      "text/plain": [
       "<Figure size 576x360 with 1 Axes>"
      ]
     },
     "metadata": {
      "needs_background": "light"
     },
     "output_type": "display_data"
    }
   ],
   "source": [
    "plot_report(report3)"
   ]
  },
  {
   "cell_type": "markdown",
   "metadata": {},
   "source": [
    "- Hyper parameter tuning tidak berpengaruh pada model Logistic Regression, model Random Forest justru peformanya lebih buruk setelah melakukan prameter tuning, untuk model KNN peforma lebih baik setelah parameter tuning.\n",
    "- Berdasarkan grafik di atas, model __Logistic Regression__ merupakan model terbaik dengan Recall, F1 Score, dan AUC tertinggi"
   ]
  },
  {
   "cell_type": "markdown",
   "metadata": {},
   "source": [
    "# Best Model"
   ]
  },
  {
   "cell_type": "markdown",
   "metadata": {},
   "source": [
    "Saya akan memilih model terbaik dengan membandingkan model terbaik dari tiap perlakuan dataset yang berbeda.\n",
    "\n",
    "1. Model terbaik yang ditraining dengan dataset imbalance adalah Logistic Regression setelah tuning parameter.\n",
    "2. Model terbaik yang ditraining dengan balance dataset under sample adalah KNN setelah tuning parameter.\n",
    "3. Model terbaik yang ditraining dengan balance dataset Over Sample adalah Logistic Regression setelah tuning parameter."
   ]
  },
  {
   "cell_type": "code",
   "execution_count": 63,
   "metadata": {},
   "outputs": [
    {
     "data": {
      "text/html": [
       "<div>\n",
       "<style scoped>\n",
       "    .dataframe tbody tr th:only-of-type {\n",
       "        vertical-align: middle;\n",
       "    }\n",
       "\n",
       "    .dataframe tbody tr th {\n",
       "        vertical-align: top;\n",
       "    }\n",
       "\n",
       "    .dataframe thead th {\n",
       "        text-align: right;\n",
       "    }\n",
       "</style>\n",
       "<table border=\"1\" class=\"dataframe\">\n",
       "  <thead>\n",
       "    <tr style=\"text-align: right;\">\n",
       "      <th></th>\n",
       "      <th>Model</th>\n",
       "      <th>AUC</th>\n",
       "      <th>Accuracy</th>\n",
       "      <th>precision</th>\n",
       "      <th>recall</th>\n",
       "      <th>f1-score</th>\n",
       "    </tr>\n",
       "  </thead>\n",
       "  <tbody>\n",
       "    <tr>\n",
       "      <td>0</td>\n",
       "      <td>Logistic Regression (Imbalance)</td>\n",
       "      <td>0.857001</td>\n",
       "      <td>0.782708</td>\n",
       "      <td>0.620748</td>\n",
       "      <td>0.696565</td>\n",
       "      <td>0.656475</td>\n",
       "    </tr>\n",
       "    <tr>\n",
       "      <td>1</td>\n",
       "      <td>KNN (UnderSample)</td>\n",
       "      <td>0.744920</td>\n",
       "      <td>0.674866</td>\n",
       "      <td>0.638182</td>\n",
       "      <td>0.769737</td>\n",
       "      <td>0.697813</td>\n",
       "    </tr>\n",
       "    <tr>\n",
       "      <td>2</td>\n",
       "      <td>Logistic Regression (OverSample)</td>\n",
       "      <td>0.855740</td>\n",
       "      <td>0.755973</td>\n",
       "      <td>0.565158</td>\n",
       "      <td>0.786260</td>\n",
       "      <td>0.657622</td>\n",
       "    </tr>\n",
       "  </tbody>\n",
       "</table>\n",
       "</div>"
      ],
      "text/plain": [
       "                              Model       AUC  Accuracy  precision    recall  \\\n",
       "0   Logistic Regression (Imbalance)  0.857001  0.782708   0.620748  0.696565   \n",
       "1                 KNN (UnderSample)  0.744920  0.674866   0.638182  0.769737   \n",
       "2  Logistic Regression (OverSample)  0.855740  0.755973   0.565158  0.786260   \n",
       "\n",
       "   f1-score  \n",
       "0  0.656475  \n",
       "1  0.697813  \n",
       "2  0.657622  "
      ]
     },
     "execution_count": 63,
     "metadata": {},
     "output_type": "execute_result"
    }
   ],
   "source": [
    "## ROC-AUC\n",
    "a = roc_auc_score(test_Y1, lr1_tune.predict_proba(test_X1)[:,1])\n",
    "b = roc_auc_score(test_Y2, knn2_tune.predict_proba(test_X2)[:,1])\n",
    "c = roc_auc_score(test_Y3, lr3_tune.predict_proba(test_X3)[:,1])\n",
    "\n",
    "## Accuracy\n",
    "\n",
    "d = classification_report(test_Y1,lr1_tune.predict(test_X1),output_dict=True)['accuracy']\n",
    "e = classification_report(test_Y2,knn2_tune.predict(test_X2),output_dict=True)['accuracy']\n",
    "f = classification_report(test_Y3,lr3_tune.predict(test_X3),output_dict=True)['accuracy']\n",
    "\n",
    "## Precision,Recall,F1\n",
    "\n",
    "g = classification_report(test_Y1,lr1_tune.predict(test_X1),output_dict=True)['1']\n",
    "h = classification_report(test_Y2,knn2_tune.predict(test_X2),output_dict=True)['1']\n",
    "i = classification_report(test_Y3,lr3_tune.predict(test_X3),output_dict=True)['1']\n",
    "\n",
    "model = pd.DataFrame({'Model':['Logistic Regression (Imbalance)','KNN (UnderSample)','Logistic Regression (OverSample)'],\n",
    "                      'AUC':[a,b,c],\n",
    "                      'Accuracy':[d,e,f]})\n",
    "report = pd.DataFrame([g,h,i])\n",
    "report.drop(columns='support',inplace=True)\n",
    "report4 = pd.concat([model,report],axis=1)\n",
    "report4"
   ]
  },
  {
   "cell_type": "code",
   "execution_count": 64,
   "metadata": {},
   "outputs": [
    {
     "data": {
      "image/png": "[encoded data removed]",
      "text/plain": [
       "<Figure size 576x360 with 1 Axes>"
      ]
     },
     "metadata": {
      "needs_background": "light"
     },
     "output_type": "display_data"
    }
   ],
   "source": [
    "plt.figure(figsize=(8,5))\n",
    "plt.plot(report4['Model'], report4['AUC'],'g-o',label='AUC')\n",
    "plt.plot(report4['Model'], report4['Accuracy'],'k-o',label='Accuracy')\n",
    "plt.plot(report4['Model'], report4['precision'],'r-o',label='precision')\n",
    "plt.plot(report4['Model'], report4['recall'],'y-o',label='recall')\n",
    "plt.plot(report4['Model'], report4['f1-score'],'b-o',label='f1-score')\n",
    "# plt.xticks(rotation=45);\n",
    "plt.title('Classification Report')\n",
    "plt.grid(True)\n",
    "plt.legend()\n",
    "plt.show()"
   ]
  },
  {
   "cell_type": "code",
   "execution_count": 65,
   "metadata": {},
   "outputs": [
    {
     "data": {
      "text/plain": [
       "<sklearn.metrics._plot.confusion_matrix.ConfusionMatrixDisplay at 0x1673f4fc688>"
      ]
     },
     "execution_count": 65,
     "metadata": {},
     "output_type": "execute_result"
    },
    {
     "data": {
      "image/png": "[encoded data removed]",
      "text/plain": [
       "<Figure size 432x288 with 2 Axes>"
      ]
     },
     "metadata": {
      "needs_background": "light"
     },
     "output_type": "display_data"
    },
    {
     "data": {
      "image/png": "[encoded data removed]",
      "text/plain": [
       "<Figure size 432x288 with 2 Axes>"
      ]
     },
     "metadata": {
      "needs_background": "light"
     },
     "output_type": "display_data"
    }
   ],
   "source": [
    "plot_confusion_matrix(lr1_tune,test_X1,test_Y1,values_format='0.0f')\n",
    "plot_confusion_matrix(lr3_tune,test_X3,test_Y3,values_format='0.0f')"
   ]
  },
  {
   "cell_type": "markdown",
   "metadata": {},
   "source": [
    "- Model Logistic Regression 1 dan Logistic Regression 3 memiliki score yang hampir sama, tapi Logistic Regression 3 memiliki score __Recall(1)/Sensitivity__ lebih besar dari Logistic Regression 1, ini berarti Logistic Regression memiliki probability False Negatif lebih rendah dan probability True Positif lebih tinggi seperti ditunjukan pada tabel confusion matrix di atas.\n",
    "- Saya memilih model Logistic Regression 3, yaitu model yang kita train dengan data balance over sample sebagai model terbaik."
   ]
  },
  {
   "cell_type": "markdown",
   "metadata": {},
   "source": [
    "## Cek for OverFitting/UnderFitting"
   ]
  },
  {
   "cell_type": "markdown",
   "metadata": {},
   "source": [
    "__Model 1__"
   ]
  },
  {
   "cell_type": "code",
   "execution_count": 66,
   "metadata": {},
   "outputs": [
    {
     "name": "stdout",
     "output_type": "stream",
     "text": [
      "Logistic Regression Training\n",
      "               precision    recall  f1-score   support\n",
      "\n",
      "           0       0.89      0.80      0.84      3929\n",
      "           1       0.55      0.72      0.63      1345\n",
      "\n",
      "    accuracy                           0.78      5274\n",
      "   macro avg       0.72      0.76      0.73      5274\n",
      "weighted avg       0.81      0.78      0.79      5274\n",
      "\n",
      "Logistic Regression Testing\n",
      "               precision    recall  f1-score   support\n",
      "\n",
      "           0       0.86      0.82      0.84      1234\n",
      "           1       0.62      0.70      0.66       524\n",
      "\n",
      "    accuracy                           0.78      1758\n",
      "   macro avg       0.74      0.76      0.75      1758\n",
      "weighted avg       0.79      0.78      0.79      1758\n",
      "\n",
      "===============================================================================\n",
      "\n",
      "\n",
      "Random Forest Training\n",
      "               precision    recall  f1-score   support\n",
      "\n",
      "           0       1.00      0.97      0.98      3929\n",
      "           1       0.91      1.00      0.95      1345\n",
      "\n",
      "    accuracy                           0.97      5274\n",
      "   macro avg       0.95      0.98      0.97      5274\n",
      "weighted avg       0.98      0.97      0.97      5274\n",
      "\n",
      "\n",
      "\n",
      "Random Forest Testing\n",
      "               precision    recall  f1-score   support\n",
      "\n",
      "           0       0.78      0.87      0.83      1234\n",
      "           1       0.59      0.44      0.50       524\n",
      "\n",
      "    accuracy                           0.74      1758\n",
      "   macro avg       0.69      0.65      0.66      1758\n",
      "weighted avg       0.73      0.74      0.73      1758\n",
      "\n",
      "===============================================================================\n",
      "\n",
      "\n",
      "KNN Training\n",
      "               precision    recall  f1-score   support\n",
      "\n",
      "           0       0.98      1.00      0.99      3929\n",
      "           1       0.99      0.95      0.97      1345\n",
      "\n",
      "    accuracy                           0.98      5274\n",
      "   macro avg       0.98      0.97      0.98      5274\n",
      "weighted avg       0.98      0.98      0.98      5274\n",
      "\n",
      "\n",
      "\n",
      "KNN Testing\n",
      "               precision    recall  f1-score   support\n",
      "\n",
      "           0       0.81      0.88      0.84      1234\n",
      "           1       0.65      0.52      0.58       524\n",
      "\n",
      "    accuracy                           0.77      1758\n",
      "   macro avg       0.73      0.70      0.71      1758\n",
      "weighted avg       0.76      0.77      0.76      1758\n",
      "\n"
     ]
    }
   ],
   "source": [
    "def fitting(lr1_tune,rf1_tune,knn1_tune,train_X1,train_Y1,test_X1,test_Y1):\n",
    "    print('Logistic Regression Training\\n',classification_report(train_Y1,lr1_tune.predict(train_X1)))\n",
    "    print('Logistic Regression Testing\\n',classification_report(test_Y1,lr1_tune.predict(test_X1)))\n",
    "    print('===============================================================================')\n",
    "    print('\\n\\nRandom Forest Training\\n',classification_report(train_Y1,rf1_tune.predict(train_X1)))\n",
    "    print('\\n\\nRandom Forest Testing\\n',classification_report(test_Y1,rf1_tune.predict(test_X1)))\n",
    "    print('===============================================================================')\n",
    "    print('\\n\\nKNN Training\\n',classification_report(train_Y1,knn1_tune.predict(train_X1)))\n",
    "    print('\\n\\nKNN Testing\\n',classification_report(test_Y1,knn1_tune.predict(test_X1)))\n",
    "fitting(lr1_tune,rf1_tune,knn1_tune,train_X1,train_Y1,test_X1,test_Y1)"
   ]
  },
  {
   "cell_type": "markdown",
   "metadata": {},
   "source": [
    "__Model 2__"
   ]
  },
  {
   "cell_type": "code",
   "execution_count": 67,
   "metadata": {},
   "outputs": [
    {
     "name": "stdout",
     "output_type": "stream",
     "text": [
      "Logistic Regression Training\n",
      "               precision    recall  f1-score   support\n",
      "\n",
      "           0       0.72      0.54      0.62      1390\n",
      "           1       0.64      0.80      0.71      1413\n",
      "\n",
      "    accuracy                           0.67      2803\n",
      "   macro avg       0.68      0.67      0.66      2803\n",
      "weighted avg       0.68      0.67      0.66      2803\n",
      "\n",
      "Logistic Regression Testing\n",
      "               precision    recall  f1-score   support\n",
      "\n",
      "           0       0.74      0.54      0.63       479\n",
      "           1       0.62      0.80      0.70       456\n",
      "\n",
      "    accuracy                           0.67       935\n",
      "   macro avg       0.68      0.67      0.66       935\n",
      "weighted avg       0.68      0.67      0.66       935\n",
      "\n",
      "===============================================================================\n",
      "\n",
      "\n",
      "Random Forest Training\n",
      "               precision    recall  f1-score   support\n",
      "\n",
      "           0       0.96      0.97      0.96      1390\n",
      "           1       0.97      0.96      0.96      1413\n",
      "\n",
      "    accuracy                           0.96      2803\n",
      "   macro avg       0.96      0.96      0.96      2803\n",
      "weighted avg       0.96      0.96      0.96      2803\n",
      "\n",
      "\n",
      "\n",
      "Random Forest Testing\n",
      "               precision    recall  f1-score   support\n",
      "\n",
      "           0       0.66      0.60      0.63       479\n",
      "           1       0.61      0.67      0.64       456\n",
      "\n",
      "    accuracy                           0.63       935\n",
      "   macro avg       0.64      0.64      0.63       935\n",
      "weighted avg       0.64      0.63      0.63       935\n",
      "\n",
      "===============================================================================\n",
      "\n",
      "\n",
      "KNN Training\n",
      "               precision    recall  f1-score   support\n",
      "\n",
      "           0       0.73      0.59      0.65      1390\n",
      "           1       0.66      0.79      0.72      1413\n",
      "\n",
      "    accuracy                           0.69      2803\n",
      "   macro avg       0.70      0.69      0.68      2803\n",
      "weighted avg       0.70      0.69      0.68      2803\n",
      "\n",
      "\n",
      "\n",
      "KNN Testing\n",
      "               precision    recall  f1-score   support\n",
      "\n",
      "           0       0.73      0.58      0.65       479\n",
      "           1       0.64      0.77      0.70       456\n",
      "\n",
      "    accuracy                           0.67       935\n",
      "   macro avg       0.68      0.68      0.67       935\n",
      "weighted avg       0.68      0.67      0.67       935\n",
      "\n"
     ]
    }
   ],
   "source": [
    "fitting(lr2_tune,rf2_tune,knn2_tune,train_X2,train_Y2,test_X2,test_Y2)"
   ]
  },
  {
   "cell_type": "markdown",
   "metadata": {},
   "source": [
    "__Model 3__"
   ]
  },
  {
   "cell_type": "code",
   "execution_count": 68,
   "metadata": {},
   "outputs": [
    {
     "name": "stdout",
     "output_type": "stream",
     "text": [
      "Logistic Regression Training\n",
      "               precision    recall  f1-score   support\n",
      "\n",
      "           0       0.78      0.73      0.76      3929\n",
      "           1       0.75      0.80      0.77      3929\n",
      "\n",
      "    accuracy                           0.76      7858\n",
      "   macro avg       0.77      0.76      0.76      7858\n",
      "weighted avg       0.77      0.76      0.76      7858\n",
      "\n",
      "Logistic Regression Testing\n",
      "               precision    recall  f1-score   support\n",
      "\n",
      "           0       0.89      0.74      0.81      1234\n",
      "           1       0.57      0.79      0.66       524\n",
      "\n",
      "    accuracy                           0.76      1758\n",
      "   macro avg       0.73      0.76      0.73      1758\n",
      "weighted avg       0.79      0.76      0.76      1758\n",
      "\n",
      "===============================================================================\n",
      "\n",
      "\n",
      "Random Forest Training\n",
      "               precision    recall  f1-score   support\n",
      "\n",
      "           0       0.99      0.98      0.98      3929\n",
      "           1       0.98      0.99      0.98      3929\n",
      "\n",
      "    accuracy                           0.98      7858\n",
      "   macro avg       0.98      0.98      0.98      7858\n",
      "weighted avg       0.98      0.98      0.98      7858\n",
      "\n",
      "\n",
      "\n",
      "Random Forest Testing\n",
      "               precision    recall  f1-score   support\n",
      "\n",
      "           0       0.78      0.88      0.83      1234\n",
      "           1       0.60      0.42      0.49       524\n",
      "\n",
      "    accuracy                           0.74      1758\n",
      "   macro avg       0.69      0.65      0.66      1758\n",
      "weighted avg       0.73      0.74      0.73      1758\n",
      "\n",
      "===============================================================================\n",
      "\n",
      "\n",
      "KNN Training\n",
      "               precision    recall  f1-score   support\n",
      "\n",
      "           0       0.99      0.98      0.98      3929\n",
      "           1       0.98      0.99      0.98      3929\n",
      "\n",
      "    accuracy                           0.98      7858\n",
      "   macro avg       0.98      0.98      0.98      7858\n",
      "weighted avg       0.98      0.98      0.98      7858\n",
      "\n",
      "\n",
      "\n",
      "KNN Testing\n",
      "               precision    recall  f1-score   support\n",
      "\n",
      "           0       0.88      0.68      0.77      1234\n",
      "           1       0.51      0.79      0.62       524\n",
      "\n",
      "    accuracy                           0.71      1758\n",
      "   macro avg       0.70      0.73      0.69      1758\n",
      "weighted avg       0.77      0.71      0.72      1758\n",
      "\n"
     ]
    }
   ],
   "source": [
    "fitting(lr3_tune,rf3_tune,knn3_tune,train_X3,train_Y3,test_X3,test_Y3)"
   ]
  },
  {
   "cell_type": "markdown",
   "metadata": {},
   "source": [
    "- Berdasar report di atas, model Random Forest dan KNN over fitting, model tersebut mampu mengklasifikasi dengan sangat baik menggunakan data train tapi saat menggunakan data test model menunjukan peforma buruk.\n",
    "- Model Logistic Regression tidak over fitting ataupun under fitting"
   ]
  },
  {
   "cell_type": "markdown",
   "metadata": {},
   "source": [
    "## Cek for other treshold"
   ]
  },
  {
   "cell_type": "code",
   "execution_count": 107,
   "metadata": {},
   "outputs": [
    {
     "data": {
      "text/html": [
       "<div>\n",
       "<style scoped>\n",
       "    .dataframe tbody tr th:only-of-type {\n",
       "        vertical-align: middle;\n",
       "    }\n",
       "\n",
       "    .dataframe tbody tr th {\n",
       "        vertical-align: top;\n",
       "    }\n",
       "\n",
       "    .dataframe thead th {\n",
       "        text-align: right;\n",
       "    }\n",
       "</style>\n",
       "<table border=\"1\" class=\"dataframe\">\n",
       "  <thead>\n",
       "    <tr style=\"text-align: right;\">\n",
       "      <th></th>\n",
       "      <th>0</th>\n",
       "      <th>1</th>\n",
       "      <th>predik1</th>\n",
       "      <th>predik2</th>\n",
       "      <th>predik3</th>\n",
       "      <th>predik4</th>\n",
       "      <th>predik5</th>\n",
       "      <th>predik6</th>\n",
       "    </tr>\n",
       "  </thead>\n",
       "  <tbody>\n",
       "    <tr>\n",
       "      <td>0</td>\n",
       "      <td>0.929436</td>\n",
       "      <td>0.070564</td>\n",
       "      <td>0</td>\n",
       "      <td>0</td>\n",
       "      <td>0</td>\n",
       "      <td>0</td>\n",
       "      <td>0</td>\n",
       "      <td>0</td>\n",
       "    </tr>\n",
       "    <tr>\n",
       "      <td>1</td>\n",
       "      <td>0.347009</td>\n",
       "      <td>0.652991</td>\n",
       "      <td>1</td>\n",
       "      <td>1</td>\n",
       "      <td>1</td>\n",
       "      <td>1</td>\n",
       "      <td>1</td>\n",
       "      <td>1</td>\n",
       "    </tr>\n",
       "    <tr>\n",
       "      <td>2</td>\n",
       "      <td>0.609717</td>\n",
       "      <td>0.390283</td>\n",
       "      <td>0</td>\n",
       "      <td>0</td>\n",
       "      <td>0</td>\n",
       "      <td>0</td>\n",
       "      <td>0</td>\n",
       "      <td>0</td>\n",
       "    </tr>\n",
       "    <tr>\n",
       "      <td>3</td>\n",
       "      <td>0.786671</td>\n",
       "      <td>0.213329</td>\n",
       "      <td>0</td>\n",
       "      <td>0</td>\n",
       "      <td>0</td>\n",
       "      <td>0</td>\n",
       "      <td>0</td>\n",
       "      <td>0</td>\n",
       "    </tr>\n",
       "    <tr>\n",
       "      <td>4</td>\n",
       "      <td>0.191621</td>\n",
       "      <td>0.808379</td>\n",
       "      <td>1</td>\n",
       "      <td>1</td>\n",
       "      <td>1</td>\n",
       "      <td>1</td>\n",
       "      <td>1</td>\n",
       "      <td>1</td>\n",
       "    </tr>\n",
       "  </tbody>\n",
       "</table>\n",
       "</div>"
      ],
      "text/plain": [
       "          0         1  predik1  predik2  predik3  predik4  predik5  predik6\n",
       "0  0.929436  0.070564        0        0        0        0        0        0\n",
       "1  0.347009  0.652991        1        1        1        1        1        1\n",
       "2  0.609717  0.390283        0        0        0        0        0        0\n",
       "3  0.786671  0.213329        0        0        0        0        0        0\n",
       "4  0.191621  0.808379        1        1        1        1        1        1"
      ]
     },
     "execution_count": 107,
     "metadata": {},
     "output_type": "execute_result"
    }
   ],
   "source": [
    "df2 = pd.DataFrame(lr3_tune.predict_proba(test_X3))\n",
    "df2['predik1'] = df2[1].apply(lambda i: 1 if i > 0.5 else 0)\n",
    "df2['predik2'] = df2[1].apply(lambda i: 1 if i > 0.51 else 0)\n",
    "df2['predik3'] = df2[1].apply(lambda i: 1 if i > 0.52 else 0)\n",
    "df2['predik4'] = df2[1].apply(lambda i: 1 if i > 0.53 else 0)\n",
    "df2['predik5'] = df2[1].apply(lambda i: 1 if i > 0.54 else 0)\n",
    "df2['predik6'] = df2[1].apply(lambda i: 1 if i > 0.55 else 0)\n",
    "df2.head()"
   ]
  },
  {
   "cell_type": "code",
   "execution_count": 114,
   "metadata": {},
   "outputs": [
    {
     "data": {
      "text/html": [
       "<div>\n",
       "<style scoped>\n",
       "    .dataframe tbody tr th:only-of-type {\n",
       "        vertical-align: middle;\n",
       "    }\n",
       "\n",
       "    .dataframe tbody tr th {\n",
       "        vertical-align: top;\n",
       "    }\n",
       "\n",
       "    .dataframe thead th {\n",
       "        text-align: right;\n",
       "    }\n",
       "</style>\n",
       "<table border=\"1\" class=\"dataframe\">\n",
       "  <thead>\n",
       "    <tr style=\"text-align: right;\">\n",
       "      <th></th>\n",
       "      <th>Model</th>\n",
       "      <th>precision</th>\n",
       "      <th>recall</th>\n",
       "      <th>f1-score</th>\n",
       "    </tr>\n",
       "  </thead>\n",
       "  <tbody>\n",
       "    <tr>\n",
       "      <td>0</td>\n",
       "      <td>0.5</td>\n",
       "      <td>0.565158</td>\n",
       "      <td>0.786260</td>\n",
       "      <td>0.657622</td>\n",
       "    </tr>\n",
       "    <tr>\n",
       "      <td>1</td>\n",
       "      <td>0.51</td>\n",
       "      <td>0.571031</td>\n",
       "      <td>0.782443</td>\n",
       "      <td>0.660225</td>\n",
       "    </tr>\n",
       "    <tr>\n",
       "      <td>2</td>\n",
       "      <td>0.52</td>\n",
       "      <td>0.580000</td>\n",
       "      <td>0.774809</td>\n",
       "      <td>0.663399</td>\n",
       "    </tr>\n",
       "    <tr>\n",
       "      <td>3</td>\n",
       "      <td>0.53</td>\n",
       "      <td>0.579330</td>\n",
       "      <td>0.759542</td>\n",
       "      <td>0.657308</td>\n",
       "    </tr>\n",
       "    <tr>\n",
       "      <td>4</td>\n",
       "      <td>0.54</td>\n",
       "      <td>0.586924</td>\n",
       "      <td>0.753817</td>\n",
       "      <td>0.659983</td>\n",
       "    </tr>\n",
       "    <tr>\n",
       "      <td>5</td>\n",
       "      <td>0.55</td>\n",
       "      <td>0.591252</td>\n",
       "      <td>0.748092</td>\n",
       "      <td>0.660489</td>\n",
       "    </tr>\n",
       "  </tbody>\n",
       "</table>\n",
       "</div>"
      ],
      "text/plain": [
       "  Model  precision    recall  f1-score\n",
       "0   0.5   0.565158  0.786260  0.657622\n",
       "1  0.51   0.571031  0.782443  0.660225\n",
       "2  0.52   0.580000  0.774809  0.663399\n",
       "3  0.53   0.579330  0.759542  0.657308\n",
       "4  0.54   0.586924  0.753817  0.659983\n",
       "5  0.55   0.591252  0.748092  0.660489"
      ]
     },
     "execution_count": 114,
     "metadata": {},
     "output_type": "execute_result"
    }
   ],
   "source": [
    "## Precision,Recall,F1\n",
    "\n",
    "a = classification_report(test_Y3,df2['predik1'],output_dict=True)['0']\n",
    "b = classification_report(test_Y3,df2['predik2'],output_dict=True)['0']\n",
    "c = classification_report(test_Y3,df2['predik3'],output_dict=True)['0']\n",
    "d = classification_report(test_Y3,df2['predik4'],output_dict=True)['0']\n",
    "e = classification_report(test_Y3,df2['predik5'],output_dict=True)['0']\n",
    "f = classification_report(test_Y3,df2['predik6'],output_dict=True)['0']\n",
    "\n",
    "g = classification_report(test_Y3,df2['predik1'],output_dict=True)['1']\n",
    "h = classification_report(test_Y3,df2['predik2'],output_dict=True)['1']\n",
    "i = classification_report(test_Y3,df2['predik3'],output_dict=True)['1']\n",
    "j = classification_report(test_Y3,df2['predik4'],output_dict=True)['1']\n",
    "k = classification_report(test_Y3,df2['predik5'],output_dict=True)['1']\n",
    "l = classification_report(test_Y3,df2['predik6'],output_dict=True)['1']\n",
    "\n",
    "model = pd.DataFrame({'Model':['0.5','0.51','0.52','0.53','0.54','0.55']})\n",
    "report = pd.DataFrame([a,b,c,d,e,f])\n",
    "report.drop(columns='support',inplace=True)\n",
    "report7 = pd.concat([model,report],axis=1)\n",
    "\n",
    "model = pd.DataFrame({'Model':['0.5','0.51','0.52','0.53','0.54','0.55']})\n",
    "report = pd.DataFrame([g,h,i,j,k,l])\n",
    "report.drop(columns='support',inplace=True)\n",
    "report8 = pd.concat([model,report],axis=1)\n",
    "report8"
   ]
  },
  {
   "cell_type": "code",
   "execution_count": 118,
   "metadata": {},
   "outputs": [
    {
     "data": {
      "image/png": "[encoded data removed]",
      "text/plain": [
       "<Figure size 576x360 with 1 Axes>"
      ]
     },
     "metadata": {
      "needs_background": "light"
     },
     "output_type": "display_data"
    }
   ],
   "source": [
    "plt.figure(figsize=(8,5))\n",
    "plt.plot(report8['Model'], report8['precision'],'r-o',label='precision')\n",
    "plt.plot(report8['Model'], report8['recall'],'y-o',label='recall')\n",
    "plt.plot(report8['Model'], report8['f1-score'],'b-o',label='f1-score')\n",
    "# plt.xticks(rotation=45);\n",
    "plt.title('Classification Report')\n",
    "plt.grid(True)\n",
    "plt.legend()\n",
    "plt.show()"
   ]
  },
  {
   "cell_type": "code",
   "execution_count": 116,
   "metadata": {},
   "outputs": [
    {
     "data": {
      "image/png": "[encoded data removed]",
      "text/plain": [
       "<Figure size 576x360 with 1 Axes>"
      ]
     },
     "metadata": {
      "needs_background": "light"
     },
     "output_type": "display_data"
    }
   ],
   "source": [
    "plt.figure(figsize=(8,5))\n",
    "plt.plot(report7['Model'], report7['recall'],'y-o',label='specify')\n",
    "plt.plot(report8['Model'], report8['recall'],'r-o',label='sensitivity')\n",
    "# plt.xticks(rotation=45);\n",
    "plt.title('Sensitivity vs Specify')\n",
    "plt.grid(True)\n",
    "plt.legend()\n",
    "plt.show()"
   ]
  },
  {
   "cell_type": "markdown",
   "metadata": {},
   "source": [
    "# Save Model"
   ]
  },
  {
   "cell_type": "code",
   "execution_count": 119,
   "metadata": {},
   "outputs": [],
   "source": [
    "import joblib"
   ]
  },
  {
   "cell_type": "code",
   "execution_count": 70,
   "metadata": {},
   "outputs": [
    {
     "data": {
      "text/plain": [
       "['lr_best_model']"
      ]
     },
     "execution_count": 70,
     "metadata": {},
     "output_type": "execute_result"
    }
   ],
   "source": [
    "joblib.dump(lr3_tune,'lr_best_model')"
   ]
  },
  {
   "cell_type": "code",
   "execution_count": 134,
   "metadata": {},
   "outputs": [
    {
     "data": {
      "text/plain": [
       "0.9294363050904741"
      ]
     },
     "execution_count": 134,
     "metadata": {},
     "output_type": "execute_result"
    }
   ],
   "source": [
    "lr3_tune.predict_proba([test_X3.iloc[0]])[0][0]"
   ]
  },
  {
   "cell_type": "code",
   "execution_count": null,
   "metadata": {},
   "outputs": [],
   "source": []
  }
 ],
 "metadata": {
  "kernelspec": {
   "display_name": "Python 3",
   "language": "python",
   "name": "python3"
  },
  "language_info": {
   "codemirror_mode": {
    "name": "ipython",
    "version": 3
   },
   "file_extension": ".py",
   "mimetype": "text/x-python",
   "name": "python",
   "nbconvert_exporter": "python",
   "pygments_lexer": "ipython3",
   "version": "3.7.4"
  }
 },
 "nbformat": 4,
 "nbformat_minor": 2
}
