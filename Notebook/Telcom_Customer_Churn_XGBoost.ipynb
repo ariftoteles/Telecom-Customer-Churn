{
  "nbformat": 4,
  "nbformat_minor": 0,
  "metadata": {
    "kernelspec": {
      "display_name": "Python 3",
      "language": "python",
      "name": "python3"
    },
    "language_info": {
      "codemirror_mode": {
        "name": "ipython",
        "version": 3
      },
      "file_extension": ".py",
      "mimetype": "text/x-python",
      "name": "python",
      "nbconvert_exporter": "python",
      "pygments_lexer": "ipython3",
      "version": "3.7.4"
    },
    "colab": {
      "name": "Telcom Customer Churn - XGBoost.ipynb",
      "provenance": [],
      "collapsed_sections": [],
      "toc_visible": true,
      "include_colab_link": true
    }
  },
  "cells": [
    {
      "cell_type": "markdown",
      "metadata": {
        "id": "view-in-github",
        "colab_type": "text"
      },
      "source": [
        "<a href=\"https://colab.research.google.com/github/ariftoteles/Telecom-Customer-Churn/blob/master/Notebook/Telcom_Customer_Churn_XGBoost.ipynb\" target=\"_parent\"><img src=\"https://colab.research.google.com/assets/colab-badge.svg\" alt=\"Open In Colab\"/></a>"
      ]
    },
    {
      "cell_type": "markdown",
      "metadata": {
        "id": "dc_t59T4FAsq",
        "colab_type": "text"
      },
      "source": [
        "# Machine Learning Model (XGBoosting)\n"
      ]
    },
    {
      "cell_type": "markdown",
      "metadata": {
        "id": "mYDJGlOfFAs3",
        "colab_type": "text"
      },
      "source": [
        "## Load Library and Dataset"
      ]
    },
    {
      "cell_type": "code",
      "metadata": {
        "id": "OWUs5lRKGXEL",
        "colab_type": "code",
        "outputId": "8ddbcfa6-f77d-46a4-ee21-c74add8912e2",
        "colab": {
          "base_uri": "https://localhost:8080/",
          "height": 68
        }
      },
      "source": [
        "pip install xgboost"
      ],
      "execution_count": 3,
      "outputs": [
        {
          "output_type": "stream",
          "text": [
            "Requirement already satisfied: xgboost in /usr/local/lib/python3.6/dist-packages (0.90)\n",
            "Requirement already satisfied: numpy in /usr/local/lib/python3.6/dist-packages (from xgboost) (1.18.4)\n",
            "Requirement already satisfied: scipy in /usr/local/lib/python3.6/dist-packages (from xgboost) (1.4.1)\n"
          ],
          "name": "stdout"
        }
      ]
    },
    {
      "cell_type": "code",
      "metadata": {
        "id": "iznp0Lb5FAs5",
        "colab_type": "code",
        "colab": {}
      },
      "source": [
        "import numpy as np\n",
        "import pandas as pd\n",
        "import matplotlib.pyplot as plt\n",
        "\n",
        "from sklearn.model_selection import train_test_split\n",
        "from sklearn.model_selection import KFold\n",
        "from xgboost import XGBClassifier\n",
        "from sklearn.metrics import precision_score, recall_score,f1_score\n",
        "from sklearn.metrics import plot_roc_curve\n",
        "from sklearn.metrics import plot_confusion_matrix\n",
        "from sklearn.metrics import classification_report\n",
        "from sklearn.metrics import roc_curve, roc_auc_score\n",
        "from sklearn.model_selection import cross_val_score,RandomizedSearchCV, GridSearchCV\n",
        "from imblearn.under_sampling import NearMiss\n",
        "from imblearn.over_sampling import RandomOverSampler\n",
        "from imblearn.over_sampling import SMOTE\n",
        "from imblearn.pipeline import Pipeline, make_pipeline\n",
        "\n",
        "import warnings\n",
        "warnings.filterwarnings(\"ignore\")"
      ],
      "execution_count": 0,
      "outputs": []
    },
    {
      "cell_type": "code",
      "metadata": {
        "scrolled": false,
        "id": "_FHRL01kFAtB",
        "colab_type": "code",
        "outputId": "2d26015b-a4db-4138-e464-54f9f2f2bf0d",
        "colab": {
          "base_uri": "https://localhost:8080/",
          "height": 372
        }
      },
      "source": [
        "pd.set_option(\"display.max_columns\", 22)\n",
        "telcom = pd.read_csv('telcom_clean1.csv')\n",
        "telcom.head()"
      ],
      "execution_count": 6,
      "outputs": [
        {
          "output_type": "execute_result",
          "data": {
            "text/html": [
              "<div>\n",
              "<style scoped>\n",
              "    .dataframe tbody tr th:only-of-type {\n",
              "        vertical-align: middle;\n",
              "    }\n",
              "\n",
              "    .dataframe tbody tr th {\n",
              "        vertical-align: top;\n",
              "    }\n",
              "\n",
              "    .dataframe thead th {\n",
              "        text-align: right;\n",
              "    }\n",
              "</style>\n",
              "<table border=\"1\" class=\"dataframe\">\n",
              "  <thead>\n",
              "    <tr style=\"text-align: right;\">\n",
              "      <th></th>\n",
              "      <th>customerID</th>\n",
              "      <th>SeniorCitizen</th>\n",
              "      <th>Partner</th>\n",
              "      <th>Dependents</th>\n",
              "      <th>PhoneService</th>\n",
              "      <th>PaperlessBilling</th>\n",
              "      <th>Churn</th>\n",
              "      <th>gender_Female</th>\n",
              "      <th>gender_Male</th>\n",
              "      <th>MultipleLines_No</th>\n",
              "      <th>MultipleLines_No phone service</th>\n",
              "      <th>...</th>\n",
              "      <th>TechSupport_No internet service</th>\n",
              "      <th>TechSupport_Yes</th>\n",
              "      <th>StreamingTV_No</th>\n",
              "      <th>StreamingTV_No internet service</th>\n",
              "      <th>StreamingTV_Yes</th>\n",
              "      <th>StreamingMovies_No</th>\n",
              "      <th>StreamingMovies_No internet service</th>\n",
              "      <th>StreamingMovies_Yes</th>\n",
              "      <th>tenure</th>\n",
              "      <th>MonthlyCharges</th>\n",
              "      <th>TotalCharges</th>\n",
              "    </tr>\n",
              "  </thead>\n",
              "  <tbody>\n",
              "    <tr>\n",
              "      <th>0</th>\n",
              "      <td>7590-VHVEG</td>\n",
              "      <td>0</td>\n",
              "      <td>1</td>\n",
              "      <td>0</td>\n",
              "      <td>0</td>\n",
              "      <td>1</td>\n",
              "      <td>0</td>\n",
              "      <td>1</td>\n",
              "      <td>0</td>\n",
              "      <td>0</td>\n",
              "      <td>1</td>\n",
              "      <td>...</td>\n",
              "      <td>0</td>\n",
              "      <td>0</td>\n",
              "      <td>1</td>\n",
              "      <td>0</td>\n",
              "      <td>0</td>\n",
              "      <td>1</td>\n",
              "      <td>0</td>\n",
              "      <td>0</td>\n",
              "      <td>-1.280248</td>\n",
              "      <td>-1.161694</td>\n",
              "      <td>-0.994194</td>\n",
              "    </tr>\n",
              "    <tr>\n",
              "      <th>1</th>\n",
              "      <td>5575-GNVDE</td>\n",
              "      <td>0</td>\n",
              "      <td>0</td>\n",
              "      <td>0</td>\n",
              "      <td>1</td>\n",
              "      <td>0</td>\n",
              "      <td>0</td>\n",
              "      <td>0</td>\n",
              "      <td>1</td>\n",
              "      <td>1</td>\n",
              "      <td>0</td>\n",
              "      <td>...</td>\n",
              "      <td>0</td>\n",
              "      <td>0</td>\n",
              "      <td>1</td>\n",
              "      <td>0</td>\n",
              "      <td>0</td>\n",
              "      <td>1</td>\n",
              "      <td>0</td>\n",
              "      <td>0</td>\n",
              "      <td>0.064303</td>\n",
              "      <td>-0.260878</td>\n",
              "      <td>-0.173740</td>\n",
              "    </tr>\n",
              "    <tr>\n",
              "      <th>2</th>\n",
              "      <td>3668-QPYBK</td>\n",
              "      <td>0</td>\n",
              "      <td>0</td>\n",
              "      <td>0</td>\n",
              "      <td>1</td>\n",
              "      <td>1</td>\n",
              "      <td>1</td>\n",
              "      <td>0</td>\n",
              "      <td>1</td>\n",
              "      <td>1</td>\n",
              "      <td>0</td>\n",
              "      <td>...</td>\n",
              "      <td>0</td>\n",
              "      <td>0</td>\n",
              "      <td>1</td>\n",
              "      <td>0</td>\n",
              "      <td>0</td>\n",
              "      <td>1</td>\n",
              "      <td>0</td>\n",
              "      <td>0</td>\n",
              "      <td>-1.239504</td>\n",
              "      <td>-0.363923</td>\n",
              "      <td>-0.959649</td>\n",
              "    </tr>\n",
              "    <tr>\n",
              "      <th>3</th>\n",
              "      <td>7795-CFOCW</td>\n",
              "      <td>0</td>\n",
              "      <td>0</td>\n",
              "      <td>0</td>\n",
              "      <td>0</td>\n",
              "      <td>0</td>\n",
              "      <td>0</td>\n",
              "      <td>0</td>\n",
              "      <td>1</td>\n",
              "      <td>0</td>\n",
              "      <td>1</td>\n",
              "      <td>...</td>\n",
              "      <td>0</td>\n",
              "      <td>1</td>\n",
              "      <td>1</td>\n",
              "      <td>0</td>\n",
              "      <td>0</td>\n",
              "      <td>1</td>\n",
              "      <td>0</td>\n",
              "      <td>0</td>\n",
              "      <td>0.512486</td>\n",
              "      <td>-0.747850</td>\n",
              "      <td>-0.195248</td>\n",
              "    </tr>\n",
              "    <tr>\n",
              "      <th>4</th>\n",
              "      <td>9237-HQITU</td>\n",
              "      <td>0</td>\n",
              "      <td>0</td>\n",
              "      <td>0</td>\n",
              "      <td>1</td>\n",
              "      <td>1</td>\n",
              "      <td>1</td>\n",
              "      <td>1</td>\n",
              "      <td>0</td>\n",
              "      <td>1</td>\n",
              "      <td>0</td>\n",
              "      <td>...</td>\n",
              "      <td>0</td>\n",
              "      <td>0</td>\n",
              "      <td>1</td>\n",
              "      <td>0</td>\n",
              "      <td>0</td>\n",
              "      <td>1</td>\n",
              "      <td>0</td>\n",
              "      <td>0</td>\n",
              "      <td>-1.239504</td>\n",
              "      <td>0.196178</td>\n",
              "      <td>-0.940457</td>\n",
              "    </tr>\n",
              "  </tbody>\n",
              "</table>\n",
              "<p>5 rows × 43 columns</p>\n",
              "</div>"
            ],
            "text/plain": [
              "   customerID  SeniorCitizen  Partner  Dependents  PhoneService  \\\n",
              "0  7590-VHVEG              0        1           0             0   \n",
              "1  5575-GNVDE              0        0           0             1   \n",
              "2  3668-QPYBK              0        0           0             1   \n",
              "3  7795-CFOCW              0        0           0             0   \n",
              "4  9237-HQITU              0        0           0             1   \n",
              "\n",
              "   PaperlessBilling  Churn  gender_Female  gender_Male  MultipleLines_No  \\\n",
              "0                 1      0              1            0                 0   \n",
              "1                 0      0              0            1                 1   \n",
              "2                 1      1              0            1                 1   \n",
              "3                 0      0              0            1                 0   \n",
              "4                 1      1              1            0                 1   \n",
              "\n",
              "   MultipleLines_No phone service  ...  TechSupport_No internet service  \\\n",
              "0                               1  ...                                0   \n",
              "1                               0  ...                                0   \n",
              "2                               0  ...                                0   \n",
              "3                               1  ...                                0   \n",
              "4                               0  ...                                0   \n",
              "\n",
              "   TechSupport_Yes  StreamingTV_No  StreamingTV_No internet service  \\\n",
              "0                0               1                                0   \n",
              "1                0               1                                0   \n",
              "2                0               1                                0   \n",
              "3                1               1                                0   \n",
              "4                0               1                                0   \n",
              "\n",
              "   StreamingTV_Yes  StreamingMovies_No  StreamingMovies_No internet service  \\\n",
              "0                0                   1                                    0   \n",
              "1                0                   1                                    0   \n",
              "2                0                   1                                    0   \n",
              "3                0                   1                                    0   \n",
              "4                0                   1                                    0   \n",
              "\n",
              "   StreamingMovies_Yes    tenure  MonthlyCharges  TotalCharges  \n",
              "0                    0 -1.280248       -1.161694     -0.994194  \n",
              "1                    0  0.064303       -0.260878     -0.173740  \n",
              "2                    0 -1.239504       -0.363923     -0.959649  \n",
              "3                    0  0.512486       -0.747850     -0.195248  \n",
              "4                    0 -1.239504        0.196178     -0.940457  \n",
              "\n",
              "[5 rows x 43 columns]"
            ]
          },
          "metadata": {
            "tags": []
          },
          "execution_count": 6
        }
      ]
    },
    {
      "cell_type": "code",
      "metadata": {
        "id": "UALnl-gEFAtJ",
        "colab_type": "code",
        "outputId": "c4a59a04-0f46-44c1-ce29-7163a77672f3",
        "colab": {
          "base_uri": "https://localhost:8080/",
          "height": 867
        }
      },
      "source": [
        "telcom.info()"
      ],
      "execution_count": 7,
      "outputs": [
        {
          "output_type": "stream",
          "text": [
            "<class 'pandas.core.frame.DataFrame'>\n",
            "RangeIndex: 7032 entries, 0 to 7031\n",
            "Data columns (total 43 columns):\n",
            " #   Column                                   Non-Null Count  Dtype  \n",
            "---  ------                                   --------------  -----  \n",
            " 0   customerID                               7032 non-null   object \n",
            " 1   SeniorCitizen                            7032 non-null   int64  \n",
            " 2   Partner                                  7032 non-null   int64  \n",
            " 3   Dependents                               7032 non-null   int64  \n",
            " 4   PhoneService                             7032 non-null   int64  \n",
            " 5   PaperlessBilling                         7032 non-null   int64  \n",
            " 6   Churn                                    7032 non-null   int64  \n",
            " 7   gender_Female                            7032 non-null   int64  \n",
            " 8   gender_Male                              7032 non-null   int64  \n",
            " 9   MultipleLines_No                         7032 non-null   int64  \n",
            " 10  MultipleLines_No phone service           7032 non-null   int64  \n",
            " 11  MultipleLines_Yes                        7032 non-null   int64  \n",
            " 12  InternetService_DSL                      7032 non-null   int64  \n",
            " 13  InternetService_Fiber optic              7032 non-null   int64  \n",
            " 14  InternetService_No                       7032 non-null   int64  \n",
            " 15  Contract_Month-to-month                  7032 non-null   int64  \n",
            " 16  Contract_One year                        7032 non-null   int64  \n",
            " 17  Contract_Two year                        7032 non-null   int64  \n",
            " 18  PaymentMethod_Bank transfer (automatic)  7032 non-null   int64  \n",
            " 19  PaymentMethod_Credit card (automatic)    7032 non-null   int64  \n",
            " 20  PaymentMethod_Electronic check           7032 non-null   int64  \n",
            " 21  PaymentMethod_Mailed check               7032 non-null   int64  \n",
            " 22  OnlineSecurity_No                        7032 non-null   int64  \n",
            " 23  OnlineSecurity_No internet service       7032 non-null   int64  \n",
            " 24  OnlineSecurity_Yes                       7032 non-null   int64  \n",
            " 25  OnlineBackup_No                          7032 non-null   int64  \n",
            " 26  OnlineBackup_No internet service         7032 non-null   int64  \n",
            " 27  OnlineBackup_Yes                         7032 non-null   int64  \n",
            " 28  DeviceProtection_No                      7032 non-null   int64  \n",
            " 29  DeviceProtection_No internet service     7032 non-null   int64  \n",
            " 30  DeviceProtection_Yes                     7032 non-null   int64  \n",
            " 31  TechSupport_No                           7032 non-null   int64  \n",
            " 32  TechSupport_No internet service          7032 non-null   int64  \n",
            " 33  TechSupport_Yes                          7032 non-null   int64  \n",
            " 34  StreamingTV_No                           7032 non-null   int64  \n",
            " 35  StreamingTV_No internet service          7032 non-null   int64  \n",
            " 36  StreamingTV_Yes                          7032 non-null   int64  \n",
            " 37  StreamingMovies_No                       7032 non-null   int64  \n",
            " 38  StreamingMovies_No internet service      7032 non-null   int64  \n",
            " 39  StreamingMovies_Yes                      7032 non-null   int64  \n",
            " 40  tenure                                   7032 non-null   float64\n",
            " 41  MonthlyCharges                           7032 non-null   float64\n",
            " 42  TotalCharges                             7032 non-null   float64\n",
            "dtypes: float64(3), int64(39), object(1)\n",
            "memory usage: 2.3+ MB\n"
          ],
          "name": "stdout"
        }
      ]
    },
    {
      "cell_type": "markdown",
      "metadata": {
        "id": "lRdHNSnBFAtR",
        "colab_type": "text"
      },
      "source": [
        "# 1. Percobaan 1 (Imbalance Dataset)"
      ]
    },
    {
      "cell_type": "markdown",
      "metadata": {
        "id": "aeY0z-7LFAtS",
        "colab_type": "text"
      },
      "source": [
        "- Training Model menggunakan Imbalance dataset\n",
        "- Pada Model ini saya akan menggunakan semua feature sebagai variable prediktor kecuali Customer ID\n",
        "\n",
        "### Spliting Data"
      ]
    },
    {
      "cell_type": "code",
      "metadata": {
        "scrolled": false,
        "id": "-_zk5cOAFAtU",
        "colab_type": "code",
        "outputId": "77e9def1-a1e1-40be-8258-35441e4d145b",
        "colab": {
          "base_uri": "https://localhost:8080/",
          "height": 323
        }
      },
      "source": [
        "## train test split\n",
        "pd.set_option(\"display.max_columns\", 33)\n",
        "#splitting train and test data \n",
        "feature    = telcom.drop(columns=['customerID','Churn'])\n",
        "target = telcom['Churn']\n",
        "train_X,test_X,train_Y,test_Y = train_test_split(feature,target,test_size = .25,random_state=123)\n",
        "feature.columns"
      ],
      "execution_count": 8,
      "outputs": [
        {
          "output_type": "execute_result",
          "data": {
            "text/plain": [
              "Index(['SeniorCitizen', 'Partner', 'Dependents', 'PhoneService',\n",
              "       'PaperlessBilling', 'gender_Female', 'gender_Male', 'MultipleLines_No',\n",
              "       'MultipleLines_No phone service', 'MultipleLines_Yes',\n",
              "       'InternetService_DSL', 'InternetService_Fiber optic',\n",
              "       'InternetService_No', 'Contract_Month-to-month', 'Contract_One year',\n",
              "       'Contract_Two year', 'PaymentMethod_Bank transfer (automatic)',\n",
              "       'PaymentMethod_Credit card (automatic)',\n",
              "       'PaymentMethod_Electronic check', 'PaymentMethod_Mailed check',\n",
              "       'OnlineSecurity_No', 'OnlineSecurity_No internet service',\n",
              "       'OnlineSecurity_Yes', 'OnlineBackup_No',\n",
              "       'OnlineBackup_No internet service', 'OnlineBackup_Yes',\n",
              "       'DeviceProtection_No', 'DeviceProtection_No internet service',\n",
              "       'DeviceProtection_Yes', 'TechSupport_No',\n",
              "       'TechSupport_No internet service', 'TechSupport_Yes', 'StreamingTV_No',\n",
              "       'StreamingTV_No internet service', 'StreamingTV_Yes',\n",
              "       'StreamingMovies_No', 'StreamingMovies_No internet service',\n",
              "       'StreamingMovies_Yes', 'tenure', 'MonthlyCharges', 'TotalCharges'],\n",
              "      dtype='object')"
            ]
          },
          "metadata": {
            "tags": []
          },
          "execution_count": 8
        }
      ]
    },
    {
      "cell_type": "code",
      "metadata": {
        "id": "dm72xR0PFAt3",
        "colab_type": "code",
        "colab": {}
      },
      "source": [
        "train_X = np.array(train_X)\n",
        "train_Y = np.array(train_Y)\n",
        "test_X = np.array(test_X)\n",
        "test_Y = np.array(test_Y)"
      ],
      "execution_count": 0,
      "outputs": []
    },
    {
      "cell_type": "markdown",
      "metadata": {
        "id": "JKlthtH6FAt-",
        "colab_type": "text"
      },
      "source": [
        "### Deklarasi Model Xgboost"
      ]
    },
    {
      "cell_type": "markdown",
      "metadata": {
        "id": "N7lt7SLCFAt_",
        "colab_type": "text"
      },
      "source": [
        "__Xgboost__"
      ]
    },
    {
      "cell_type": "code",
      "metadata": {
        "id": "MSVB0_RTFAuA",
        "colab_type": "code",
        "outputId": "7a9455b1-d447-48ce-c824-62686fb7d90e",
        "colab": {
          "base_uri": "https://localhost:8080/",
          "height": 85
        }
      },
      "source": [
        "param =             {\"learning_rate\"    : [0.2] ,\n",
        "                     \"max_depth\"        : [3],\n",
        "                     \"min_child_weight\" : [5],\n",
        "                     \"gamma\"            : [0.2],\n",
        "                     \"colsample_bytree\" : [0.3] }\n",
        "\n",
        "xgb = XGBClassifier()\n",
        "xgb_tune = RandomizedSearchCV(xgb, param,cv=5 , n_iter=10, random_state=20,verbose=1)\n",
        "xgb_tune.fit(train_X, train_Y)\n",
        "print(xgb_tune.best_params_)"
      ],
      "execution_count": 16,
      "outputs": [
        {
          "output_type": "stream",
          "text": [
            "Fitting 5 folds for each of 1 candidates, totalling 5 fits\n"
          ],
          "name": "stdout"
        },
        {
          "output_type": "stream",
          "text": [
            "[Parallel(n_jobs=1)]: Using backend SequentialBackend with 1 concurrent workers.\n",
            "[Parallel(n_jobs=1)]: Done   5 out of   5 | elapsed:    1.5s finished\n"
          ],
          "name": "stderr"
        },
        {
          "output_type": "stream",
          "text": [
            "{'min_child_weight': 5, 'max_depth': 3, 'learning_rate': 0.2, 'gamma': 0.2, 'colsample_bytree': 0.3}\n"
          ],
          "name": "stdout"
        }
      ]
    },
    {
      "cell_type": "markdown",
      "metadata": {
        "id": "alp8RGiYFAuj",
        "colab_type": "text"
      },
      "source": [
        "### Evaluation"
      ]
    },
    {
      "cell_type": "code",
      "metadata": {
        "scrolled": false,
        "id": "_0tTGDUnFAup",
        "colab_type": "code",
        "outputId": "493cbf08-f53f-46aa-e6ca-f4673655e875",
        "colab": {
          "base_uri": "https://localhost:8080/",
          "height": 296
        }
      },
      "source": [
        "plot_confusion_matrix(xgb_best,test_X,test_Y,values_format='0.0f')"
      ],
      "execution_count": 17,
      "outputs": [
        {
          "output_type": "execute_result",
          "data": {
            "text/plain": [
              "<sklearn.metrics._plot.confusion_matrix.ConfusionMatrixDisplay at 0x7fb799b04550>"
            ]
          },
          "metadata": {
            "tags": []
          },
          "execution_count": 17
        },
        {
          "output_type": "display_data",
          "data": {
            "image/png": "[encoded data removed]",
            "text/plain": [
              "<Figure size 432x288 with 2 Axes>"
            ]
          },
          "metadata": {
            "tags": [],
            "needs_background": "light"
          }
        }
      ]
    },
    {
      "cell_type": "code",
      "metadata": {
        "id": "kwpggC5qFAux",
        "colab_type": "code",
        "outputId": "8c1e9788-691b-455f-d920-567b623d48c0",
        "colab": {
          "base_uri": "https://localhost:8080/",
          "height": 425
        }
      },
      "source": [
        "print('\\n\\nXGB Train\\n',classification_report(train_Y,xgb_tune.predict(train_X)))\n",
        "print('\\n\\nXGB Test\\n',classification_report(test_Y,xgb_tune.predict(test_X)))"
      ],
      "execution_count": 18,
      "outputs": [
        {
          "output_type": "stream",
          "text": [
            "\n",
            "\n",
            "XGB Train\n",
            "               precision    recall  f1-score   support\n",
            "\n",
            "           0       0.86      0.92      0.89      3929\n",
            "           1       0.72      0.56      0.63      1345\n",
            "\n",
            "    accuracy                           0.83      5274\n",
            "   macro avg       0.79      0.74      0.76      5274\n",
            "weighted avg       0.82      0.83      0.82      5274\n",
            "\n",
            "\n",
            "\n",
            "XGB Test\n",
            "               precision    recall  f1-score   support\n",
            "\n",
            "           0       0.81      0.92      0.86      1234\n",
            "           1       0.73      0.50      0.60       524\n",
            "\n",
            "    accuracy                           0.80      1758\n",
            "   macro avg       0.77      0.71      0.73      1758\n",
            "weighted avg       0.79      0.80      0.79      1758\n",
            "\n"
          ],
          "name": "stdout"
        }
      ]
    },
    {
      "cell_type": "code",
      "metadata": {
        "id": "65ln3JmtFAu5",
        "colab_type": "code",
        "outputId": "8d123303-cd1f-4a38-b8c1-efda6b671411",
        "colab": {
          "base_uri": "https://localhost:8080/",
          "height": 296
        }
      },
      "source": [
        "plot_roc_curve(xgb_tune,test_X,test_Y)"
      ],
      "execution_count": 20,
      "outputs": [
        {
          "output_type": "execute_result",
          "data": {
            "text/plain": [
              "<sklearn.metrics._plot.roc_curve.RocCurveDisplay at 0x7fb799b07828>"
            ]
          },
          "metadata": {
            "tags": []
          },
          "execution_count": 20
        },
        {
          "output_type": "display_data",
          "data": {
            "image/png": "[encoded data removed]",
            "text/plain": [
              "<Figure size 432x288 with 1 Axes>"
            ]
          },
          "metadata": {
            "tags": [],
            "needs_background": "light"
          }
        }
      ]
    },
    {
      "cell_type": "markdown",
      "metadata": {
        "id": "28kYj2g3FAwd",
        "colab_type": "text"
      },
      "source": [
        "## Exclude Feature Monthly Charges dan Total Charges"
      ]
    },
    {
      "cell_type": "markdown",
      "metadata": {
        "id": "O3iBAM5pFAwe",
        "colab_type": "text"
      },
      "source": [
        "Pada Model ini saya tidak akan menggunakan Monthly Charges dan Total Charges untuk memprediksi model. Kemudian saya akan membandingkan dengan model sebelumnya yang menggunakan feature MonthlyCharges dan Total Charges"
      ]
    },
    {
      "cell_type": "markdown",
      "metadata": {
        "id": "zU0_M24nFAwg",
        "colab_type": "text"
      },
      "source": [
        "### Spliting Data"
      ]
    },
    {
      "cell_type": "code",
      "metadata": {
        "scrolled": false,
        "id": "22sbKBiqFAwh",
        "colab_type": "code",
        "colab": {}
      },
      "source": [
        "train_X1 = train_X[:,:-2]\n",
        "test_X1 = test_X[:,:-2]\n",
        "train_Y1 = train_Y\n",
        "test_Y1 = test_Y"
      ],
      "execution_count": 0,
      "outputs": []
    },
    {
      "cell_type": "markdown",
      "metadata": {
        "id": "cEYbt0iqFAwo",
        "colab_type": "text"
      },
      "source": [
        "### Hyper Parameter Tuning"
      ]
    },
    {
      "cell_type": "markdown",
      "metadata": {
        "id": "6za7N_Q1FAwp",
        "colab_type": "text"
      },
      "source": [
        "__Logistic Regression__"
      ]
    },
    {
      "cell_type": "code",
      "metadata": {
        "scrolled": false,
        "id": "mxbsjTkeFAwq",
        "colab_type": "code",
        "outputId": "157479fa-76be-4c46-92df-3dfd8246a290",
        "colab": {
          "base_uri": "https://localhost:8080/",
          "height": 510
        }
      },
      "source": [
        "# {'xgbclassifier__colsample_bytree': 0.7,\n",
        "#  'xgbclassifier__gamma': 0.2,\n",
        "#  'xgbclassifier__learning_rate': 0.05,\n",
        "#  'xgbclassifier__max_depth': 5,\n",
        "#  'xgbclassifier__min_child_weight': 7}\n",
        "param =             {\"learning_rate\"    : [0.05] ,\n",
        "                     \"max_depth\"        : [5] ,\n",
        "                     \"min_child_weight\" : [7],\n",
        "                     \"gamma\"            : [0.2],\n",
        "                     \"colsample_bytree\" : [0.7] }\n",
        "\n",
        "kf = KFold(n_splits=5, random_state=111, shuffle=False)\n",
        "\n",
        "xgb_pipeline = make_pipeline(XGBClassifier())\n",
        "new_params = {'xgbclassifier__' + key: param[key] for key in param}\n",
        "xgb1_tune = GridSearchCV(xgb_pipeline, param_grid=new_params, cv=kf, scoring='f1',\n",
        "                        return_train_score=True)\n",
        "xgb1_tune.fit(train_X1, train_Y1)"
      ],
      "execution_count": 23,
      "outputs": [
        {
          "output_type": "execute_result",
          "data": {
            "text/plain": [
              "GridSearchCV(cv=KFold(n_splits=5, random_state=111, shuffle=False),\n",
              "             error_score=nan,\n",
              "             estimator=Pipeline(memory=None,\n",
              "                                steps=[('xgbclassifier',\n",
              "                                        XGBClassifier(base_score=0.5,\n",
              "                                                      booster='gbtree',\n",
              "                                                      colsample_bylevel=1,\n",
              "                                                      colsample_bynode=1,\n",
              "                                                      colsample_bytree=1,\n",
              "                                                      gamma=0,\n",
              "                                                      learning_rate=0.1,\n",
              "                                                      max_delta_step=0,\n",
              "                                                      max_depth=3,\n",
              "                                                      min_child_weight=1,\n",
              "                                                      missing=None,\n",
              "                                                      n_estimators=100,\n",
              "                                                      n_jobs...\n",
              "                                                      seed=None, silent=None,\n",
              "                                                      subsample=1,\n",
              "                                                      verbosity=1))],\n",
              "                                verbose=False),\n",
              "             iid='deprecated', n_jobs=None,\n",
              "             param_grid={'xgbclassifier__colsample_bytree': [0.7],\n",
              "                         'xgbclassifier__gamma': [0.2],\n",
              "                         'xgbclassifier__learning_rate': [0.05],\n",
              "                         'xgbclassifier__max_depth': [5],\n",
              "                         'xgbclassifier__min_child_weight': [7]},\n",
              "             pre_dispatch='2*n_jobs', refit=True, return_train_score=True,\n",
              "             scoring='f1', verbose=0)"
            ]
          },
          "metadata": {
            "tags": []
          },
          "execution_count": 23
        }
      ]
    },
    {
      "cell_type": "code",
      "metadata": {
        "scrolled": true,
        "id": "HEMhv-Q4FAwy",
        "colab_type": "code",
        "outputId": "0ab8a6f4-24b8-4dfb-898a-a2cafdf15a8e",
        "colab": {
          "base_uri": "https://localhost:8080/",
          "height": 102
        }
      },
      "source": [
        "# xgb1_tune.best_params_\n",
        "\n",
        "# {'xgbclassifier__colsample_bytree': 0.7,\n",
        "#  'xgbclassifier__gamma': 0.2,\n",
        "#  'xgbclassifier__learning_rate': 0.05,\n",
        "#  'xgbclassifier__max_depth': 5,\n",
        "#  'xgbclassifier__min_child_weight': 7}"
      ],
      "execution_count": 0,
      "outputs": [
        {
          "output_type": "execute_result",
          "data": {
            "text/plain": [
              "{'xgbclassifier__colsample_bytree': 0.7,\n",
              " 'xgbclassifier__gamma': 0.2,\n",
              " 'xgbclassifier__learning_rate': 0.05,\n",
              " 'xgbclassifier__max_depth': 5,\n",
              " 'xgbclassifier__min_child_weight': 7}"
            ]
          },
          "metadata": {
            "tags": []
          },
          "execution_count": 43
        }
      ]
    },
    {
      "cell_type": "code",
      "metadata": {
        "id": "3fBjjvTkufsM",
        "colab_type": "code",
        "outputId": "2633e975-1d6a-4015-ebe0-97caa652c47d",
        "colab": {
          "base_uri": "https://localhost:8080/",
          "height": 425
        }
      },
      "source": [
        "print('\\n\\nXGB Train\\n',classification_report(train_Y1,xgb1_tune.predict(train_X1)))\n",
        "print('\\n\\nXGB Test\\n',classification_report(test_Y1,xgb1_tune.predict(test_X1)))"
      ],
      "execution_count": 24,
      "outputs": [
        {
          "output_type": "stream",
          "text": [
            "\n",
            "\n",
            "XGB Train\n",
            "               precision    recall  f1-score   support\n",
            "\n",
            "           0       0.85      0.92      0.88      3929\n",
            "           1       0.69      0.54      0.60      1345\n",
            "\n",
            "    accuracy                           0.82      5274\n",
            "   macro avg       0.77      0.73      0.74      5274\n",
            "weighted avg       0.81      0.82      0.81      5274\n",
            "\n",
            "\n",
            "\n",
            "XGB Test\n",
            "               precision    recall  f1-score   support\n",
            "\n",
            "           0       0.82      0.92      0.87      1234\n",
            "           1       0.74      0.51      0.60       524\n",
            "\n",
            "    accuracy                           0.80      1758\n",
            "   macro avg       0.78      0.72      0.73      1758\n",
            "weighted avg       0.79      0.80      0.79      1758\n",
            "\n"
          ],
          "name": "stdout"
        }
      ]
    },
    {
      "cell_type": "markdown",
      "metadata": {
        "id": "8AdZnWCMFAzT",
        "colab_type": "text"
      },
      "source": [
        "# 2. Percobaan 2 (Under Sampling)"
      ]
    },
    {
      "cell_type": "markdown",
      "metadata": {
        "id": "5EsZZFwXFAzU",
        "colab_type": "text"
      },
      "source": [
        "Dalam dataset ini __class 0__ : 5163, sedangkan __class 1__ : 1869, saya akan menggunakan ```NearMiss``` untuk menyeimbangkan class, teknik ini akan menghapus beberapa sample majority class yaitu __class 0__ sehingga jumlahnya sama dengan minority __class 1__ , ```NearMiss``` akan menghapus majority class yang memiliki jarak terdekat dari minority class.[source](https://machinelearningmastery.com/undersampling-algorithms-for-imbalanced-classification/)"
      ]
    },
    {
      "cell_type": "code",
      "metadata": {
        "id": "CjS7OLOnFAzf",
        "colab_type": "code",
        "colab": {}
      },
      "source": [
        "train_X2 = train_X1.copy()\n",
        "train_Y2 = train_Y1.copy()\n",
        "test_X2 = test_X1\n",
        "test_Y2 = test_Y1"
      ],
      "execution_count": 0,
      "outputs": []
    },
    {
      "cell_type": "code",
      "metadata": {
        "id": "Ccvf9nm9vY0u",
        "colab_type": "code",
        "outputId": "3b4dd1dc-cf13-41ec-a24c-64e47a226aec",
        "colab": {
          "base_uri": "https://localhost:8080/",
          "height": 459
        }
      },
      "source": [
        "# {'xgbclassifier__colsample_bytree': 0.3,\n",
        "#  'xgbclassifier__gamma': 0.4,\n",
        "#  'xgbclassifier__learning_rate': 0.05,\n",
        "#  'xgbclassifier__max_depth': 3,\n",
        "#  'xgbclassifier__min_child_weight': 7}\n",
        "param =             {\"learning_rate\"    : [0.05] ,\n",
        "                     \"max_depth\"        : [3],\n",
        "                     \"min_child_weight\" : [7],\n",
        "                     \"gamma\"            : [0.4],\n",
        "                     \"colsample_bytree\" : [0.3 ] }\n",
        "\n",
        "kf = KFold(n_splits=5, random_state=111, shuffle=False)\n",
        "\n",
        "xgb_pipeline = make_pipeline(NearMiss(),XGBClassifier())\n",
        "new_params = {'xgbclassifier__' + key: param[key] for key in param}\n",
        "xgb2_tune = GridSearchCV(xgb_pipeline, param_grid=new_params, cv=kf, scoring='f1',\n",
        "                        return_train_score=True)\n",
        "xgb2_tune.fit(train_X2, train_Y2)"
      ],
      "execution_count": 26,
      "outputs": [
        {
          "output_type": "execute_result",
          "data": {
            "text/plain": [
              "GridSearchCV(cv=KFold(n_splits=5, random_state=111, shuffle=False),\n",
              "             error_score=nan,\n",
              "             estimator=Pipeline(memory=None,\n",
              "                                steps=[('nearmiss',\n",
              "                                        NearMiss(n_jobs=1, n_neighbors=3,\n",
              "                                                 n_neighbors_ver3=3,\n",
              "                                                 random_state=None, ratio=None,\n",
              "                                                 return_indices=False,\n",
              "                                                 sampling_strategy='auto',\n",
              "                                                 version=1)),\n",
              "                                       ('xgbclassifier',\n",
              "                                        XGBClassifier(base_score=0.5,\n",
              "                                                      booster='gbtree',\n",
              "                                                      colsample_bylevel=...\n",
              "                                                      seed=None, silent=None,\n",
              "                                                      subsample=1,\n",
              "                                                      verbosity=1))],\n",
              "                                verbose=False),\n",
              "             iid='deprecated', n_jobs=None,\n",
              "             param_grid={'xgbclassifier__colsample_bytree': [0.3],\n",
              "                         'xgbclassifier__gamma': [0.4],\n",
              "                         'xgbclassifier__learning_rate': [0.05],\n",
              "                         'xgbclassifier__max_depth': [3],\n",
              "                         'xgbclassifier__min_child_weight': [7]},\n",
              "             pre_dispatch='2*n_jobs', refit=True, return_train_score=True,\n",
              "             scoring='f1', verbose=0)"
            ]
          },
          "metadata": {
            "tags": []
          },
          "execution_count": 26
        }
      ]
    },
    {
      "cell_type": "code",
      "metadata": {
        "id": "HPiUWTOB3djO",
        "colab_type": "code",
        "colab": {}
      },
      "source": [
        "# xgb2_tune.best_params_\n",
        "\n",
        "# {'xgbclassifier__colsample_bytree': 0.3,\n",
        "#  'xgbclassifier__gamma': 0.4,\n",
        "#  'xgbclassifier__learning_rate': 0.05,\n",
        "#  'xgbclassifier__max_depth': 3,\n",
        "#  'xgbclassifier__min_child_weight': 7}"
      ],
      "execution_count": 0,
      "outputs": []
    },
    {
      "cell_type": "code",
      "metadata": {
        "id": "cl7V90D03mPS",
        "colab_type": "code",
        "outputId": "c36ad763-46b2-4660-8d64-755a607342fb",
        "colab": {
          "base_uri": "https://localhost:8080/",
          "height": 425
        }
      },
      "source": [
        "print('\\n\\nXGB Train\\n',classification_report(train_Y2,xgb2_tune.predict(train_X2)))\n",
        "print('\\n\\nXGB Test\\n',classification_report(test_Y2,xgb2_tune.predict(test_X2)))"
      ],
      "execution_count": 27,
      "outputs": [
        {
          "output_type": "stream",
          "text": [
            "\n",
            "\n",
            "XGB Train\n",
            "               precision    recall  f1-score   support\n",
            "\n",
            "           0       0.90      0.41      0.56      3929\n",
            "           1       0.34      0.87      0.48      1345\n",
            "\n",
            "    accuracy                           0.53      5274\n",
            "   macro avg       0.62      0.64      0.52      5274\n",
            "weighted avg       0.76      0.53      0.54      5274\n",
            "\n",
            "\n",
            "\n",
            "XGB Test\n",
            "               precision    recall  f1-score   support\n",
            "\n",
            "           0       0.89      0.44      0.59      1234\n",
            "           1       0.40      0.87      0.54       524\n",
            "\n",
            "    accuracy                           0.57      1758\n",
            "   macro avg       0.64      0.65      0.56      1758\n",
            "weighted avg       0.74      0.57      0.57      1758\n",
            "\n"
          ],
          "name": "stdout"
        }
      ]
    },
    {
      "cell_type": "markdown",
      "metadata": {
        "id": "zD_wBnRVFA1P",
        "colab_type": "text"
      },
      "source": [
        "# 3. Percobaan 3 (Random Over Sampling)"
      ]
    },
    {
      "cell_type": "markdown",
      "metadata": {
        "id": "DXAMiOfSFA1Q",
        "colab_type": "text"
      },
      "source": [
        "Pada percobaan ke 3 ini saya akan menggunakan ```RandomOverSampler``` untuk menyeimbangkan class, teknik ini akan menduplikasi minority class (__class 1__) secara random sehingga total __class 1__ akan sama dengan majority class  (__class 0__)"
      ]
    },
    {
      "cell_type": "code",
      "metadata": {
        "id": "2Wz8ZqJiFA1c",
        "colab_type": "code",
        "colab": {}
      },
      "source": [
        "train_X3 = train_X1\n",
        "train_Y3 = train_Y1\n",
        "test_X3 = test_X1\n",
        "test_Y3 = test_Y1"
      ],
      "execution_count": 0,
      "outputs": []
    },
    {
      "cell_type": "code",
      "metadata": {
        "id": "MmSUwy2t3vsJ",
        "colab_type": "code",
        "outputId": "4049ed84-ab37-4e5e-b0de-cfd3b1c50415",
        "colab": {
          "base_uri": "https://localhost:8080/",
          "height": 459
        }
      },
      "source": [
        "# {'xgbclassifier__colsample_bytree': 0.5,\n",
        "#  'xgbclassifier__gamma': 0.4,\n",
        "#  'xgbclassifier__learning_rate': 0.05,\n",
        "#  'xgbclassifier__max_depth': 3,\n",
        "#  'xgbclassifier__min_child_weight': 1}\n",
        "param =             {\"learning_rate\"    : [0.05] ,\n",
        "                     \"max_depth\"        : [ 3],\n",
        "                     \"min_child_weight\" : [ 1],\n",
        "                     \"gamma\"            : [0.4],\n",
        "                     \"colsample_bytree\" : [0.5] }\n",
        "\n",
        "kf = KFold(n_splits=5, random_state=111, shuffle=False)\n",
        "\n",
        "xgb_pipeline = make_pipeline(RandomOverSampler(),XGBClassifier())\n",
        "new_params = {'xgbclassifier__' + key: param[key] for key in param}\n",
        "xgb3_tune = GridSearchCV(xgb_pipeline, param_grid=new_params, cv=kf, scoring='f1',\n",
        "                        return_train_score=True)\n",
        "xgb3_tune.fit(train_X3, train_Y3)"
      ],
      "execution_count": 29,
      "outputs": [
        {
          "output_type": "execute_result",
          "data": {
            "text/plain": [
              "GridSearchCV(cv=KFold(n_splits=5, random_state=111, shuffle=False),\n",
              "             error_score=nan,\n",
              "             estimator=Pipeline(memory=None,\n",
              "                                steps=[('randomoversampler',\n",
              "                                        RandomOverSampler(random_state=None,\n",
              "                                                          ratio=None,\n",
              "                                                          return_indices=False,\n",
              "                                                          sampling_strategy='auto')),\n",
              "                                       ('xgbclassifier',\n",
              "                                        XGBClassifier(base_score=0.5,\n",
              "                                                      booster='gbtree',\n",
              "                                                      colsample_bylevel=1,\n",
              "                                                      colsample_bynode=1,\n",
              "                                                      colsample_byt...\n",
              "                                                      seed=None, silent=None,\n",
              "                                                      subsample=1,\n",
              "                                                      verbosity=1))],\n",
              "                                verbose=False),\n",
              "             iid='deprecated', n_jobs=None,\n",
              "             param_grid={'xgbclassifier__colsample_bytree': [0.5],\n",
              "                         'xgbclassifier__gamma': [0.4],\n",
              "                         'xgbclassifier__learning_rate': [0.05],\n",
              "                         'xgbclassifier__max_depth': [3],\n",
              "                         'xgbclassifier__min_child_weight': [1]},\n",
              "             pre_dispatch='2*n_jobs', refit=True, return_train_score=True,\n",
              "             scoring='f1', verbose=0)"
            ]
          },
          "metadata": {
            "tags": []
          },
          "execution_count": 29
        }
      ]
    },
    {
      "cell_type": "code",
      "metadata": {
        "id": "nupPT1jSK-LV",
        "colab_type": "code",
        "outputId": "52f7252a-2f2d-4548-ec8f-670ed040d709",
        "colab": {
          "base_uri": "https://localhost:8080/",
          "height": 102
        }
      },
      "source": [
        "# xgb3_tune.best_params_\n",
        "\n",
        "# {'xgbclassifier__colsample_bytree': 0.5,\n",
        "#  'xgbclassifier__gamma': 0.4,\n",
        "#  'xgbclassifier__learning_rate': 0.05,\n",
        "#  'xgbclassifier__max_depth': 3,\n",
        "#  'xgbclassifier__min_child_weight': 1}"
      ],
      "execution_count": 0,
      "outputs": [
        {
          "output_type": "execute_result",
          "data": {
            "text/plain": [
              "{'xgbclassifier__colsample_bytree': 0.5,\n",
              " 'xgbclassifier__gamma': 0.4,\n",
              " 'xgbclassifier__learning_rate': 0.05,\n",
              " 'xgbclassifier__max_depth': 3,\n",
              " 'xgbclassifier__min_child_weight': 1}"
            ]
          },
          "metadata": {
            "tags": []
          },
          "execution_count": 58
        }
      ]
    },
    {
      "cell_type": "code",
      "metadata": {
        "id": "DNqjOhKfLFQY",
        "colab_type": "code",
        "outputId": "bf809646-39ae-4b51-b374-5115bc40f09c",
        "colab": {
          "base_uri": "https://localhost:8080/",
          "height": 425
        }
      },
      "source": [
        "print('\\n\\nXGB Train\\n',classification_report(train_Y3,xgb3_tune.predict(train_X3)))\n",
        "print('\\n\\nXGB Test\\n',classification_report(test_Y3,xgb3_tune.predict(test_X3)))"
      ],
      "execution_count": 30,
      "outputs": [
        {
          "output_type": "stream",
          "text": [
            "\n",
            "\n",
            "XGB Train\n",
            "               precision    recall  f1-score   support\n",
            "\n",
            "           0       0.91      0.74      0.82      3929\n",
            "           1       0.51      0.79      0.62      1345\n",
            "\n",
            "    accuracy                           0.76      5274\n",
            "   macro avg       0.71      0.77      0.72      5274\n",
            "weighted avg       0.81      0.76      0.77      5274\n",
            "\n",
            "\n",
            "\n",
            "XGB Test\n",
            "               precision    recall  f1-score   support\n",
            "\n",
            "           0       0.89      0.76      0.82      1234\n",
            "           1       0.58      0.78      0.66       524\n",
            "\n",
            "    accuracy                           0.76      1758\n",
            "   macro avg       0.73      0.77      0.74      1758\n",
            "weighted avg       0.80      0.76      0.77      1758\n",
            "\n"
          ],
          "name": "stdout"
        }
      ]
    },
    {
      "cell_type": "markdown",
      "metadata": {
        "id": "AeLzFDLRFA3G",
        "colab_type": "text"
      },
      "source": [
        "# 4. Percobaan 4 (SMOTE)"
      ]
    },
    {
      "cell_type": "markdown",
      "metadata": {
        "id": "jPQcZFhMFA3H",
        "colab_type": "text"
      },
      "source": [
        "Pada percobaan ke 4 ini saya akan menggunakan ```SMOTE``` _Synthetic Minority Oversampling Technique_ untuk menyeimbangkan class sehingga minority class akan memiliki jumlah yang sama dengan majority class, berbeda dengan Random Over Sample, SMOTE membuat instance data baru berdasarkan jarak euclidian terdekat, teknik ini mengadopsi algoritma K-Nearest Neighbors.[source](http://etd.repository.ugm.ac.id/home/detail_pencarian/157692)"
      ]
    },
    {
      "cell_type": "code",
      "metadata": {
        "id": "M7eK-YAbFA3M",
        "colab_type": "code",
        "colab": {}
      },
      "source": [
        "train_X4 = train_X1\n",
        "train_Y4 = train_Y1\n",
        "test_X4 = test_X1\n",
        "test_Y4 = test_Y1"
      ],
      "execution_count": 0,
      "outputs": []
    },
    {
      "cell_type": "code",
      "metadata": {
        "id": "UU8-ZEjHLRWf",
        "colab_type": "code",
        "outputId": "7bcd9f84-e4ee-418d-820e-aae594602a40",
        "colab": {
          "base_uri": "https://localhost:8080/",
          "height": 425
        }
      },
      "source": [
        "# {'xgbclassifier__colsample_bytree': 0.7,\n",
        "#  'xgbclassifier__gamma': 0.2,\n",
        "#  'xgbclassifier__learning_rate': 0.05,\n",
        "#  'xgbclassifier__max_depth': 3,\n",
        "#  'xgbclassifier__min_child_weight': 7}\n",
        "param =             {\"learning_rate\"    : [0.05] ,\n",
        "                     \"max_depth\"        : [ 3],\n",
        "                     \"min_child_weight\" : [ 7 ],\n",
        "                     \"gamma\"            : [ 0.2],\n",
        "                     \"colsample_bytree\" : [ 0.7 ] }\n",
        "\n",
        "kf = KFold(n_splits=5, random_state=111, shuffle=False)\n",
        "\n",
        "xgb_pipeline = make_pipeline(SMOTE(),XGBClassifier())\n",
        "new_params = {'xgbclassifier__' + key: param[key] for key in param}\n",
        "xgb4_tune = GridSearchCV(xgb_pipeline, param_grid=new_params, cv=kf, scoring='f1',\n",
        "                        return_train_score=True)\n",
        "xgb4_tune.fit(train_X4, train_Y4)"
      ],
      "execution_count": 32,
      "outputs": [
        {
          "output_type": "execute_result",
          "data": {
            "text/plain": [
              "GridSearchCV(cv=KFold(n_splits=5, random_state=111, shuffle=False),\n",
              "             error_score=nan,\n",
              "             estimator=Pipeline(memory=None,\n",
              "                                steps=[('smote',\n",
              "                                        SMOTE(k_neighbors=5, kind='deprecated',\n",
              "                                              m_neighbors='deprecated',\n",
              "                                              n_jobs=1, out_step='deprecated',\n",
              "                                              random_state=None, ratio=None,\n",
              "                                              sampling_strategy='auto',\n",
              "                                              svm_estimator='deprecated')),\n",
              "                                       ('xgbclassifier',\n",
              "                                        XGBClassifier(base_score=0.5...\n",
              "                                                      seed=None, silent=None,\n",
              "                                                      subsample=1,\n",
              "                                                      verbosity=1))],\n",
              "                                verbose=False),\n",
              "             iid='deprecated', n_jobs=None,\n",
              "             param_grid={'xgbclassifier__colsample_bytree': [0.7],\n",
              "                         'xgbclassifier__gamma': [0.2],\n",
              "                         'xgbclassifier__learning_rate': [0.05],\n",
              "                         'xgbclassifier__max_depth': [3],\n",
              "                         'xgbclassifier__min_child_weight': [7]},\n",
              "             pre_dispatch='2*n_jobs', refit=True, return_train_score=True,\n",
              "             scoring='f1', verbose=0)"
            ]
          },
          "metadata": {
            "tags": []
          },
          "execution_count": 32
        }
      ]
    },
    {
      "cell_type": "code",
      "metadata": {
        "id": "ayY_7aAiY50R",
        "colab_type": "code",
        "outputId": "351e0a4c-19dc-41a6-9b54-928f58e615ee",
        "colab": {
          "base_uri": "https://localhost:8080/",
          "height": 102
        }
      },
      "source": [
        "# xgb4_tune.best_params_\n",
        "\n",
        "# {'xgbclassifier__colsample_bytree': 0.7,\n",
        "#  'xgbclassifier__gamma': 0.2,\n",
        "#  'xgbclassifier__learning_rate': 0.05,\n",
        "#  'xgbclassifier__max_depth': 3,\n",
        "#  'xgbclassifier__min_child_weight': 7}"
      ],
      "execution_count": 0,
      "outputs": [
        {
          "output_type": "execute_result",
          "data": {
            "text/plain": [
              "{'xgbclassifier__colsample_bytree': 0.7,\n",
              " 'xgbclassifier__gamma': 0.2,\n",
              " 'xgbclassifier__learning_rate': 0.05,\n",
              " 'xgbclassifier__max_depth': 3,\n",
              " 'xgbclassifier__min_child_weight': 7}"
            ]
          },
          "metadata": {
            "tags": []
          },
          "execution_count": 63
        }
      ]
    },
    {
      "cell_type": "code",
      "metadata": {
        "id": "IiySPy5WZCBF",
        "colab_type": "code",
        "outputId": "163bf3d4-8bf7-4a7e-e07d-74c3cfd46bbf",
        "colab": {
          "base_uri": "https://localhost:8080/",
          "height": 425
        }
      },
      "source": [
        "print('\\n\\nXGB Train\\n',classification_report(train_Y4,xgb4_tune.predict(train_X4)))\n",
        "print('\\n\\nXGB Test\\n',classification_report(test_Y4,xgb4_tune.predict(test_X4)))"
      ],
      "execution_count": 34,
      "outputs": [
        {
          "output_type": "stream",
          "text": [
            "\n",
            "\n",
            "XGB Train\n",
            "               precision    recall  f1-score   support\n",
            "\n",
            "           0       0.89      0.81      0.85      3929\n",
            "           1       0.57      0.72      0.63      1345\n",
            "\n",
            "    accuracy                           0.79      5274\n",
            "   macro avg       0.73      0.77      0.74      5274\n",
            "weighted avg       0.81      0.79      0.80      5274\n",
            "\n",
            "\n",
            "\n",
            "XGB Test\n",
            "               precision    recall  f1-score   support\n",
            "\n",
            "           0       0.87      0.82      0.85      1234\n",
            "           1       0.63      0.71      0.67       524\n",
            "\n",
            "    accuracy                           0.79      1758\n",
            "   macro avg       0.75      0.77      0.76      1758\n",
            "weighted avg       0.80      0.79      0.79      1758\n",
            "\n"
          ],
          "name": "stdout"
        }
      ]
    },
    {
      "cell_type": "markdown",
      "metadata": {
        "id": "1K90_IyBFA4f",
        "colab_type": "text"
      },
      "source": [
        "# Best Model"
      ]
    },
    {
      "cell_type": "code",
      "metadata": {
        "id": "vnxzrEE3FA4h",
        "colab_type": "code",
        "outputId": "d48fc172-2757-4032-879a-4d1f89ef3f5a",
        "colab": {
          "base_uri": "https://localhost:8080/",
          "height": 173
        }
      },
      "source": [
        "## ROC-AUC\n",
        "a = roc_auc_score(test_Y1, xgb1_tune.predict_proba(test_X1)[:,1])\n",
        "b = roc_auc_score(test_Y2, xgb2_tune.predict_proba(test_X2)[:,1])\n",
        "c = roc_auc_score(test_Y3, xgb3_tune.predict_proba(test_X3)[:,1])\n",
        "d = roc_auc_score(test_Y4, xgb4_tune.predict_proba(test_X4)[:,1])\n",
        "\n",
        "## Accuracy\n",
        "\n",
        "e = classification_report(test_Y1,xgb1_tune.predict(test_X1),output_dict=True)['accuracy']\n",
        "f = classification_report(test_Y2,xgb2_tune.predict(test_X2),output_dict=True)['accuracy']\n",
        "g = classification_report(test_Y3,xgb3_tune.predict(test_X3),output_dict=True)['accuracy']\n",
        "h = classification_report(test_Y4,xgb4_tune.predict(test_X4),output_dict=True)['accuracy']\n",
        "\n",
        "## Precision,Recall,F1\n",
        "\n",
        "i = classification_report(test_Y1,xgb1_tune.predict(test_X1),output_dict=True)['1']\n",
        "j = classification_report(test_Y2,xgb2_tune.predict(test_X2),output_dict=True)['1']\n",
        "k = classification_report(test_Y3,xgb3_tune.predict(test_X3),output_dict=True)['1']\n",
        "l = classification_report(test_Y4,xgb4_tune.predict(test_X4),output_dict=True)['1']\n",
        "\n",
        "model = pd.DataFrame({'Model':['XGB1','XGB2','XGB3','XGB4'],\n",
        "                      'AUC':[a,b,c,d],\n",
        "                      'Accuracy':[e,f,g,h]})\n",
        "report = pd.DataFrame([i,j,k,l])\n",
        "report.drop(columns='support',inplace=True)\n",
        "report5 = pd.concat([model,report],axis=1)\n",
        "report5"
      ],
      "execution_count": 39,
      "outputs": [
        {
          "output_type": "execute_result",
          "data": {
            "text/html": [
              "<div>\n",
              "<style scoped>\n",
              "    .dataframe tbody tr th:only-of-type {\n",
              "        vertical-align: middle;\n",
              "    }\n",
              "\n",
              "    .dataframe tbody tr th {\n",
              "        vertical-align: top;\n",
              "    }\n",
              "\n",
              "    .dataframe thead th {\n",
              "        text-align: right;\n",
              "    }\n",
              "</style>\n",
              "<table border=\"1\" class=\"dataframe\">\n",
              "  <thead>\n",
              "    <tr style=\"text-align: right;\">\n",
              "      <th></th>\n",
              "      <th>Model</th>\n",
              "      <th>AUC</th>\n",
              "      <th>Accuracy</th>\n",
              "      <th>precision</th>\n",
              "      <th>recall</th>\n",
              "      <th>f1-score</th>\n",
              "    </tr>\n",
              "  </thead>\n",
              "  <tbody>\n",
              "    <tr>\n",
              "      <th>0</th>\n",
              "      <td>XGB1</td>\n",
              "      <td>0.861879</td>\n",
              "      <td>0.799772</td>\n",
              "      <td>0.738889</td>\n",
              "      <td>0.507634</td>\n",
              "      <td>0.601810</td>\n",
              "    </tr>\n",
              "    <tr>\n",
              "      <th>1</th>\n",
              "      <td>XGB2</td>\n",
              "      <td>0.669845</td>\n",
              "      <td>0.565415</td>\n",
              "      <td>0.395470</td>\n",
              "      <td>0.866412</td>\n",
              "      <td>0.543062</td>\n",
              "    </tr>\n",
              "    <tr>\n",
              "      <th>2</th>\n",
              "      <td>XGB3</td>\n",
              "      <td>0.858128</td>\n",
              "      <td>0.764505</td>\n",
              "      <td>0.577465</td>\n",
              "      <td>0.782443</td>\n",
              "      <td>0.664506</td>\n",
              "    </tr>\n",
              "    <tr>\n",
              "      <th>3</th>\n",
              "      <td>XGB4</td>\n",
              "      <td>0.859977</td>\n",
              "      <td>0.789534</td>\n",
              "      <td>0.630068</td>\n",
              "      <td>0.711832</td>\n",
              "      <td>0.668459</td>\n",
              "    </tr>\n",
              "  </tbody>\n",
              "</table>\n",
              "</div>"
            ],
            "text/plain": [
              "  Model       AUC  Accuracy  precision    recall  f1-score\n",
              "0  XGB1  0.861879  0.799772   0.738889  0.507634  0.601810\n",
              "1  XGB2  0.669845  0.565415   0.395470  0.866412  0.543062\n",
              "2  XGB3  0.858128  0.764505   0.577465  0.782443  0.664506\n",
              "3  XGB4  0.859977  0.789534   0.630068  0.711832  0.668459"
            ]
          },
          "metadata": {
            "tags": []
          },
          "execution_count": 39
        }
      ]
    },
    {
      "cell_type": "code",
      "metadata": {
        "id": "oYIiu8wzFA4l",
        "colab_type": "code",
        "outputId": "783dad3e-2b60-42ea-a1fa-c1f7757ec4b5",
        "colab": {
          "base_uri": "https://localhost:8080/",
          "height": 354
        }
      },
      "source": [
        "plt.figure(figsize=(8,5))\n",
        "plt.plot(report5['Model'], report5['AUC'],'g-o',label='AUC')\n",
        "plt.plot(report5['Model'], report5['Accuracy'],'k-o',label='Accuracy')\n",
        "plt.plot(report5['Model'], report5['precision'],'r-o',label='precision')\n",
        "plt.plot(report5['Model'], report5['recall'],'y-o',label='recall')\n",
        "plt.plot(report5['Model'], report5['f1-score'],'b-o',label='f1-score')\n",
        "plt.xticks(rotation=90);plt.title('Classification Report')\n",
        "plt.grid(True)\n",
        "plt.legend()\n",
        "plt.show()"
      ],
      "execution_count": 40,
      "outputs": [
        {
          "output_type": "display_data",
          "data": {
            "image/png": "[encoded data removed]",
            "text/plain": [
              "<Figure size 576x360 with 1 Axes>"
            ]
          },
          "metadata": {
            "tags": [],
            "needs_background": "light"
          }
        }
      ]
    },
    {
      "cell_type": "code",
      "metadata": {
        "id": "m812sn_IFA4s",
        "colab_type": "code",
        "outputId": "f9831afa-41ac-48fa-8c73-d8932165e657",
        "colab": {
          "base_uri": "https://localhost:8080/",
          "height": 559
        }
      },
      "source": [
        "plot_confusion_matrix(xgb3_tune,test_X3,test_Y3,values_format='0.0f')\n",
        "plot_confusion_matrix(xgb4_tune,test_X3,test_Y3,values_format='0.0f')"
      ],
      "execution_count": 37,
      "outputs": [
        {
          "output_type": "execute_result",
          "data": {
            "text/plain": [
              "<sklearn.metrics._plot.confusion_matrix.ConfusionMatrixDisplay at 0x7fb799493748>"
            ]
          },
          "metadata": {
            "tags": []
          },
          "execution_count": 37
        },
        {
          "output_type": "display_data",
          "data": {
            "image/png": "[encoded data removed]",
            "text/plain": [
              "<Figure size 432x288 with 2 Axes>"
            ]
          },
          "metadata": {
            "tags": [],
            "needs_background": "light"
          }
        },
        {
          "output_type": "display_data",
          "data": {
            "image/png": "[encoded data removed]",
            "text/plain": [
              "<Figure size 432x288 with 2 Axes>"
            ]
          },
          "metadata": {
            "tags": [],
            "needs_background": "light"
          }
        }
      ]
    },
    {
      "cell_type": "markdown",
      "metadata": {
        "id": "6DO181taFA40",
        "colab_type": "text"
      },
      "source": [
        ">__Model yang ditraining menggunakan dataset balance Random Over Sample sebagai model terbaik__"
      ]
    },
    {
      "cell_type": "markdown",
      "metadata": {
        "id": "UeY2FolVFA5I",
        "colab_type": "text"
      },
      "source": [
        "# Save Model"
      ]
    },
    {
      "cell_type": "code",
      "metadata": {
        "id": "Ffy4txUWFA5J",
        "colab_type": "code",
        "colab": {}
      },
      "source": [
        "import joblib"
      ],
      "execution_count": 0,
      "outputs": []
    },
    {
      "cell_type": "code",
      "metadata": {
        "id": "iOCGD8EcFA5N",
        "colab_type": "code",
        "colab": {}
      },
      "source": [
        "# joblib.dump(lr3_tune,'lr_best_model')"
      ],
      "execution_count": 0,
      "outputs": []
    }
  ]
}