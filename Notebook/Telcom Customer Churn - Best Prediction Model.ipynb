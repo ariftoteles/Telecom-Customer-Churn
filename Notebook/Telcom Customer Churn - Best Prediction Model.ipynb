{
 "cells": [
  {
   "cell_type": "markdown",
   "metadata": {},
   "source": [
    "# Machine Learning Model\n",
    "\n",
    "- Pada Notebook ini akan dibangun Supervised Machine Learning menggunakan metode Logisitic Regression, Decision Tree, Random Forest, dan K-Nearest Neighbors.\n",
    "- Class label pada dataset tidak seimbang, label Not Churn : 5163, label Chrun : 1869. \n",
    "- Saya akan melakukan 4 percobaan:\n",
    "    1. Training model menggunakan dataset Imbalance\n",
    "    2. Training model menggunakan dataset balance (Under Sample)\n",
    "    3. Training model menggunakan dataset balance (Random Over Sample)\n",
    "    4. Training model menggunakan dataset balance Synthetic Minority Oversampling Technique(SMOTE)\n",
    "- Feature Monthly Charges dan Total Charges tidak akan digunakan sebagai variable prediktor dengan pertimbangan sebagai berikut :\n",
    "    - 2 Feature tersebut merupakan feature dependent, hal ini sudah dibuktikan pada notebook EDA sebelumnya\n",
    "    - Dalam membuat model Machine Learning, tidak ada keharusan untuk membuang feature yang dependent, namun dalam membuat model interface yang bisa digunakan oleh user, 2 feature ini akan menyulitkan user untuk melakukan input nilainya karena user tidak benar-benar tahu nilainya. Untuk mendapatkan nilai Monthly Charges dan Total Charges setiap perusahaan pasti sudah memiliki formula/perhitungan untuk menentukan harga, jika demikian kita bisa menggunakan feature ini sebagai prediktor, tapi pada kasus ini kita tidak memiliki formula tersebut.\n",
    "\n",
    "- Sebelum saya benar benar membuang feature tersebut, saya akan melihat perbandingan model yang menggunakan 2 feature tersebut dan yang tidak menggunakan 2 feature tersebut."
   ]
  },
  {
   "cell_type": "markdown",
   "metadata": {},
   "source": [
    "## Load Library and Dataset"
   ]
  },
  {
   "cell_type": "code",
   "execution_count": 2,
   "metadata": {},
   "outputs": [],
   "source": [
    "import numpy as np\n",
    "import pandas as pd\n",
    "import matplotlib.pyplot as plt\n",
    "# import seaborn as sns\n",
    "\n",
    "# from sklearn.preprocessing import LabelEncoder\n",
    "# from sklearn.preprocessing import StandardScaler\n",
    "from sklearn.model_selection import train_test_split\n",
    "from sklearn.model_selection import KFold\n",
    "from sklearn.linear_model import LogisticRegression\n",
    "from sklearn.tree import DecisionTreeClassifier\n",
    "from sklearn.ensemble import RandomForestClassifier\n",
    "from sklearn.neighbors import KNeighborsClassifier\n",
    "from sklearn.metrics import precision_score, recall_score,f1_score\n",
    "from sklearn.metrics import plot_roc_curve\n",
    "from sklearn.metrics import plot_confusion_matrix\n",
    "from sklearn.metrics import classification_report\n",
    "from sklearn.metrics import roc_curve, roc_auc_score\n",
    "from sklearn.model_selection import cross_val_score,RandomizedSearchCV, GridSearchCV\n",
    "from imblearn.under_sampling import NearMiss\n",
    "from imblearn.over_sampling import RandomOverSampler\n",
    "from imblearn.over_sampling import SMOTE\n",
    "from imblearn.pipeline import Pipeline, make_pipeline\n",
    "\n",
    "import warnings\n",
    "warnings.filterwarnings(\"ignore\")"
   ]
  },
  {
   "cell_type": "code",
   "execution_count": 3,
   "metadata": {
    "scrolled": false
   },
   "outputs": [
    {
     "data": {
      "text/html": [
       "<div>\n",
       "<style scoped>\n",
       "    .dataframe tbody tr th:only-of-type {\n",
       "        vertical-align: middle;\n",
       "    }\n",
       "\n",
       "    .dataframe tbody tr th {\n",
       "        vertical-align: top;\n",
       "    }\n",
       "\n",
       "    .dataframe thead th {\n",
       "        text-align: right;\n",
       "    }\n",
       "</style>\n",
       "<table border=\"1\" class=\"dataframe\">\n",
       "  <thead>\n",
       "    <tr style=\"text-align: right;\">\n",
       "      <th></th>\n",
       "      <th>customerID</th>\n",
       "      <th>SeniorCitizen</th>\n",
       "      <th>Partner</th>\n",
       "      <th>Dependents</th>\n",
       "      <th>PhoneService</th>\n",
       "      <th>PaperlessBilling</th>\n",
       "      <th>Churn</th>\n",
       "      <th>gender_Female</th>\n",
       "      <th>gender_Male</th>\n",
       "      <th>MultipleLines_No</th>\n",
       "      <th>MultipleLines_No phone service</th>\n",
       "      <th>...</th>\n",
       "      <th>TechSupport_No internet service</th>\n",
       "      <th>TechSupport_Yes</th>\n",
       "      <th>StreamingTV_No</th>\n",
       "      <th>StreamingTV_No internet service</th>\n",
       "      <th>StreamingTV_Yes</th>\n",
       "      <th>StreamingMovies_No</th>\n",
       "      <th>StreamingMovies_No internet service</th>\n",
       "      <th>StreamingMovies_Yes</th>\n",
       "      <th>tenure</th>\n",
       "      <th>MonthlyCharges</th>\n",
       "      <th>TotalCharges</th>\n",
       "    </tr>\n",
       "  </thead>\n",
       "  <tbody>\n",
       "    <tr>\n",
       "      <td>0</td>\n",
       "      <td>7590-VHVEG</td>\n",
       "      <td>0</td>\n",
       "      <td>1</td>\n",
       "      <td>0</td>\n",
       "      <td>0</td>\n",
       "      <td>1</td>\n",
       "      <td>0</td>\n",
       "      <td>1</td>\n",
       "      <td>0</td>\n",
       "      <td>0</td>\n",
       "      <td>1</td>\n",
       "      <td>...</td>\n",
       "      <td>0</td>\n",
       "      <td>0</td>\n",
       "      <td>1</td>\n",
       "      <td>0</td>\n",
       "      <td>0</td>\n",
       "      <td>1</td>\n",
       "      <td>0</td>\n",
       "      <td>0</td>\n",
       "      <td>-1.280248</td>\n",
       "      <td>-1.161694</td>\n",
       "      <td>-0.994194</td>\n",
       "    </tr>\n",
       "    <tr>\n",
       "      <td>1</td>\n",
       "      <td>5575-GNVDE</td>\n",
       "      <td>0</td>\n",
       "      <td>0</td>\n",
       "      <td>0</td>\n",
       "      <td>1</td>\n",
       "      <td>0</td>\n",
       "      <td>0</td>\n",
       "      <td>0</td>\n",
       "      <td>1</td>\n",
       "      <td>1</td>\n",
       "      <td>0</td>\n",
       "      <td>...</td>\n",
       "      <td>0</td>\n",
       "      <td>0</td>\n",
       "      <td>1</td>\n",
       "      <td>0</td>\n",
       "      <td>0</td>\n",
       "      <td>1</td>\n",
       "      <td>0</td>\n",
       "      <td>0</td>\n",
       "      <td>0.064303</td>\n",
       "      <td>-0.260878</td>\n",
       "      <td>-0.173740</td>\n",
       "    </tr>\n",
       "    <tr>\n",
       "      <td>2</td>\n",
       "      <td>3668-QPYBK</td>\n",
       "      <td>0</td>\n",
       "      <td>0</td>\n",
       "      <td>0</td>\n",
       "      <td>1</td>\n",
       "      <td>1</td>\n",
       "      <td>1</td>\n",
       "      <td>0</td>\n",
       "      <td>1</td>\n",
       "      <td>1</td>\n",
       "      <td>0</td>\n",
       "      <td>...</td>\n",
       "      <td>0</td>\n",
       "      <td>0</td>\n",
       "      <td>1</td>\n",
       "      <td>0</td>\n",
       "      <td>0</td>\n",
       "      <td>1</td>\n",
       "      <td>0</td>\n",
       "      <td>0</td>\n",
       "      <td>-1.239504</td>\n",
       "      <td>-0.363923</td>\n",
       "      <td>-0.959649</td>\n",
       "    </tr>\n",
       "    <tr>\n",
       "      <td>3</td>\n",
       "      <td>7795-CFOCW</td>\n",
       "      <td>0</td>\n",
       "      <td>0</td>\n",
       "      <td>0</td>\n",
       "      <td>0</td>\n",
       "      <td>0</td>\n",
       "      <td>0</td>\n",
       "      <td>0</td>\n",
       "      <td>1</td>\n",
       "      <td>0</td>\n",
       "      <td>1</td>\n",
       "      <td>...</td>\n",
       "      <td>0</td>\n",
       "      <td>1</td>\n",
       "      <td>1</td>\n",
       "      <td>0</td>\n",
       "      <td>0</td>\n",
       "      <td>1</td>\n",
       "      <td>0</td>\n",
       "      <td>0</td>\n",
       "      <td>0.512486</td>\n",
       "      <td>-0.747850</td>\n",
       "      <td>-0.195248</td>\n",
       "    </tr>\n",
       "    <tr>\n",
       "      <td>4</td>\n",
       "      <td>9237-HQITU</td>\n",
       "      <td>0</td>\n",
       "      <td>0</td>\n",
       "      <td>0</td>\n",
       "      <td>1</td>\n",
       "      <td>1</td>\n",
       "      <td>1</td>\n",
       "      <td>1</td>\n",
       "      <td>0</td>\n",
       "      <td>1</td>\n",
       "      <td>0</td>\n",
       "      <td>...</td>\n",
       "      <td>0</td>\n",
       "      <td>0</td>\n",
       "      <td>1</td>\n",
       "      <td>0</td>\n",
       "      <td>0</td>\n",
       "      <td>1</td>\n",
       "      <td>0</td>\n",
       "      <td>0</td>\n",
       "      <td>-1.239504</td>\n",
       "      <td>0.196178</td>\n",
       "      <td>-0.940457</td>\n",
       "    </tr>\n",
       "  </tbody>\n",
       "</table>\n",
       "<p>5 rows × 43 columns</p>\n",
       "</div>"
      ],
      "text/plain": [
       "   customerID  SeniorCitizen  Partner  Dependents  PhoneService  \\\n",
       "0  7590-VHVEG              0        1           0             0   \n",
       "1  5575-GNVDE              0        0           0             1   \n",
       "2  3668-QPYBK              0        0           0             1   \n",
       "3  7795-CFOCW              0        0           0             0   \n",
       "4  9237-HQITU              0        0           0             1   \n",
       "\n",
       "   PaperlessBilling  Churn  gender_Female  gender_Male  MultipleLines_No  \\\n",
       "0                 1      0              1            0                 0   \n",
       "1                 0      0              0            1                 1   \n",
       "2                 1      1              0            1                 1   \n",
       "3                 0      0              0            1                 0   \n",
       "4                 1      1              1            0                 1   \n",
       "\n",
       "   MultipleLines_No phone service  ...  TechSupport_No internet service  \\\n",
       "0                               1  ...                                0   \n",
       "1                               0  ...                                0   \n",
       "2                               0  ...                                0   \n",
       "3                               1  ...                                0   \n",
       "4                               0  ...                                0   \n",
       "\n",
       "   TechSupport_Yes  StreamingTV_No  StreamingTV_No internet service  \\\n",
       "0                0               1                                0   \n",
       "1                0               1                                0   \n",
       "2                0               1                                0   \n",
       "3                1               1                                0   \n",
       "4                0               1                                0   \n",
       "\n",
       "   StreamingTV_Yes  StreamingMovies_No  StreamingMovies_No internet service  \\\n",
       "0                0                   1                                    0   \n",
       "1                0                   1                                    0   \n",
       "2                0                   1                                    0   \n",
       "3                0                   1                                    0   \n",
       "4                0                   1                                    0   \n",
       "\n",
       "   StreamingMovies_Yes    tenure  MonthlyCharges  TotalCharges  \n",
       "0                    0 -1.280248       -1.161694     -0.994194  \n",
       "1                    0  0.064303       -0.260878     -0.173740  \n",
       "2                    0 -1.239504       -0.363923     -0.959649  \n",
       "3                    0  0.512486       -0.747850     -0.195248  \n",
       "4                    0 -1.239504        0.196178     -0.940457  \n",
       "\n",
       "[5 rows x 43 columns]"
      ]
     },
     "execution_count": 3,
     "metadata": {},
     "output_type": "execute_result"
    }
   ],
   "source": [
    "pd.set_option(\"display.max_columns\", 22)\n",
    "telcom = pd.read_csv('telcom_clean1.csv')\n",
    "telcom.head()"
   ]
  },
  {
   "cell_type": "code",
   "execution_count": 4,
   "metadata": {},
   "outputs": [
    {
     "name": "stdout",
     "output_type": "stream",
     "text": [
      "<class 'pandas.core.frame.DataFrame'>\n",
      "RangeIndex: 7032 entries, 0 to 7031\n",
      "Data columns (total 43 columns):\n",
      "customerID                                 7032 non-null object\n",
      "SeniorCitizen                              7032 non-null int64\n",
      "Partner                                    7032 non-null int64\n",
      "Dependents                                 7032 non-null int64\n",
      "PhoneService                               7032 non-null int64\n",
      "PaperlessBilling                           7032 non-null int64\n",
      "Churn                                      7032 non-null int64\n",
      "gender_Female                              7032 non-null int64\n",
      "gender_Male                                7032 non-null int64\n",
      "MultipleLines_No                           7032 non-null int64\n",
      "MultipleLines_No phone service             7032 non-null int64\n",
      "MultipleLines_Yes                          7032 non-null int64\n",
      "InternetService_DSL                        7032 non-null int64\n",
      "InternetService_Fiber optic                7032 non-null int64\n",
      "InternetService_No                         7032 non-null int64\n",
      "Contract_Month-to-month                    7032 non-null int64\n",
      "Contract_One year                          7032 non-null int64\n",
      "Contract_Two year                          7032 non-null int64\n",
      "PaymentMethod_Bank transfer (automatic)    7032 non-null int64\n",
      "PaymentMethod_Credit card (automatic)      7032 non-null int64\n",
      "PaymentMethod_Electronic check             7032 non-null int64\n",
      "PaymentMethod_Mailed check                 7032 non-null int64\n",
      "OnlineSecurity_No                          7032 non-null int64\n",
      "OnlineSecurity_No internet service         7032 non-null int64\n",
      "OnlineSecurity_Yes                         7032 non-null int64\n",
      "OnlineBackup_No                            7032 non-null int64\n",
      "OnlineBackup_No internet service           7032 non-null int64\n",
      "OnlineBackup_Yes                           7032 non-null int64\n",
      "DeviceProtection_No                        7032 non-null int64\n",
      "DeviceProtection_No internet service       7032 non-null int64\n",
      "DeviceProtection_Yes                       7032 non-null int64\n",
      "TechSupport_No                             7032 non-null int64\n",
      "TechSupport_No internet service            7032 non-null int64\n",
      "TechSupport_Yes                            7032 non-null int64\n",
      "StreamingTV_No                             7032 non-null int64\n",
      "StreamingTV_No internet service            7032 non-null int64\n",
      "StreamingTV_Yes                            7032 non-null int64\n",
      "StreamingMovies_No                         7032 non-null int64\n",
      "StreamingMovies_No internet service        7032 non-null int64\n",
      "StreamingMovies_Yes                        7032 non-null int64\n",
      "tenure                                     7032 non-null float64\n",
      "MonthlyCharges                             7032 non-null float64\n",
      "TotalCharges                               7032 non-null float64\n",
      "dtypes: float64(3), int64(39), object(1)\n",
      "memory usage: 2.3+ MB\n"
     ]
    }
   ],
   "source": [
    "telcom.info()"
   ]
  },
  {
   "cell_type": "markdown",
   "metadata": {},
   "source": [
    "# 1. Percobaan 1 (Imbalance Dataset)"
   ]
  },
  {
   "cell_type": "markdown",
   "metadata": {},
   "source": [
    "- Training Model menggunakan Imbalance dataset\n",
    "- Pada Model ini saya akan menggunakan semua feature sebagai variable prediktor kecuali Customer ID\n",
    "- Untuk melakukan prediksi, saya akan menggunakan model klasifikasi Logistic Regression, Decision Tree,Random Forest, dan K-Nearest Neighbors.\n",
    "\n",
    "### Spliting Data"
   ]
  },
  {
   "cell_type": "code",
   "execution_count": 5,
   "metadata": {
    "scrolled": false
   },
   "outputs": [
    {
     "data": {
      "text/plain": [
       "Index(['SeniorCitizen', 'Partner', 'Dependents', 'PhoneService',\n",
       "       'PaperlessBilling', 'gender_Female', 'gender_Male', 'MultipleLines_No',\n",
       "       'MultipleLines_No phone service', 'MultipleLines_Yes',\n",
       "       'InternetService_DSL', 'InternetService_Fiber optic',\n",
       "       'InternetService_No', 'Contract_Month-to-month', 'Contract_One year',\n",
       "       'Contract_Two year', 'PaymentMethod_Bank transfer (automatic)',\n",
       "       'PaymentMethod_Credit card (automatic)',\n",
       "       'PaymentMethod_Electronic check', 'PaymentMethod_Mailed check',\n",
       "       'OnlineSecurity_No', 'OnlineSecurity_No internet service',\n",
       "       'OnlineSecurity_Yes', 'OnlineBackup_No',\n",
       "       'OnlineBackup_No internet service', 'OnlineBackup_Yes',\n",
       "       'DeviceProtection_No', 'DeviceProtection_No internet service',\n",
       "       'DeviceProtection_Yes', 'TechSupport_No',\n",
       "       'TechSupport_No internet service', 'TechSupport_Yes', 'StreamingTV_No',\n",
       "       'StreamingTV_No internet service', 'StreamingTV_Yes',\n",
       "       'StreamingMovies_No', 'StreamingMovies_No internet service',\n",
       "       'StreamingMovies_Yes', 'tenure', 'MonthlyCharges', 'TotalCharges'],\n",
       "      dtype='object')"
      ]
     },
     "execution_count": 5,
     "metadata": {},
     "output_type": "execute_result"
    }
   ],
   "source": [
    "## train test split\n",
    "pd.set_option(\"display.max_columns\", 33)\n",
    "#splitting train and test data \n",
    "feature    = telcom.drop(columns=['customerID','Churn'])\n",
    "target = telcom['Churn']\n",
    "train_X,test_X,train_Y,test_Y = train_test_split(feature,target,test_size = .25,random_state=123)\n",
    "feature.columns"
   ]
  },
  {
   "cell_type": "code",
   "execution_count": 9,
   "metadata": {},
   "outputs": [],
   "source": [
    "train_X = np.array(train_X)\n",
    "train_Y = np.array(train_Y)"
   ]
  },
  {
   "cell_type": "markdown",
   "metadata": {},
   "source": [
    "### Deklarasi Model"
   ]
  },
  {
   "cell_type": "markdown",
   "metadata": {},
   "source": [
    "Pada deklarasi model ini, saya akan langsung melakukan Hyperparameter Tuning menggunakan ```GridSearchCV``` , ```GridSearchCV``` memungkinkan parameter yang kita deklare akan dipasangkan dengan parameter lain, jadi hasil ```GridSearchCV``` pasti akan lebih baik dari deklarasi model menggunakan parameter default.\n",
    "Pada proses hyper parameter ini saya mengunakan ```CrossValidation``` dengan 5 fold/lipatan. Karena menggunakan class imbalance, pada hyperparameter saya menggunakan scoring __F1 Score__"
   ]
  },
  {
   "cell_type": "markdown",
   "metadata": {},
   "source": [
    "__Parameter Tuning Logistic Regression__"
   ]
  },
  {
   "cell_type": "code",
   "execution_count": 17,
   "metadata": {
    "scrolled": false
   },
   "outputs": [
    {
     "data": {
      "text/plain": [
       "GridSearchCV(cv=KFold(n_splits=5, random_state=111, shuffle=False),\n",
       "             error_score=nan,\n",
       "             estimator=Pipeline(memory=None,\n",
       "                                steps=[('logisticregression',\n",
       "                                        LogisticRegression(C=1.0,\n",
       "                                                           class_weight=None,\n",
       "                                                           dual=False,\n",
       "                                                           fit_intercept=True,\n",
       "                                                           intercept_scaling=1,\n",
       "                                                           l1_ratio=None,\n",
       "                                                           max_iter=100,\n",
       "                                                           multi_class='auto',\n",
       "                                                           n_jobs=None,\n",
       "                                                           penalty='l2',\n",
       "                                                           random_state=None,\n",
       "                                                           solver='lbfgs',\n",
       "                                                           tol=0.0001,\n",
       "                                                           verbose=0,\n",
       "                                                           warm_start=False))],\n",
       "                                verbose=False),\n",
       "             iid='deprecated', n_jobs=None,\n",
       "             param_grid={'logisticregression__C': [0.001],\n",
       "                         'logisticregression__penalty': ['none'],\n",
       "                         'logisticregression__solver': ['saga']},\n",
       "             pre_dispatch='2*n_jobs', refit=True, return_train_score=True,\n",
       "             scoring='f1', verbose=0)"
      ]
     },
     "execution_count": 17,
     "metadata": {},
     "output_type": "execute_result"
    }
   ],
   "source": [
    "# # weights = np.linspace(0.05, 0.95, 20)\n",
    "# param_lr = {\n",
    "#     'solver':['saga'], ##algoritma Logistic regression\n",
    "#     'penalty':['none'], # regularisasi\n",
    "# #     'class_weight': [{0: x, 1: 1.0-x} for x in weights],  # bobot masing2 class\n",
    "#       'C': [0.001] #strong of regularisasi\n",
    "# }\n",
    "# kf = KFold(n_splits=5, random_state=111, shuffle=False)\n",
    "\n",
    "# lr_pipeline = make_pipeline(LogisticRegression())\n",
    "# new_params = {'logisticregression__' + key: param_lr[key] for key in param_lr}\n",
    "# lr_tune = GridSearchCV(lr_pipeline, param_grid=new_params, cv=kf, scoring='f1',\n",
    "#                         return_train_score=True)\n",
    "# lr_tune.fit(train_X, train_Y)"
   ]
  },
  {
   "cell_type": "code",
   "execution_count": 79,
   "metadata": {},
   "outputs": [
    {
     "data": {
      "text/plain": [
       "{'logisticregression__C': 0.001,\n",
       " 'logisticregression__penalty': 'none',\n",
       " 'logisticregression__solver': 'saga'}"
      ]
     },
     "execution_count": 79,
     "metadata": {},
     "output_type": "execute_result"
    }
   ],
   "source": [
    "# lr_tune.best_params_\n",
    "\n",
    "# {'logisticregression__C': 0.001,\n",
    "#  'logisticregression__penalty': 'none',\n",
    "#  'logisticregression__solver': 'saga'}"
   ]
  },
  {
   "cell_type": "markdown",
   "metadata": {},
   "source": [
    "__Parameter Tuning Decision Tree__"
   ]
  },
  {
   "cell_type": "code",
   "execution_count": 19,
   "metadata": {},
   "outputs": [
    {
     "data": {
      "text/plain": [
       "GridSearchCV(cv=KFold(n_splits=5, random_state=111, shuffle=False),\n",
       "             error_score=nan,\n",
       "             estimator=Pipeline(memory=None,\n",
       "                                steps=[('decisiontreeclassifier',\n",
       "                                        DecisionTreeClassifier(ccp_alpha=0.0,\n",
       "                                                               class_weight=None,\n",
       "                                                               criterion='gini',\n",
       "                                                               max_depth=None,\n",
       "                                                               max_features=None,\n",
       "                                                               max_leaf_nodes=None,\n",
       "                                                               min_impurity_decrease=0.0,\n",
       "                                                               min_impurity_split=None,\n",
       "                                                               min_samples_leaf=1,\n",
       "                                                               min_samples...\n",
       "                                                               random_state=None,\n",
       "                                                               splitter='best'))],\n",
       "                                verbose=False),\n",
       "             iid='deprecated', n_jobs=None,\n",
       "             param_grid={'decisiontreeclassifier__criterion': ['entropy'],\n",
       "                         'decisiontreeclassifier__max_depth': [10],\n",
       "                         'decisiontreeclassifier__min_samples_leaf': [8],\n",
       "                         'decisiontreeclassifier__min_samples_split': [8]},\n",
       "             pre_dispatch='2*n_jobs', refit=True, return_train_score=True,\n",
       "             scoring='f1', verbose=0)"
      ]
     },
     "execution_count": 19,
     "metadata": {},
     "output_type": "execute_result"
    }
   ],
   "source": [
    "# # weights = np.linspace(0.05, 0.95, 20)\n",
    "# param = {\n",
    "#     'criterion':['entropy'], ## algoritma tree\n",
    "#     'max_depth': [10],\n",
    "#     \"min_samples_split\":[8],\n",
    "#     \"min_samples_leaf\":[8]\n",
    "# #     'class_weight': [{0: x, 1: 1.0-x} for x in weights] \n",
    "# }\n",
    "# kf = KFold(n_splits=5, random_state=111, shuffle=False)\n",
    "\n",
    "# dct_pipeline = make_pipeline(DecisionTreeClassifier())\n",
    "# new_params = {'decisiontreeclassifier__' + key: param[key] for key in param}\n",
    "# dct_tune = GridSearchCV(dct_pipeline, param_grid=new_params, cv=kf, scoring='f1',\n",
    "#                         return_train_score=True)\n",
    "# dct_tune.fit(train_X, train_Y)"
   ]
  },
  {
   "cell_type": "code",
   "execution_count": 78,
   "metadata": {},
   "outputs": [
    {
     "data": {
      "text/plain": [
       "{'decisiontreeclassifier__criterion': 'entropy',\n",
       " 'decisiontreeclassifier__max_depth': 10,\n",
       " 'decisiontreeclassifier__min_samples_leaf': 8,\n",
       " 'decisiontreeclassifier__min_samples_split': 8}"
      ]
     },
     "execution_count": 78,
     "metadata": {},
     "output_type": "execute_result"
    }
   ],
   "source": [
    "# dct_tune.best_params_\n",
    "\n",
    "# {'decisiontreeclassifier__criterion': 'entropy',\n",
    "#  'decisiontreeclassifier__max_depth': 10,\n",
    "#  'decisiontreeclassifier__min_samples_leaf': 8,\n",
    "#  'decisiontreeclassifier__min_samples_split': 8}"
   ]
  },
  {
   "cell_type": "markdown",
   "metadata": {},
   "source": [
    "__Parameter Tuning Random Forest__"
   ]
  },
  {
   "cell_type": "code",
   "execution_count": 21,
   "metadata": {},
   "outputs": [
    {
     "data": {
      "text/plain": [
       "GridSearchCV(cv=KFold(n_splits=5, random_state=111, shuffle=False),\n",
       "             error_score=nan,\n",
       "             estimator=Pipeline(memory=None,\n",
       "                                steps=[('randomforestclassifier',\n",
       "                                        RandomForestClassifier(bootstrap=True,\n",
       "                                                               ccp_alpha=0.0,\n",
       "                                                               class_weight=None,\n",
       "                                                               criterion='gini',\n",
       "                                                               max_depth=None,\n",
       "                                                               max_features='auto',\n",
       "                                                               max_leaf_nodes=None,\n",
       "                                                               max_samples=None,\n",
       "                                                               min_impurity_decrease=0.0,\n",
       "                                                               min_impurity_split=N...\n",
       "                                                               random_state=None,\n",
       "                                                               verbose=0,\n",
       "                                                               warm_start=False))],\n",
       "                                verbose=False),\n",
       "             iid='deprecated', n_jobs=None,\n",
       "             param_grid={'randomforestclassifier__criterion': ['gini',\n",
       "                                                               'entropy'],\n",
       "                         'randomforestclassifier__max_depth': [10, 20, 30, 40,\n",
       "                                                               50, 60, 70, 80,\n",
       "                                                               90, 100],\n",
       "                         'randomforestclassifier__n_estimators': [10, 50, 100]},\n",
       "             pre_dispatch='2*n_jobs', refit=True, return_train_score=True,\n",
       "             scoring='f1', verbose=0)"
      ]
     },
     "execution_count": 21,
     "metadata": {},
     "output_type": "execute_result"
    }
   ],
   "source": [
    "# param= {\n",
    "#     'n_estimators': [10,50,100], ## jumlah tree\n",
    "#     'criterion':['gini','entropy'], ## algoritma tree\n",
    "#     'max_depth': [int(x) for x in np.linspace(10, 100, 10)],\n",
    "# }\n",
    "# kf = KFold(n_splits=5, random_state=111, shuffle=False)\n",
    "\n",
    "# rf_pipeline = make_pipeline(RandomForestClassifier())\n",
    "# new_params = {'randomforestclassifier__' + key: param[key] for key in param}\n",
    "# rf_tune = GridSearchCV(rf_pipeline, param_grid=new_params, cv=kf, scoring='f1',\n",
    "#                         return_train_score=True)\n",
    "# rf_tune.fit(train_X, train_Y)"
   ]
  },
  {
   "cell_type": "code",
   "execution_count": 77,
   "metadata": {},
   "outputs": [
    {
     "data": {
      "text/plain": [
       "{'randomforestclassifier__criterion': 'entropy',\n",
       " 'randomforestclassifier__max_depth': 10,\n",
       " 'randomforestclassifier__n_estimators': 50}"
      ]
     },
     "execution_count": 77,
     "metadata": {},
     "output_type": "execute_result"
    }
   ],
   "source": [
    "# rf_tune.best_params_\n",
    "\n",
    "# {'randomforestclassifier__criterion': 'entropy',\n",
    "#  'randomforestclassifier__max_depth': 10,\n",
    "#  'randomforestclassifier__n_estimators': 50}"
   ]
  },
  {
   "cell_type": "markdown",
   "metadata": {},
   "source": [
    "__Parameter Tuning KNN__"
   ]
  },
  {
   "cell_type": "code",
   "execution_count": 25,
   "metadata": {},
   "outputs": [
    {
     "data": {
      "text/plain": [
       "GridSearchCV(cv=KFold(n_splits=5, random_state=111, shuffle=False),\n",
       "             error_score=nan,\n",
       "             estimator=Pipeline(memory=None,\n",
       "                                steps=[('kneighborsclassifier',\n",
       "                                        KNeighborsClassifier(algorithm='auto',\n",
       "                                                             leaf_size=30,\n",
       "                                                             metric='minkowski',\n",
       "                                                             metric_params=None,\n",
       "                                                             n_jobs=None,\n",
       "                                                             n_neighbors=5, p=2,\n",
       "                                                             weights='uniform'))],\n",
       "                                verbose=False),\n",
       "             iid='deprecated', n_jobs=None,\n",
       "             param_grid={'kneighborsclassifier__algorithm': ['auto'],\n",
       "                         'kneighborsclassifier__n_neighbors': [50, 51, 52, 53,\n",
       "                                                               54, 55, 56, 57,\n",
       "                                                               58, 59, 60, 61,\n",
       "                                                               62, 63, 64, 65,\n",
       "                                                               66, 67, 68, 69,\n",
       "                                                               70, 71, 72, 73,\n",
       "                                                               74, 75, 76, 77,\n",
       "                                                               78, 79, ...]},\n",
       "             pre_dispatch='2*n_jobs', refit=True, return_train_score=True,\n",
       "             scoring='f1', verbose=0)"
      ]
     },
     "execution_count": 25,
     "metadata": {},
     "output_type": "execute_result"
    }
   ],
   "source": [
    "# param = {\n",
    "#         'n_neighbors' : list(range(50,100)), ## jumlah n neighbors\n",
    "#         'algorithm':['auto'], # struktur data\n",
    "# }\n",
    "# kf = KFold(n_splits=5, random_state=111, shuffle=False)\n",
    "\n",
    "# knn_pipeline = make_pipeline(KNeighborsClassifier())\n",
    "# new_params = {'kneighborsclassifier__' + key: param[key] for key in param}\n",
    "# knn_tune = GridSearchCV(knn_pipeline, param_grid=new_params, cv=kf, scoring='f1',\n",
    "#                         return_train_score=True)\n",
    "# knn_tune.fit(train_X, train_Y)"
   ]
  },
  {
   "cell_type": "code",
   "execution_count": 76,
   "metadata": {},
   "outputs": [
    {
     "data": {
      "text/plain": [
       "{'kneighborsclassifier__algorithm': 'auto',\n",
       " 'kneighborsclassifier__n_neighbors': 63}"
      ]
     },
     "execution_count": 76,
     "metadata": {},
     "output_type": "execute_result"
    }
   ],
   "source": [
    "# knn_tune.best_params_\n",
    "\n",
    "# {'kneighborsclassifier__algorithm': 'auto',\n",
    "#  'kneighborsclassifier__n_neighbors': 63}"
   ]
  },
  {
   "cell_type": "markdown",
   "metadata": {},
   "source": [
    "### Evaluation"
   ]
  },
  {
   "cell_type": "markdown",
   "metadata": {},
   "source": [
    "__1. Confusion Matrix__\n",
    "\n",
    "Pada tahap ini saya akan melihat hasil klasifikasi dalam bentuk Confusion matrix, Berikut ini merupakan tabel klasifikasi churning customer\n",
    "\n",
    "-|pred \"No Churn\"|pred \"Churn\"\n",
    "---|---|---\n",
    "__aktual \"No Churn\"__|__TN__|__FP__\n",
    "__aktual \"Churn\"__|__FN__|__TP__"
   ]
  },
  {
   "cell_type": "markdown",
   "metadata": {},
   "source": [
    "- True Negative (TN) adalah jumlah pelanggan dengan nilai aktual non churn, dan diprediksi non churn.\n",
    "- False Positive (FP) adalah jumlah pelanggan dengan nilai aktual non churn, tapi diprediksi churn.\n",
    "- True Positive (TP) adalah jumlah pelanggan dengan nilai aktual churn, dan diprediksi churn.\n",
    "- False Negative (FN) adalah jumlah pelanggan dengan nilai aktual churn, tapi diprediksi non churn.\n",
    "\n",
    "__Noted__ : Pada model ini, No Churn dilabeli dengan angka 0, sedangkan Churn dilabeli dengan angka 1"
   ]
  },
  {
   "cell_type": "code",
   "execution_count": 86,
   "metadata": {
    "scrolled": false
   },
   "outputs": [
    {
     "data": {
      "text/plain": [
       "<sklearn.metrics._plot.confusion_matrix.ConfusionMatrixDisplay at 0x9af1ff0>"
      ]
     },
     "execution_count": 86,
     "metadata": {},
     "output_type": "execute_result"
    },
    {
     "data": {
      "image/png": "[encoded data removed]",
      "text/plain": [
       "<Figure size 432x288 with 2 Axes>"
      ]
     },
     "metadata": {
      "needs_background": "light"
     },
     "output_type": "display_data"
    },
    {
     "data": {
      "image/png": "[encoded data removed]",
      "text/plain": [
       "<Figure size 432x288 with 2 Axes>"
      ]
     },
     "metadata": {
      "needs_background": "light"
     },
     "output_type": "display_data"
    },
    {
     "data": {
      "image/png": "[encoded data removed]",
      "text/plain": [
       "<Figure size 432x288 with 2 Axes>"
      ]
     },
     "metadata": {
      "needs_background": "light"
     },
     "output_type": "display_data"
    },
    {
     "data": {
      "image/png": "[encoded data removed]",
      "text/plain": [
       "<Figure size 432x288 with 2 Axes>"
      ]
     },
     "metadata": {
      "needs_background": "light"
     },
     "output_type": "display_data"
    }
   ],
   "source": [
    "plot_confusion_matrix(lr_tune,test_X,test_Y,values_format='0.0f')\n",
    "plot_confusion_matrix(dct_tune,test_X,test_Y,values_format='0.0f')\n",
    "plot_confusion_matrix(rf_tune,test_X,test_Y,values_format='0.0f')\n",
    "plot_confusion_matrix(knn_tune,test_X,test_Y,values_format='0.0f')"
   ]
  },
  {
   "cell_type": "markdown",
   "metadata": {},
   "source": [
    "__Evaluation Metrics__"
   ]
  },
  {
   "cell_type": "code",
   "execution_count": 27,
   "metadata": {
    "scrolled": false
   },
   "outputs": [
    {
     "name": "stdout",
     "output_type": "stream",
     "text": [
      "Logistic Regression Train\n",
      "               precision    recall  f1-score   support\n",
      "\n",
      "           0       0.85      0.90      0.87      3929\n",
      "           1       0.64      0.53      0.58      1345\n",
      "\n",
      "    accuracy                           0.80      5274\n",
      "   macro avg       0.74      0.71      0.73      5274\n",
      "weighted avg       0.80      0.80      0.80      5274\n",
      "\n",
      "\n",
      "\n",
      "Logistic Regression Test\n",
      "               precision    recall  f1-score   support\n",
      "\n",
      "           0       0.82      0.92      0.87      1234\n",
      "           1       0.74      0.54      0.63       524\n",
      "\n",
      "    accuracy                           0.81      1758\n",
      "   macro avg       0.78      0.73      0.75      1758\n",
      "weighted avg       0.80      0.81      0.80      1758\n",
      "\n",
      "========================================================================\n",
      "\n",
      "Decision Tree Train\n",
      "               precision    recall  f1-score   support\n",
      "\n",
      "           0       0.88      0.92      0.90      3929\n",
      "           1       0.73      0.63      0.68      1345\n",
      "\n",
      "    accuracy                           0.85      5274\n",
      "   macro avg       0.81      0.78      0.79      5274\n",
      "weighted avg       0.84      0.85      0.84      5274\n",
      "\n",
      "\n",
      "Decision Tree Test\n",
      "               precision    recall  f1-score   support\n",
      "\n",
      "           0       0.81      0.88      0.85      1234\n",
      "           1       0.65      0.52      0.58       524\n",
      "\n",
      "    accuracy                           0.77      1758\n",
      "   macro avg       0.73      0.70      0.71      1758\n",
      "weighted avg       0.76      0.77      0.77      1758\n",
      "\n",
      "========================================================================\n",
      "\n",
      "Random Forest Train\n",
      "               precision    recall  f1-score   support\n",
      "\n",
      "           0       0.89      0.95      0.92      3929\n",
      "           1       0.81      0.65      0.72      1345\n",
      "\n",
      "    accuracy                           0.87      5274\n",
      "   macro avg       0.85      0.80      0.82      5274\n",
      "weighted avg       0.87      0.87      0.87      5274\n",
      "\n",
      "\n",
      "Random Forest Test\n",
      "               precision    recall  f1-score   support\n",
      "\n",
      "           0       0.81      0.92      0.86      1234\n",
      "           1       0.72      0.48      0.58       524\n",
      "\n",
      "    accuracy                           0.79      1758\n",
      "   macro avg       0.77      0.70      0.72      1758\n",
      "weighted avg       0.78      0.79      0.78      1758\n",
      "\n",
      "========================================================================\n",
      "\n",
      "KNN Train\n",
      "               precision    recall  f1-score   support\n",
      "\n",
      "           0       0.86      0.89      0.87      3929\n",
      "           1       0.63      0.57      0.60      1345\n",
      "\n",
      "    accuracy                           0.81      5274\n",
      "   macro avg       0.75      0.73      0.73      5274\n",
      "weighted avg       0.80      0.81      0.80      5274\n",
      "\n",
      "\n",
      "KNN Test\n",
      "               precision    recall  f1-score   support\n",
      "\n",
      "           0       0.82      0.89      0.86      1234\n",
      "           1       0.68      0.55      0.61       524\n",
      "\n",
      "    accuracy                           0.79      1758\n",
      "   macro avg       0.75      0.72      0.73      1758\n",
      "weighted avg       0.78      0.79      0.78      1758\n",
      "\n"
     ]
    },
    {
     "data": {
      "image/png": "[encoded data removed]",
      "text/plain": [
       "<Figure size 432x288 with 1 Axes>"
      ]
     },
     "metadata": {
      "needs_background": "light"
     },
     "output_type": "display_data"
    },
    {
     "data": {
      "image/png": "[encoded data removed]",
      "text/plain": [
       "<Figure size 432x288 with 1 Axes>"
      ]
     },
     "metadata": {
      "needs_background": "light"
     },
     "output_type": "display_data"
    }
   ],
   "source": [
    "def eva_matrix(lr_tune,dct_tune,rf_tune,knn_tune,train_X,train_Y,test_X,test_Y):\n",
    "    ## Report\n",
    "    print('Logistic Regression Train\\n',classification_report(train_Y,lr_tune.predict(train_X)))\n",
    "    print('\\n\\nLogistic Regression Test\\n',classification_report(test_Y,lr_tune.predict(test_X)))\n",
    "    print('========================================================================')\n",
    "    print('\\nDecision Tree Train\\n',classification_report(train_Y,dct_tune.predict(train_X)))\n",
    "    print('\\nDecision Tree Test\\n',classification_report(test_Y,dct_tune.predict(test_X)))\n",
    "    print('========================================================================')\n",
    "    print('\\nRandom Forest Train\\n',classification_report(train_Y,rf_tune.predict(train_X)))\n",
    "    print('\\nRandom Forest Test\\n',classification_report(test_Y,rf_tune.predict(test_X)))\n",
    "    print('========================================================================')\n",
    "    print('\\nKNN Train\\n',classification_report(train_Y,knn_tune.predict(train_X)))\n",
    "    print('\\nKNN Test\\n',classification_report(test_Y,knn_tune.predict(test_X)))\n",
    "\n",
    "    ## ROC_AUC\n",
    "    display = plot_roc_curve(lr_tune,train_X,train_Y)\n",
    "    plot_roc_curve(rf_tune,train_X,train_Y,ax=display.ax_)\n",
    "    plot_roc_curve(knn_tune,train_X,train_Y,ax=display.ax_)\n",
    "    plot_roc_curve(dct_tune,train_X,train_Y,ax=display.ax_)\n",
    "    plt.title('ROC Curve Train')\n",
    "\n",
    "    disp = plot_roc_curve(lr_tune,test_X,test_Y)\n",
    "    plot_roc_curve(rf_tune,test_X,test_Y,ax=disp.ax_)\n",
    "    plot_roc_curve(knn_tune,test_X,test_Y,ax=disp.ax_)\n",
    "    plot_roc_curve(dct_tune,test_X,test_Y,ax=disp.ax_)\n",
    "    plt.title('ROC Curve Test')\n",
    "\n",
    "eva_matrix(lr_tune,dct_tune,rf_tune,knn_tune,train_X,train_Y,test_X,test_Y)"
   ]
  },
  {
   "cell_type": "markdown",
   "metadata": {},
   "source": [
    "__Noted__ : Dalam evaluasi model ini saya menggunakan data test imbalance, karena model ini dibangun untuk memprediksi kemungkinan customer untuk churning (memprediksi class label : 1), saya akan menggunakan __AUC__ , __F1 Score__ untuk class label : 1  dan __Recall(1) / Sensitivity__ sebagai acuan utama mengukur peforma model.\n",
    "\n",
    ">Dari data report di atas, __Logistic Regression__ merupakan model terbaik dengan Sensitivity, F1 Score, dan AUC tertingi"
   ]
  },
  {
   "cell_type": "code",
   "execution_count": 28,
   "metadata": {},
   "outputs": [
    {
     "data": {
      "text/html": [
       "<div>\n",
       "<style scoped>\n",
       "    .dataframe tbody tr th:only-of-type {\n",
       "        vertical-align: middle;\n",
       "    }\n",
       "\n",
       "    .dataframe tbody tr th {\n",
       "        vertical-align: top;\n",
       "    }\n",
       "\n",
       "    .dataframe thead th {\n",
       "        text-align: right;\n",
       "    }\n",
       "</style>\n",
       "<table border=\"1\" class=\"dataframe\">\n",
       "  <thead>\n",
       "    <tr style=\"text-align: right;\">\n",
       "      <th></th>\n",
       "      <th>Model</th>\n",
       "      <th>AUC</th>\n",
       "      <th>Accuracy</th>\n",
       "      <th>precision</th>\n",
       "      <th>recall</th>\n",
       "      <th>f1-score</th>\n",
       "    </tr>\n",
       "  </thead>\n",
       "  <tbody>\n",
       "    <tr>\n",
       "      <td>0</td>\n",
       "      <td>Logistic Regression</td>\n",
       "      <td>0.858946</td>\n",
       "      <td>0.807167</td>\n",
       "      <td>0.742782</td>\n",
       "      <td>0.540076</td>\n",
       "      <td>0.625414</td>\n",
       "    </tr>\n",
       "    <tr>\n",
       "      <td>1</td>\n",
       "      <td>Decision Tree</td>\n",
       "      <td>0.782599</td>\n",
       "      <td>0.774175</td>\n",
       "      <td>0.652278</td>\n",
       "      <td>0.519084</td>\n",
       "      <td>0.578108</td>\n",
       "    </tr>\n",
       "    <tr>\n",
       "      <td>2</td>\n",
       "      <td>Random Forest</td>\n",
       "      <td>0.847955</td>\n",
       "      <td>0.791240</td>\n",
       "      <td>0.723647</td>\n",
       "      <td>0.484733</td>\n",
       "      <td>0.580571</td>\n",
       "    </tr>\n",
       "    <tr>\n",
       "      <td>3</td>\n",
       "      <td>KNN</td>\n",
       "      <td>0.841902</td>\n",
       "      <td>0.788965</td>\n",
       "      <td>0.680000</td>\n",
       "      <td>0.551527</td>\n",
       "      <td>0.609062</td>\n",
       "    </tr>\n",
       "  </tbody>\n",
       "</table>\n",
       "</div>"
      ],
      "text/plain": [
       "                 Model       AUC  Accuracy  precision    recall  f1-score\n",
       "0  Logistic Regression  0.858946  0.807167   0.742782  0.540076  0.625414\n",
       "1        Decision Tree  0.782599  0.774175   0.652278  0.519084  0.578108\n",
       "2        Random Forest  0.847955  0.791240   0.723647  0.484733  0.580571\n",
       "3                  KNN  0.841902  0.788965   0.680000  0.551527  0.609062"
      ]
     },
     "execution_count": 28,
     "metadata": {},
     "output_type": "execute_result"
    }
   ],
   "source": [
    "def df_report(lr_tune,dct_tune,rf_tune,knn_tune,test_X,test_Y):\n",
    "    ## ROC-AUC\n",
    "    a = roc_auc_score(test_Y, lr_tune.predict_proba(test_X)[:,1])\n",
    "    b = roc_auc_score(test_Y, dct_tune.predict_proba(test_X)[:,1])\n",
    "    c = roc_auc_score(test_Y, rf_tune.predict_proba(test_X)[:,1])\n",
    "    d = roc_auc_score(test_Y, knn_tune.predict_proba(test_X)[:,1])\n",
    "\n",
    "\n",
    "    ## Accuracy\n",
    "    e = classification_report(test_Y,lr_tune.predict(test_X),output_dict=True)['accuracy']\n",
    "    f = classification_report(test_Y,dct_tune.predict(test_X),output_dict=True)['accuracy']\n",
    "    g = classification_report(test_Y,rf_tune.predict(test_X),output_dict=True)['accuracy']\n",
    "    h = classification_report(test_Y,knn_tune.predict(test_X),output_dict=True)['accuracy']\n",
    "\n",
    "\n",
    "    ## Precision,Recall,F1\n",
    "    i = classification_report(test_Y,lr_tune.predict(test_X),output_dict=True)['1']\n",
    "    j = classification_report(test_Y,dct_tune.predict(test_X),output_dict=True)['1']\n",
    "    k = classification_report(test_Y,rf_tune.predict(test_X),output_dict=True)['1']\n",
    "    l = classification_report(test_Y,knn_tune.predict(test_X),output_dict=True)['1']\n",
    "\n",
    "\n",
    "    auc = pd.DataFrame({'Model':['Logistic Regression','Decision Tree','Random Forest','KNN'],\n",
    "                          'AUC':[a,b,c,d,],\n",
    "                          'Accuracy':[e,f,g,h]})\n",
    "    precision = pd.DataFrame([i,j,k,l])\n",
    "    precision.drop(columns='support',inplace=True)\n",
    "    df = pd.concat([auc,precision],axis=1)\n",
    "    return df\n",
    "\n",
    "report0 = df_report(lr_tune,dct_tune,rf_tune,knn_tune,test_X,test_Y)\n",
    "report0"
   ]
  },
  {
   "cell_type": "code",
   "execution_count": 29,
   "metadata": {},
   "outputs": [
    {
     "data": {
      "image/png": "[encoded data removed]",
      "text/plain": [
       "<Figure size 576x360 with 1 Axes>"
      ]
     },
     "metadata": {
      "needs_background": "light"
     },
     "output_type": "display_data"
    }
   ],
   "source": [
    "def plot_report(report):\n",
    "    plt.figure(figsize=(8,5))\n",
    "    plt.plot(report['Model'], report['AUC'],'g-o',label='AUC')\n",
    "    plt.plot(report['Model'], report['Accuracy'],'k-o',label='Accuracy')\n",
    "    plt.plot(report['Model'], report['precision'],'r-o',label='precision')\n",
    "    plt.plot(report['Model'], report['recall'],'y-o',label='recall')\n",
    "    plt.plot(report['Model'], report['f1-score'],'b-o',label='f1-score')\n",
    "    plt.xticks(rotation=90);plt.title('Classification Report')\n",
    "    plt.grid(True)\n",
    "    plt.legend()\n",
    "    plt.show()\n",
    "    \n",
    "plot_report(report0)"
   ]
  },
  {
   "cell_type": "markdown",
   "metadata": {},
   "source": [
    ">__Logistic Regression Tune__ merupakan model terbaik dengan __Recall__, __F1 Score__ dan __AUC__ tertinggi"
   ]
  },
  {
   "cell_type": "markdown",
   "metadata": {},
   "source": [
    "## Exclude Feature Monthly Charges dan Total Charges"
   ]
  },
  {
   "cell_type": "markdown",
   "metadata": {},
   "source": [
    "Pada tahap ini saya tidak akan menggunakan Monthly Charges dan Total Charges untuk memprediksi model. Kemudian saya akan membandingkan dengan model sebelumnya yang menggunakan feature MonthlyCharges dan Total Charges"
   ]
  },
  {
   "cell_type": "markdown",
   "metadata": {},
   "source": [
    "### Spliting Data"
   ]
  },
  {
   "cell_type": "code",
   "execution_count": 30,
   "metadata": {
    "scrolled": false
   },
   "outputs": [],
   "source": [
    "train_X1 = train_X[:,:-2]\n",
    "test_X1 = test_X.drop(columns=['MonthlyCharges','TotalCharges'])\n",
    "train_Y1 = train_Y\n",
    "test_Y1 = test_Y"
   ]
  },
  {
   "cell_type": "markdown",
   "metadata": {},
   "source": [
    "### Hyper Parameter Tuning"
   ]
  },
  {
   "cell_type": "markdown",
   "metadata": {},
   "source": [
    "__Logistic Regression__"
   ]
  },
  {
   "cell_type": "code",
   "execution_count": 31,
   "metadata": {
    "scrolled": false
   },
   "outputs": [
    {
     "data": {
      "text/plain": [
       "GridSearchCV(cv=KFold(n_splits=5, random_state=111, shuffle=False),\n",
       "             error_score=nan,\n",
       "             estimator=Pipeline(memory=None,\n",
       "                                steps=[('logisticregression',\n",
       "                                        LogisticRegression(C=1.0,\n",
       "                                                           class_weight=None,\n",
       "                                                           dual=False,\n",
       "                                                           fit_intercept=True,\n",
       "                                                           intercept_scaling=1,\n",
       "                                                           l1_ratio=None,\n",
       "                                                           max_iter=100,\n",
       "                                                           multi_class='auto',\n",
       "                                                           n_jobs=None,\n",
       "                                                           penalty='l2',\n",
       "                                                           random_state=None,\n",
       "                                                           solver='lbfgs',\n",
       "                                                           tol=0.0001,\n",
       "                                                           v...\n",
       "                                                           warm_start=False))],\n",
       "                                verbose=False),\n",
       "             iid='deprecated', n_jobs=None,\n",
       "             param_grid={'logisticregression__C': [0.001, 0.01, 0.1, 1, 10, 100,\n",
       "                                                   1000],\n",
       "                         'logisticregression__penalty': ['none', 'l1', 'l2',\n",
       "                                                         'elasticnet', 'none'],\n",
       "                         'logisticregression__solver': ['newton-cg', 'lbfgs',\n",
       "                                                        'liblinear', 'sag',\n",
       "                                                        'saga']},\n",
       "             pre_dispatch='2*n_jobs', refit=True, return_train_score=True,\n",
       "             scoring='f1', verbose=0)"
      ]
     },
     "execution_count": 31,
     "metadata": {},
     "output_type": "execute_result"
    }
   ],
   "source": [
    "# param_lr = {\n",
    "#     'solver':['newton-cg','lbfgs','liblinear','sag','saga'], ##algoritma Logistic regression\n",
    "#     'penalty':['none','l1','l2','elasticnet','none'], # regularisasi\n",
    "#       'C': [0.001, 0.01, 0.1, 1, 10, 100, 1000] #strong of regularisasi\n",
    "# }\n",
    "# kf = KFold(n_splits=5, random_state=111, shuffle=False)\n",
    "\n",
    "# lr_pipeline = make_pipeline(LogisticRegression())\n",
    "# new_params = {'logisticregression__' + key: param_lr[key] for key in param_lr}\n",
    "# lr1_tune = GridSearchCV(lr_pipeline, param_grid=new_params, cv=kf, scoring='f1',\n",
    "#                         return_train_score=True)\n",
    "# lr1_tune.fit(train_X1, train_Y1)"
   ]
  },
  {
   "cell_type": "code",
   "execution_count": 32,
   "metadata": {
    "scrolled": true
   },
   "outputs": [
    {
     "data": {
      "text/plain": [
       "{'logisticregression__C': 1,\n",
       " 'logisticregression__penalty': 'l1',\n",
       " 'logisticregression__solver': 'saga'}"
      ]
     },
     "execution_count": 32,
     "metadata": {},
     "output_type": "execute_result"
    }
   ],
   "source": [
    "# lr1_tune.best_params_\n",
    "\n",
    "# {'logisticregression__C': 1,\n",
    "#  'logisticregression__penalty': 'l1',\n",
    "#  'logisticregression__solver': 'saga'}"
   ]
  },
  {
   "cell_type": "markdown",
   "metadata": {},
   "source": [
    "__Parameter Tuning Decision Tree__"
   ]
  },
  {
   "cell_type": "code",
   "execution_count": 34,
   "metadata": {},
   "outputs": [
    {
     "data": {
      "text/plain": [
       "GridSearchCV(cv=KFold(n_splits=5, random_state=111, shuffle=False),\n",
       "             error_score=nan,\n",
       "             estimator=Pipeline(memory=None,\n",
       "                                steps=[('decisiontreeclassifier',\n",
       "                                        DecisionTreeClassifier(ccp_alpha=0.0,\n",
       "                                                               class_weight=None,\n",
       "                                                               criterion='gini',\n",
       "                                                               max_depth=None,\n",
       "                                                               max_features=None,\n",
       "                                                               max_leaf_nodes=None,\n",
       "                                                               min_impurity_decrease=0.0,\n",
       "                                                               min_impurity_split=None,\n",
       "                                                               min_samples_leaf=1,\n",
       "                                                               min_samples...\n",
       "             param_grid={'decisiontreeclassifier__criterion': ['gini',\n",
       "                                                               'entropy'],\n",
       "                         'decisiontreeclassifier__max_depth': [10, 20, 30, 40,\n",
       "                                                               50, 60, 70, 80,\n",
       "                                                               90, 100],\n",
       "                         'decisiontreeclassifier__min_samples_leaf': [1, 2, 3,\n",
       "                                                                      4, 5, 6,\n",
       "                                                                      7, 8, 9,\n",
       "                                                                      10],\n",
       "                         'decisiontreeclassifier__min_samples_split': [1, 2, 3,\n",
       "                                                                       4, 5, 6,\n",
       "                                                                       7, 8, 9,\n",
       "                                                                       10]},\n",
       "             pre_dispatch='2*n_jobs', refit=True, return_train_score=True,\n",
       "             scoring='f1', verbose=0)"
      ]
     },
     "execution_count": 34,
     "metadata": {},
     "output_type": "execute_result"
    }
   ],
   "source": [
    "# param = {\n",
    "#     'criterion':['gini','entropy'], ## algoritma tree\n",
    "#     'max_depth': [int(x) for x in np.linspace(10, 100, 10)],\n",
    "#     \"min_samples_split\":[int(x) for x in np.linspace(1, 10, 10)],\n",
    "#     \"min_samples_leaf\":[int(x) for x in np.linspace(1, 10, 10)]\n",
    "# }\n",
    "# kf = KFold(n_splits=5, random_state=111, shuffle=False)\n",
    "\n",
    "# dct_pipeline = make_pipeline(DecisionTreeClassifier())\n",
    "# new_params = {'decisiontreeclassifier__' + key: param[key] for key in param}\n",
    "# dct1_tune = GridSearchCV(dct_pipeline, param_grid=new_params, cv=kf, scoring='f1',\n",
    "#                         return_train_score=True)\n",
    "# dct1_tune.fit(train_X1, train_Y1)"
   ]
  },
  {
   "cell_type": "code",
   "execution_count": 35,
   "metadata": {},
   "outputs": [
    {
     "data": {
      "text/plain": [
       "{'decisiontreeclassifier__criterion': 'entropy',\n",
       " 'decisiontreeclassifier__max_depth': 10,\n",
       " 'decisiontreeclassifier__min_samples_leaf': 10,\n",
       " 'decisiontreeclassifier__min_samples_split': 8}"
      ]
     },
     "execution_count": 35,
     "metadata": {},
     "output_type": "execute_result"
    }
   ],
   "source": [
    "# dct1_tune.best_params_\n",
    "\n",
    "# {'decisiontreeclassifier__criterion': 'entropy',\n",
    "#  'decisiontreeclassifier__max_depth': 10,\n",
    "#  'decisiontreeclassifier__min_samples_leaf': 10,\n",
    "#  'decisiontreeclassifier__min_samples_split': 8}"
   ]
  },
  {
   "cell_type": "markdown",
   "metadata": {},
   "source": [
    "__Random Forest__"
   ]
  },
  {
   "cell_type": "code",
   "execution_count": 37,
   "metadata": {},
   "outputs": [
    {
     "data": {
      "text/plain": [
       "GridSearchCV(cv=KFold(n_splits=5, random_state=111, shuffle=False),\n",
       "             error_score=nan,\n",
       "             estimator=Pipeline(memory=None,\n",
       "                                steps=[('randomforestclassifier',\n",
       "                                        RandomForestClassifier(bootstrap=True,\n",
       "                                                               ccp_alpha=0.0,\n",
       "                                                               class_weight=None,\n",
       "                                                               criterion='gini',\n",
       "                                                               max_depth=None,\n",
       "                                                               max_features='auto',\n",
       "                                                               max_leaf_nodes=None,\n",
       "                                                               max_samples=None,\n",
       "                                                               min_impurity_decrease=0.0,\n",
       "                                                               min_impurity_split=N...\n",
       "                                                               random_state=None,\n",
       "                                                               verbose=0,\n",
       "                                                               warm_start=False))],\n",
       "                                verbose=False),\n",
       "             iid='deprecated', n_jobs=None,\n",
       "             param_grid={'randomforestclassifier__criterion': ['gini',\n",
       "                                                               'entropy'],\n",
       "                         'randomforestclassifier__max_depth': [10, 20, 30, 40,\n",
       "                                                               50, 60, 70, 80,\n",
       "                                                               90, 100],\n",
       "                         'randomforestclassifier__n_estimators': [10, 50, 100]},\n",
       "             pre_dispatch='2*n_jobs', refit=True, return_train_score=True,\n",
       "             scoring='f1', verbose=0)"
      ]
     },
     "execution_count": 37,
     "metadata": {},
     "output_type": "execute_result"
    }
   ],
   "source": [
    "# param= {\n",
    "#     'n_estimators': [10,50,100], ## jumlah tree\n",
    "#     'criterion':['gini','entropy'], ## algoritma tree\n",
    "#     'max_depth': [int(x) for x in np.linspace(10, 100, 10)],\n",
    "# }\n",
    "# kf = KFold(n_splits=5, random_state=111, shuffle=False)\n",
    "\n",
    "# rf_pipeline = make_pipeline(RandomForestClassifier())\n",
    "# new_params = {'randomforestclassifier__' + key: param[key] for key in param}\n",
    "# rf1_tune = GridSearchCV(rf_pipeline, param_grid=new_params, cv=kf, scoring='f1',\n",
    "#                         return_train_score=True)\n",
    "# rf1_tune.fit(train_X1, train_Y1)"
   ]
  },
  {
   "cell_type": "code",
   "execution_count": 38,
   "metadata": {},
   "outputs": [
    {
     "data": {
      "text/plain": [
       "{'randomforestclassifier__criterion': 'entropy',\n",
       " 'randomforestclassifier__max_depth': 10,\n",
       " 'randomforestclassifier__n_estimators': 50}"
      ]
     },
     "execution_count": 38,
     "metadata": {},
     "output_type": "execute_result"
    }
   ],
   "source": [
    "# rf1_tune.best_params_\n",
    "\n",
    "# {'randomforestclassifier__criterion': 'entropy',\n",
    "#  'randomforestclassifier__max_depth': 10,\n",
    "#  'randomforestclassifier__n_estimators': 50}"
   ]
  },
  {
   "cell_type": "markdown",
   "metadata": {},
   "source": [
    "__KNN__"
   ]
  },
  {
   "cell_type": "code",
   "execution_count": 40,
   "metadata": {},
   "outputs": [
    {
     "data": {
      "text/plain": [
       "GridSearchCV(cv=KFold(n_splits=5, random_state=111, shuffle=False),\n",
       "             error_score=nan,\n",
       "             estimator=Pipeline(memory=None,\n",
       "                                steps=[('kneighborsclassifier',\n",
       "                                        KNeighborsClassifier(algorithm='auto',\n",
       "                                                             leaf_size=30,\n",
       "                                                             metric='minkowski',\n",
       "                                                             metric_params=None,\n",
       "                                                             n_jobs=None,\n",
       "                                                             n_neighbors=5, p=2,\n",
       "                                                             weights='uniform'))],\n",
       "                                verbose=False),\n",
       "             iid='deprecated', n_jobs=None,\n",
       "             param_grid={'kneighborsclassifier__algorithm': ['auto',\n",
       "                                                             'ball_tree',\n",
       "                                                             'kd_tree',\n",
       "                                                             'brute'],\n",
       "                         'kneighborsclassifier__n_neighbors': [50, 51, 52, 53,\n",
       "                                                               54, 55, 56, 57,\n",
       "                                                               58, 59, 60, 61,\n",
       "                                                               62, 63, 64, 65,\n",
       "                                                               66, 67, 68, 69,\n",
       "                                                               70, 71, 72, 73,\n",
       "                                                               74, 75, 76, 77,\n",
       "                                                               78, 79, ...]},\n",
       "             pre_dispatch='2*n_jobs', refit=True, return_train_score=True,\n",
       "             scoring='f1', verbose=0)"
      ]
     },
     "execution_count": 40,
     "metadata": {},
     "output_type": "execute_result"
    }
   ],
   "source": [
    "# param = {\n",
    "#         'n_neighbors' : list(range(50,100)), ## jumlah n neighbors\n",
    "#         'algorithm':['auto', 'ball_tree', 'kd_tree', 'brute'], # struktur data\n",
    "# }\n",
    "# kf = KFold(n_splits=5, random_state=111, shuffle=False)\n",
    "\n",
    "# knn_pipeline = make_pipeline(KNeighborsClassifier())\n",
    "# new_params = {'kneighborsclassifier__' + key: param[key] for key in param}\n",
    "# knn1_tune = GridSearchCV(knn_pipeline, param_grid=new_params, cv=kf, scoring='f1',\n",
    "#                         return_train_score=True)\n",
    "# knn1_tune.fit(train_X1, train_Y1)"
   ]
  },
  {
   "cell_type": "code",
   "execution_count": 41,
   "metadata": {},
   "outputs": [
    {
     "data": {
      "text/plain": [
       "{'kneighborsclassifier__algorithm': 'brute',\n",
       " 'kneighborsclassifier__n_neighbors': 83}"
      ]
     },
     "execution_count": 41,
     "metadata": {},
     "output_type": "execute_result"
    }
   ],
   "source": [
    "# knn1_tune.best_params_\n",
    "\n",
    "# {'kneighborsclassifier__algorithm': 'brute',\n",
    "#  'kneighborsclassifier__n_neighbors': 83}"
   ]
  },
  {
   "cell_type": "markdown",
   "metadata": {},
   "source": [
    "### Evaluation"
   ]
  },
  {
   "cell_type": "code",
   "execution_count": 43,
   "metadata": {
    "scrolled": false
   },
   "outputs": [
    {
     "name": "stdout",
     "output_type": "stream",
     "text": [
      "Logistic Regression Train\n",
      "               precision    recall  f1-score   support\n",
      "\n",
      "           0       0.85      0.90      0.87      3929\n",
      "           1       0.65      0.52      0.58      1345\n",
      "\n",
      "    accuracy                           0.80      5274\n",
      "   macro avg       0.75      0.71      0.72      5274\n",
      "weighted avg       0.79      0.80      0.80      5274\n",
      "\n",
      "\n",
      "\n",
      "Logistic Regression Test\n",
      "               precision    recall  f1-score   support\n",
      "\n",
      "           0       0.82      0.92      0.87      1234\n",
      "           1       0.74      0.54      0.62       524\n",
      "\n",
      "    accuracy                           0.81      1758\n",
      "   macro avg       0.78      0.73      0.75      1758\n",
      "weighted avg       0.80      0.81      0.80      1758\n",
      "\n",
      "========================================================================\n",
      "\n",
      "Decision Tree Train\n",
      "               precision    recall  f1-score   support\n",
      "\n",
      "           0       0.87      0.92      0.89      3929\n",
      "           1       0.71      0.59      0.65      1345\n",
      "\n",
      "    accuracy                           0.84      5274\n",
      "   macro avg       0.79      0.76      0.77      5274\n",
      "weighted avg       0.83      0.84      0.83      5274\n",
      "\n",
      "\n",
      "Decision Tree Test\n",
      "               precision    recall  f1-score   support\n",
      "\n",
      "           0       0.81      0.89      0.85      1234\n",
      "           1       0.66      0.50      0.57       524\n",
      "\n",
      "    accuracy                           0.78      1758\n",
      "   macro avg       0.74      0.70      0.71      1758\n",
      "weighted avg       0.76      0.78      0.77      1758\n",
      "\n",
      "========================================================================\n",
      "\n",
      "Random Forest Train\n",
      "               precision    recall  f1-score   support\n",
      "\n",
      "           0       0.88      0.94      0.91      3929\n",
      "           1       0.78      0.63      0.70      1345\n",
      "\n",
      "    accuracy                           0.86      5274\n",
      "   macro avg       0.83      0.79      0.80      5274\n",
      "weighted avg       0.86      0.86      0.86      5274\n",
      "\n",
      "\n",
      "Random Forest Test\n",
      "               precision    recall  f1-score   support\n",
      "\n",
      "           0       0.81      0.92      0.86      1234\n",
      "           1       0.71      0.48      0.57       524\n",
      "\n",
      "    accuracy                           0.79      1758\n",
      "   macro avg       0.76      0.70      0.72      1758\n",
      "weighted avg       0.78      0.79      0.77      1758\n",
      "\n",
      "========================================================================\n",
      "\n",
      "KNN Train\n",
      "               precision    recall  f1-score   support\n",
      "\n",
      "           0       0.86      0.88      0.87      3929\n",
      "           1       0.63      0.59      0.61      1345\n",
      "\n",
      "    accuracy                           0.81      5274\n",
      "   macro avg       0.75      0.73      0.74      5274\n",
      "weighted avg       0.80      0.81      0.80      5274\n",
      "\n",
      "\n",
      "KNN Test\n",
      "               precision    recall  f1-score   support\n",
      "\n",
      "           0       0.83      0.89      0.86      1234\n",
      "           1       0.68      0.57      0.62       524\n",
      "\n",
      "    accuracy                           0.79      1758\n",
      "   macro avg       0.76      0.73      0.74      1758\n",
      "weighted avg       0.79      0.79      0.79      1758\n",
      "\n"
     ]
    },
    {
     "data": {
      "image/png": "[encoded data removed]",
      "text/plain": [
       "<Figure size 432x288 with 1 Axes>"
      ]
     },
     "metadata": {
      "needs_background": "light"
     },
     "output_type": "display_data"
    },
    {
     "data": {
      "image/png": "[encoded data removed]",
      "text/plain": [
       "<Figure size 432x288 with 1 Axes>"
      ]
     },
     "metadata": {
      "needs_background": "light"
     },
     "output_type": "display_data"
    }
   ],
   "source": [
    "eva_matrix(lr1_tune,dct1_tune,rf1_tune,knn1_tune,train_X1,train_Y1,test_X1,test_Y1)"
   ]
  },
  {
   "cell_type": "code",
   "execution_count": 44,
   "metadata": {},
   "outputs": [
    {
     "data": {
      "text/html": [
       "<div>\n",
       "<style scoped>\n",
       "    .dataframe tbody tr th:only-of-type {\n",
       "        vertical-align: middle;\n",
       "    }\n",
       "\n",
       "    .dataframe tbody tr th {\n",
       "        vertical-align: top;\n",
       "    }\n",
       "\n",
       "    .dataframe thead th {\n",
       "        text-align: right;\n",
       "    }\n",
       "</style>\n",
       "<table border=\"1\" class=\"dataframe\">\n",
       "  <thead>\n",
       "    <tr style=\"text-align: right;\">\n",
       "      <th></th>\n",
       "      <th>Model</th>\n",
       "      <th>AUC</th>\n",
       "      <th>Accuracy</th>\n",
       "      <th>precision</th>\n",
       "      <th>recall</th>\n",
       "      <th>f1-score</th>\n",
       "    </tr>\n",
       "  </thead>\n",
       "  <tbody>\n",
       "    <tr>\n",
       "      <td>0</td>\n",
       "      <td>Logistic Regression</td>\n",
       "      <td>0.856869</td>\n",
       "      <td>0.806598</td>\n",
       "      <td>0.740838</td>\n",
       "      <td>0.540076</td>\n",
       "      <td>0.624724</td>\n",
       "    </tr>\n",
       "    <tr>\n",
       "      <td>1</td>\n",
       "      <td>Decision Tree</td>\n",
       "      <td>0.808339</td>\n",
       "      <td>0.775313</td>\n",
       "      <td>0.663291</td>\n",
       "      <td>0.500000</td>\n",
       "      <td>0.570185</td>\n",
       "    </tr>\n",
       "    <tr>\n",
       "      <td>2</td>\n",
       "      <td>Random Forest</td>\n",
       "      <td>0.843387</td>\n",
       "      <td>0.786689</td>\n",
       "      <td>0.709859</td>\n",
       "      <td>0.480916</td>\n",
       "      <td>0.573379</td>\n",
       "    </tr>\n",
       "    <tr>\n",
       "      <td>3</td>\n",
       "      <td>KNN</td>\n",
       "      <td>0.844120</td>\n",
       "      <td>0.792947</td>\n",
       "      <td>0.683486</td>\n",
       "      <td>0.568702</td>\n",
       "      <td>0.620833</td>\n",
       "    </tr>\n",
       "  </tbody>\n",
       "</table>\n",
       "</div>"
      ],
      "text/plain": [
       "                 Model       AUC  Accuracy  precision    recall  f1-score\n",
       "0  Logistic Regression  0.856869  0.806598   0.740838  0.540076  0.624724\n",
       "1        Decision Tree  0.808339  0.775313   0.663291  0.500000  0.570185\n",
       "2        Random Forest  0.843387  0.786689   0.709859  0.480916  0.573379\n",
       "3                  KNN  0.844120  0.792947   0.683486  0.568702  0.620833"
      ]
     },
     "execution_count": 44,
     "metadata": {},
     "output_type": "execute_result"
    }
   ],
   "source": [
    "report1 = df_report(lr1_tune,dct1_tune,rf1_tune,knn1_tune,test_X1,test_Y1)\n",
    "report1"
   ]
  },
  {
   "cell_type": "code",
   "execution_count": 45,
   "metadata": {},
   "outputs": [
    {
     "data": {
      "image/png": "[encoded data removed]",
      "text/plain": [
       "<Figure size 576x360 with 1 Axes>"
      ]
     },
     "metadata": {
      "needs_background": "light"
     },
     "output_type": "display_data"
    }
   ],
   "source": [
    "plot_report(report1)"
   ]
  },
  {
   "cell_type": "markdown",
   "metadata": {},
   "source": [
    ">__Logistic Regression__ memiliki AUC dan F1 Score tertinggi, untuk percobaan selanjutnya saya akan mencoba memaksimalkan __Logistic Regression__ dengan melakukan train menggunakan dataset yang diseimbangkan terlebih dahulu"
   ]
  },
  {
   "cell_type": "markdown",
   "metadata": {},
   "source": [
    "### Perbandingan model dengan menghilangkan Feature Monthly Charges dan Total Charges"
   ]
  },
  {
   "cell_type": "markdown",
   "metadata": {},
   "source": [
    "Pada tahap ini saya ingin melihat apakah dengan membuang feature Monthly Charges dan Total Charges bisa mempengaruhi model atau tidak, saya menggunakan model terbaik sebagai perbandingan"
   ]
  },
  {
   "cell_type": "code",
   "execution_count": 46,
   "metadata": {
    "scrolled": false
   },
   "outputs": [
    {
     "name": "stdout",
     "output_type": "stream",
     "text": [
      "Logistic Regression 1\n",
      "               precision    recall  f1-score   support\n",
      "\n",
      "           0       0.82      0.92      0.87      1234\n",
      "           1       0.74      0.54      0.63       524\n",
      "\n",
      "    accuracy                           0.81      1758\n",
      "   macro avg       0.78      0.73      0.75      1758\n",
      "weighted avg       0.80      0.81      0.80      1758\n",
      "\n",
      "Logistic Regression 2\n",
      "               precision    recall  f1-score   support\n",
      "\n",
      "           0       0.82      0.92      0.87      1234\n",
      "           1       0.74      0.54      0.62       524\n",
      "\n",
      "    accuracy                           0.81      1758\n",
      "   macro avg       0.78      0.73      0.75      1758\n",
      "weighted avg       0.80      0.81      0.80      1758\n",
      "\n"
     ]
    },
    {
     "data": {
      "text/plain": [
       "<sklearn.metrics._plot.roc_curve.RocCurveDisplay at 0x68b1930>"
      ]
     },
     "execution_count": 46,
     "metadata": {},
     "output_type": "execute_result"
    },
    {
     "data": {
      "image/png": "[encoded data removed]",
      "text/plain": [
       "<Figure size 432x288 with 1 Axes>"
      ]
     },
     "metadata": {
      "needs_background": "light"
     },
     "output_type": "display_data"
    }
   ],
   "source": [
    "print('Logistic Regression 1\\n',classification_report(test_Y,lr_tune.predict(test_X)))\n",
    "print('Logistic Regression 2\\n',classification_report(test_Y1,lr1_tune.predict(test_X1)))\n",
    "\n",
    "## ROC_AUC\n",
    "disp = plot_roc_curve(lr_tune,test_X,test_Y)\n",
    "plot_roc_curve(lr1_tune,test_X1,test_Y1,ax=disp.ax_)"
   ]
  },
  {
   "cell_type": "markdown",
   "metadata": {},
   "source": [
    ">Berdasarkan report klasifikasi dan grafik ROC-AUC diatas, dapat disimpulkan bahwa membuang feature Monthly Charges dan Total Charges tidak mempengaruhi model.\n",
    "\n",
    "<hr>"
   ]
  },
  {
   "cell_type": "markdown",
   "metadata": {},
   "source": [
    "# 2. Percobaan 2 (Under Sampling)"
   ]
  },
  {
   "cell_type": "markdown",
   "metadata": {},
   "source": [
    "Dalam dataset ini __class 0__ : 5163, sedangkan __class 1__ : 1869, saya akan menggunakan ```NearMiss``` untuk menyeimbangkan class, teknik ini akan menghapus beberapa sample majority class yaitu __class 0__ sehingga jumlahnya sama dengan minority __class 1__ , ```NearMiss``` akan menghapus majority class yang memiliki jarak terdekat dari minority class.[source](https://machinelearningmastery.com/undersampling-algorithms-for-imbalanced-classification/)"
   ]
  },
  {
   "cell_type": "markdown",
   "metadata": {},
   "source": [
    "### Balancing Dataset "
   ]
  },
  {
   "cell_type": "code",
   "execution_count": 47,
   "metadata": {},
   "outputs": [
    {
     "data": {
      "text/plain": [
       "0    5163\n",
       "1    1869\n",
       "Name: Churn, dtype: int64"
      ]
     },
     "execution_count": 47,
     "metadata": {},
     "output_type": "execute_result"
    }
   ],
   "source": [
    "telcom['Churn'].value_counts()"
   ]
  },
  {
   "cell_type": "markdown",
   "metadata": {},
   "source": [
    "Saya hanya akan menyeimbangkan data pada data train saja, sehingga saya bisa menggunakan data test yang sama dengan model sebelumnya."
   ]
  },
  {
   "cell_type": "code",
   "execution_count": 50,
   "metadata": {},
   "outputs": [],
   "source": [
    "train_X2 = train_X1.copy()\n",
    "train_Y2 = train_Y1.copy()\n",
    "test_X2 = test_X1\n",
    "test_Y2 = test_Y1"
   ]
  },
  {
   "cell_type": "markdown",
   "metadata": {},
   "source": [
    "__Parameter Tuning Logistic Regression__"
   ]
  },
  {
   "cell_type": "code",
   "execution_count": 51,
   "metadata": {},
   "outputs": [
    {
     "data": {
      "text/plain": [
       "GridSearchCV(cv=KFold(n_splits=5, random_state=111, shuffle=False),\n",
       "             error_score=nan,\n",
       "             estimator=Pipeline(memory=None,\n",
       "                                steps=[('nearmiss',\n",
       "                                        NearMiss(n_jobs=None, n_neighbors=3,\n",
       "                                                 n_neighbors_ver3=3,\n",
       "                                                 sampling_strategy='auto',\n",
       "                                                 version=1)),\n",
       "                                       ('logisticregression',\n",
       "                                        LogisticRegression(C=1.0,\n",
       "                                                           class_weight=None,\n",
       "                                                           dual=False,\n",
       "                                                           fit_intercept=True,\n",
       "                                                           intercept_scaling=1,\n",
       "                                                           l1_ratio=None...\n",
       "                                                           warm_start=False))],\n",
       "                                verbose=False),\n",
       "             iid='deprecated', n_jobs=None,\n",
       "             param_grid={'logisticregression__C': [0.001, 0.01, 0.1, 1, 10, 100,\n",
       "                                                   1000],\n",
       "                         'logisticregression__penalty': ['none', 'l1', 'l2',\n",
       "                                                         'elasticnet', 'none'],\n",
       "                         'logisticregression__solver': ['newton-cg', 'lbfgs',\n",
       "                                                        'liblinear', 'sag',\n",
       "                                                        'saga']},\n",
       "             pre_dispatch='2*n_jobs', refit=True, return_train_score=True,\n",
       "             scoring='f1', verbose=0)"
      ]
     },
     "execution_count": 51,
     "metadata": {},
     "output_type": "execute_result"
    }
   ],
   "source": [
    "# param_lr = {\n",
    "#     'solver':['newton-cg','lbfgs','liblinear','sag','saga'], ##algoritma Logistic regression\n",
    "#     'penalty':['none','l1','l2','elasticnet','none'], # regularisasi\n",
    "#       'C': [0.001, 0.01, 0.1, 1, 10, 100, 1000] #strong of regularisasi\n",
    "# }\n",
    "# kf = KFold(n_splits=5, random_state=111, shuffle=False)\n",
    "# lr_pipeline = make_pipeline(NearMiss(),LogisticRegression())\n",
    "# new_params = {'logisticregression__' + key: param_lr[key] for key in param_lr}\n",
    "# lr2_tune = GridSearchCV(lr_pipeline, param_grid=new_params, cv=kf, scoring='f1',\n",
    "#                         return_train_score=True)\n",
    "# lr2_tune.fit(train_X2, train_Y2)"
   ]
  },
  {
   "cell_type": "code",
   "execution_count": 52,
   "metadata": {
    "scrolled": true
   },
   "outputs": [
    {
     "data": {
      "text/plain": [
       "{'logisticregression__C': 0.1,\n",
       " 'logisticregression__penalty': 'l1',\n",
       " 'logisticregression__solver': 'saga'}"
      ]
     },
     "execution_count": 52,
     "metadata": {},
     "output_type": "execute_result"
    }
   ],
   "source": [
    "# lr2_tune.best_params_\n",
    "\n",
    "# {'logisticregression__C': 0.1,\n",
    "#  'logisticregression__penalty': 'l1',\n",
    "#  'logisticregression__solver': 'saga'}"
   ]
  },
  {
   "cell_type": "markdown",
   "metadata": {},
   "source": [
    "# 3. Percobaan 3 (Random Over Sampling)"
   ]
  },
  {
   "cell_type": "markdown",
   "metadata": {},
   "source": [
    "Pada percobaan ke 3 ini saya akan menggunakan ```RandomOverSampler``` untuk menyeimbangkan class, teknik ini akan menduplikasi minority class (__class 1__) secara random sehingga total __class 1__ akan sama dengan majority class  (__class 0__)"
   ]
  },
  {
   "cell_type": "markdown",
   "metadata": {},
   "source": [
    "### Balancing Dataset "
   ]
  },
  {
   "cell_type": "markdown",
   "metadata": {},
   "source": [
    "Sama dengan Under Sample, saya hanya akan menyeimbangkan data train saja, sehingga bisa menggunakan data test yang sama dengan percobaan 1 dan 2, hal ini juga dapat menghindari bias pada dat test."
   ]
  },
  {
   "cell_type": "code",
   "execution_count": 66,
   "metadata": {},
   "outputs": [
    {
     "data": {
      "text/plain": [
       "0    5163\n",
       "1    1869\n",
       "Name: Churn, dtype: int64"
      ]
     },
     "execution_count": 66,
     "metadata": {},
     "output_type": "execute_result"
    }
   ],
   "source": [
    "telcom['Churn'].value_counts()"
   ]
  },
  {
   "cell_type": "code",
   "execution_count": 67,
   "metadata": {},
   "outputs": [],
   "source": [
    "train_X3 = train_X1\n",
    "train_Y3 = train_Y1\n",
    "test_X3 = test_X1\n",
    "test_Y3 = test_Y1"
   ]
  },
  {
   "cell_type": "markdown",
   "metadata": {},
   "source": [
    "__Parameter Tuning Logistic Regression__"
   ]
  },
  {
   "cell_type": "code",
   "execution_count": 68,
   "metadata": {},
   "outputs": [
    {
     "data": {
      "text/plain": [
       "GridSearchCV(cv=KFold(n_splits=5, random_state=111, shuffle=False),\n",
       "             error_score=nan,\n",
       "             estimator=Pipeline(memory=None,\n",
       "                                steps=[('randomoversampler',\n",
       "                                        RandomOverSampler(random_state=None,\n",
       "                                                          sampling_strategy='auto')),\n",
       "                                       ('logisticregression',\n",
       "                                        LogisticRegression(C=1.0,\n",
       "                                                           class_weight=None,\n",
       "                                                           dual=False,\n",
       "                                                           fit_intercept=True,\n",
       "                                                           intercept_scaling=1,\n",
       "                                                           l1_ratio=None,\n",
       "                                                           max_iter=100,\n",
       "                                                           multi...\n",
       "                                                           warm_start=False))],\n",
       "                                verbose=False),\n",
       "             iid='deprecated', n_jobs=None,\n",
       "             param_grid={'logisticregression__C': [0.001, 0.01, 0.1, 1, 10, 100,\n",
       "                                                   1000],\n",
       "                         'logisticregression__penalty': ['none', 'l1', 'l2',\n",
       "                                                         'elasticnet', 'none'],\n",
       "                         'logisticregression__solver': ['newton-cg', 'lbfgs',\n",
       "                                                        'liblinear', 'sag',\n",
       "                                                        'saga']},\n",
       "             pre_dispatch='2*n_jobs', refit=True, return_train_score=True,\n",
       "             scoring='f1', verbose=0)"
      ]
     },
     "execution_count": 68,
     "metadata": {},
     "output_type": "execute_result"
    }
   ],
   "source": [
    "# param_lr = {\n",
    "#     'solver':['newton-cg','lbfgs','liblinear','sag','saga'], ##algoritma Logistic regression\n",
    "#     'penalty':['none','l1','l2','elasticnet','none'], # regularisasi\n",
    "#       'C': [0.001, 0.01, 0.1, 1, 10, 100, 1000] #strong of regularisasi\n",
    "# }\n",
    "# kf = KFold(n_splits=5, random_state=111, shuffle=False)\n",
    "# lr_pipeline = make_pipeline(RandomOverSampler(),LogisticRegression())\n",
    "# new_params = {'logisticregression__' + key: param_lr[key] for key in param_lr}\n",
    "# lr3_tune = GridSearchCV(lr_pipeline, param_grid=new_params, cv=kf, scoring='f1',\n",
    "#                         return_train_score=True)\n",
    "# lr3_tune.fit(train_X3, train_Y3)"
   ]
  },
  {
   "cell_type": "code",
   "execution_count": 69,
   "metadata": {
    "scrolled": true
   },
   "outputs": [
    {
     "data": {
      "text/plain": [
       "{'logisticregression__C': 0.001,\n",
       " 'logisticregression__penalty': 'none',\n",
       " 'logisticregression__solver': 'newton-cg'}"
      ]
     },
     "execution_count": 69,
     "metadata": {},
     "output_type": "execute_result"
    }
   ],
   "source": [
    "# lr3_tune.best_params_\n",
    "\n",
    "# {'logisticregression__C': 0.001,\n",
    "#  'logisticregression__penalty': 'none',\n",
    "#  'logisticregression__solver': 'newton-cg'}"
   ]
  },
  {
   "cell_type": "markdown",
   "metadata": {},
   "source": [
    "# 4. Percobaan 4 (SMOTE)"
   ]
  },
  {
   "cell_type": "markdown",
   "metadata": {},
   "source": [
    "Pada percobaan ke 4 ini saya akan menggunakan ```SMOTE``` _Synthetic Minority Oversampling Technique_ untuk menyeimbangkan class sehingga minority class akan memiliki jumlah yang sama dengan majority class, berbeda dengan Random Over Sample, SMOTE membuat instance data baru berdasarkan jarak euclidian terdekat, teknik ini mengadopsi algoritma K-Nearest Neighbors.[source](http://etd.repository.ugm.ac.id/home/detail_pencarian/157692)"
   ]
  },
  {
   "cell_type": "markdown",
   "metadata": {},
   "source": [
    "### Balancing Dataset "
   ]
  },
  {
   "cell_type": "code",
   "execution_count": 70,
   "metadata": {},
   "outputs": [
    {
     "data": {
      "text/plain": [
       "0    5163\n",
       "1    1869\n",
       "Name: Churn, dtype: int64"
      ]
     },
     "execution_count": 70,
     "metadata": {},
     "output_type": "execute_result"
    }
   ],
   "source": [
    "telcom['Churn'].value_counts()"
   ]
  },
  {
   "cell_type": "code",
   "execution_count": 71,
   "metadata": {},
   "outputs": [],
   "source": [
    "train_X4 = train_X1\n",
    "train_Y4 = train_Y1\n",
    "test_X4 = test_X1\n",
    "test_Y4 = test_Y1"
   ]
  },
  {
   "cell_type": "markdown",
   "metadata": {},
   "source": [
    "__Parameter Tuning Logistic Regression__"
   ]
  },
  {
   "cell_type": "code",
   "execution_count": 72,
   "metadata": {},
   "outputs": [
    {
     "data": {
      "text/plain": [
       "GridSearchCV(cv=KFold(n_splits=5, random_state=111, shuffle=False),\n",
       "             error_score=nan,\n",
       "             estimator=Pipeline(memory=None,\n",
       "                                steps=[('smote',\n",
       "                                        SMOTE(k_neighbors=5, n_jobs=None,\n",
       "                                              random_state=None,\n",
       "                                              sampling_strategy='auto')),\n",
       "                                       ('logisticregression',\n",
       "                                        LogisticRegression(C=1.0,\n",
       "                                                           class_weight=None,\n",
       "                                                           dual=False,\n",
       "                                                           fit_intercept=True,\n",
       "                                                           intercept_scaling=1,\n",
       "                                                           l1_ratio=None,\n",
       "                                                           max_iter=100,\n",
       "                                                           mul...\n",
       "                                                           warm_start=False))],\n",
       "                                verbose=False),\n",
       "             iid='deprecated', n_jobs=None,\n",
       "             param_grid={'logisticregression__C': [0.001, 0.01, 0.1, 1, 10, 100,\n",
       "                                                   1000],\n",
       "                         'logisticregression__penalty': ['none', 'l1', 'l2',\n",
       "                                                         'elasticnet', 'none'],\n",
       "                         'logisticregression__solver': ['newton-cg', 'lbfgs',\n",
       "                                                        'liblinear', 'sag',\n",
       "                                                        'saga']},\n",
       "             pre_dispatch='2*n_jobs', refit=True, return_train_score=True,\n",
       "             scoring='f1', verbose=0)"
      ]
     },
     "execution_count": 72,
     "metadata": {},
     "output_type": "execute_result"
    }
   ],
   "source": [
    "# param_lr = {\n",
    "#     'solver':['newton-cg','lbfgs','liblinear','sag','saga'], ##algoritma Logistic regression\n",
    "#     'penalty':['none','l1','l2','elasticnet','none'], # regularisasi\n",
    "#       'C': [0.001, 0.01, 0.1, 1, 10, 100, 1000] #strong of regularisasi\n",
    "# }\n",
    "# kf = KFold(n_splits=5, random_state=111, shuffle=False)\n",
    "# lr_pipeline = make_pipeline(SMOTE(),LogisticRegression())\n",
    "# new_params = {'logisticregression__' + key: param_lr[key] for key in param_lr}\n",
    "# lr4_tune = GridSearchCV(lr_pipeline, param_grid=new_params, cv=kf, scoring='f1',\n",
    "#                         return_train_score=True)\n",
    "# lr4_tune.fit(train_X4, train_Y4)"
   ]
  },
  {
   "cell_type": "code",
   "execution_count": 73,
   "metadata": {
    "scrolled": true
   },
   "outputs": [
    {
     "data": {
      "text/plain": [
       "{'logisticregression__C': 0.1,\n",
       " 'logisticregression__penalty': 'none',\n",
       " 'logisticregression__solver': 'saga'}"
      ]
     },
     "execution_count": 73,
     "metadata": {},
     "output_type": "execute_result"
    }
   ],
   "source": [
    "# lr4_tune.best_params_\n",
    "\n",
    "# {'logisticregression__C': 0.1,\n",
    "#  'logisticregression__penalty': 'none',\n",
    "#  'logisticregression__solver': 'saga'}"
   ]
  },
  {
   "cell_type": "markdown",
   "metadata": {},
   "source": [
    "# Best Model"
   ]
  },
  {
   "cell_type": "markdown",
   "metadata": {},
   "source": [
    "Memilih model terbaik dari 4 percobaan di atas"
   ]
  },
  {
   "cell_type": "code",
   "execution_count": 74,
   "metadata": {},
   "outputs": [
    {
     "data": {
      "text/html": [
       "<div>\n",
       "<style scoped>\n",
       "    .dataframe tbody tr th:only-of-type {\n",
       "        vertical-align: middle;\n",
       "    }\n",
       "\n",
       "    .dataframe tbody tr th {\n",
       "        vertical-align: top;\n",
       "    }\n",
       "\n",
       "    .dataframe thead th {\n",
       "        text-align: right;\n",
       "    }\n",
       "</style>\n",
       "<table border=\"1\" class=\"dataframe\">\n",
       "  <thead>\n",
       "    <tr style=\"text-align: right;\">\n",
       "      <th></th>\n",
       "      <th>Model</th>\n",
       "      <th>AUC</th>\n",
       "      <th>Accuracy</th>\n",
       "      <th>precision</th>\n",
       "      <th>recall</th>\n",
       "      <th>f1-score</th>\n",
       "    </tr>\n",
       "  </thead>\n",
       "  <tbody>\n",
       "    <tr>\n",
       "      <td>0</td>\n",
       "      <td>Logistic Regression1</td>\n",
       "      <td>0.856869</td>\n",
       "      <td>0.806598</td>\n",
       "      <td>0.740838</td>\n",
       "      <td>0.540076</td>\n",
       "      <td>0.624724</td>\n",
       "    </tr>\n",
       "    <tr>\n",
       "      <td>1</td>\n",
       "      <td>Logistic Regression2</td>\n",
       "      <td>0.805660</td>\n",
       "      <td>0.699659</td>\n",
       "      <td>0.497669</td>\n",
       "      <td>0.814885</td>\n",
       "      <td>0.617945</td>\n",
       "    </tr>\n",
       "    <tr>\n",
       "      <td>2</td>\n",
       "      <td>Logistic Regression3</td>\n",
       "      <td>0.855687</td>\n",
       "      <td>0.759386</td>\n",
       "      <td>0.570629</td>\n",
       "      <td>0.778626</td>\n",
       "      <td>0.658596</td>\n",
       "    </tr>\n",
       "    <tr>\n",
       "      <td>3</td>\n",
       "      <td>Logistic Regression4</td>\n",
       "      <td>0.856140</td>\n",
       "      <td>0.765643</td>\n",
       "      <td>0.580229</td>\n",
       "      <td>0.772901</td>\n",
       "      <td>0.662848</td>\n",
       "    </tr>\n",
       "  </tbody>\n",
       "</table>\n",
       "</div>"
      ],
      "text/plain": [
       "                  Model       AUC  Accuracy  precision    recall  f1-score\n",
       "0  Logistic Regression1  0.856869  0.806598   0.740838  0.540076  0.624724\n",
       "1  Logistic Regression2  0.805660  0.699659   0.497669  0.814885  0.617945\n",
       "2  Logistic Regression3  0.855687  0.759386   0.570629  0.778626  0.658596\n",
       "3  Logistic Regression4  0.856140  0.765643   0.580229  0.772901  0.662848"
      ]
     },
     "execution_count": 74,
     "metadata": {},
     "output_type": "execute_result"
    }
   ],
   "source": [
    "## ROC-AUC\n",
    "a = roc_auc_score(test_Y1, lr1_tune.predict_proba(test_X1)[:,1])\n",
    "b = roc_auc_score(test_Y2, lr2_tune.predict_proba(test_X2)[:,1])\n",
    "c = roc_auc_score(test_Y3, lr3_tune.predict_proba(test_X3)[:,1])\n",
    "d = roc_auc_score(test_Y4, lr4_tune.predict_proba(test_X4)[:,1])\n",
    "\n",
    "## Accuracy\n",
    "\n",
    "e = classification_report(test_Y1,lr1_tune.predict(test_X1),output_dict=True)['accuracy']\n",
    "f = classification_report(test_Y2,lr2_tune.predict(test_X2),output_dict=True)['accuracy']\n",
    "g = classification_report(test_Y3,lr3_tune.predict(test_X3),output_dict=True)['accuracy']\n",
    "h = classification_report(test_Y4,lr4_tune.predict(test_X4),output_dict=True)['accuracy']\n",
    "\n",
    "## Precision,Recall,F1\n",
    "\n",
    "i = classification_report(test_Y1,lr1_tune.predict(test_X1),output_dict=True)['1']\n",
    "j = classification_report(test_Y2,lr2_tune.predict(test_X2),output_dict=True)['1']\n",
    "k = classification_report(test_Y3,lr3_tune.predict(test_X3),output_dict=True)['1']\n",
    "l = classification_report(test_Y4,lr4_tune.predict(test_X4),output_dict=True)['1']\n",
    "\n",
    "model = pd.DataFrame({'Model':['Logistic Regression1','Logistic Regression2','Logistic Regression3','Logistic Regression4'],\n",
    "                      'AUC':[a,b,c,d],\n",
    "                      'Accuracy':[e,f,g,h]})\n",
    "report = pd.DataFrame([i,j,k,l])\n",
    "report.drop(columns='support',inplace=True)\n",
    "report5 = pd.concat([model,report],axis=1)\n",
    "report5"
   ]
  },
  {
   "cell_type": "code",
   "execution_count": 75,
   "metadata": {},
   "outputs": [
    {
     "data": {
      "image/png": "[encoded data removed]",
      "text/plain": [
       "<Figure size 576x360 with 1 Axes>"
      ]
     },
     "metadata": {
      "needs_background": "light"
     },
     "output_type": "display_data"
    }
   ],
   "source": [
    "plt.figure(figsize=(8,5))\n",
    "plt.plot(report5['Model'], report5['AUC'],'g-o',label='AUC')\n",
    "plt.plot(report5['Model'], report5['Accuracy'],'k-o',label='Accuracy')\n",
    "plt.plot(report5['Model'], report5['precision'],'r-o',label='precision')\n",
    "plt.plot(report5['Model'], report5['recall'],'y-o',label='recall')\n",
    "plt.plot(report5['Model'], report5['f1-score'],'b-o',label='f1-score')\n",
    "plt.xticks(rotation=90);plt.title('Classification Report')\n",
    "plt.grid(True)\n",
    "plt.legend()\n",
    "plt.show()"
   ]
  },
  {
   "cell_type": "code",
   "execution_count": 80,
   "metadata": {},
   "outputs": [
    {
     "data": {
      "text/plain": [
       "<sklearn.metrics._plot.confusion_matrix.ConfusionMatrixDisplay at 0xcb6dad0>"
      ]
     },
     "execution_count": 80,
     "metadata": {},
     "output_type": "execute_result"
    },
    {
     "data": {
      "image/png": "[encoded data removed]",
      "text/plain": [
       "<Figure size 432x288 with 2 Axes>"
      ]
     },
     "metadata": {
      "needs_background": "light"
     },
     "output_type": "display_data"
    },
    {
     "data": {
      "image/png": "[encoded data removed]",
      "text/plain": [
       "<Figure size 432x288 with 2 Axes>"
      ]
     },
     "metadata": {
      "needs_background": "light"
     },
     "output_type": "display_data"
    }
   ],
   "source": [
    "plot_confusion_matrix(lr3_tune,test_X3,test_Y3,values_format='0.0f')\n",
    "plot_confusion_matrix(lr4_tune,test_X4,test_Y4,values_format='0.0f')"
   ]
  },
  {
   "cell_type": "markdown",
   "metadata": {},
   "source": [
    "- Model Logistic Regression 3 dan Logistic Regression 4 memiliki score yang hampir sama, tapi Logistic Regression 4 sedikit memiliki nilai F1 Score dan AUC lebih tinggi, meskipun Recall sedikit lebih redah\n",
    ">__Saya memilih model Logistic Regression 4, yaitu model yang kita train dengan data balance SMOTE sebagai model terbaik dari semua model terbaik__"
   ]
  },
  {
   "cell_type": "markdown",
   "metadata": {},
   "source": [
    "## Cek for OverFitting/UnderFitting"
   ]
  },
  {
   "cell_type": "code",
   "execution_count": 83,
   "metadata": {},
   "outputs": [
    {
     "name": "stdout",
     "output_type": "stream",
     "text": [
      "Logistic Regression Training\n",
      "               precision    recall  f1-score   support\n",
      "\n",
      "           0       0.91      0.73      0.81      3929\n",
      "           1       0.50      0.80      0.62      1345\n",
      "\n",
      "    accuracy                           0.75      5274\n",
      "   macro avg       0.71      0.77      0.72      5274\n",
      "weighted avg       0.81      0.75      0.76      5274\n",
      "\n",
      "Logistic Regression Testing\n",
      "               precision    recall  f1-score   support\n",
      "\n",
      "           0       0.89      0.75      0.81      1234\n",
      "           1       0.57      0.78      0.66       524\n",
      "\n",
      "    accuracy                           0.76      1758\n",
      "   macro avg       0.73      0.76      0.74      1758\n",
      "weighted avg       0.79      0.76      0.77      1758\n",
      "\n"
     ]
    }
   ],
   "source": [
    "print('Logistic Regression Training\\n',classification_report(train_Y3,lr3_tune.predict(train_X3)))\n",
    "print('Logistic Regression Testing\\n',classification_report(test_Y3,lr3_tune.predict(test_X3)))"
   ]
  },
  {
   "cell_type": "code",
   "execution_count": 84,
   "metadata": {},
   "outputs": [
    {
     "name": "stdout",
     "output_type": "stream",
     "text": [
      "Logistic Regression Training\n",
      "               precision    recall  f1-score   support\n",
      "\n",
      "           0       0.91      0.75      0.82      3929\n",
      "           1       0.51      0.78      0.62      1345\n",
      "\n",
      "    accuracy                           0.76      5274\n",
      "   macro avg       0.71      0.76      0.72      5274\n",
      "weighted avg       0.81      0.76      0.77      5274\n",
      "\n",
      "Logistic Regression Testing\n",
      "               precision    recall  f1-score   support\n",
      "\n",
      "           0       0.89      0.76      0.82      1234\n",
      "           1       0.58      0.77      0.66       524\n",
      "\n",
      "    accuracy                           0.77      1758\n",
      "   macro avg       0.73      0.77      0.74      1758\n",
      "weighted avg       0.80      0.77      0.77      1758\n",
      "\n"
     ]
    }
   ],
   "source": [
    "print('Logistic Regression Training\\n',classification_report(train_Y4,lr4_tune.predict(train_X4)))\n",
    "print('Logistic Regression Testing\\n',classification_report(test_Y4,lr4_tune.predict(test_X4)))"
   ]
  },
  {
   "cell_type": "markdown",
   "metadata": {},
   "source": [
    "- Model Logistic Regression tidak over fitting"
   ]
  },
  {
   "cell_type": "markdown",
   "metadata": {},
   "source": [
    "# Save Model"
   ]
  },
  {
   "cell_type": "code",
   "execution_count": 88,
   "metadata": {},
   "outputs": [],
   "source": [
    "import joblib"
   ]
  },
  {
   "cell_type": "code",
   "execution_count": 89,
   "metadata": {},
   "outputs": [
    {
     "data": {
      "text/plain": [
       "['lr_best_model']"
      ]
     },
     "execution_count": 89,
     "metadata": {},
     "output_type": "execute_result"
    }
   ],
   "source": [
    "joblib.dump(lr4_tune,'lr_best_model')"
   ]
  },
  {
   "cell_type": "code",
   "execution_count": null,
   "metadata": {},
   "outputs": [],
   "source": []
  }
 ],
 "metadata": {
  "kernelspec": {
   "display_name": "Python 3",
   "language": "python",
   "name": "python3"
  },
  "language_info": {
   "codemirror_mode": {
    "name": "ipython",
    "version": 3
   },
   "file_extension": ".py",
   "mimetype": "text/x-python",
   "name": "python",
   "nbconvert_exporter": "python",
   "pygments_lexer": "ipython3",
   "version": "3.7.4"
  }
 },
 "nbformat": 4,
 "nbformat_minor": 2
}
